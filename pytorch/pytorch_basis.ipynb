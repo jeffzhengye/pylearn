{
 "cells": [
  {
   "cell_type": "markdown",
   "id": "52b79335",
   "metadata": {},
   "source": [
    "# tutorials\n",
    "\n",
    "* [official docs and examples](https://pytorch.org/docs/stable/index.html)"
   ]
  },
  {
   "attachments": {},
   "cell_type": "markdown",
   "id": "f0423883-228f-4164-89e9-9bfc290597cf",
   "metadata": {},
   "source": [
    "# 如何指定gpu\n",
    "* 务必在import torch 前，指定'CUDA_VISIBLE_DEVICES'，否则无效。\n",
    "* 设置'CUDA_VISIBLE_DEVICES'后，\"cuda:0\"指定的GPU编号也随之发生变化，跟物理GPU编号不一样了。"
   ]
  },
  {
   "cell_type": "code",
   "execution_count": 2,
   "id": "d6511cdf-e208-440e-922b-2f02558a5691",
   "metadata": {},
   "outputs": [
    {
     "name": "stderr",
     "output_type": "stream",
     "text": [
      "c:\\Users\\73915\\.conda\\envs\\open_editor\\lib\\site-packages\\numpy\\_distributor_init.py:30: UserWarning: loaded more than 1 DLL from .libs:\n",
      "c:\\Users\\73915\\.conda\\envs\\open_editor\\lib\\site-packages\\numpy\\.libs\\libopenblas.EL2C6PLE4ZYW3ECEVIV3OXXGRN2NRFM2.gfortran-win_amd64.dll\n",
      "c:\\Users\\73915\\.conda\\envs\\open_editor\\lib\\site-packages\\numpy\\.libs\\libopenblas.FB5AE2TYXYH2IJRDKGDGQ3XBKLKTF43H.gfortran-win_amd64.dll\n",
      "c:\\Users\\73915\\.conda\\envs\\open_editor\\lib\\site-packages\\numpy\\.libs\\libopenblas64__v0.3.21-gcc_10_3_0.dll\n",
      "  warnings.warn(\"loaded more than 1 DLL from .libs:\"\n"
     ]
    },
    {
     "name": "stdout",
     "output_type": "stream",
     "text": [
      "1\n",
      "11.7\n",
      "arch supported ['sm_37', 'sm_50', 'sm_60', 'sm_61', 'sm_70', 'sm_75', 'sm_80', 'sm_86', 'compute_37']\n"
     ]
    },
    {
     "data": {
      "text/plain": [
       "1"
      ]
     },
     "execution_count": 2,
     "metadata": {},
     "output_type": "execute_result"
    }
   ],
   "source": [
    "import os\n",
    "os.environ['CUDA_VISIBLE_DEVICES'] = \"1\"\n",
    "\n",
    "import torch \n",
    "# torch.cuda.set_device(\"0\")\n",
    "\n",
    "print(torch.cuda.device_count()) #可用GPU数量\n",
    "\n",
    "print(torch.version.cuda)\n",
    "# \"Returns list CUDA architectures this library was compiled for.\"\n",
    "print('arch supported', torch.cuda.get_arch_list())\n",
    "\n",
    "torch.cuda.device_count()"
   ]
  },
  {
   "cell_type": "code",
   "execution_count": 2,
   "id": "cb690631-b128-4266-9ae7-3e4bacd2c668",
   "metadata": {},
   "outputs": [
    {
     "name": "stdout",
     "output_type": "stream",
     "text": [
      "is cuda available: True\n",
      "device_count: 1\n",
      "device_count: 1\n",
      "current_device: 0\n",
      "current_device: 0\n"
     ]
    }
   ],
   "source": [
    "# torch.cuda主要函数\n",
    "\n",
    "print(\"is cuda available:\", torch.cuda.is_available()) # 判断GPU是否可用\n",
    "\n",
    "# 查看可用GPU数量\n",
    "\n",
    "print(\"device_count:\", torch.cuda.device_count())\n",
    "\n",
    "os.environ[\"CUDA_VISIBLE_DEVICES\"] = '0,1'\n",
    "\n",
    "print(\"device_count:\", torch.cuda.device_count())\n",
    "\n",
    "# 查看当前使用的GPU序号\n",
    "print(\"current_device:\", torch.cuda.current_device())\n",
    "\n",
    "os.environ[\"CUDA_VISIBLE_DEVICES\"] = '1,2'\n",
    "\n",
    "print(\"current_device:\", torch.cuda.current_device())"
   ]
  },
  {
   "cell_type": "code",
   "execution_count": 3,
   "id": "4f5f4d16-6b72-45d0-9720-3bd1e3a5dfc8",
   "metadata": {},
   "outputs": [
    {
     "name": "stdout",
     "output_type": "stream",
     "text": [
      "cuda:0 capability: (8, 6)\n",
      "cuda:0 name: NVIDIA GeForce RTX 3090\n"
     ]
    }
   ],
   "source": [
    "# 其他一些函数\n",
    "\n",
    "# 查看指定GPU的容量、名称\n",
    "device = \"cuda:0\"\n",
    "\n",
    "print(f\"{device} capability:\", torch.cuda.get_device_capability(device))\n",
    "\n",
    "print(f\"{device} name:\", torch.cuda.get_device_name(device))\n",
    "\n",
    "# 清空程序占用的GPU资源\n",
    "\n",
    "# torch.cuda.empty_cache()\n",
    "\n",
    "# 为GPU设置随机种子\n",
    "\n",
    "seed = 123456\n",
    "torch.cuda.manual_seed(seed)"
   ]
  },
  {
   "cell_type": "code",
   "execution_count": null,
   "id": "183fafad-621a-4c2c-955e-47141e8f967c",
   "metadata": {},
   "outputs": [],
   "source": []
  },
  {
   "attachments": {},
   "cell_type": "markdown",
   "id": "deb006f4",
   "metadata": {},
   "source": [
    "# DataLoader and Dataset\n",
    "\n",
    "* Dataset: read data,  stores the samples and their corresponding labels\n",
    "* DataLoader: wraps an iterable around the Dataset to enable easy access to the samples. \n",
    "    * “minibatches”, reshuffle the data and use Python’s multiprocessing to speed up data retrieval.\n",
    "\n",
    "##  pre-loaded datasets\n",
    "\n",
    "Image Datasets, Text Datasets, and Audio Datasets, a lot, find it here. https://pytorch.org/tutorials/beginner/basics/data_tutorial.html"
   ]
  },
  {
   "attachments": {},
   "cell_type": "markdown",
   "id": "2b3f80a6",
   "metadata": {},
   "source": [
    "# transformer\n",
    "\n",
    "## tutorial for beginner on text\n",
    "\n",
    "* https://pytorch.org/tutorials/beginner/transformer_tutorial.html"
   ]
  }
 ],
 "metadata": {
  "interpreter": {
   "hash": "67f4027c7030b010d964bcecab45732ca129fbf42fed140ec1ae6d06ef81ce73"
  },
  "kernelspec": {
   "display_name": "Python 3.8.13 ('py38')",
   "language": "python",
   "name": "python3"
  },
  "language_info": {
   "codemirror_mode": {
    "name": "ipython",
    "version": 3
   },
   "file_extension": ".py",
   "mimetype": "text/x-python",
   "name": "python",
   "nbconvert_exporter": "python",
   "pygments_lexer": "ipython3",
   "version": "3.8.16"
  },
  "widgets": {
   "application/vnd.jupyter.widget-state+json": {
    "state": {},
    "version_major": 2,
    "version_minor": 0
   }
  }
 },
 "nbformat": 4,
 "nbformat_minor": 5
}
