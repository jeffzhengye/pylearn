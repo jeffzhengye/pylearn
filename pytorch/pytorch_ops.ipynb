{
 "cells": [
  {
   "cell_type": "markdown",
   "metadata": {},
   "source": [
    "# stack"
   ]
  },
  {
   "cell_type": "code",
   "execution_count": null,
   "metadata": {},
   "outputs": [],
   "source": [
    "import torch\n",
    "\n",
    "# 假设是时间步T1的输出\n",
    "T1 = torch.tensor([[1, 2, 3],[4, 5, 6],[7, 8, 9]])\n",
    "# 假设是时间步T2的输出\n",
    "T2 = torch.tensor([[10, 20, 30],[40, 50, 60],[70, 80, 90]])\n",
    "T1:tensor([[1, 2, 3],[4, 5, 6],[7, 8, 9]])\n",
    "T2:tensor([[10, 20, 30],[40, 50, 60],[70, 80, 90]])\n",
    "测试stack函数\n",
    "\n",
    "R0 = torch.stack((T1, T2), dim=0)\n",
    "print(\"R0:\\n\", R0)\n",
    "print(\"R0.shape:\\n\", R0.shape)\n",
    "\"\"\"\n",
    "R0:tensor([[[ 1,  2,  3],[ 4,  5,  6],[ 7,  8,  9]],[[10, 20, 30],[40, 50, 60],[70, 80, 90]]])\n",
    "R0.shape:torch.Size([2, 3, 3])\n",
    "\"\"\"R1 = torch.stack((T1, T2), dim=1)\n",
    "print(\"R1:\\n\", R1)\n",
    "print(\"R1.shape:\\n\", R1.shape)\n",
    "\"\"\"\n",
    "R1:tensor([[[ 1,  2,  3],[10, 20, 30]],[[ 4,  5,  6],[40, 50, 60]],[[ 7,  8,  9],[70, 80, 90]]])\n",
    "R1.shape:torch.Size([3, 2, 3])\"\"\"R2 = torch.stack((T1, T2), dim=2)\n",
    "print(\"R2:\\n\", R2)\n",
    "print(\"R2.shape:\\n\", R2.shape)\n",
    "\"\"\"\n",
    "R2:tensor([[[ 1, 10],[ 2, 20],[ 3, 30]],[[ 4, 40],[ 5, 50],[ 6, 60]],[[ 7, 70],[ 8, 80],[ 9, 90]]])\n",
    "R2.shape:torch.Size([3, 3, 2])\"\"\"R3 = torch.stack((T1, T2), dim=3)\n",
    "print(\"R3:\\n\", R3)\n",
    "print(\"R3.shape:\\n\", R3.shape)\n",
    "\"\"\"\n",
    "IndexError: Dimension out of range (expected to be in range of [-3, 2], but got 3)"
   ]
  },
  {
   "cell_type": "code",
   "execution_count": 2,
   "metadata": {},
   "outputs": [
    {
     "data": {
      "text/plain": [
       "tensor([[[1, 2, 3]],\n",
       "\n",
       "        [[4, 5, 6]],\n",
       "\n",
       "        [[7, 8, 9]]])"
      ]
     },
     "execution_count": 2,
     "metadata": {},
     "output_type": "execute_result"
    }
   ],
   "source": [
    "import torch\n",
    "\n",
    "# 假设是时间步T1的输出\n",
    "T1 = torch.tensor([[1, 2, 3],[4, 5, 6],[7, 8, 9]])\n",
    "torch.stack([T1], dim=1)"
   ]
  },
  {
   "cell_type": "code",
   "execution_count": 3,
   "metadata": {},
   "outputs": [
    {
     "data": {
      "text/plain": [
       "torch.Size([3, 1, 3])"
      ]
     },
     "execution_count": 3,
     "metadata": {},
     "output_type": "execute_result"
    }
   ],
   "source": [
    "torch.stack([T1], dim=1).size()"
   ]
  },
  {
   "cell_type": "code",
   "execution_count": 18,
   "metadata": {},
   "outputs": [
    {
     "name": "stdout",
     "output_type": "stream",
     "text": [
      "T1 size: torch.Size([3, 3])\n",
      "torch.Size([3, 3, 1])\n",
      "tensor([[[1],\n",
      "         [2],\n",
      "         [3]],\n",
      "\n",
      "        [[4],\n",
      "         [5],\n",
      "         [6]],\n",
      "\n",
      "        [[7],\n",
      "         [8],\n",
      "         [9]]])\n"
     ]
    }
   ],
   "source": [
    "T1 = torch.tensor([[1, 2, 3],[4, 5, 6],[7, 8, 9]]) # 1*1*3\n",
    "print('T1 size:', T1.size())\n",
    "\n",
    "print(torch.stack([T1], dim=-1).size())\n",
    "print(torch.stack([T1], dim=-1))"
   ]
  },
  {
   "cell_type": "code",
   "execution_count": 17,
   "metadata": {},
   "outputs": [
    {
     "name": "stdout",
     "output_type": "stream",
     "text": [
      "T1 size: torch.Size([1, 3, 3])\n",
      "torch.Size([1, 3, 3, 2])\n",
      "tensor([[[[1, 1],\n",
      "          [2, 2],\n",
      "          [3, 3]],\n",
      "\n",
      "         [[4, 4],\n",
      "          [5, 5],\n",
      "          [6, 6]],\n",
      "\n",
      "         [[7, 7],\n",
      "          [8, 8],\n",
      "          [9, 9]]]])\n",
      "torch.Size([1, 3, 6])\n",
      "tensor([[[1, 1, 2, 2, 3, 3],\n",
      "         [4, 4, 5, 5, 6, 6],\n",
      "         [7, 7, 8, 8, 9, 9]]])\n"
     ]
    }
   ],
   "source": [
    "T1 = torch.tensor([[[1, 2, 3],[4, 5, 6],[7, 8, 9]]]) # 1*1*3\n",
    "print('T1 size:', T1.size())\n",
    "\n",
    "print(torch.stack([T1, T1], dim=-1).size())\n",
    "print(torch.stack([T1, T1], dim=-1))\n",
    "\n",
    "t_stack = torch.stack([T1, T1], dim=-1)\n",
    "print(t_stack.reshape(t_stack.shape[0], t_stack.shape[1], -1).size())\n",
    "print(t_stack.reshape(t_stack.shape[0], t_stack.shape[1], -1))"
   ]
  },
  {
   "cell_type": "code",
   "execution_count": 9,
   "metadata": {},
   "outputs": [
    {
     "name": "stdout",
     "output_type": "stream",
     "text": [
      "torch.Size([3, 2, 3])\n",
      "tensor([[[1, 2, 3],\n",
      "         [1, 2, 3]],\n",
      "\n",
      "        [[4, 5, 6],\n",
      "         [4, 5, 6]],\n",
      "\n",
      "        [[7, 8, 9],\n",
      "         [7, 8, 9]]])\n"
     ]
    }
   ],
   "source": [
    "print(torch.stack([T1, T1], dim=1).size())\n",
    "print(torch.stack([T1, T1], dim=1))"
   ]
  },
  {
   "cell_type": "markdown",
   "metadata": {},
   "source": [
    "# expand, tolist"
   ]
  },
  {
   "cell_type": "code",
   "execution_count": 19,
   "metadata": {},
   "outputs": [
    {
     "name": "stdout",
     "output_type": "stream",
     "text": [
      "[[1], [2], [3]] <class 'list'>\n"
     ]
    }
   ],
   "source": [
    "import torch\n",
    "\n",
    "x = torch.tensor([[1], [2], [3]])\n",
    "x.size()\n",
    "type(x[0][0].item())\n",
    "\n",
    "print(x.tolist(), type(x.tolist()))"
   ]
  },
  {
   "cell_type": "code",
   "execution_count": 14,
   "metadata": {},
   "outputs": [
    {
     "data": {
      "text/plain": [
       "tensor([[1, 1, 1, 1],\n",
       "        [2, 2, 2, 2],\n",
       "        [3, 3, 3, 3]])"
      ]
     },
     "execution_count": 14,
     "metadata": {},
     "output_type": "execute_result"
    }
   ],
   "source": [
    "x.expand(-1, 4)"
   ]
  },
  {
   "cell_type": "markdown",
   "metadata": {},
   "source": [
    "# to numpy"
   ]
  },
  {
   "cell_type": "code",
   "execution_count": 3,
   "metadata": {},
   "outputs": [
    {
     "data": {
      "text/plain": [
       "array([[1],\n",
       "       [2],\n",
       "       [3]], dtype=int64)"
      ]
     },
     "execution_count": 3,
     "metadata": {},
     "output_type": "execute_result"
    }
   ],
   "source": [
    "import torch\n",
    "\n",
    "x = torch.tensor([[1], [2], [3]])\n",
    "\n",
    "x.numpy()"
   ]
  },
  {
   "cell_type": "markdown",
   "metadata": {},
   "source": [
    "# cat\n",
    "\n",
    "* All tensors must either have the same shape (except in the concatenating dimension) or be empty."
   ]
  },
  {
   "cell_type": "code",
   "execution_count": 12,
   "metadata": {},
   "outputs": [
    {
     "name": "stdout",
     "output_type": "stream",
     "text": [
      "tensor([[[0.4448, 0.1296, 0.2365],\n",
      "         [0.7991, 0.6418, 0.6442]],\n",
      "\n",
      "        [[0.5764, 0.7893, 0.3151],\n",
      "         [0.6487, 0.9094, 0.8953]]])\n",
      "torch.Size([2, 2, 1])\n",
      "tensor([[[0.4448, 0.1296, 0.2365],\n",
      "         [0.0000, 0.0000, 0.0000]],\n",
      "\n",
      "        [[1.1528, 1.5786, 0.6301],\n",
      "         [0.0000, 0.0000, 0.0000]]])\n"
     ]
    }
   ],
   "source": [
    "x = torch.rand([2,2, 3])\n",
    "\n",
    "print(x)\n",
    "\n",
    "m = torch.tensor([\n",
    "    [[1], [0]],\n",
    "    [[2], [0]]\n",
    "])\n",
    "\n",
    "print(m.shape)\n",
    "\n",
    "print(x * m)"
   ]
  },
  {
   "cell_type": "markdown",
   "metadata": {},
   "source": [
    "# torch.split() and torch.chunk(). torch.clamp\n"
   ]
  },
  {
   "cell_type": "markdown",
   "metadata": {},
   "source": [
    "# normal distribution and log_prob"
   ]
  },
  {
   "cell_type": "code",
   "execution_count": 20,
   "metadata": {},
   "outputs": [
    {
     "data": {
      "text/plain": [
       "tensor([1.1439, 9.8823])"
      ]
     },
     "execution_count": 20,
     "metadata": {},
     "output_type": "execute_result"
    }
   ],
   "source": [
    "from torch.distributions import Normal\n",
    "\n",
    "mu = torch.tensor([1, 10], dtype=torch.float32)\n",
    "sigma = torch.tensor([1], dtype=torch.float32)\n",
    " \n",
    "dist = Normal(mu, sigma)  # 设置高斯分布的均值和方差\n",
    " \n",
    "dist.sample()  # 采样"
   ]
  },
  {
   "cell_type": "code",
   "execution_count": 21,
   "metadata": {},
   "outputs": [
    {
     "data": {
      "text/plain": [
       "tensor([[ -0.9189,  -0.9189],\n",
       "        [-41.4189, -41.4189]])"
      ]
     },
     "execution_count": 21,
     "metadata": {},
     "output_type": "execute_result"
    }
   ],
   "source": [
    "x = torch.tensor([1, 10, 10, 1], dtype=torch.float32).reshape(-1, 2)\n",
    "\n",
    "dist.log_prob(x)"
   ]
  },
  {
   "cell_type": "code",
   "execution_count": 22,
   "metadata": {},
   "outputs": [
    {
     "data": {
      "text/plain": [
       "tensor([[ 1., 10.],\n",
       "        [10.,  1.]])"
      ]
     },
     "execution_count": 22,
     "metadata": {},
     "output_type": "execute_result"
    }
   ],
   "source": [
    "dist.log"
   ]
  },
  {
   "cell_type": "code",
   "execution_count": null,
   "metadata": {},
   "outputs": [],
   "source": []
  }
 ],
 "metadata": {
  "kernelspec": {
   "display_name": "py38",
   "language": "python",
   "name": "python3"
  },
  "language_info": {
   "codemirror_mode": {
    "name": "ipython",
    "version": 3
   },
   "file_extension": ".py",
   "mimetype": "text/x-python",
   "name": "python",
   "nbconvert_exporter": "python",
   "pygments_lexer": "ipython3",
   "version": "3.8.16"
  },
  "orig_nbformat": 4
 },
 "nbformat": 4,
 "nbformat_minor": 2
}
