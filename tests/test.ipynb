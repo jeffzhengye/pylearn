{
 "cells": [
  {
   "cell_type": "code",
   "execution_count": 4,
   "metadata": {},
   "outputs": [
    {
     "data": {
      "image/png": "[encoded data removed]",
      "text/plain": [
       "<Figure size 432x288 with 1 Axes>"
      ]
     },
     "metadata": {
      "needs_background": "light"
     },
     "output_type": "display_data"
    }
   ],
   "source": [
    "import matplotlib.pyplot as plt \n",
    "x = [21, 22, 23, 4, 5, 6, 77, 8, 9, 10, 31, 32, 33, 34, 35, 36, 37, 18, 4, 50, 60]\n",
    "num_bins = 5\n",
    "\n",
    "n, bins, patches = plt.hist(x, num_bins, facecolor='blue', alpha=0.5)\n",
    "\n",
    "plt.show()"
   ]
  },
  {
   "cell_type": "code",
   "execution_count": 1,
   "metadata": {},
   "outputs": [],
   "source": [
    "import clueai\n",
    "\n",
    "# initialize the clueai Client with an API Key\n",
    "cl = clueai.Client('AG2-fHOMoItd7r_Jlp_6S10111100001')\n",
    "prompt= '''\n",
    "问答：\n",
    "问题：阿里巴巴的总部在哪里：\n",
    "答案：\n",
    "'''\n",
    "def answer(input_text):\n",
    "    # generate a prediction for a prompt \n",
    "    input_text = \"用户：\" + input_text + \"\\n小元：\"\n",
    "    prediction = cl.generate(\n",
    "                model_name='clueai-large',\n",
    "                prompt=input_text)\n",
    "                \n",
    "    # print the predicted text          \n",
    "    print('prediction: {}'.format(prediction.generations[0].text))\n",
    "\n",
    "\n",
    "def answer1(input_text):\n",
    "    # generate a prediction for a prompt \n",
    "    input_text = \"问答：\\n问题:\" + input_text + \"\\n答案：\"\n",
    "    prediction = cl.generate(\n",
    "                model_name='clueai-large',\n",
    "                prompt=input_text)\n",
    "                \n",
    "    # print the predicted text          \n",
    "    print('prediction: {}'.format(prediction.generations[0].text))\n"
   ]
  },
  {
   "cell_type": "code",
   "execution_count": 3,
   "metadata": {},
   "outputs": [
    {
     "data": {
      "text/plain": [
       "17.5"
      ]
     },
     "execution_count": 3,
     "metadata": {},
     "output_type": "execute_result"
    }
   ],
   "source": [
    "( (1+3) + (3 + 6) + (4 + 6 ) + (3 + 4) + (2+3))/2"
   ]
  },
  {
   "cell_type": "code",
   "execution_count": 4,
   "metadata": {},
   "outputs": [
    {
     "data": {
      "text/plain": [
       "24"
      ]
     },
     "execution_count": 4,
     "metadata": {},
     "output_type": "execute_result"
    }
   ],
   "source": [
    "3 + 6 + + 4 + 3 + 8"
   ]
  },
  {
   "cell_type": "code",
   "execution_count": null,
   "metadata": {},
   "outputs": [],
   "source": []
  }
 ],
 "metadata": {
  "kernelspec": {
   "display_name": "py38",
   "language": "python",
   "name": "python3"
  },
  "language_info": {
   "codemirror_mode": {
    "name": "ipython",
    "version": 3
   },
   "file_extension": ".py",
   "mimetype": "text/x-python",
   "name": "python",
   "nbconvert_exporter": "python",
   "pygments_lexer": "ipython3",
   "version": "3.8.13"
  },
  "orig_nbformat": 4,
  "vscode": {
   "interpreter": {
    "hash": "fe22768e9524fdef0bd7ed00acfac1a320cf250cfc5d425f429f4b9beb1077b3"
   }
  }
 },
 "nbformat": 4,
 "nbformat_minor": 2
}
