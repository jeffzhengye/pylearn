{
 "cells": [
  {
   "cell_type": "markdown",
   "metadata": {},
   "source": [
    "* https://github.com/holoviz/holoviews\n",
    "\n",
    "* 在数据科学领域，数据可视化是一项核心技能。优秀的可视化工具可以帮助开发者快速分析数据，发现隐藏的模式和趋势。HoloViews 是一个基于 Python 的高级可视化库，它的设计目标是让开发者用更少的代码生成交互性强、外观美观的图表。与传统的绘图工具相比，HoloViews 注重数据和可视化的分离，用户只需关注数据本身，而不是具体的绘图细节。HoloViews 支持与多个绘图后端（如 Matplotlib、Bokeh 和 Plotly）无缝集成，具有高度的灵活性和可扩展性。"
   ]
  },
  {
   "cell_type": "markdown",
   "metadata": {},
   "source": []
  }
 ],
 "metadata": {
  "language_info": {
   "name": "python"
  }
 },
 "nbformat": 4,
 "nbformat_minor": 2
}
