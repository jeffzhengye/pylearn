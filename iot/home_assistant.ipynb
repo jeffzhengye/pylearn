{
 "cells": [
  {
   "cell_type": "markdown",
   "metadata": {},
   "source": [
    "# docs\n",
    "\n",
    "## awesome \n",
    "\n",
    "* https://github.com/icopy-site/awesome-cn/blob/master/docs/awesome/awesome-home-assistant.md\n",
    "\n",
    "\n",
    "# DIY \n",
    "\n",
    "* ESPHome"
   ]
  },
  {
   "cell_type": "markdown",
   "metadata": {},
   "source": [
    "# usage \n",
    "\n",
    "## 启动\n",
    "\n",
    "* hass\n",
    "* http://localhost:8123/onboarding.html"
   ]
  },
  {
   "cell_type": "code",
   "execution_count": null,
   "metadata": {
    "vscode": {
     "languageId": "plaintext"
    }
   },
   "outputs": [],
   "source": []
  },
  {
   "cell_type": "markdown",
   "metadata": {},
   "source": [
    "# conception\n",
    "\n",
    "* https://www.home-assistant.io/getting-started/concepts-terminology/\n",
    "* \n",
    "\n",
    "## device\n",
    "\n",
    "* Devices are a logical grouping for one or more entities. A device may represent a physical device, which can have one or more sensors. \n",
    "\n",
    "## entity\n",
    "\n",
    "* Entities are the basic building blocks to hold data in Home Assistant. \n",
    "* An entity represents a sensor, actor, or function in Home Assistant. Entities are used to monitor physical properties or to control other entities. An entity is usually part of a device or a service. Entities have states.\n",
    "\n",
    "\n",
    "## add-on\n",
    "\n",
    "* Home Assistant Operating System or Home Assistant Supervised installation includes add-ons that extend Home Assistant functionality.\n",
    "\n",
    "### supervised-installer\n",
    "\n",
    "* https://github.com/home-assistant/supervised-installer/releases/\n"
   ]
  }
 ],
 "metadata": {
  "language_info": {
   "name": "python"
  }
 },
 "nbformat": 4,
 "nbformat_minor": 2
}
