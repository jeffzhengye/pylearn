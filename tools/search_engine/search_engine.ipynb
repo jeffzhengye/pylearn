{
 "cells": [
  {
   "cell_type": "markdown",
   "metadata": {},
   "source": [
    "# zincsearch\n",
    "\n",
    "* 轻量级开源搜索引擎，需要最少的资源，适合企业内部信息搜索\n",
    "* https://github.com/zincsearch/zincsearch?tab=readme-ov-file\n",
    "* https://github.com/zincsearch/sdk-python-zincsearch"
   ]
  }
 ],
 "metadata": {
  "language_info": {
   "name": "python"
  }
 },
 "nbformat": 4,
 "nbformat_minor": 2
}
