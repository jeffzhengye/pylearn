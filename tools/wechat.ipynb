{
 "cells": [
  {
   "cell_type": "markdown",
   "metadata": {},
   "source": [
    "# WeChatMsg\n",
    "\n",
    "* https://github.com/LC044/WeChatMsg\n",
    "* 提取微信聊天记录，将其导出成HTML、Word、Excel文档永久保存，对聊天记录进行分析生成年度聊天报告，用聊天数据训练专属于个人的AI聊天助手\n",
    "\n",
    "# Wechaty\n",
    "\n",
    "* https://github.com/wechaty/wechaty\n",
    "* Conversational RPA SDK for Chatbot Makers. providing a universal interface to various messaging platforms such as WhatsApp, WeChat, and more."
   ]
  }
 ],
 "metadata": {
  "language_info": {
   "name": "python"
  }
 },
 "nbformat": 4,
 "nbformat_minor": 2
}
