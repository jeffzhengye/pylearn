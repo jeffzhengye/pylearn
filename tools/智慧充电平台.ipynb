{
 "cells": [
  {
   "cell_type": "markdown",
   "metadata": {},
   "source": [
    "# Java\n",
    "\n",
    "## HUIZHI-ChargeOS-cloud\n",
    "\n",
    "* https://github.com/roinli/HUIZHI-ChargeOS-cloud?tab=readme-ov-file\n",
    "* 慧知开源充电平台全套源码⚡️;⚡️完整业务流程⚡️； ①SpringCloud、MySQL、Netty、时序数据库、云快充协议1.5 云快充协议1.6、互联互通协议、多租户、分时计费。 ②H5、小程序、管理后台、多商户、模拟桩。 ③充电平台技术解决方案。"
   ]
  },
  {
   "cell_type": "markdown",
   "metadata": {},
   "source": []
  }
 ],
 "metadata": {
  "language_info": {
   "name": "python"
  }
 },
 "nbformat": 4,
 "nbformat_minor": 2
}
