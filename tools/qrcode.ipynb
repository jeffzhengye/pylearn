{
 "cells": [
  {
   "cell_type": "code",
   "execution_count": 4,
   "metadata": {},
   "outputs": [
    {
     "data": {
      "image/png": "[encoded data removed]",
      "text/plain": [
       "<qrcode.image.pil.PilImage at 0x28b444a9550>"
      ]
     },
     "metadata": {},
     "output_type": "display_data"
    }
   ],
   "source": [
    "import qrcode\n",
    "# 生成二维码\n",
    "img = qrcode.make(data=\"老是放屁可能与饮食、消化不良、肠道菌群失调等因素有关，可以通过调整饮食、使用药物等方法改善。1. 调整饮食：平时要注意饮食，少吃容易产气的食物，如红薯、洋葱、豆制品等。多吃富含膳食纤维的食物，如水果、蔬菜、粗粮等，可以促进肠道蠕动，减少产气。\")\n",
    "# 将二维码保存为图片\n",
    "# with open('test.png', 'wb') as f:\n",
    "#     img.save(f)\n",
    "\n",
    "display(img)"
   ]
  },
  {
   "cell_type": "code",
   "execution_count": null,
   "metadata": {},
   "outputs": [],
   "source": []
  }
 ],
 "metadata": {
  "kernelspec": {
   "display_name": "base",
   "language": "python",
   "name": "python3"
  },
  "language_info": {
   "codemirror_mode": {
    "name": "ipython",
    "version": 3
   },
   "file_extension": ".py",
   "mimetype": "text/x-python",
   "name": "python",
   "nbconvert_exporter": "python",
   "pygments_lexer": "ipython3",
   "version": "3.9.13"
  }
 },
 "nbformat": 4,
 "nbformat_minor": 2
}
