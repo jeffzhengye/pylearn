{
 "cells": [
  {
   "cell_type": "markdown",
   "id": "ca877559",
   "metadata": {},
   "source": [
    "# Install in Ubuntu\n",
    "\n",
    "* sudo apt update\n",
    "* sudo apt install -y tightvncserver\n",
    "\n",
    "## 启动\n",
    "\n",
    "* vncserver\n",
    "\n",
    "## 设置密码\n",
    "\n",
    "* vncserver # 按提示设置\n",
    "* \n",
    "\n",
    "## 重置密码\n",
    "\n",
    "* rm ~/.vnc/passwd 后就可以了\n",
    "\n",
    "## 停止所有\n",
    "* vncserver -list # 列出所有会话\n",
    "* vncserver -kill :1 # 停止会话1\n",
    "\n",
    "\n",
    "# ubuntu vnc 客户端\n",
    "\n",
    "* sudo apt install gvncviewer\n",
    "* gvncviewer 192.168.31.50:1 # 可以在wsl 中使用\n",
    "\n",
    "\n",
    "# pi4 密码\n",
    "* Pi123456\n"
   ]
  }
 ],
 "metadata": {
  "language_info": {
   "name": "python"
  }
 },
 "nbformat": 4,
 "nbformat_minor": 5
}
