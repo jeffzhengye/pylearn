{
 "cells": [
  {
   "attachments": {},
   "cell_type": "markdown",
   "metadata": {},
   "source": [
    "# tools\n",
    "\n",
    "## RPA-python\n",
    "\n",
    "* https://github.com/tebelorg/RPA-Python\n",
    "* 可以帮助用户自动化执行各种任务，例如网页自动化、桌面自动化、文件操作等。该库提供了一系列的API，使得用户可以轻松地编写Python脚本来完成各种自动化任务。 该库的主要特点是易于使用和灵活性。用户可以使用简单的Python代码来完成复杂的自动化任务，而无需了解底层的技术细节。此外，该库还提供了丰富的文档和示例，使得用户可以快速上手并开始编写自己的自动化脚本。"
   ]
  },
  {
   "cell_type": "code",
   "execution_count": 2,
   "metadata": {},
   "outputs": [
    {
     "name": "stdout",
     "output_type": "stream",
     "text": [
      "[RPA][INFO] - setting up TagUI for use in your Python environment\n",
      "[RPA][INFO] - downloading TagUI (~200MB) and unzipping to below folder...\n",
      "[RPA][INFO] - C:\\Users\\73915\\AppData\\Roaming\n",
      "<urlopen error [WinError 10060] 由于连接方在一段时间后没有正确答复或连接的主机没有反应，连接尝试失败。>\n",
      "[RPA][ERROR] - failed downloading from https://github.com/tebelorg/Tump/releases/download/v1.0.0/TagUI_Windows.zip...\n",
      "[RPA][ERROR] - use init() before using url()\n",
      "[RPA][ERROR] - use init() before using type()\n",
      "[RPA][ERROR] - use init() before using snap()\n",
      "[RPA][ERROR] - use init() before using close()\n"
     ]
    },
    {
     "data": {
      "text/plain": [
       "False"
      ]
     },
     "execution_count": 2,
     "metadata": {},
     "output_type": "execute_result"
    }
   ],
   "source": [
    "import rpa as r\n",
    "\n",
    "\n",
    "r.init()\n",
    "r.url('https://www.baidu.com')\n",
    "r.type('//*[@name=\"q\"]', 'decentralisation[enter]')\n",
    "r.wait() # ensure results are fully loaded\n",
    "r.snap('page', 'results.png')\n",
    "r.close()"
   ]
  },
  {
   "cell_type": "code",
   "execution_count": null,
   "metadata": {},
   "outputs": [],
   "source": []
  },
  {
   "attachments": {},
   "cell_type": "markdown",
   "metadata": {},
   "source": []
  },
  {
   "cell_type": "code",
   "execution_count": null,
   "metadata": {},
   "outputs": [],
   "source": []
  }
 ],
 "metadata": {
  "kernelspec": {
   "display_name": "py38",
   "language": "python",
   "name": "python3"
  },
  "language_info": {
   "codemirror_mode": {
    "name": "ipython",
    "version": 3
   },
   "file_extension": ".py",
   "mimetype": "text/x-python",
   "name": "python",
   "nbconvert_exporter": "python",
   "pygments_lexer": "ipython3",
   "version": "3.8.13"
  },
  "orig_nbformat": 4
 },
 "nbformat": 4,
 "nbformat_minor": 2
}
