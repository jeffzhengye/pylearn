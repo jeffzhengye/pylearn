{
 "cells": [
  {
   "cell_type": "markdown",
   "metadata": {},
   "source": [
    "# Awesome tools\n",
    "\n",
    "## flair\n",
    "\n",
    "* https://github.com/flairNLP/flair  13k+ stars\n",
    "* ner and text classification\n",
    "\n"
   ]
  }
 ],
 "metadata": {
  "language_info": {
   "name": "python"
  }
 },
 "nbformat": 4,
 "nbformat_minor": 2
}
