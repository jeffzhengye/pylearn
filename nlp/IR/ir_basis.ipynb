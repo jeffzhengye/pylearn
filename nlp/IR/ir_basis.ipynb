{
 "cells": [
  {
   "attachments": {},
   "cell_type": "markdown",
   "metadata": {},
   "source": [
    "# tools\n",
    "\n",
    "##  \n",
    "\n",
    "\n",
    "# pyserini\n",
    "\n",
    "## [installation](https://github.com/castorini/pyserini/blob/master/docs/installation.md)\n",
    "\n",
    "## "
   ]
  },
  {
   "cell_type": "code",
   "execution_count": 1,
   "metadata": {},
   "outputs": [
    {
     "name": "stdout",
     "output_type": "stream",
     "text": [
      "first added dir: c:\\Users\\73915\\.conda\\envs\\py38\\lib\\site-packages\\jnius\n",
      "current search dir=C:\\Users\\73915\\.conda\\envs\\py38\\Library\\bin\\server\n",
      "Downloading index at https://rgw.cs.uwaterloo.ca/pyserini/indexes/lucene-index.robust04.20221005.252b5e.tar.gz...\n"
     ]
    },
    {
     "name": "stderr",
     "output_type": "stream",
     "text": [
      "lucene-index.robust04.20221005.252b5e.tar.gz: 1.68GB [2:23:00, 211kB/s]                              \n"
     ]
    },
    {
     "name": "stdout",
     "output_type": "stream",
     "text": [
      "SimpleSearcher class has been deprecated, please use LuceneSearcher from pyserini.search.lucene instead\n",
      " 1 LA071090-0047   16.85690\n",
      " 2 FT934-5418      16.75630\n",
      " 3 FT921-7107      16.68290\n",
      " 4 LA052890-0021   16.37390\n",
      " 5 LA070990-0052   16.36460\n",
      " 6 LA062990-0180   16.19260\n",
      " 7 LA070890-0154   16.15610\n",
      " 8 FT934-2516      16.08950\n",
      " 9 LA041090-0148   16.08810\n",
      "10 FT944-128       16.01920\n"
     ]
    }
   ],
   "source": [
    "from pyserini.search import SimpleSearcher\n",
    "\n",
    "searcher = SimpleSearcher.from_prebuilt_index('robust04')\n",
    "hits = searcher.search('hubble space telescope')\n",
    "\n",
    "# Print the first 10 hits:\n",
    "for i in range(0, 10):\n",
    "    print(f'{i+1:2} {hits[i].docid:15} {hits[i].score:.5f}')"
   ]
  },
  {
   "cell_type": "code",
   "execution_count": null,
   "metadata": {},
   "outputs": [],
   "source": []
  }
 ],
 "metadata": {
  "kernelspec": {
   "display_name": "py38",
   "language": "python",
   "name": "python3"
  },
  "language_info": {
   "codemirror_mode": {
    "name": "ipython",
    "version": 3
   },
   "file_extension": ".py",
   "mimetype": "text/x-python",
   "name": "python",
   "nbconvert_exporter": "python",
   "pygments_lexer": "ipython3",
   "version": "3.8.16"
  },
  "orig_nbformat": 4
 },
 "nbformat": 4,
 "nbformat_minor": 2
}
