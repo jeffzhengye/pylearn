{
 "cells": [
  {
   "attachments": {},
   "cell_type": "markdown",
   "metadata": {},
   "source": [
    "# split sentences."
   ]
  },
  {
   "cell_type": "code",
   "execution_count": 2,
   "metadata": {},
   "outputs": [
    {
     "name": "stdout",
     "output_type": "stream",
     "text": [
      "i:\t \n",
      "Biden vs. Trump: The 2024 race a historic number of Americans don’t want.\n",
      "i:\t The 2024 presidential primaries are in full swing.\n",
      "i:\t President Joe Biden is the overhelming favorite for the Democratic nomination.\n",
      "i:\t Former President Donald Trump remains the clear front-runner for the Republican nod.\n",
      "i:\t This puts a lot of Americans in a position they don’t want to be in: A historically large share of them do not like either man at this point.\n",
      "i:\t A CNN/SSRS poll from earlier this month found that more Americans viewed neither Biden nor Trump favorably than those who held favorable views of either man.\n",
      "i:\t A plurality (36%) viewed neither candidate favorably, while 33% had a favorable view of Trump and 32% for Biden.\n",
      "i:\t Constraining ourselves to registered voters, 31% viewed neither Biden nor Trump favorably.\n",
      "i:\t When you zoom in on those who were unfavorably inclined toward Biden and Trump (i.e., putting aside those who were unsure or were neutral), 22% of adults and 21% of registered voters had an unfavorable view of both men.\n",
      "i:\t To put that in perspective, consider the end of the 2016 presidential election.\n",
      "i:\t That race (between Trump and Democrat Hillary Clinton) is the benchmark election for candidate unlikability.\n",
      "i:\t It is the only one on record in which both candidates were disliked by more Americans than liked on Election Day.\n",
      "i:\t The final pre-election CNN poll of that campaign found that 16% of registered voters held an unfavorable view of both Trump and Clinton.\n",
      "i:\t When you add in those who were neutral or didn’t have an opinion, 19% viewed neither nominee favorably.\n"
     ]
    },
    {
     "ename": "",
     "evalue": "",
     "output_type": "error",
     "traceback": [
      "\u001b[1;31mThe Kernel crashed while executing code in the the current cell or a previous cell. Please review the code in the cell(s) to identify a possible cause of the failure. Click <a href='https://aka.ms/vscodeJupyterKernelCrash'>here</a> for more info. View Jupyter <a href='command:jupyter.viewOutput'>log</a> for further details."
     ]
    }
   ],
   "source": [
    "import nltk  # we'll use this to split into sentences\n",
    "\n",
    "script = \"\"\"\n",
    "Hey, have you heard about this new text-to-audio model called \"Bark\"? \n",
    "Apparently, it's the most realistic and natural-sounding text-to-audio model \n",
    "out there right now. People are saying it sounds just like a real person speaking. \n",
    "I think it uses advanced machine learning algorithms to analyze and understand the \n",
    "nuances of human speech, and then replicates those nuances in its own speech output. \n",
    "It's pretty impressive, and I bet it could be used for things like audiobooks or podcasts. \n",
    "In fact, I heard that some publishers are already starting to use Bark to create audiobooks. \n",
    "It would be like having your own personal voiceover artist. I really think Bark is going to \n",
    "be a game-changer in the world of text-to-audio technology.\n",
    "\"\"\".replace(\"\\n\", \" \").strip()\n",
    "\n",
    "script = \"\"\"\n",
    "Biden vs. Trump: The 2024 race a historic number of Americans don’t want.\n",
    "The 2024 presidential primaries are in full swing. President Joe Biden is the overhelming favorite for the Democratic nomination. Former President Donald Trump remains the clear front-runner for the Republican nod.\n",
    "\n",
    "This puts a lot of Americans in a position they don’t want to be in: A historically large share of them do not like either man at this point.\n",
    "\n",
    "A CNN/SSRS poll from earlier this month found that more Americans viewed neither Biden nor Trump favorably than those who held favorable views of either man. A plurality (36%) viewed neither candidate favorably, while 33% had a favorable view of Trump and 32% for Biden. Constraining ourselves to registered voters, 31% viewed neither Biden nor Trump favorably.\n",
    "\n",
    "When you zoom in on those who were unfavorably inclined toward Biden and Trump (i.e., putting aside those who were unsure or were neutral), 22% of adults and 21% of registered voters had an unfavorable view of both men.\n",
    "\n",
    "To put that in perspective, consider the end of the 2016 presidential election. That race (between Trump and Democrat Hillary Clinton) is the benchmark election for candidate unlikability. It is the only one on record in which both candidates were disliked by more Americans than liked on Election Day.\n",
    "\n",
    "The final pre-election CNN poll of that campaign found that 16% of registered voters held an unfavorable view of both Trump and Clinton. When you add in those who were neutral or didn’t have an opinion, 19% viewed neither nominee favorably.\n",
    "\"\"\"\n",
    "\n",
    "sentences = nltk.sent_tokenize(script)\n",
    "for i, s in enumerate(sentences):\n",
    "    print(f\"i:\\t {s}\")"
   ]
  },
  {
   "cell_type": "code",
   "execution_count": null,
   "metadata": {},
   "outputs": [],
   "source": []
  }
 ],
 "metadata": {
  "kernelspec": {
   "display_name": "open_editor",
   "language": "python",
   "name": "python3"
  },
  "language_info": {
   "codemirror_mode": {
    "name": "ipython",
    "version": 3
   },
   "file_extension": ".py",
   "mimetype": "text/x-python",
   "name": "python",
   "nbconvert_exporter": "python",
   "pygments_lexer": "ipython3",
   "version": "3.8.16"
  },
  "orig_nbformat": 4
 },
 "nbformat": 4,
 "nbformat_minor": 2
}
