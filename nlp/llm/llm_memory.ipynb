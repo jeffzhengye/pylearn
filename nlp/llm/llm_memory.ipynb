{
 "cells": [
  {
   "cell_type": "markdown",
   "metadata": {},
   "source": [
    "# Memobase\n",
    "\n",
    "* 为每个用户建立独立的记忆档案，即使与不同的AI代理交互，也能保持用户画像信息的一致性。具备时间感知记忆，会记录具体日期，避免AI受过时信息的影响，支持事件序列。支持用户画像随着与AI的交互不断丰富和完善，可控制记忆大小。\n",
    "* https://github.com/memodb-io/memobase"
   ]
  },
  {
   "cell_type": "markdown",
   "metadata": {},
   "source": []
  }
 ],
 "metadata": {
  "language_info": {
   "name": "python"
  }
 },
 "nbformat": 4,
 "nbformat_minor": 2
}
