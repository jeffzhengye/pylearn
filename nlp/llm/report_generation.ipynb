{
 "cells": [
  {
   "cell_type": "markdown",
   "metadata": {},
   "source": [
    "# projects\n",
    "\n",
    "## storm\n",
    "\n",
    "* https://github.com/stanford-oval/storm\n",
    "\n",
    "## gpt-newspaper\n",
    "\n",
    "* https://github.com/rotemweiss57/gpt-newspaper\n",
    "* 只能根据用户给定的关键词生成单篇文章。\n",
    "\n",
    "## MetaGPT\n",
    "\n",
    "* https://github.com/geekan/MetaGPT\n",
    "* 给定一行需求，返回PRD、设计、任务、Repo"
   ]
  }
 ],
 "metadata": {
  "language_info": {
   "name": "python"
  }
 },
 "nbformat": 4,
 "nbformat_minor": 2
}
