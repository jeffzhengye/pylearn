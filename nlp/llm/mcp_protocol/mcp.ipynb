{
 "cells": [
  {
   "cell_type": "markdown",
   "metadata": {},
   "source": [
    "# tutorials\n",
    "\n",
    "* https://modelcontextprotocol.io/examples\n",
    "  * "
   ]
  },
  {
   "cell_type": "markdown",
   "metadata": {},
   "source": [
    "# mcp servers\n",
    "\n",
    "## awesome\n",
    "\n",
    "* https://github.com/punkpeye/awesome-mcp-servers\n",
    "\n",
    "## online\n",
    "\n",
    "## open source\n",
    "\n",
    "### microsoft playwright mcp\n",
    "\n",
    "* https://github.com/microsoft/playwright-mcp\n",
    "\n",
    "# mcp hub \n",
    "\n",
    "## modelscope.cn\n",
    "\n",
    "## mcp.so\n",
    "\n",
    "## smithery.ai\n",
    "\n"
   ]
  }
 ],
 "metadata": {
  "language_info": {
   "name": "python"
  }
 },
 "nbformat": 4,
 "nbformat_minor": 2
}
