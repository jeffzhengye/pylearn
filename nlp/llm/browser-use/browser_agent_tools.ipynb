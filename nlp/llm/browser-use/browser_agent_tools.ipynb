{
 "cells": [
  {
   "cell_type": "markdown",
   "id": "4b8c66a7",
   "metadata": {},
   "source": [
    "# Browserbase \n",
    "\n",
    "* https://github.com/browserbase/open-operator  1.5k\n",
    "* A template for building web agents with Stagehand on Browserbase\n",
    "\n",
    "# Skyvern \n",
    "\n",
    "* 利用大型语言模型 (LLM) 和计算机视觉来自动化基于浏览器的工作流程。\n",
    "* "
   ]
  }
 ],
 "metadata": {
  "language_info": {
   "name": "python"
  }
 },
 "nbformat": 4,
 "nbformat_minor": 5
}
