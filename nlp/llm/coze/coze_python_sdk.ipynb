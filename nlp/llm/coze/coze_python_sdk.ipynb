{
 "cells": [
  {
   "cell_type": "code",
   "execution_count": 1,
   "metadata": {},
   "outputs": [],
   "source": [
    "import os\n",
    "\n",
    "from cozepy import Coze, TokenAuth, COZE_CN_BASE_URL\n",
    "\n",
    "COZE_API_TOKEN = \"pat_lYvbkW8AhxKIGavZxgVGImzyC4XWAJBlcET9gEf463u1GJJDI3VDAqnIHYw1ozOj\"\n",
    "\n",
    "# 通过环境变量引入密钥，访问 coze.cn 服务\n",
    "coze = Coze(auth=TokenAuth(COZE_API_TOKEN), base_url=COZE_CN_BASE_URL)\n"
   ]
  },
  {
   "cell_type": "code",
   "execution_count": null,
   "metadata": {},
   "outputs": [],
   "source": [
    "import os  # noqa\n",
    "\n",
    "# # Get an access_token through personal access token oroauth.\n",
    "# coze_api_token = os.getenv(\"COZE_API_TOKEN\")\n",
    "\n",
    "from cozepy import Coze, TokenAuth, Message, ChatStatus, MessageContentType, ChatEventType  # noqa\n",
    "\n",
    "# Init the Coze client through the access_token.\n",
    "coze = Coze(auth=TokenAuth(token=COZE_API_TOKEN), base_url=COZE_CN_BASE_URL)\n",
    "\n",
    "# Create a bot instance in Coze, copy the last number from the web link as the bot's ID.\n",
    "bot_id = \"7476363458222096419\"\n",
    "# The user id identifies the identity of a user. Developers can use a custom business ID\n",
    "# or a random string.\n",
    "user_id = \"user id\"\n",
    "\n",
    "# Call the coze.chat.stream method to create a chat. The create method is a streaming\n",
    "# chat and will return a Chat Iterator. Developers should iterate the iterator to get\n",
    "# chat event and handle them.\n",
    "for event in coze.chat.stream(\n",
    "    bot_id=bot_id, user_id=user_id, additional_messages=[Message.build_user_question_text(\"How are you?\")]\n",
    "):\n",
    "    if event.event == ChatEventType.CONVERSATION_MESSAGE_DELTA:\n",
    "        message = event.message\n",
    "        print(f\"role={message.role}, content={message.content}\")\n"
   ]
  },
  {
   "cell_type": "code",
   "execution_count": 6,
   "metadata": {},
   "outputs": [
    {
     "name": "stdout",
     "output_type": "stream",
     "text": [
      "Get random voice: 7468512265134981171 邻家小妹 from voices list of length: 130\n",
      "Get audio filepath from speech api: /home/jeffye/coze_7468512265134981171_你是基于什么大模型构建的.wav\n"
     ]
    }
   ],
   "source": [
    "import random\n",
    "from cozepy import AudioFormat\n",
    "import sys\n",
    "\n",
    "def get_audio_filepath(coze):\n",
    "    # if len(sys.argv) > 1:\n",
    "    #     # 从程序运行参数中获取音频文件路径\n",
    "    #     print(f\"Get audio filepath from arg: {sys.argv[1]}\")\n",
    "    #     return sys.argv[1]\n",
    "\n",
    "    # 随机选择一个语音\n",
    "    voices = [i for i in coze.audio.voices.list()]\n",
    "    voice = random.choice(voices)\n",
    "    print(f\"Get random voice: {voice.voice_id} {voice.name} from voices list of length: {len(voices)}\")\n",
    "\n",
    "    # 输入文本\n",
    "    input_text = \"你是基于什么大模型构建的\"\n",
    "    audio_path = os.path.join(os.path.expanduser(\"~\"), f\"coze_{voice.voice_id}_{input_text}.wav\")\n",
    "\n",
    "    # 使用语音合成API生成音频\n",
    "    audio = coze.audio.speech.create(input=input_text, voice_id=voice.voice_id, response_format=AudioFormat.WAV)\n",
    "    audio.write_to_file(audio_path)\n",
    "\n",
    "    print(f\"Get audio filepath from speech api: {audio_path}\")\n",
    "    return audio_path\n",
    "\n",
    "audio_file_path = get_audio_filepath(coze)"
   ]
  },
  {
   "cell_type": "code",
   "execution_count": 8,
   "metadata": {},
   "outputs": [],
   "source": [
    "# 上传语音文件\n",
    "\n",
    "from pathlib import Path\n",
    "\n",
    "audio_file = coze.files.upload(file=Path(audio_file_path))"
   ]
  },
  {
   "cell_type": "code",
   "execution_count": 10,
   "metadata": {},
   "outputs": [
    {
     "name": "stdout",
     "output_type": "stream",
     "text": [
      "我是基于OpenAI的GPT-3.5模型构建的。\n",
      "Get audio response from chat stream, save to /home/jeffye/coze_response_audio.wav\n"
     ]
    }
   ],
   "source": [
    "import base64\n",
    "from cozepy import ChatEventType\n",
    "from cozepy.util import write_pcm_to_wav_file\n",
    "from cozepy import TokenAuth, Coze, ChatEventType, Message, MessageObjectString, AudioFormat\n",
    "\n",
    "pcm_datas = b\"\"\n",
    "for event in coze.chat.stream(\n",
    "    bot_id=bot_id,\n",
    "    user_id=user_id,\n",
    "    additional_messages=[\n",
    "        Message.build_user_question_objects(\n",
    "            [\n",
    "                MessageObjectString.build_audio(file_id=audio_file.id),\n",
    "            ]\n",
    "        ),\n",
    "    ],\n",
    "):\n",
    "    if event.event == ChatEventType.CONVERSATION_MESSAGE_DELTA:\n",
    "        message = event.message\n",
    "        print(event.message.content, end=\"\", flush=True)\n",
    "    elif event.event == ChatEventType.CONVERSATION_AUDIO_DELTA:\n",
    "        pcm_datas += base64.b64decode(event.message.content)\n",
    "\n",
    "# 将PCM音频数据保存为WAV文件\n",
    "wav_audio_path = os.path.join(os.path.expanduser(\"~\"), \"coze_response_audio.wav\")\n",
    "write_pcm_to_wav_file(pcm_datas, wav_audio_path)\n",
    "print(f\"\\nGet audio response from chat stream, save to {wav_audio_path}\")"
   ]
  },
  {
   "cell_type": "markdown",
   "metadata": {},
   "source": [
    "# audio streaming input"
   ]
  },
  {
   "cell_type": "code",
   "execution_count": null,
   "metadata": {},
   "outputs": [],
   "source": [
    "import os\n",
    "import tkinter as tk\n",
    "from tkinter import ttk\n",
    "from tkinter import scrolledtext\n",
    "import pyaudio\n",
    "import queue\n",
    "import asyncio\n",
    "import threading\n",
    "from cozepy import AsyncCoze, TokenAuth\n",
    "from cozepy.websockets.chat import AsyncWebsocketsChatClient, AsyncWebsocketsChatEventHandler\n",
    "from cozepy.websockets.chat.events import ConversationAudioDeltaEvent, ConversationChatCompletedEvent, ConversationChatCanceledEvent\n",
    "from cozepy.websockets.chat.events import ChatUpdateEvent, InputAudio\n",
    "from cozepy.websockets.chat.events import InputAudioBufferAppendEvent\n",
    "\n",
    "# 音频参数\n",
    "RATE = 16000\n",
    "CHANNELS = 1\n",
    "FORMAT = pyaudio.paInt16\n",
    "INPUT_BLOCK_TIME = 0.05\n",
    "CHUNK = int(RATE * INPUT_BLOCK_TIME)\n"
   ]
  },
  {
   "cell_type": "markdown",
   "metadata": {},
   "source": [
    "# Eino - coze的go后台\n",
    "\n",
    "* https://www.cloudwego.io/zh/docs/eino/overview/bytedance_eino_practice/\n",
    "* https://github.com/cloudwego/eino\n",
    "* 用 Go 语言编写的终极大型语言模型（LLM）应用开发框架。它从开源社区中的诸多优秀 LLM 应用开发框架，如 LangChain 和 LlamaIndex 等获取灵感，同时借鉴前沿研究成果与实际应用，提供了一个强调简洁性、可扩展性、可靠性与有效性，且更符合 Go 语言编程惯例的 LLM 应用开发框架。"
   ]
  }
 ],
 "metadata": {
  "kernelspec": {
   "display_name": "base",
   "language": "python",
   "name": "python3"
  },
  "language_info": {
   "codemirror_mode": {
    "name": "ipython",
    "version": 3
   },
   "file_extension": ".py",
   "mimetype": "text/x-python",
   "name": "python",
   "nbconvert_exporter": "python",
   "pygments_lexer": "ipython3",
   "version": "3.12.7"
  }
 },
 "nbformat": 4,
 "nbformat_minor": 2
}
