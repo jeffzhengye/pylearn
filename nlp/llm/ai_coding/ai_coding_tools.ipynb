{
 "cells": [
  {
   "cell_type": "markdown",
   "id": "4ca2c2ab",
   "metadata": {},
   "source": [
    "# cline\n",
    "\n",
    "* Autonomous coding agent right in your IDE, capable of creating/editing files, executing commands, using the browser, and more with your permission every step of the way.\n",
    "* https://github.com/cline/cline"
   ]
  }
 ],
 "metadata": {
  "language_info": {
   "name": "python"
  }
 },
 "nbformat": 4,
 "nbformat_minor": 5
}
