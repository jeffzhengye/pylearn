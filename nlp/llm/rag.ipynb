{
 "cells": [
  {
   "cell_type": "markdown",
   "metadata": {},
   "source": [
    "# tools\n",
    "\n",
    "## RAG-Retrieval\n",
    "\n",
    "* https://github.com/NLPJCL/RAG-Retrieval/blob/master/examples/Reranker_Tutorial.md\n",
    "\n",
    "\n",
    "## GoMate\n",
    "\n",
    "* https://github.com/gomate-community/GoMate\n",
    "\n",
    "## Quivr\n",
    "\n",
    "* 33.4K，您的第二大脑，利用 GenerativeAI 的力量成为您的个人助理！\n",
    "* https://github.com/QuivrHQ/quivr\n",
    "\n",
    "\n",
    "## Dify\n",
    "\n",
    "* 31.2K\n",
    "*https://github.com/langgenius/dify\n",
    "\n",
    "\n",
    "# Open WebUI\n",
    "* 24.3K\n",
    "* https://github.com/open-webui/open-webui\n",
    "\n",
    "\n",
    "## AnythingLLM\n",
    "* 15.1K\n",
    "* https://github.com/Mintplex-Labs/anything-llm\n",
    "\n",
    "## Reor \n",
    "* 6.2K\n",
    "* https://github.com/reorproject/reor\n",
    "\n",
    "## Danswer \n",
    "* 9.5K\n",
    "* https://github.com/danswer-ai/danswer\n",
    "\n",
    "\n",
    "## chatgpt-on-wechat\n",
    "* 26.4K\n",
    "* https://github.com/zhayujie/chatgpt-on-wechat\n",
    "\n",
    "## RAGFlow \n",
    "* 8.3K\n",
    "* https://github.com/infiniflow/ragflow"
   ]
  },
  {
   "cell_type": "code",
   "execution_count": null,
   "metadata": {},
   "outputs": [],
   "source": []
  }
 ],
 "metadata": {
  "kernelspec": {
   "display_name": "py10",
   "language": "python",
   "name": "python3"
  },
  "language_info": {
   "name": "python",
   "version": "3.10.8"
  }
 },
 "nbformat": 4,
 "nbformat_minor": 2
}
