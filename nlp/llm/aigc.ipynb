{
 "cells": [
  {
   "cell_type": "markdown",
   "metadata": {},
   "source": [
    "# 视觉小说\n",
    "\n",
    "* https://github.com/renpy/renpy\n",
    "* https://github.com/Monogatari/Monogatari?tab=readme-ov-file"
   ]
  },
  {
   "cell_type": "code",
   "execution_count": null,
   "metadata": {
    "vscode": {
     "languageId": "plaintext"
    }
   },
   "outputs": [],
   "source": []
  },
  {
   "cell_type": "markdown",
   "metadata": {},
   "source": [
    "# images\n",
    "\n",
    "## InstantID\n",
    "\n",
    "* https://modelscope.cn/models/instantx/InstantID/summary\n",
    "* a new state-of-the-art tuning-free method to achieve ID-Preserving generation with only single image, supporting various downstream tasks."
   ]
  }
 ],
 "metadata": {
  "language_info": {
   "name": "python"
  }
 },
 "nbformat": 4,
 "nbformat_minor": 2
}
