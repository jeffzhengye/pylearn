{
 "cells": [
  {
   "cell_type": "markdown",
   "metadata": {},
   "source": [
    "# one api + openai 使用本地使用方法\n",
    "\n",
    "* https://github.com/ollama/ollama/blob/main/docs/openai.md"
   ]
  },
  {
   "cell_type": "code",
   "execution_count": 10,
   "metadata": {},
   "outputs": [
    {
     "name": "stdout",
     "output_type": "stream",
     "text": [
      "ChatCompletionMessage(content='Hello there! How can I be of service to you today?', role='assistant', function_call=None, tool_calls=None)\n"
     ]
    }
   ],
   "source": [
    "from openai import OpenAI\n",
    "\n",
    "OPENAI_API_KEY=\"sk-XcwyoxAyLttlf2vz217d1405Fd6a49CfAfA0FaD57aB6C2Ba\" # one_api token\n",
    "OPENAI_API_BASE=\"http://127.0.0.1:3000/v1\" \n",
    "\n",
    "client = OpenAI(api_key=OPENAI_API_KEY, base_url=OPENAI_API_BASE)\n",
    "\n",
    "completion = client.chat.completions.create(\n",
    "  model=\"ERNIE-4.0-8K\",\n",
    "  messages=[\n",
    "    {\"role\": \"system\", \"content\": \"You are a helpful assistant.\"},\n",
    "    {\"role\": \"user\", \"content\": \"Hello!\"}\n",
    "  ]\n",
    ")\n",
    "\n",
    "print(completion.choices[0].message)\n"
   ]
  },
  {
   "cell_type": "markdown",
   "metadata": {},
   "source": [
    "## ollama backend"
   ]
  },
  {
   "cell_type": "code",
   "execution_count": null,
   "metadata": {},
   "outputs": [],
   "source": [
    "\n",
    "from openai import OpenAI\n",
    "\n",
    "OPENAI_API_KEY=\"sk-XcwyoxAyLttlf2vz217d1405Fd6a49CfAfA0FaD57aB6C2Ba\" # one_api token， ollama 好像这个key不起作用。\n",
    "OPENAI_API_BASE=\"http://localhost:11434/v1/\" \n",
    "# OPENAI_API_BASE=\"http://127.0.0.1:3000/v1\" \n",
    "\n",
    "client = OpenAI(api_key=OPENAI_API_KEY, base_url=OPENAI_API_BASE)\n",
    "\n",
    "completion = client.chat.completions.create(\n",
    "  model=\"qwen2:0.5b\",\n",
    "  messages=[\n",
    "    {\"role\": \"system\", \"content\": \"You are a helpful assistant.\"},\n",
    "    {\"role\": \"user\", \"content\": \"why the sky is blue?\"}\n",
    "  ],\n",
    "  stream=False\n",
    ")\n",
    "\n",
    "print(completion.choices[0].message)\n"
   ]
  },
  {
   "cell_type": "markdown",
   "metadata": {},
   "source": [
    "# openai-style-api\n",
    "\n",
    "* 支持将openai、claude、azure openai, gemini, kimi, 智谱AI,通义千问,讯飞星火API等模型服务方的调用转为openai方式调用。\n",
    "* https://github.com/tian-minghui/openai-style-api"
   ]
  },
  {
   "cell_type": "markdown",
   "metadata": {},
   "source": []
  }
 ],
 "metadata": {
  "kernelspec": {
   "display_name": "py10",
   "language": "python",
   "name": "python3"
  },
  "language_info": {
   "codemirror_mode": {
    "name": "ipython",
    "version": 3
   },
   "file_extension": ".py",
   "mimetype": "text/x-python",
   "name": "python",
   "nbconvert_exporter": "python",
   "pygments_lexer": "ipython3",
   "version": "3.10.14"
  }
 },
 "nbformat": 4,
 "nbformat_minor": 2
}
