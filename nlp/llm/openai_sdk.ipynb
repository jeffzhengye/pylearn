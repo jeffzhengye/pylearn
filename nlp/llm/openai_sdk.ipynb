{
 "cells": [
  {
   "cell_type": "markdown",
   "metadata": {},
   "source": [
    "# one api + openai 使用本地使用方法\n",
    "\n",
    "* https://github.com/ollama/ollama/blob/main/docs/openai.md"
   ]
  },
  {
   "cell_type": "code",
   "execution_count": 10,
   "metadata": {},
   "outputs": [
    {
     "name": "stdout",
     "output_type": "stream",
     "text": [
      "ChatCompletionMessage(content='Hello there! How can I be of service to you today?', role='assistant', function_call=None, tool_calls=None)\n"
     ]
    }
   ],
   "source": [
    "from openai import OpenAI\n",
    "\n",
    "OPENAI_API_KEY=\"sk-XcwyoxAyLttlf2vz217d1405Fd6a49CfAfA0FaD57aB6C2Ba\" # one_api token\n",
    "OPENAI_API_BASE=\"http://127.0.0.1:3000/v1\" \n",
    "\n",
    "client = OpenAI(api_key=OPENAI_API_KEY, base_url=OPENAI_API_BASE)\n",
    "\n",
    "completion = client.chat.completions.create(\n",
    "  model=\"ERNIE-4.0-8K\",\n",
    "  messages=[\n",
    "    {\"role\": \"system\", \"content\": \"You are a helpful assistant.\"},\n",
    "    {\"role\": \"user\", \"content\": \"Hello!\"}\n",
    "  ]\n",
    ")\n",
    "\n",
    "print(completion.choices[0].message)\n"
   ]
  },
  {
   "cell_type": "code",
   "execution_count": 1,
   "metadata": {},
   "outputs": [
    {
     "name": "stdout",
     "output_type": "stream",
     "text": [
      "ChatCompletionMessage(content='我知道天气相关的信息，但是作为一个AI助手，我并不能直接获取实时的天气数据。不过，我可以帮助你查询天气的方法。你可以通过以下几种方式来获取最新的天气信息：\\n\\n1. **使用天气应用**：手机上有很多专门提供天气预报的应用程序，如“天气通”、“墨迹天气”等，这些应用可以提供详细的天气预报信息。\\n2. **访问网站**：可以通过访问中国气象局官网（http://www.cma.gov.cn/）或其他专业天气网站来查看天气情况。\\n3. **智能音箱或智能家居设备**：如果你有智能音箱或是支持语音助手的智能家居设备，也可以通过询问它们来获得天气预报。\\n4. **社交媒体和新闻客户端**：很多社交媒体平台以及新闻客户端也会发布天气预警及日常天气预报。\\n\\n如果你告诉我具体的城市名，虽然我不能给出即时的天气更新，但我可以指导你如何更有效地找到相关信息。', refusal=None, role='assistant', audio=None, function_call=None, tool_calls=None)\n"
     ]
    }
   ],
   "source": [
    "from openai import OpenAI\n",
    "\n",
    "OPENAI_API_KEY=\"sk-jcBU1g9OhiLZpNHxEd817034Db8f49E4828c0f10CeBa167e\" # one_api token\n",
    "OPENAI_API_BASE=\"http://59.68.29.90:3000/v1\" \n",
    "\n",
    "client = OpenAI(api_key=OPENAI_API_KEY, base_url=OPENAI_API_BASE)\n",
    "\n",
    "completion = client.chat.completions.create(\n",
    "  model=\"qwen-max\",\n",
    "  messages=[\n",
    "    {\"role\": \"system\", \"content\": \"You are a helpful assistant.\"},\n",
    "    {\"role\": \"user\", \"content\": \"你知道天气吗？\"}\n",
    "  ]\n",
    ")\n",
    "\n",
    "print(completion.choices[0].message)\n"
   ]
  },
  {
   "cell_type": "code",
   "execution_count": 2,
   "metadata": {},
   "outputs": [
    {
     "name": "stdout",
     "output_type": "stream",
     "text": [
      "ChatCompletionMessage(content='我是一个人工智能助手，基于OpenAI的ChatGPT模型。虽然我没有具体的“年龄”，因为我是一个程序，但我的模型在2023年得到了最新的训练和更新。如果你有任何问题或需要帮助，随时可以问我！', refusal=None, role='assistant', audio=None, function_call=None, tool_calls=None)\n"
     ]
    }
   ],
   "source": [
    "from openai import OpenAI\n",
    "\n",
    "OPENAI_API_KEY=\"sk-IDeyk5DnKLyZdtBKDb82B574119d4eB2B4E132Bd0f2c3662\" # one_api token\n",
    "OPENAI_API_BASE=\"http://59.68.29.90:3000/v1\" \n",
    "\n",
    "client = OpenAI(api_key=OPENAI_API_KEY, base_url=OPENAI_API_BASE)\n",
    "\n",
    "completion = client.chat.completions.create(\n",
    "  model=\"gpt-4o-mini\",\n",
    "  messages=[\n",
    "    {\"role\": \"system\", \"content\": \"You are a helpful assistant.\"},\n",
    "    {\"role\": \"user\", \"content\": \"你是谁？你是chatgpt吗？你多大了\"}\n",
    "  ]\n",
    ")\n",
    "\n",
    "print(completion.choices[0].message)\n"
   ]
  },
  {
   "cell_type": "code",
   "execution_count": null,
   "metadata": {},
   "outputs": [],
   "source": [
    "from openai import OpenAI\n",
    "\n",
    "OPENAI_API_KEY=\"sk-hxgpJtP9FkLvY1MS7d6d5f5827Ef44C4B98d97E117Da6b2b\" # one_api token\n",
    "OPENAI_API_BASE=\"http://59.68.29.90:3000/v1\" \n",
    "\n",
    "client = OpenAI(api_key=OPENAI_API_KEY, base_url=OPENAI_API_BASE)\n",
    "\n",
    "completion = client.chat.completions.create(\n",
    "  model=\"deepseek-chat\",\n",
    "  messages=[\n",
    "    {\"role\": \"system\", \"content\": \"You are a helpful assistant.\"},\n",
    "    {\"role\": \"user\", \"content\": \"你知道天气吗？\"}\n",
    "  ]\n",
    ")\n",
    "\n",
    "print(completion.choices[0].message)\n"
   ]
  },
  {
   "cell_type": "markdown",
   "metadata": {},
   "source": [
    "## ollama backend"
   ]
  },
  {
   "cell_type": "code",
   "execution_count": null,
   "metadata": {},
   "outputs": [],
   "source": [
    "\n",
    "from openai import OpenAI\n",
    "\n",
    "OPENAI_API_KEY=\"sk-XcwyoxAyLttlf2vz217d1405Fd6a49CfAfA0FaD57aB6C2Ba\" # one_api token， ollama 好像这个key不起作用。\n",
    "OPENAI_API_BASE=\"http://localhost:11434/v1/\" \n",
    "# OPENAI_API_BASE=\"http://127.0.0.1:3000/v1\" \n",
    "\n",
    "client = OpenAI(api_key=OPENAI_API_KEY, base_url=OPENAI_API_BASE)\n",
    "\n",
    "completion = client.chat.completions.create(\n",
    "  model=\"qwen2:0.5b\",\n",
    "  messages=[\n",
    "    {\"role\": \"system\", \"content\": \"You are a helpful assistant.\"},\n",
    "    {\"role\": \"user\", \"content\": \"why the sky is blue?\"}\n",
    "  ],\n",
    "  stream=False\n",
    ")\n",
    "\n",
    "print(completion.choices[0].message)\n"
   ]
  },
  {
   "cell_type": "markdown",
   "metadata": {},
   "source": [
    "# openai-style-api\n",
    "\n",
    "* 支持将openai、claude、azure openai, gemini, kimi, 智谱AI,通义千问,讯飞星火API等模型服务方的调用转为openai方式调用。\n",
    "* https://github.com/tian-minghui/openai-style-api"
   ]
  },
  {
   "cell_type": "markdown",
   "metadata": {},
   "source": [
    "# 豆包 openai sdk 调用\n",
    "\n"
   ]
  },
  {
   "cell_type": "code",
   "execution_count": 2,
   "metadata": {},
   "outputs": [
    {
     "name": "stdout",
     "output_type": "stream",
     "text": [
      "----- standard request -----\n",
      "十字花科是一个经济价值较大的科，包含许多常见的植物，以下为你详细介绍：\n",
      "\n",
      "### 蔬菜类\n",
      "- **白菜**\n",
      "    - 二年生草本，高40-60厘米，常全株无毛。基生叶多数，大形，倒卵状长圆形至宽倒卵形。\n",
      "    - 它是我国东北及华北冬、春季主要的蔬菜，生食、炒食、盐腌、酱渍均可。\n",
      "- **甘蓝**\n",
      "    - 二年生草本，被粉霜，矮且粗壮一年生茎肉质，不分枝。基生叶质厚，层层包裹成球状体，扁球形。\n",
      "    - 它是中国重要蔬菜之一，除芥蓝原产中国外，甘蓝的各个变种都起源于地中海至北海沿岸。常见有绿甘蓝、紫甘蓝等，可凉拌、炒食。\n",
      "- **萝卜**\n",
      "    - 直根肉质，长圆形、球形或圆锥形，外皮绿色、白色或红色。基生叶和下部茎生叶大头羽状半裂。\n",
      "    - 它为常见的蔬菜，吃法多样，可炒、煮、凉拌、腌制等，种子榨油工业用及食用。\n",
      "- **芥菜**\n",
      "    - 一年生草本，高可达150厘米，幼茎及叶具刺毛，有辣味；茎直立，基生叶宽卵形至倒卵形。\n",
      "    - 它是中国著名的特产蔬菜，多分布于长江以南各省，盐腌或酱渍供食用，可制作梅干菜、雪菜等。\n",
      "\n",
      "### 花卉类\n",
      "- **紫罗兰**\n",
      "    - 二年生或多年生草本，高达60厘米，全株密被灰白色具柄的分枝柔毛。茎直立，多分枝。叶片长圆形至倒披针形或匙形。\n",
      "    - 它花朵茂盛，花色鲜艳，香气浓郁，是欧洲名花之一，常用于花坛、花境的布置，也可盆栽观赏。\n",
      "- **桂竹香**\n",
      "    - 多年生草本，高可达70厘米，全株具贴生长柔毛。茎直立，基部木质化，叶互生，披针形至线形。\n",
      "    - 桂竹香花色橙黄和黄褐色，香气浓，有重瓣品种，喜阳光，耐寒，但怕酷暑，是春季庭院中栽培较为普遍的一种草花，也可作切花用。\n",
      "\n",
      "### 油料作物类\n",
      "- **油菜**\n",
      "    - 茎直立，有分枝，仅幼叶有少数散生刚毛。基生叶大头羽裂，顶裂片卵形，侧裂片三角状卵形。\n",
      "    - 它是重要的油料作物之一，种子含油量达35%-50%，可以榨油或当作饲料用。油菜花盛开时也是美丽的风景线。 \n",
      "----- streaming request -----\n",
      "十字花科是一个经济价值较大的科，常见的十字花科植物主要分为蔬菜类、花卉类和野草类，以下为你列举一些代表植物：\n",
      "\n",
      "### 蔬菜类\n",
      "- **大白菜**：二年生草本植物，叶呈倒卵状长圆形至宽倒卵形，颜色为浅绿至深绿，叶柄白色扁平。它是我国北方地区冬季常见的重要蔬菜，可炒食、煮食、腌制酸菜等。\n",
      "- **小白菜**：一年生或二年生草本，植株矮小，叶片浅绿色或深绿色，口感鲜嫩。通常用于清炒、做汤，如小白菜豆腐汤，味道清爽可口。\n",
      "- **甘蓝**：包括结球甘蓝（圆白菜、卷心菜）、花椰菜（菜花）、西兰花等变种。结球甘蓝叶片层层包裹成球状；花椰菜的花球洁白紧实；西兰花的花球则呈绿色。它们的食用方法多样，可炒、凉拌、做配菜等。\n",
      "- **萝卜**：直根肉质，形状有长圆形、球形或圆锥形等，外皮颜色有白色、绿色、红色等。可生食、熟食，还能加工成萝卜干等腌制食品，像胡萝卜玉米排骨汤就是一道营养丰富的汤品。\n",
      "- **芥菜**：种类繁多，常见的有叶用芥菜（如雪里蕻）、茎用芥菜（如榨菜）和根用芥菜（如大头菜）。雪里蕻常用来腌制咸菜；榨菜经过加工后成为可口的佐餐小菜；大头菜可腌制或酱制。\n",
      "\n",
      "### 花卉类\n",
      "- **紫罗兰**：二年生或多年生草本，全株密被灰白色具柄的分枝柔毛。花瓣紫红、淡红或白色，具有优雅的香气，常作为观赏花卉种植于花坛、花境，也可盆栽观赏或用于切花。\n",
      "- **桂竹香**：多年生草本，常作二年生栽培。花大，呈橙黄或黄褐色，有香气，花期4 - 5月。多用来布置花坛、花境，也可盆栽。\n",
      "- **诸葛菜**：一年或二年生草本，因农历二月前后开始开蓝紫色花，又称二月蓝。花朵淡紫色至白色，常见于林下、林缘、山坡等，是一种优良的野生地被植物。\n",
      "\n",
      "### 野草类\n",
      "- **荠菜**：一年或二年生草本，基生叶丛生呈莲座状，叶片有羽状分裂。它是常见的野菜，春季可采摘其嫩茎叶食用，可做荠菜饺子、荠菜馄饨等，味道鲜美。\n",
      "- **碎米荠**：一年生小草本，羽状复叶，花白色。多生长在田边、路旁及草地，在有些地区也会被当作野菜食用。 \n"
     ]
    }
   ],
   "source": [
    "import os\n",
    "from openai import OpenAI\n",
    "\n",
    "# export ARK_API_KEY=\"ac68a485-a2ea-4812-b26d-f4659f163334\"\n",
    "os.environ[\"ARK_API_KEY\"] = \"ac68a485-a2ea-4812-b26d-f4659f163334\"  # your API key\n",
    "client = OpenAI(\n",
    "    api_key = os.environ.get(\"ARK_API_KEY\"),\n",
    "    base_url = \"https://ark.cn-beijing.volces.com/api/v3\",\n",
    ")\n",
    "\n",
    "# Non-streaming:\n",
    "print(\"----- standard request -----\")\n",
    "completion = client.chat.completions.create(\n",
    "    model = \"ep-20250212212710-vdkg2\",  # your model endpoint ID\n",
    "    messages = [\n",
    "        {\"role\": \"system\", \"content\": \"你是豆包，是由字节跳动开发的 AI 人工智能助手\"},\n",
    "        {\"role\": \"user\", \"content\": \"常见的十字花科植物有哪些？\"},\n",
    "    ],\n",
    ")\n",
    "print(completion.choices[0].message.content)\n",
    "\n",
    "# Streaming:\n",
    "print(\"----- streaming request -----\")\n",
    "stream = client.chat.completions.create(\n",
    "    model = \"ep-20250212212710-vdkg2\",  # your model endpoint ID\n",
    "    messages = [\n",
    "        {\"role\": \"system\", \"content\": \"你是豆包，是由字节跳动开发的 AI 人工智能助手\"},\n",
    "        {\"role\": \"user\", \"content\": \"常见的十字花科植物有哪些？\"},\n",
    "    ],\n",
    "    stream=True\n",
    ")\n",
    "\n",
    "for chunk in stream:\n",
    "    if not chunk.choices:\n",
    "        continue\n",
    "    print(chunk.choices[0].delta.content, end=\"\")\n",
    "print()"
   ]
  },
  {
   "cell_type": "markdown",
   "metadata": {},
   "source": [
    "# one-api 使用openai-sdk 访问"
   ]
  },
  {
   "cell_type": "code",
   "execution_count": null,
   "metadata": {},
   "outputs": [
    {
     "name": "stdout",
     "output_type": "stream",
     "text": [
      "----- standard request -----\n",
      "十字花科（Brassicaceae）植物是非常重要的一类植物，尤其是作为蔬菜和观赏植物。以下是一些常见的十字花科植物：\n",
      "\n",
      "1. **白菜**（Brassica rapa var. pekinensis） - 包括大白菜、小白菜等。\n",
      "2. **甘蓝**（Brassica oleracea） - 有多种变种，如卷心菜、花椰菜、抱子甘蓝等。\n",
      "3. **油菜**（Brassica napus） - 主要用于生产食用油和饲料。\n",
      "4. **芥菜**（Brassica juncea） - 常用作蔬菜或调味料。\n",
      "5. **萝卜**（Raphanus sativus） - 包括红萝卜、白萝卜等。\n",
      "6. **花菜**（Brassica oleracea var. botrytis） - 又称西兰花。\n",
      "7. **苋菜**（Amaranthus dubius） - 虽然不是十字花科，但常与十字花科植物一起提及。\n",
      "8. **芥兰**（Brassica oleracea var. alboglabra） - 也称芥蓝，常用于中餐。\n",
      "9. **荠菜**（Capsella bursa-pastoris） - 一种常见的野生植物。\n",
      "10. **香芥**（Sinapis alba） - 主要用于制作芥末。\n",
      "11. **菘蓝**（Isatis tinctoria） - 传统上用于染料生产。\n",
      "\n",
      "这些植物不仅因其营养价值而被广泛种植和消费，还因其在园艺和农业中的重要性而备受关注。十字花科植物通常富含维生素C、K，以及纤维和抗氧化剂，具有抗癌潜力。\n"
     ]
    }
   ],
   "source": [
    "import os\n",
    "from openai import OpenAI # type: ignore\n",
    "\n",
    "\n",
    "api_key = \"sk-oATLRYVob2L45Hqe7bEf6a26Ca694b619d7897A0C4Fe4642\"\n",
    "client = OpenAI(\n",
    "    api_key = api_key,\n",
    "    base_url = \"http://116.62.200.81:3001/v1\",\n",
    ")\n",
    "\n",
    "# Non-streaming:\n",
    "print(\"----- standard request -----\")\n",
    "completion = client.chat.completions.create(    \n",
    "    model = \"grok-beta\",  # your model endpoint ID\n",
    "    messages = [\n",
    "        {\"role\": \"system\", \"content\": \"你是豆包，是由字节跳动开发的 AI 人工智能助手\"},\n",
    "        {\"role\": \"user\", \"content\": \"常见的十字花科植物有哪些？\"},\n",
    "    ],\n",
    ")\n",
    "print(completion.choices[0].message.content)"
   ]
  },
  {
   "cell_type": "code",
   "execution_count": null,
   "metadata": {},
   "outputs": [],
   "source": []
  }
 ],
 "metadata": {
  "kernelspec": {
   "display_name": "base",
   "language": "python",
   "name": "python3"
  },
  "language_info": {
   "codemirror_mode": {
    "name": "ipython",
    "version": 3
   },
   "file_extension": ".py",
   "mimetype": "text/x-python",
   "name": "python",
   "nbconvert_exporter": "python",
   "pygments_lexer": "ipython3",
   "version": "3.12.7"
  }
 },
 "nbformat": 4,
 "nbformat_minor": 2
}
