{
 "cells": [
  {
   "cell_type": "markdown",
   "metadata": {},
   "source": [
    "# react_prompt.md\n",
    "\n",
    "* https://huggingface.co/Qwen/Qwen-7B-Chat/blob/main/examples/react_prompt.md"
   ]
  }
 ],
 "metadata": {
  "language_info": {
   "name": "python"
  }
 },
 "nbformat": 4,
 "nbformat_minor": 2
}
