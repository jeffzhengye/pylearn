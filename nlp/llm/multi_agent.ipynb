{
 "cells": [
  {
   "cell_type": "markdown",
   "id": "2c8ed224",
   "metadata": {},
   "source": [
    "# MASLab\n",
    "\n",
    "* https://github.com/MASWorks/MASLab\n"
   ]
  },
  {
   "cell_type": "markdown",
   "id": "27332392",
   "metadata": {},
   "source": []
  }
 ],
 "metadata": {
  "language_info": {
   "name": "python"
  }
 },
 "nbformat": 4,
 "nbformat_minor": 5
}
