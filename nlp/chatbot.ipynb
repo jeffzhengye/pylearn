{
 "cells": [
  {
   "cell_type": "markdown",
   "metadata": {},
   "source": [
    "# RASA\n",
    "\n",
    "## cons\n",
    "\n",
    "* partially open-source\n",
    "* not builtin multi-domain support.\n",
    "\n",
    "\n",
    "## adaption for multi-domain\n",
    "\n",
    "* not in a single domain file or organized in multiple files like in https://github.com/lyirs/rasa_CN\n",
    "* I mean here multi standalone rasa bots, then visit via a proxy"
   ]
  },
  {
   "cell_type": "markdown",
   "metadata": {},
   "source": [
    "# RasaGPT\n",
    "\n",
    "* seems to be too messy. hard to understand its goals of the project."
   ]
  }
 ],
 "metadata": {
  "language_info": {
   "name": "python"
  }
 },
 "nbformat": 4,
 "nbformat_minor": 2
}
