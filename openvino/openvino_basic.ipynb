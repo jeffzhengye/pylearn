{
 "cells": [
  {
   "cell_type": "markdown",
   "metadata": {},
   "source": [
    "# introduction \n",
    "\n",
    "* Openvino是由Intel开发的专门用于优化和部署人工智能推理的半开源的工具包，主要用于对深度推理做优化。\n",
    "* Openvino内部集成了Opencv、TensorFlow模块，除此之外它还具有强大的Plugin开发框架，允许开发者在Openvino之上对推理过程做优化。\n",
    "* Openvino整体框架为：Openvino前端→ Plugin中间层→ Backend后端\n",
    "*  Openvino的优点在于它屏蔽了后端接口，提供了统一操作的前端API，开发者可以无需关心后端的实现，例如后端可以是TensorFlow、Keras、ARM-NN，通过Plugin提供给前端接口调用，也就意味着一套代码在Openvino之上可以运行在多个推理引擎之上，Openvino像是类似聚合一样的开发包。\n",
    "*  git clone https://github.com/openvinotoolkit/openvino\n",
    "*  \n",
    "\n",
    "## get started\n",
    "\n",
    "* basic python example:\n",
    "  * https://github.com/openvino-dev-samples/YOLOv7_OpenVINO_cpp-python\n",
    "  * https://github.com/openvinotoolkit/openvino/tree/master/samples/python\n",
    "\n",
    "## Benchmark\n",
    "\n",
    "* https://docs.openvino.ai/2024/learn-openvino/openvino-samples/benchmark-tool.html\n",
    "\n",
    "## model zoos\n",
    "\n",
    "* [Open Model Zoo](https://github.com/openvinotoolkit/open_model_zoo/)\n",
    "* "
   ]
  }
 ],
 "metadata": {
  "language_info": {
   "name": "python"
  }
 },
 "nbformat": 4,
 "nbformat_minor": 2
}
