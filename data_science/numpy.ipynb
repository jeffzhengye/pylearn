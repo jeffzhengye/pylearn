{
 "cells": [
  {
   "cell_type": "markdown",
   "id": "d283702b-af93-4be7-ac93-c1084c60fc2f",
   "metadata": {},
   "source": [
    "# Basis"
   ]
  },
  {
   "cell_type": "markdown",
   "id": "9db38cb1-580b-4fad-8e56-00ca94f85288",
   "metadata": {},
   "source": [
    "## add a column"
   ]
  },
  {
   "cell_type": "code",
   "execution_count": 1,
   "id": "dceca60d-b804-4df1-8883-a920920b15a3",
   "metadata": {},
   "outputs": [],
   "source": [
    "import numpy as np\n",
    "N = 10\n",
    "a = np.random.rand(N, N)\n",
    "b = np.zeros((N, N+1))\n",
    "b[:, :-1] = a\n"
   ]
  },
  {
   "cell_type": "code",
   "execution_count": 2,
   "id": "74ed8153-d4b4-45c7-a5c9-f2041f02a9bf",
   "metadata": {},
   "outputs": [
    {
     "name": "stdout",
     "output_type": "stream",
     "text": [
      "4.17 µs ± 30.7 ns per loop (mean ± std. dev. of 7 runs, 100,000 loops each)\n",
      "1.06 µs ± 3.03 ns per loop (mean ± std. dev. of 7 runs, 1,000,000 loops each)\n"
     ]
    }
   ],
   "source": [
    "%timeit b = np.hstack((a,np.zeros((a.shape[0],1))))\n",
    "\n",
    "%timeit b = np.zeros((a.shape[0],a.shape[1]+1)); b[:,:-1] = a\n"
   ]
  },
  {
   "cell_type": "code",
   "execution_count": 5,
   "id": "51ebc363-2fec-4e00-b21f-f422c252f977",
   "metadata": {},
   "outputs": [
    {
     "data": {
      "text/plain": [
       "array([[0.02916295, 0.87899708, 0.81395871, 0.21538511, 0.64197281,\n",
       "        0.58383717, 0.06290201, 0.43130597, 0.07383595, 0.70287672,\n",
       "        0.        ],\n",
       "       [0.83659737, 0.68391684, 0.23613578, 0.77461555, 0.20492765,\n",
       "        0.75582207, 0.17991717, 0.74398712, 0.43116549, 0.57545911,\n",
       "        0.        ],\n",
       "       [0.44465171, 0.09492569, 0.04310519, 0.81412942, 0.52546005,\n",
       "        0.47538229, 0.29373988, 0.80104508, 0.27112389, 0.31419257,\n",
       "        0.        ],\n",
       "       [0.37581401, 0.70629913, 0.96582592, 0.927091  , 0.55186695,\n",
       "        0.63423822, 0.7913479 , 0.5905351 , 0.99477437, 0.48128527,\n",
       "        0.        ],\n",
       "       [0.48356148, 0.38283685, 0.43211902, 0.62945134, 0.13363901,\n",
       "        0.69609255, 0.19410702, 0.07033801, 0.38839862, 0.37334202,\n",
       "        0.        ],\n",
       "       [0.41534671, 0.89919983, 0.05261041, 0.32655715, 0.88714088,\n",
       "        0.52143346, 0.2305311 , 0.31443906, 0.13001226, 0.11326674,\n",
       "        0.        ],\n",
       "       [0.03376557, 0.36063834, 0.70846747, 0.87698505, 0.5234432 ,\n",
       "        0.62926857, 0.85275361, 0.60821456, 0.25865761, 0.36639825,\n",
       "        0.        ],\n",
       "       [0.44804352, 0.66149975, 0.55583895, 0.33154406, 0.44620518,\n",
       "        0.3655708 , 0.46617262, 0.40799665, 0.76657189, 0.17710998,\n",
       "        0.        ],\n",
       "       [0.60595297, 0.40168618, 0.55628215, 0.98944232, 0.68743778,\n",
       "        0.79182251, 0.60919494, 0.60281109, 0.73075151, 0.02130732,\n",
       "        0.        ],\n",
       "       [0.97963625, 0.74833224, 0.0459483 , 0.78884346, 0.84220511,\n",
       "        0.20895739, 0.2278875 , 0.25701537, 0.18205619, 0.80226336,\n",
       "        0.        ]])"
      ]
     },
     "execution_count": 5,
     "metadata": {},
     "output_type": "execute_result"
    }
   ],
   "source": [
    "b = np.hstack((a, np.zeros((a.shape[0], 1))))\n",
    "b"
   ]
  },
  {
   "cell_type": "markdown",
   "id": "aabe9379-8852-4e44-ac82-1a837e666761",
   "metadata": {},
   "source": [
    "## add a row"
   ]
  },
  {
   "cell_type": "code",
   "execution_count": 3,
   "id": "2b445f7f-6601-4101-8be3-fdf71c18e98a",
   "metadata": {},
   "outputs": [
    {
     "data": {
      "text/plain": [
       "array([[0, 1, 2],\n",
       "       [0, 2, 0],\n",
       "       [0, 1, 2],\n",
       "       [1, 2, 0],\n",
       "       [2, 1, 2]])"
      ]
     },
     "execution_count": 3,
     "metadata": {},
     "output_type": "execute_result"
    }
   ],
   "source": [
    "from numpy import array\n",
    "\n",
    "A = array([[0, 1, 2], [0, 2, 0]])\n",
    "X = array([[0, 1, 2], [1, 2, 0], [2, 1, 2], [3, 2, 0]])\n",
    "\n",
    "A = np.vstack((A, X[X[:,0] < 3]))\n",
    "A"
   ]
  },
  {
   "cell_type": "markdown",
   "id": "d2331025-a836-49db-a0b4-427235b130ac",
   "metadata": {},
   "source": [
    "## expand dims"
   ]
  },
  {
   "cell_type": "code",
   "execution_count": 5,
   "id": "70702b7f",
   "metadata": {},
   "outputs": [
    {
     "name": "stdout",
     "output_type": "stream",
     "text": [
      "[[1. 1. 1. 1.]\n",
      " [1. 1. 1. 1.]\n",
      " [1. 1. 1. 1.]] \n",
      " (3, 4, 1)\n"
     ]
    }
   ],
   "source": [
    "import numpy as np\n",
    "\n",
    "a = np.ones(shape=[3, 4])\n",
    "\n",
    "print(a, \"\\n\", np.expand_dims(a, axis=-1).shape)"
   ]
  },
  {
   "cell_type": "markdown",
   "id": "92feb96b-0ccf-4de4-85c8-8908bb9dc193",
   "metadata": {},
   "source": [
    "# concatenate"
   ]
  },
  {
   "cell_type": "code",
   "execution_count": 2,
   "id": "04123836-7949-4854-a545-64748be2a6bd",
   "metadata": {},
   "outputs": [
    {
     "data": {
      "text/plain": [
       "array([[1, 2],\n",
       "       [5, 6]])"
      ]
     },
     "execution_count": 2,
     "metadata": {},
     "output_type": "execute_result"
    }
   ],
   "source": [
    "a = np.array([1, 2])\n",
    "b = np.array([5, 6])\n",
    "np.concatenate((a, b), axis=0)\n",
    "np.vstack([a, b])"
   ]
  },
  {
   "cell_type": "code",
   "execution_count": 5,
   "id": "ff2f6705-1bc4-4e0b-8fa9-8143718acbc9",
   "metadata": {},
   "outputs": [
    {
     "data": {
      "text/plain": [
       "array([1., 2.])"
      ]
     },
     "execution_count": 5,
     "metadata": {},
     "output_type": "execute_result"
    }
   ],
   "source": [
    "c = np.array([])\n",
    "np.append(c, a)"
   ]
  },
  {
   "cell_type": "markdown",
   "id": "ecf5432d-89d4-46a4-b918-b5ac0c853f2b",
   "metadata": {},
   "source": [
    "# linearspace"
   ]
  },
  {
   "cell_type": "code",
   "execution_count": 1,
   "id": "7562c46d",
   "metadata": {},
   "outputs": [
    {
     "data": {
      "text/plain": [
       "array([ 1. ,  5.5, 10. ])"
      ]
     },
     "execution_count": 1,
     "metadata": {},
     "output_type": "execute_result"
    }
   ],
   "source": [
    "import numpy as np\n",
    "np.linspace(1, 10, num=3)"
   ]
  },
  {
   "cell_type": "code",
   "execution_count": null,
   "id": "e713c8cc",
   "metadata": {},
   "outputs": [],
   "source": []
  }
 ],
 "metadata": {
  "kernelspec": {
   "display_name": "py38",
   "language": "python",
   "name": "python3"
  },
  "language_info": {
   "codemirror_mode": {
    "name": "ipython",
    "version": 3
   },
   "file_extension": ".py",
   "mimetype": "text/x-python",
   "name": "python",
   "nbconvert_exporter": "python",
   "pygments_lexer": "ipython3",
   "version": "3.8.16"
  },
  "widgets": {
   "application/vnd.jupyter.widget-state+json": {
    "state": {},
    "version_major": 2,
    "version_minor": 0
   }
  }
 },
 "nbformat": 4,
 "nbformat_minor": 5
}
