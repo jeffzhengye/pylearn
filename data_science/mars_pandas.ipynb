{
 "cells": [
  {
   "cell_type": "markdown",
   "metadata": {},
   "source": [
    "# Mars\n",
    "\n",
    "* 继承了NumPy和Pandas的简洁语法，还能轻松应对TB级数据处理\n",
    "* \"懒执行\"模式\n",
    "* Mars内置GPU支持;自动优化CPU和GPU之间的数据传输;支持多GPU并行计算\n",
    "* 支持全量数据可视化，无需采样\n",
    "* 与Scikit-learn、XGBoost等机器学习库无缝集成\n",
    "* https://github.com/mars-project/mars"
   ]
  },
  {
   "cell_type": "markdown",
   "metadata": {},
   "source": []
  }
 ],
 "metadata": {
  "language_info": {
   "name": "python"
  }
 },
 "nbformat": 4,
 "nbformat_minor": 2
}
