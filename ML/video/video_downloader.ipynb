{
 "cells": [
  {
   "cell_type": "markdown",
   "metadata": {},
   "source": [
    "# WeChatVideoDownloader 微信video下载\n",
    "\n",
    "* https://github.com/lecepin/WeChatVideoDownloader/releases\n",
    "\n",
    "\n",
    "# Hitomi-Downloader\n",
    "\n",
    "* https://github.com/KurtBestor/Hitomi-Downloader\n",
    "* 已经验证：bilibili\n",
    "\n",
    "# youtube-dl\n",
    "\n",
    "## supported sites:\n",
    "* https://ytdl-org.github.io/youtube-dl/supportedsites.html\n",
    "\n",
    "\n",
    "# you-dl\n",
    "* https://github.com/soimort/you-get#supported-sites\n",
    "\n",
    "# lux\n",
    "\n",
    "* irm -useb get.scoop.sh -Proxy 'http://192.168.1.45:10809' | iex"
   ]
  }
 ],
 "metadata": {
  "language_info": {
   "name": "python"
  },
  "orig_nbformat": 4
 },
 "nbformat": 4,
 "nbformat_minor": 2
}
