{
 "cells": [
  {
   "cell_type": "markdown",
   "metadata": {},
   "source": [
    "# algorithms\n",
    "\n",
    "## pose_estimation\n",
    "\n",
    "* https://github.com/mystic123/ml_playground/blob/main/posts_code/pose_estimation_1/pose_estimation.ipynb\n",
    "* 使用DTW（Dynamic Time Warping）算法进行姿态估计。"
   ]
  }
 ],
 "metadata": {
  "language_info": {
   "name": "python"
  }
 },
 "nbformat": 4,
 "nbformat_minor": 2
}
