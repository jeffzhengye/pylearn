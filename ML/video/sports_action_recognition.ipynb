{
 "cells": [
  {
   "cell_type": "markdown",
   "metadata": {},
   "source": [
    "# algorithms\n",
    "\n",
    "## pose_estimation\n",
    "\n",
    "* https://github.com/mystic123/ml_playground/blob/main/posts_code/pose_estimation_1/pose_estimation.ipynb\n",
    "* 使用DTW（Dynamic Time Warping）算法进行姿态估计。\n",
    "\n",
    "## RepNet\n",
    "\n",
    "* https://colab.research.google.com/github/google-research/google-research/blob/master/repnet/repnet_colab.ipynb#scrollTo=Y0iMnWR_nk9E\n",
    "* https://sites.google.com/view/repnet\n",
    "* https://github.com/Bouclas/Repetitive-Action-Recognition?tab=readme-ov-file\n",
    "* 提供数据集，是action agnostic的，也就是说不关注是哪个动作，只关注动作的重复次数。\n",
    "* 提供了一个baseline，使用了一个简单的卷积神经网络，输入是一帧图像，输出是一个向量，向量的长度是动作的类别数，向量的每个元素表示该动作的置信度。\n",
    "* 提供了一个训练脚本，使用了DTW算法进行训练。\n",
    "\n",
    "\n",
    "## TransRAC\n",
    "\n",
    "* https://github.com/SvipRepetitionCounting/TransRAC\n",
    "\n",
    "# projects\n",
    "\n",
    "## PoseRAC\n",
    "\n",
    "* https://github.com/MiracleDance/PoseRAC\n",
    "\n",
    "## bodyfitnesscounter\n",
    "\n",
    "* git@gitee.com:lingxipaofan/bodyfitnesscounter.git\n",
    "\n"
   ]
  }
 ],
 "metadata": {
  "language_info": {
   "name": "python"
  }
 },
 "nbformat": 4,
 "nbformat_minor": 2
}
