{
 "cells": [
  {
   "cell_type": "markdown",
   "metadata": {},
   "source": [
    "# tutorial\n",
    "\n",
    "* [官方教程](https://modelscope.cn/docs/%E9%A6%96%E9%A1%B5)\n",
    "* "
   ]
  },
  {
   "cell_type": "code",
   "execution_count": null,
   "metadata": {},
   "outputs": [],
   "source": [
    "from modelscope.pipelines import pipeline\n",
    "\n",
    "word_segmentation = pipeline('word-segmentation')\n",
    "\n",
    "word_segmentation"
   ]
  },
  {
   "cell_type": "code",
   "execution_count": null,
   "metadata": {},
   "outputs": [],
   "source": [
    "from modelscope.utils.constant import Tasks\n",
    "\n",
    "Tasks.image_classification"
   ]
  },
  {
   "cell_type": "markdown",
   "metadata": {},
   "source": [
    "# Dash - 阿里在线api\n",
    "\n",
    "* https://github.com/dashscope/dash-cookbook\n",
    "\n",
    "## DashScope\n",
    "\n",
    "* provide the efficient API services backed by the state-of-the-art models in different areas, including LLM, text-to-image, embedding, text-to-speech etc. Visit the [official DashScope](https://dashscope.aliyun.com/) website for a complete list of models supported.\n",
    "\n",
    "\n",
    "## ModelStudio\n",
    "\n",
    "* ModelStudio(百炼) is a one-stop large-scale model development platform based on DashScope API services. It provides complete model service tools and full-chain application development kits for enterprise customers and individual developers, pre-installing rich capability plugins, providing convenient integration methods such as RAG and Assistant API, and efficiently completing the construction of large-scale model applications.\n",
    "\n",
    "## DashVector\n",
    "\n",
    "* is a fully-managed vectorDB service that supports high-dimension dense and sparse vectors, real-time insertion and filtered search. It is built to scale automatically and can adapt to different application requirements. It is currently integrated into 🦜️🔗LangChain as well."
   ]
  }
 ],
 "metadata": {
  "kernelspec": {
   "display_name": "py10",
   "language": "python",
   "name": "python3"
  },
  "language_info": {
   "codemirror_mode": {
    "name": "ipython",
    "version": 3
   },
   "file_extension": ".py",
   "mimetype": "text/x-python",
   "name": "python",
   "nbconvert_exporter": "python",
   "pygments_lexer": "ipython3",
   "version": "3.10.8"
  }
 },
 "nbformat": 4,
 "nbformat_minor": 2
}
