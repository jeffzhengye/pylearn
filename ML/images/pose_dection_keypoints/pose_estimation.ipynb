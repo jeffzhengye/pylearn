{
 "cells": [
  {
   "cell_type": "markdown",
   "metadata": {},
   "source": [
    "# DeepLabCut\n",
    "\n",
    "* Markerless object detection: 2D, 3D\n",
    "* Markerless pose estimation of user-defined features with deep learning for __all animals incl. humans__\n",
    "* https://github.com/DeepLabCut/DeepLabCut/tree/pytorch_docs\n",
    "\n",
    "\n",
    "# DeepPoseKit \n",
    "\n",
    "* old, tensorflow, keras\n",
    "* https://github.com/jgraving/DeepPoseKit\n",
    "\n",
    "# AlphaPose\n",
    "\n",
    "* Real-Time and Accurate Full-Body Multi-Person Pose Estimation&Tracking System\n",
    "* https://github.com/MVIG-SJTU/AlphaPose\n",
    "\n",
    "# mmpose\n",
    "\n",
    "* OpenMMLab Pose Estimation Toolbox and Benchmark.\n",
    "* https://github.com/open-mmlab/mmpose/tree/main  6.9k stars\n",
    "* "
   ]
  },
  {
   "cell_type": "markdown",
   "metadata": {},
   "source": [
    "# Tracking \n",
    "\n",
    "## boxmot\n",
    "\n",
    "* https://github.com/mikel-brostrom/boxmot\n",
    "* yolov8-pose\n",
    "* BoxMOT: pluggable SOTA tracking modules for segmentation, object detection and pose estimation models"
   ]
  }
 ],
 "metadata": {
  "language_info": {
   "name": "python"
  }
 },
 "nbformat": 4,
 "nbformat_minor": 2
}
