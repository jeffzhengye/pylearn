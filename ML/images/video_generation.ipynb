{
 "cells": [
  {
   "cell_type": "markdown",
   "metadata": {},
   "source": [
    "# tools\n",
    "\n",
    "## awesome-video-generation\n",
    "\n",
    "* https://github.com/AlonzoLeeeooo/awesome-video-generation\n",
    "\n",
    "## DiffSynth-Studio\n",
    "\n",
    "* https://github.com/modelscope/DiffSynth-Studio\n",
    "* Enjoy the magic of Diffusion models!\n",
    "* https://github.com/modelscope/DiffSynth-Studio/tree/main/examples\n",
    "* https://github.com/camenduru/Diffutoon-jupyter/tree/main\n",
    "\n",
    "## comfyui\n",
    "\n",
    "* \n",
    "\n",
    "## FunClip\n",
    "\n",
    "* https://github.com/alibaba-damo-academy/FunClip\n",
    "* 自动化视频剪辑工具，通过调用阿里巴巴通义实验室开源的FunASR Paraformer系列模型进行视频的语音识别，随后用户可以自由选择识别结果中的片段\n",
    "\n",
    "## MuseTalk\n",
    "\n",
    "* MuseTalk: Real-Time High Quality Lip Synchronization with Latent Space Inpainting\n",
    "* 效果非常不错，但是无training code.\n",
    "\n"
   ]
  },
  {
   "cell_type": "markdown",
   "metadata": {},
   "source": [
    "# other tools for aigc\n",
    "\n",
    "* https://github.com/lcomplete/huntly\n",
    "* https://github.com/rotemweiss57/gpt-newspaper\n",
    "* [一个神器]Google搜索 + GPT + 用户查询生成博客文章"
   ]
  }
 ],
 "metadata": {
  "language_info": {
   "name": "python"
  }
 },
 "nbformat": 4,
 "nbformat_minor": 2
}
