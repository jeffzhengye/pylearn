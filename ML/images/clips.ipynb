{
 "cells": [
  {
   "cell_type": "markdown",
   "metadata": {},
   "source": [
    "# modelscope"
   ]
  },
  {
   "cell_type": "markdown",
   "metadata": {},
   "source": [
    "## clip requirements\n",
    "\n",
    "* datasets-2.18.0\n",
    "* modelscope 1.13.3"
   ]
  },
  {
   "cell_type": "code",
   "execution_count": null,
   "metadata": {},
   "outputs": [],
   "source": [
    "# require modelscope>=0.3.7，目前默认已经超过，您检查一下即可\n",
    "# 按照更新镜像的方法处理或者下面的方法\n",
    "# pip install --upgrade modelscope -f https://modelscope.oss-cn-beijing.aliyuncs.com/releases/repo.html\n",
    "# 需要单独安装decord，安装方法：pip install decord\n",
    "# https://modelscope.cn/models/damo/multi-modal_clip-vit-large-patch14_336_zh/summary\n",
    "\n",
    "import torch\n",
    "from modelscope.utils.constant import Tasks\n",
    "from modelscope.pipelines import pipeline\n",
    "from modelscope.preprocessors.image import load_image\n",
    "\n",
    "pipeline = pipeline(task=Tasks.multi_modal_embedding,\n",
    "    model='damo/multi-modal_clip-vit-large-patch14_336_zh', model_revision='v1.0.1')\n",
    "input_img = load_image('https://clip-cn-beijing.oss-cn-beijing.aliyuncs.com/pokemon.jpeg') # 支持皮卡丘示例图片路径/本地图片 返回PIL.Image\n",
    "input_texts = [\"杰尼龟\", \"妙蛙种子\", \"小火龙\", \"皮卡丘\"]\n",
    "\n",
    "# 支持一张图片(PIL.Image)或多张图片(List[PIL.Image])输入，输出归一化特征向量\n",
    "img_embedding = pipeline.forward({'img': input_img})['img_embedding'] # 2D Tensor, [图片数, 特征维度]\n",
    "\n",
    "# 支持一条文本(str)或多条文本(List[str])输入，输出归一化特征向量\n",
    "text_embedding = pipeline.forward({'text': input_texts})['text_embedding'] # 2D Tensor, [文本数, 特征维度]\n",
    "\n",
    "# 计算图文相似度\n",
    "with torch.no_grad():\n",
    "    # 计算内积得到logit，考虑模型temperature\n",
    "    logits_per_image = (img_embedding / pipeline.model.temperature) @ text_embedding.t()\n",
    "    # 根据logit计算概率分布\n",
    "    probs = logits_per_image.softmax(dim=-1).cpu().numpy()\n",
    "\n",
    "print(\"图文匹配概率:\", probs)"
   ]
  },
  {
   "cell_type": "code",
   "execution_count": 3,
   "metadata": {},
   "outputs": [
    {
     "name": "stderr",
     "output_type": "stream",
     "text": [
      "2023-10-13 14:47:05,033 - modelscope - INFO - Use user-specified model revision: v1.0.1\n",
      "2023-10-13 14:47:05,300 - modelscope - INFO - initiate model from C:\\Users\\73915\\.cache\\modelscope\\hub\\damo\\multi-modal_clip-vit-large-patch14_336_zh\n",
      "2023-10-13 14:47:05,301 - modelscope - INFO - initiate model from location C:\\Users\\73915\\.cache\\modelscope\\hub\\damo\\multi-modal_clip-vit-large-patch14_336_zh.\n",
      "2023-10-13 14:47:05,305 - modelscope - INFO - initialize model from C:\\Users\\73915\\.cache\\modelscope\\hub\\damo\\multi-modal_clip-vit-large-patch14_336_zh\n",
      "2023-10-13 14:47:05,309 - modelscope - INFO - Loading vision model config from C:\\Users\\73915\\.cache\\modelscope\\hub\\damo\\multi-modal_clip-vit-large-patch14_336_zh/vision_model_config.json\n",
      "2023-10-13 14:47:05,310 - modelscope - INFO - Loading text model config from C:\\Users\\73915\\.cache\\modelscope\\hub\\damo\\multi-modal_clip-vit-large-patch14_336_zh/text_model_config.json\n",
      "2023-10-13 14:47:12,082 - modelscope - INFO - Use GPU 0 for finetuning & inference\n",
      "2023-10-13 14:47:12,256 - modelscope - WARNING - No preprocessor field found in cfg.\n",
      "2023-10-13 14:47:12,257 - modelscope - WARNING - No val key and type key found in preprocessor domain of configuration.json file.\n",
      "2023-10-13 14:47:12,258 - modelscope - WARNING - Cannot find available config to build preprocessor at mode inference, current config: {'model_dir': 'C:\\\\Users\\\\73915\\\\.cache\\\\modelscope\\\\hub\\\\damo\\\\multi-modal_clip-vit-large-patch14_336_zh'}. trying to build by task and model information.\n",
      "2023-10-13 14:47:12,259 - modelscope - WARNING - No preprocessor key ('clip-multi-modal-embedding', 'multi-modal-embedding') found in PREPROCESSOR_MAP, skip building preprocessor.\n"
     ]
    },
    {
     "name": "stdout",
     "output_type": "stream",
     "text": [
      "图文匹配概率: [[0.02373  0.02194  0.006588 0.9478  ]]\n"
     ]
    }
   ],
   "source": [
    "# require modelscope>=0.3.7，目前默认已经超过，您检查一下即可\n",
    "# 按照更新镜像的方法处理或者下面的方法\n",
    "# pip install --upgrade modelscope -f https://modelscope.oss-cn-beijing.aliyuncs.com/releases/repo.html\n",
    "# 需要单独安装decord，安装方法：pip install decord\n",
    "import torch\n",
    "from modelscope.utils.constant import Tasks\n",
    "from modelscope.pipelines import pipeline\n",
    "from modelscope.preprocessors.image import load_image\n",
    "\n",
    "pipeline = pipeline(task=Tasks.multi_modal_embedding,\n",
    "    model='damo/multi-modal_clip-vit-large-patch14_336_zh', model_revision='v1.0.1')\n",
    "input_img = load_image('https://clip-cn-beijing.oss-cn-beijing.aliyuncs.com/pokemon.jpeg') # 支持皮卡丘示例图片路径/本地图片 返回PIL.Image\n",
    "input_texts = [\"杰尼龟\", \"妙蛙种子\", \"小火龙\", \"皮卡丘\"]\n",
    "\n",
    "# 支持一张图片(PIL.Image)或多张图片(List[PIL.Image])输入，输出归一化特征向量\n",
    "img_embedding = pipeline.forward({'img': input_img})['img_embedding'] # 2D Tensor, [图片数, 特征维度]\n",
    "\n",
    "# 支持一条文本(str)或多条文本(List[str])输入，输出归一化特征向量\n",
    "text_embedding = pipeline.forward({'text': input_texts})['text_embedding'] # 2D Tensor, [文本数, 特征维度]\n",
    "\n",
    "# 计算图文相似度\n",
    "with torch.no_grad():\n",
    "    # 计算内积得到logit，考虑模型temperature\n",
    "    logits_per_image = (img_embedding / pipeline.model.temperature) @ text_embedding.t()\n",
    "    # 根据logit计算概率分布\n",
    "    probs = logits_per_image.softmax(dim=-1).cpu().numpy()\n",
    "\n",
    "print(\"图文匹配概率:\", probs)"
   ]
  },
  {
   "cell_type": "code",
   "execution_count": 1,
   "metadata": {},
   "outputs": [
    {
     "name": "stderr",
     "output_type": "stream",
     "text": [
      "2024-04-09 17:28:37,736 - modelscope - INFO - PyTorch version 2.1.0+cu118 Found.\n",
      "2024-04-09 17:28:37,745 - modelscope - INFO - TensorFlow version 2.13.0 Found.\n",
      "2024-04-09 17:28:37,746 - modelscope - INFO - Loading ast index from C:\\Users\\73915\\.cache\\modelscope\\ast_indexer\n",
      "2024-04-09 17:28:37,948 - modelscope - INFO - Loading done! Current index file version is 1.13.3, with md5 194cec17eea0139e9a61d6b8aa235d4a and a total number of 972 components indexed\n"
     ]
    },
    {
     "ename": "ModuleNotFoundError",
     "evalue": "No module named 'datasets.exceptions'",
     "output_type": "error",
     "traceback": [
      "\u001b[1;31m---------------------------------------------------------------------------\u001b[0m",
      "\u001b[1;31mModuleNotFoundError\u001b[0m                       Traceback (most recent call last)",
      "Cell \u001b[1;32mIn[1], line 7\u001b[0m\n\u001b[0;32m      5\u001b[0m \u001b[38;5;28;01mimport\u001b[39;00m \u001b[38;5;21;01mtorch\u001b[39;00m\n\u001b[0;32m      6\u001b[0m \u001b[38;5;28;01mfrom\u001b[39;00m \u001b[38;5;21;01mmodelscope\u001b[39;00m\u001b[38;5;21;01m.\u001b[39;00m\u001b[38;5;21;01mutils\u001b[39;00m\u001b[38;5;21;01m.\u001b[39;00m\u001b[38;5;21;01mconstant\u001b[39;00m \u001b[38;5;28;01mimport\u001b[39;00m Tasks\n\u001b[1;32m----> 7\u001b[0m \u001b[38;5;28;01mfrom\u001b[39;00m \u001b[38;5;21;01mmodelscope\u001b[39;00m\u001b[38;5;21;01m.\u001b[39;00m\u001b[38;5;21;01mpipelines\u001b[39;00m \u001b[38;5;28;01mimport\u001b[39;00m pipeline\n\u001b[0;32m      8\u001b[0m \u001b[38;5;28;01mfrom\u001b[39;00m \u001b[38;5;21;01mmodelscope\u001b[39;00m\u001b[38;5;21;01m.\u001b[39;00m\u001b[38;5;21;01mpreprocessors\u001b[39;00m\u001b[38;5;21;01m.\u001b[39;00m\u001b[38;5;21;01mimage\u001b[39;00m \u001b[38;5;28;01mimport\u001b[39;00m load_image\n\u001b[0;32m     10\u001b[0m pipeline \u001b[38;5;241m=\u001b[39m pipeline(task\u001b[38;5;241m=\u001b[39mTasks\u001b[38;5;241m.\u001b[39mmulti_modal_embedding,\n\u001b[0;32m     11\u001b[0m     model\u001b[38;5;241m=\u001b[39m\u001b[38;5;124m'\u001b[39m\u001b[38;5;124mdamo/multi-modal_clip-vit-huge-patch14_zh\u001b[39m\u001b[38;5;124m'\u001b[39m, model_revision\u001b[38;5;241m=\u001b[39m\u001b[38;5;124m'\u001b[39m\u001b[38;5;124mv1.0.0\u001b[39m\u001b[38;5;124m'\u001b[39m)\n",
      "File \u001b[1;32mc:\\Users\\73915\\.conda\\envs\\py10\\lib\\site-packages\\modelscope\\pipelines\\__init__.py:4\u001b[0m\n\u001b[0;32m      1\u001b[0m \u001b[38;5;66;03m# Copyright (c) Alibaba, Inc. and its affiliates.\u001b[39;00m\n\u001b[0;32m      3\u001b[0m \u001b[38;5;28;01mfrom\u001b[39;00m \u001b[38;5;21;01m.\u001b[39;00m \u001b[38;5;28;01mimport\u001b[39;00m audio, cv, multi_modal, nlp\n\u001b[1;32m----> 4\u001b[0m \u001b[38;5;28;01mfrom\u001b[39;00m \u001b[38;5;21;01m.\u001b[39;00m\u001b[38;5;21;01mbase\u001b[39;00m \u001b[38;5;28;01mimport\u001b[39;00m Pipeline\n\u001b[0;32m      5\u001b[0m \u001b[38;5;28;01mfrom\u001b[39;00m \u001b[38;5;21;01m.\u001b[39;00m\u001b[38;5;21;01mbuilder\u001b[39;00m \u001b[38;5;28;01mimport\u001b[39;00m pipeline\n",
      "File \u001b[1;32mc:\\Users\\73915\\.conda\\envs\\py10\\lib\\site-packages\\modelscope\\pipelines\\base.py:16\u001b[0m\n\u001b[0;32m     13\u001b[0m \u001b[38;5;28;01mfrom\u001b[39;00m \u001b[38;5;21;01mpackaging\u001b[39;00m \u001b[38;5;28;01mimport\u001b[39;00m version\n\u001b[0;32m     15\u001b[0m \u001b[38;5;28;01mfrom\u001b[39;00m \u001b[38;5;21;01mmodelscope\u001b[39;00m\u001b[38;5;21;01m.\u001b[39;00m\u001b[38;5;21;01mmodels\u001b[39;00m\u001b[38;5;21;01m.\u001b[39;00m\u001b[38;5;21;01mbase\u001b[39;00m \u001b[38;5;28;01mimport\u001b[39;00m Model\n\u001b[1;32m---> 16\u001b[0m \u001b[38;5;28;01mfrom\u001b[39;00m \u001b[38;5;21;01mmodelscope\u001b[39;00m\u001b[38;5;21;01m.\u001b[39;00m\u001b[38;5;21;01mmsdatasets\u001b[39;00m \u001b[38;5;28;01mimport\u001b[39;00m MsDataset\n\u001b[0;32m     17\u001b[0m \u001b[38;5;28;01mfrom\u001b[39;00m \u001b[38;5;21;01mmodelscope\u001b[39;00m\u001b[38;5;21;01m.\u001b[39;00m\u001b[38;5;21;01moutputs\u001b[39;00m \u001b[38;5;28;01mimport\u001b[39;00m TASK_OUTPUTS, ModelOutputBase\n\u001b[0;32m     18\u001b[0m \u001b[38;5;28;01mfrom\u001b[39;00m \u001b[38;5;21;01mmodelscope\u001b[39;00m\u001b[38;5;21;01m.\u001b[39;00m\u001b[38;5;21;01mpipeline_inputs\u001b[39;00m \u001b[38;5;28;01mimport\u001b[39;00m TASK_INPUTS, check_input_type\n",
      "File \u001b[1;32mc:\\Users\\73915\\.conda\\envs\\py10\\lib\\site-packages\\modelscope\\msdatasets\\__init__.py:2\u001b[0m\n\u001b[0;32m      1\u001b[0m \u001b[38;5;66;03m# Copyright (c) Alibaba, Inc. and its affiliates.\u001b[39;00m\n\u001b[1;32m----> 2\u001b[0m \u001b[38;5;28;01mfrom\u001b[39;00m \u001b[38;5;21;01m.\u001b[39;00m\u001b[38;5;21;01mms_dataset\u001b[39;00m \u001b[38;5;28;01mimport\u001b[39;00m MsDataset\n",
      "File \u001b[1;32mc:\\Users\\73915\\.conda\\envs\\py10\\lib\\site-packages\\modelscope\\msdatasets\\ms_dataset.py:24\u001b[0m\n\u001b[0;32m     21\u001b[0m \u001b[38;5;28;01mfrom\u001b[39;00m \u001b[38;5;21;01mmodelscope\u001b[39;00m\u001b[38;5;21;01m.\u001b[39;00m\u001b[38;5;21;01mmsdatasets\u001b[39;00m\u001b[38;5;21;01m.\u001b[39;00m\u001b[38;5;21;01mdataset_cls\u001b[39;00m\u001b[38;5;21;01m.\u001b[39;00m\u001b[38;5;21;01mcustom_datasets\u001b[39;00m\u001b[38;5;21;01m.\u001b[39;00m\u001b[38;5;21;01mbuilder\u001b[39;00m \u001b[38;5;28;01mimport\u001b[39;00m \\\n\u001b[0;32m     22\u001b[0m     build_custom_dataset\n\u001b[0;32m     23\u001b[0m \u001b[38;5;28;01mfrom\u001b[39;00m \u001b[38;5;21;01mmodelscope\u001b[39;00m\u001b[38;5;21;01m.\u001b[39;00m\u001b[38;5;21;01mmsdatasets\u001b[39;00m\u001b[38;5;21;01m.\u001b[39;00m\u001b[38;5;21;01mutils\u001b[39;00m\u001b[38;5;21;01m.\u001b[39;00m\u001b[38;5;21;01mdelete_utils\u001b[39;00m \u001b[38;5;28;01mimport\u001b[39;00m DatasetDeleteManager\n\u001b[1;32m---> 24\u001b[0m \u001b[38;5;28;01mfrom\u001b[39;00m \u001b[38;5;21;01mmodelscope\u001b[39;00m\u001b[38;5;21;01m.\u001b[39;00m\u001b[38;5;21;01mmsdatasets\u001b[39;00m\u001b[38;5;21;01m.\u001b[39;00m\u001b[38;5;21;01mutils\u001b[39;00m\u001b[38;5;21;01m.\u001b[39;00m\u001b[38;5;21;01mhf_datasets_util\u001b[39;00m \u001b[38;5;28;01mimport\u001b[39;00m \\\n\u001b[0;32m     25\u001b[0m     load_dataset \u001b[38;5;28;01mas\u001b[39;00m hf_load_dataset_wrapper\n\u001b[0;32m     26\u001b[0m \u001b[38;5;28;01mfrom\u001b[39;00m \u001b[38;5;21;01mmodelscope\u001b[39;00m\u001b[38;5;21;01m.\u001b[39;00m\u001b[38;5;21;01mmsdatasets\u001b[39;00m\u001b[38;5;21;01m.\u001b[39;00m\u001b[38;5;21;01mutils\u001b[39;00m\u001b[38;5;21;01m.\u001b[39;00m\u001b[38;5;21;01mupload_utils\u001b[39;00m \u001b[38;5;28;01mimport\u001b[39;00m DatasetUploadManager\n\u001b[0;32m     27\u001b[0m \u001b[38;5;28;01mfrom\u001b[39;00m \u001b[38;5;21;01mmodelscope\u001b[39;00m\u001b[38;5;21;01m.\u001b[39;00m\u001b[38;5;21;01mpreprocessors\u001b[39;00m \u001b[38;5;28;01mimport\u001b[39;00m build_preprocessor\n",
      "File \u001b[1;32mc:\\Users\\73915\\.conda\\envs\\py10\\lib\\site-packages\\modelscope\\msdatasets\\utils\\hf_datasets_util.py:24\u001b[0m\n\u001b[0;32m     18\u001b[0m \u001b[38;5;28;01mfrom\u001b[39;00m \u001b[38;5;21;01mdatasets\u001b[39;00m\u001b[38;5;21;01m.\u001b[39;00m\u001b[38;5;21;01mdata_files\u001b[39;00m \u001b[38;5;28;01mimport\u001b[39;00m (\n\u001b[0;32m     19\u001b[0m     FILES_TO_IGNORE, DataFilesDict, DataFilesList, EmptyDatasetError,\n\u001b[0;32m     20\u001b[0m     _get_data_files_patterns, _is_inside_unrequested_special_dir,\n\u001b[0;32m     21\u001b[0m     _is_unrequested_hidden_file_or_is_inside_unrequested_hidden_dir, get_metadata_patterns, sanitize_patterns)\n\u001b[0;32m     22\u001b[0m \u001b[38;5;28;01mfrom\u001b[39;00m \u001b[38;5;21;01mdatasets\u001b[39;00m\u001b[38;5;21;01m.\u001b[39;00m\u001b[38;5;21;01mdownload\u001b[39;00m\u001b[38;5;21;01m.\u001b[39;00m\u001b[38;5;21;01mstreaming_download_manager\u001b[39;00m \u001b[38;5;28;01mimport\u001b[39;00m (\n\u001b[0;32m     23\u001b[0m     _prepare_path_and_storage_options, xbasename, xjoin)\n\u001b[1;32m---> 24\u001b[0m \u001b[38;5;28;01mfrom\u001b[39;00m \u001b[38;5;21;01mdatasets\u001b[39;00m\u001b[38;5;21;01m.\u001b[39;00m\u001b[38;5;21;01mexceptions\u001b[39;00m \u001b[38;5;28;01mimport\u001b[39;00m DataFilesNotFoundError, DatasetNotFoundError\n\u001b[0;32m     25\u001b[0m \u001b[38;5;28;01mfrom\u001b[39;00m \u001b[38;5;21;01mdatasets\u001b[39;00m\u001b[38;5;21;01m.\u001b[39;00m\u001b[38;5;21;01minfo\u001b[39;00m \u001b[38;5;28;01mimport\u001b[39;00m DatasetInfosDict\n\u001b[0;32m     26\u001b[0m \u001b[38;5;28;01mfrom\u001b[39;00m \u001b[38;5;21;01mdatasets\u001b[39;00m\u001b[38;5;21;01m.\u001b[39;00m\u001b[38;5;21;01mload\u001b[39;00m \u001b[38;5;28;01mimport\u001b[39;00m (\n\u001b[0;32m     27\u001b[0m     ALL_ALLOWED_EXTENSIONS, BuilderConfigsParameters,\n\u001b[0;32m     28\u001b[0m     CachedDatasetModuleFactory, DatasetModule,\n\u001b[1;32m   (...)\u001b[0m\n\u001b[0;32m     35\u001b[0m     _get_importable_file_path, resolve_trust_remote_code, _create_importable_file, _load_importable_file,\n\u001b[0;32m     36\u001b[0m     init_dynamic_modules)\n",
      "\u001b[1;31mModuleNotFoundError\u001b[0m: No module named 'datasets.exceptions'"
     ]
    }
   ],
   "source": [
    "# require modelscope>=0.3.7，目前默认已经超过，您检查一下即可\n",
    "# 按照更新镜像的方法处理或者下面的方法\n",
    "# pip install --upgrade modelscope -f https://modelscope.oss-cn-beijing.aliyuncs.com/releases/repo.html\n",
    "# 需要单独安装decord，安装方法：pip install decord\n",
    "import torch\n",
    "from modelscope.utils.constant import Tasks\n",
    "from modelscope.pipelines import pipeline\n",
    "from modelscope.preprocessors.image import load_image\n",
    "\n",
    "pipeline = pipeline(task=Tasks.multi_modal_embedding,\n",
    "    model='damo/multi-modal_clip-vit-huge-patch14_zh', model_revision='v1.0.0')\n",
    "input_img = load_image('https://clip-cn-beijing.oss-cn-beijing.aliyuncs.com/pokemon.jpeg') # 支持皮卡丘示例图片路径/本地图片 返回PIL.Image\n",
    "input_texts = [\"杰尼龟\", \"妙蛙种子\", \"小火龙\", \"皮卡丘\"]\n",
    "\n",
    "# 支持一张图片(PIL.Image)或多张图片(List[PIL.Image])输入，输出归一化特征向量\n",
    "img_embedding = pipeline.forward({'img': input_img})['img_embedding'] # 2D Tensor, [图片数, 特征维度]\n",
    "\n",
    "# 支持一条文本(str)或多条文本(List[str])输入，输出归一化特征向量\n",
    "text_embedding = pipeline.forward({'text': input_texts})['text_embedding'] # 2D Tensor, [文本数, 特征维度]\n",
    "\n",
    "# 计算图文相似度\n",
    "with torch.no_grad():\n",
    "    # 计算内积得到logit，考虑模型temperature\n",
    "    logits_per_image = (img_embedding / pipeline.model.temperature) @ text_embedding.t()\n",
    "    # 根据logit计算概率分布\n",
    "    probs = logits_per_image.softmax(dim=-1).cpu().numpy()\n",
    "\n",
    "print(\"图文匹配概率:\", probs)"
   ]
  },
  {
   "cell_type": "markdown",
   "metadata": {},
   "source": [
    "## en"
   ]
  },
  {
   "cell_type": "code",
   "execution_count": 5,
   "metadata": {},
   "outputs": [
    {
     "name": "stderr",
     "output_type": "stream",
     "text": [
      "2023-10-13 15:04:25,805 - modelscope - INFO - Model revision not specified, use revision: v1.0.0\n",
      "Downloading: 100%|██████████| 276/276 [00:00<00:00, 36.8kB/s]\n",
      "Downloading: 100%|██████████| 220/220 [00:00<00:00, 29.2kB/s]\n",
      "Downloading: 100%|██████████| 703/703 [00:00<00:00, 93.6kB/s]\n",
      "Downloading: 100%|██████████| 644/644 [00:00<00:00, 98.9kB/s]\n",
      "Downloading: 100%|██████████| 1.28k/1.28k [00:00<00:00, 202kB/s]\n",
      "Downloading: 100%|██████████| 213k/213k [00:00<00:00, 1.20MB/s]\n",
      "Downloading: 100%|██████████| 211k/211k [00:00<00:00, 1.05MB/s]\n",
      "Downloading: 100%|█████████▉| 4.84G/4.84G [13:19<00:00, 6.50MB/s]\n",
      "Downloading: 100%|██████████| 4.62k/4.62k [00:00<00:00, 556kB/s]\n",
      "Downloading: 100%|██████████| 366k/366k [00:00<00:00, 1.52MB/s]\n",
      "Downloading: 100%|██████████| 226k/226k [00:00<00:00, 1.29MB/s]\n",
      "2023-10-13 15:18:04,584 - modelscope - INFO - initiate model from C:\\Users\\73915\\.cache\\modelscope\\hub\\damo\\mplug_image-text-retrieval_flickr30k_large_en\n",
      "2023-10-13 15:18:04,585 - modelscope - INFO - initiate model from location C:\\Users\\73915\\.cache\\modelscope\\hub\\damo\\mplug_image-text-retrieval_flickr30k_large_en.\n",
      "2023-10-13 15:18:04,589 - modelscope - INFO - initialize model from C:\\Users\\73915\\.cache\\modelscope\\hub\\damo\\mplug_image-text-retrieval_flickr30k_large_en\n",
      "C:\\Users\\73915\\AppData\\Roaming\\Python\\Python39\\site-packages\\transformers\\tokenization_utils_base.py:1756: FutureWarning: Calling BertTokenizer.from_pretrained() with the path to a single file or url is deprecated and won't be possible anymore in v5. Use a model identifier or the path to a directory instead.\n",
      "  warnings.warn(\n"
     ]
    },
    {
     "name": "stdout",
     "output_type": "stream",
     "text": [
      "load checkpoint from C:\\Users\\73915\\.cache\\modelscope\\hub\\damo\\mplug_image-text-retrieval_flickr30k_large_en\\pytorch_model.bin\n",
      "_IncompatibleKeys(missing_keys=[], unexpected_keys=['fusion_encoder.embeddings.position_ids', 'fusion_encoder.embeddings.word_embeddings.weight', 'fusion_encoder.embeddings.position_embeddings.weight', 'fusion_encoder.embeddings.token_type_embeddings.weight', 'fusion_encoder.embeddings.LayerNorm.weight', 'fusion_encoder.embeddings.LayerNorm.bias', 'fusion_encoder_m.embeddings.position_ids', 'fusion_encoder_m.embeddings.word_embeddings.weight', 'fusion_encoder_m.embeddings.position_embeddings.weight', 'fusion_encoder_m.embeddings.token_type_embeddings.weight', 'fusion_encoder_m.embeddings.LayerNorm.weight', 'fusion_encoder_m.embeddings.LayerNorm.bias'])\n"
     ]
    },
    {
     "name": "stderr",
     "output_type": "stream",
     "text": [
      "C:\\Users\\73915\\AppData\\Roaming\\Python\\Python39\\site-packages\\torch\\utils\\checkpoint.py:31: UserWarning: None of the inputs have requires_grad=True. Gradients will be None\n",
      "  warnings.warn(\"None of the inputs have requires_grad=True. Gradients will be None\")\n",
      "2023-10-13 15:18:34,799 - modelscope - WARNING - task image-text-retrieval output keys are missing\n"
     ]
    },
    {
     "name": "stdout",
     "output_type": "stream",
     "text": [
      "{'scores': [0.11689494550228119, 0.8831050992012024]}\n"
     ]
    }
   ],
   "source": [
    "from modelscope.pipelines import pipeline\n",
    "from modelscope.utils.constant import Tasks\n",
    "\n",
    "model = 'damo/mplug_image-text-retrieval_flickr30k_large_en'\n",
    "pipeline_retrieval = pipeline(Tasks.image_text_retrieval, model=model)\n",
    "image = 'https://alice-open.oss-cn-zhangjiakou.aliyuncs.com/mPLUG/image-text-retrieval.jpg'\n",
    "question = 'Two young guys with shaggy hair look at their hands while hanging out in the yard.'\n",
    "input = {'image': image, 'question': question}\n",
    "result = pipeline_retrieval(input)\n",
    "print(result)"
   ]
  },
  {
   "cell_type": "markdown",
   "metadata": {},
   "source": [
    "# cn-clip\n",
    "\n",
    "## tutorials\n",
    "\n",
    "* https://modelscope.cn/docs/CLIP_CN_Tutorial\n"
   ]
  },
  {
   "cell_type": "markdown",
   "metadata": {},
   "source": [
    "# datasets\n",
    "\n"
   ]
  },
  {
   "cell_type": "code",
   "execution_count": null,
   "metadata": {},
   "outputs": [],
   "source": [
    "# https://modelscope.cn/datasets/modelscope/muge/summary\n",
    "\n",
    "from modelscope.msdatasets import MsDataset\n",
    "ds = MsDataset.load(\"muge\", namespace=\"modelscope\", split=\"train\")\n",
    "print(ds[0]) \n",
    "# {'query_id': '148144', 'query': 't恤 命运石之门', 'image_id': '797458', 'image': <PIL.PngImagePlugin.PngImageFile image mode=RGB size=224x224 at 0x7FEB2F602278>}\n",
    "\n",
    "print(ds[0:2])\n",
    "# {'query_id': ['148144', '87899'], 'query': ['t恤 命运石之门', '票登记'], 'image_id': ['797458', '56421'], 'image': [<PIL.PngImagePlugin.PngImageFile image mode=RGB size=224x224 at 0x7FEB2F602470>, <PIL.PngImagePlugin.PngImageFile image mode=RGB size=224x224 at 0x7FEB05822DA0>]}\n"
   ]
  },
  {
   "cell_type": "code",
   "execution_count": 3,
   "metadata": {},
   "outputs": [
    {
     "data": {
      "image/jpeg": "[encoded data removed]",
      "image/png": "[encoded data removed]",
      "text/plain": [
       "<PIL.PngImagePlugin.PngImageFile image mode=RGB size=224x224>"
      ]
     },
     "metadata": {},
     "output_type": "display_data"
    }
   ],
   "source": [
    "display(ds[0]['image'])"
   ]
  },
  {
   "cell_type": "code",
   "execution_count": 1,
   "metadata": {},
   "outputs": [
    {
     "data": {
      "application/vnd.jupyter.widget-view+json": {
       "model_id": "e00d5cb9d0b1447ea2ad156c3150f297",
       "version_major": 2,
       "version_minor": 0
      },
      "text/plain": [
       "Fetching 22 files:   0%|          | 0/22 [00:00<?, ?it/s]"
      ]
     },
     "metadata": {},
     "output_type": "display_data"
    },
    {
     "name": "stdout",
     "output_type": "stream",
     "text": [
      "[[0.6259037  0.3474959 ]\n",
      " [0.34986794 0.6782464 ]]\n"
     ]
    }
   ],
   "source": [
    "from FlagEmbedding import BGEM3FlagModel\n",
    "\n",
    "model = BGEM3FlagModel('BAAI/bge-m3',  \n",
    "                       use_fp16=True) # Setting use_fp16 to True speeds up computation with a slight performance degradation\n",
    "\n",
    "sentences_1 = [\"What is BGE M3?\", \"Defination of BM25\"]\n",
    "sentences_2 = [\"BGE M3 is an embedding model supporting dense retrieval, lexical matching and multi-vector interaction.\", \n",
    "               \"BM25 is a bag-of-words retrieval function that ranks a set of documents based on the query terms appearing in each document\"]\n",
    "\n",
    "embeddings_1 = model.encode(sentences_1, \n",
    "                            batch_size=12, \n",
    "                            max_length=8192, # If you don't need such a long length, you can set a smaller value to speed up the encoding process.\n",
    "                            )['dense_vecs']\n",
    "embeddings_2 = model.encode(sentences_2)['dense_vecs']\n",
    "similarity = embeddings_1 @ embeddings_2.T\n",
    "print(similarity)\n",
    "# [[0.6265, 0.3477], [0.3499, 0.678 ]]"
   ]
  },
  {
   "cell_type": "code",
   "execution_count": null,
   "metadata": {},
   "outputs": [],
   "source": []
  }
 ],
 "metadata": {
  "kernelspec": {
   "display_name": "base",
   "language": "python",
   "name": "python3"
  },
  "language_info": {
   "codemirror_mode": {
    "name": "ipython",
    "version": 3
   },
   "file_extension": ".py",
   "mimetype": "text/x-python",
   "name": "python",
   "nbconvert_exporter": "python",
   "pygments_lexer": "ipython3",
   "version": "3.10.8"
  }
 },
 "nbformat": 4,
 "nbformat_minor": 2
}
