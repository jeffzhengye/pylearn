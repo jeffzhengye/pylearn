{
 "cells": [
  {
   "cell_type": "markdown",
   "id": "72808045",
   "metadata": {},
   "source": [
    "# animal nose\n",
    "\n",
    "## Pet Biometrics\n",
    "\n",
    "* https://github.com/flyingsheepbin/pet-biometrics\n",
    "* 竞赛项目，结果89分。\n",
    "\n",
    "## Pet-ReID-IMAG\n",
    "\n",
    "* The 3rd place solution to CVPR2022 Biometrics Workshop Pet Biometric Challenge\n",
    "* https://github.com/muzishen/Pet-ReID-IMAG\n",
    "* only trained one model (ResNeSt) with different scales (i.e., 224, 256, and 288), respectivel achieved 91.7% and 86.27% in phase A and B.\n",
    "\n",
    "## Dog-Identification-Noseprint\n",
    "\n",
    "* https://github.com/Chuen-HorngLin/Dog-Identification-Noseprint\n",
    "* Dog Identification Based on Textural Features and Spatial Relation of Noseprint\n",
    "\n",
    "# animal face \n",
    "\n",
    "## DogFace\n",
    "\n",
    "* https://github.com/GuillaumeMougeot/DogFaceNet\n",
    "\n"
   ]
  }
 ],
 "metadata": {
  "language_info": {
   "name": "python"
  }
 },
 "nbformat": 4,
 "nbformat_minor": 5
}
