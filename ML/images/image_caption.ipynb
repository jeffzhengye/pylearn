{
 "cells": [
  {
   "cell_type": "code",
   "execution_count": null,
   "metadata": {},
   "outputs": [],
   "source": [
    "# numpy==1.22 open_clip_torch\n",
    "\n",
    "from modelscope.pipelines import pipeline\n",
    "from modelscope.utils.constant import Tasks\n",
    "\n",
    "model_id = 'damo/mplug_image-captioning_coco_base_zh'\n",
    "input_caption = 'https://alice-open.oss-cn-zhangjiakou.aliyuncs.com/mPLUG/image_captioning.png'\n",
    "input_caption\n",
    "\n",
    "pipeline_caption = pipeline(Tasks.image_captioning, model=model_id)\n",
    "result = pipeline_caption(input_caption)\n",
    "print(result)"
   ]
  },
  {
   "cell_type": "code",
   "execution_count": null,
   "metadata": {},
   "outputs": [],
   "source": [
    "input_caption = \"D:\\\\wps\\\\剪印\\\\auto_generate\\\\aigc_girls\\\\2968c2945dedf97a63ba9e5d30ce88ff-精美壁纸：苹果园中的白雪公主\\\\b1d3925431112c38d77c6aa4b1693f58.JPEG\"\n",
    "input_caption = \"D:\\\\wps\\\\剪印\\\\auto_generate\\\\ac2fedef15c79a9b55328f02413032b1-安以轩精美图集/9783f057f4e460da45036bad1cb11689.JPEG\"\n",
    "result = pipeline_caption(input_caption)\n",
    "print(result)"
   ]
  }
 ],
 "metadata": {
  "kernelspec": {
   "display_name": "base",
   "language": "python",
   "name": "python3"
  },
  "language_info": {
   "name": "python",
   "version": "3.9.13"
  }
 },
 "nbformat": 4,
 "nbformat_minor": 2
}
