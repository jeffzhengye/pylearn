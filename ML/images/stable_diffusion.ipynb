{
 "cells": [
  {
   "cell_type": "markdown",
   "metadata": {},
   "source": [
    "# SD prompt optimizer\n",
    "\n",
    "* https://huggingface.co/alibaba-pai/pai-bloom-1b1-text2prompt-sd-v2\n",
    "\n",
    "\n",
    "# 中文text2image 模型\n",
    "\n",
    "## alibaba\n",
    "\n",
    "### pai-diffusion-artist-large-zh-lora-25d\n",
    "\n",
    "* LoRA 可以将模型生成的图像转换成 2.5D 风格\n",
    "\n",
    "### pai-diffusion-artist-large-zh\n",
    "\n",
    "* https://huggingface.co/alibaba-pai/pai-diffusion-artist-large-zh\n",
    "* 可以直接输入中文提示词，我们为您呈现精美的艺术风格图片。本模型的默认分辨率是 512*512。\n",
    "\n",
    "## IDEA-CCNL/Taiyi-Stable-Diffusion-1B-Anime-Chinese-v0.1\n",
    "\n",
    "* 基于100万筛选过的动漫中文图文对训练\n",
    "\n",
    "\n"
   ]
  },
  {
   "cell_type": "markdown",
   "metadata": {},
   "source": [
    "# ComfyUI\n",
    "\n",
    "## tutorials\n",
    "\n",
    "* https://www.runcomfy.com/zh-CN/tutorials/comfyui-ipadapter-plus-deep-dive-tutorial\n",
    "* https://comfyanonymous.github.io/ComfyUI_tutorial_vn/\n",
    "* (ComfyUI系列教程:从入门到精通)[https://www.youtube.com/@kexue/playlists]\n",
    "\n",
    "## concepts\n",
    "\n",
    "* clip: used to encode text to a format that the main model can understand.\n",
    "* vae: used to translate an image from latent space to pixel space.\n",
    "    * Latent space is the format the main Stable diffusion model understands, while the pixel space is the format that the user understands.\n",
    "    * VAEDecoder node takes the latent image that is coming from the sampler as input and outputs a regular image.\n",
    "\n",
    "* sampler: in SD the image is generated using what we refer to as a sampler. the sample takes the main model as an input. it also takes a positive and negative prompts encoded by clip.\n",
    "    * the sampler takes this input latent image, adds noise to it, and then denoises it using the main model.\n",
    "    * the encoded positive and negative prompts are passed to the model at each sampling step and are used to guide the denoising process.\n",
    "    * the gradual denoising is how stabel diffusion works.\n",
    "\n",
    "## examples\n",
    "\n",
    "* https://github.com/comfyanonymous/ComfyUI_examples/tree/master\n",
    "* https://learn.thinkdiffusion.com/a-list-of-the-best-comfyui-workflows/\n",
    "* https://comfyworkflows.com/\n",
    "* https://openart.ai/workflows/home?sort=latest\n",
    "* https://github.com/cubiq/ComfyUI_Workflows"
   ]
  },
  {
   "cell_type": "markdown",
   "metadata": {},
   "source": [
    "# Fooocus\n",
    "\n",
    "* [Fooocus](https://github.com/hpcaitech/Fooocus)"
   ]
  },
  {
   "cell_type": "markdown",
   "metadata": {},
   "source": [
    "# baidu\n",
    "\n",
    "* https://github.com/PaddlePaddle/PaddleMIX"
   ]
  },
  {
   "cell_type": "code",
   "execution_count": 1,
   "metadata": {},
   "outputs": [
    {
     "name": "stderr",
     "output_type": "stream",
     "text": [
      "c:\\Users\\73915\\.conda\\envs\\open_editor\\lib\\site-packages\\requests\\__init__.py:102: RequestsDependencyWarning: urllib3 (1.26.13) or chardet (5.1.0)/charset_normalizer (2.0.12) doesn't match a supported version!\n",
      "  warnings.warn(\"urllib3 ({}) or chardet ({})/charset_normalizer ({}) doesn't match a supported \"\n"
     ]
    },
    {
     "name": "stdout",
     "output_type": "stream",
     "text": [
      "entering proxy context http://192.168.1.45:10809\n"
     ]
    },
    {
     "data": {
      "application/vnd.jupyter.widget-view+json": {
       "model_id": "d4555c7325c740e0a2364d1be9d5d61f",
       "version_major": 2,
       "version_minor": 0
      },
      "text/plain": [
       "Downloading (…)okenizer_config.json:   0%|          | 0.00/286 [00:00<?, ?B/s]"
      ]
     },
     "metadata": {},
     "output_type": "display_data"
    },
    {
     "data": {
      "application/vnd.jupyter.widget-view+json": {
       "model_id": "b1b007b523134ac3ad99fa1f6c90aa97",
       "version_major": 2,
       "version_minor": 0
      },
      "text/plain": [
       "Downloading tokenizer.json:   0%|          | 0.00/14.5M [00:00<?, ?B/s]"
      ]
     },
     "metadata": {},
     "output_type": "display_data"
    },
    {
     "data": {
      "application/vnd.jupyter.widget-view+json": {
       "model_id": "3df3f4c8278d4bf38533a5aca91f2c60",
       "version_major": 2,
       "version_minor": 0
      },
      "text/plain": [
       "Downloading (…)cial_tokens_map.json:   0%|          | 0.00/96.0 [00:00<?, ?B/s]"
      ]
     },
     "metadata": {},
     "output_type": "display_data"
    },
    {
     "data": {
      "application/vnd.jupyter.widget-view+json": {
       "model_id": "bd8e4a3580474bf094349648e2be65c9",
       "version_major": 2,
       "version_minor": 0
      },
      "text/plain": [
       "Downloading (…)lve/main/config.json:   0%|          | 0.00/806 [00:00<?, ?B/s]"
      ]
     },
     "metadata": {},
     "output_type": "display_data"
    },
    {
     "data": {
      "application/vnd.jupyter.widget-view+json": {
       "model_id": "1fdf38418f484d4da8d5d1b1ee12dd99",
       "version_major": 2,
       "version_minor": 0
      },
      "text/plain": [
       "Downloading model.safetensors:   0%|          | 0.00/2.13G [00:00<?, ?B/s]"
      ]
     },
     "metadata": {},
     "output_type": "display_data"
    },
    {
     "data": {
      "application/vnd.jupyter.widget-view+json": {
       "model_id": "d5891b08786349e792a8a2b2af1e8053",
       "version_major": 2,
       "version_minor": 0
      },
      "text/plain": [
       "Downloading (…)neration_config.json:   0%|          | 0.00/132 [00:00<?, ?B/s]"
      ]
     },
     "metadata": {},
     "output_type": "display_data"
    },
    {
     "name": "stdout",
     "output_type": "stream",
     "text": [
      "exit proxy context http://192.168.1.45:10809\n",
      "['1 girl, masterpiece, best quality, detailed background, rayleigh scattering, standing, white long dress', 'masterpiece, (best quality:1.2), absurdres, beautiful face, light smile, highly detailed background, perfect eyes, ultra-detailed, 1 girl, white long hair, bangs, black eyes, pink lips', '(masterpiece:1.2), (best quality:1.2), 1 girl, extremely detailed face, intricate details, ultra high res, illustration, ((portrait)), looking at viewer, casual dress, black hair, bangs, short hair, (light smile:0.6), jewelry, earrings, colorful', '(best quality, masterpiece), 1 girl, (detailed face, beautiful face), (beautiful eyes), blush, red lips, (red eyes), looking at viewer, closed mouth, black hair, ponytail, (black hair:1.2), parted bangs, ponytails, simple background, upper body, outdoors, day, cloud', 'Best quality, masterpiece, (ultra highres:1.1), absurdres, 1 girl, long hair, pink eyes, looking at viewer, dress, ribbon, bow, leaf, holding, headband, flower']\n"
     ]
    }
   ],
   "source": [
    "from transformers import AutoTokenizer, AutoModelForCausalLM\n",
    "from yelib.utils.network_util import ProxyContext\n",
    "\n",
    "with ProxyContext():\n",
    "    tokenizer = AutoTokenizer.from_pretrained('alibaba-pai/pai-bloom-1b1-text2prompt-sd-v2')\n",
    "    model = AutoModelForCausalLM.from_pretrained('alibaba-pai/pai-bloom-1b1-text2prompt-sd-v2').eval().cuda()\n",
    "raw_prompt = '1 girl'\n",
    "\n",
    "TEMPLATE_V2 = 'Converts a simple image description into a prompt. \\\n",
    "Prompts are formatted as multiple related tags separated by commas, plus you can use () to increase the weight, [] to decrease the weight, \\\n",
    "or use a number to specify the weight. You should add appropriate words to make the images described in the prompt more aesthetically pleasing, \\\n",
    "but make sure there is a correlation between the input and output.\\n\\\n",
    "### Input: {raw_prompt}\\n### Output:'\n",
    "\n",
    "input = TEMPLATE_V2.format(raw_prompt=raw_prompt)\n",
    "input_ids = tokenizer.encode(input, return_tensors='pt').cuda()\n",
    "outputs = model.generate(\n",
    "    input_ids,\n",
    "    max_new_tokens=384,\n",
    "    do_sample=True,\n",
    "    temperature=0.9,\n",
    "    top_k=50,\n",
    "    top_p=0.95,\n",
    "    repetition_penalty=1.1,\n",
    "    num_return_sequences=5)\n",
    "\n",
    "prompts = tokenizer.batch_decode(outputs[:, input_ids.size(1):], skip_special_tokens=True)\n",
    "prompts = [p.strip() for p in prompts]\n",
    "print(prompts)"
   ]
  },
  {
   "cell_type": "code",
   "execution_count": 5,
   "metadata": {},
   "outputs": [
    {
     "name": "stdout",
     "output_type": "stream",
     "text": [
      "['analog style (photorealistic:1.4), (best quality), (detailed), 1 girl, (solo), sexy, skinny, (asiatic), (skin), cleavage, thin waist, short hair, (slightly choker necklace), parted lips, brown eyes, small breasts, attractive, slender body, piercing eyes, (light colored inner skirt)', '(8k, RAW photo, best quality, masterpiece:1.2), (realistic, photo-realistic:1.37), octane render, ultra high res, ultra-detailed, professional lighting, photon mapping, radiosity, physically-based rendering, ue5, ((sks female student)), ((skinny)), ((short hair)), ((pussy face)), ((smile))', 'a cute young (samdoesarts:0.99) asian girl with short brown hair, skinny, (slim), sexy, ((pussy shave)), beautiful detailed eyes, freckles, big lips, thick thighs, small breasts, nike air jordan 1 retro factory shoes, high heels, amazing body, best quality, masterpiece, realistic', 'highres, masterpiece, perfect ligthing, 1 girl, ass, bangs, body, briefs, (blonde), haircut, lips, looking at viewer, medium shot of sexy skinny (Asiana) cross-dressing, skinny jeans, thigh highs, ((blush)), (((pussy juice)))', 'masterpiece, (8k, best quality, masterpiece:1.2), (photorealistic, photo-realistic:1.37), raw photo, best quality, ultra high res, detailed background, beautiful face, (chubby:1.2), (younger:1.1), (skinny: 1.05), (asymmetrical bangs:1.05), (short hair:1.3), sexy, skinny, (medium breed: 1.05), (side ponytail:1.05), Asymmetrical colored hair, asymmetrical bow, bangs, blurry, cloudy sky, day, black shirt, brown gloves, bubble long shorts, beach, barefoot sandals, bronzer, closed mouth, crossed arms, eyelashes, female focus, from below, japanese clothes, jewelry, looking at viewer, kiss, lollita, lipstick, long sleeves, medium breasts, outdoors, pale skin, park, pants, pink gloves, public transportation, restaurant, red footwear, solo, street, smile, tokyo city, twintails, urban scene, white shirt, yellow eyes, white sneakers']\n"
     ]
    }
   ],
   "source": [
    "raw_prompt = 'a sexy skinny asian girl'\n",
    "TEMPLATE_V2 = 'Converts a simple image description into a prompt. \\\n",
    "Prompts are formatted as multiple related tags separated by commas, plus you can use () to increase the weight, [] to decrease the weight, \\\n",
    "or use a number to specify the weight. You should add appropriate words to make the images described in the prompt more aesthetically pleasing, \\\n",
    "but make sure there is a correlation between the input and output.\\n\\\n",
    "### Input: {raw_prompt}\\n### Output:'\n",
    "\n",
    "input = TEMPLATE_V2.format(raw_prompt=raw_prompt)\n",
    "input_ids = tokenizer.encode(input, return_tensors='pt').cuda()\n",
    "outputs = model.generate(\n",
    "    input_ids,\n",
    "    max_new_tokens=384,\n",
    "    do_sample=True,\n",
    "    temperature=0.9,\n",
    "    top_k=50,\n",
    "    top_p=0.95,\n",
    "    repetition_penalty=1.1,\n",
    "    num_return_sequences=5)\n",
    "\n",
    "prompts = tokenizer.batch_decode(outputs[:, input_ids.size(1):], skip_special_tokens=True)\n",
    "prompts = [p.strip() for p in prompts]\n",
    "print(prompts)"
   ]
  },
  {
   "cell_type": "code",
   "execution_count": 7,
   "metadata": {},
   "outputs": [
    {
     "data": {
      "text/plain": [
       "'analog style (photorealistic:1.4), (best quality), (detailed), 1 girl, (solo), sexy, skinny, (asiatic), (skin), cleavage, thin waist, short hair, (slightly choker necklace), parted lips, brown eyes, small breasts, attractive, slender body, piercing eyes, (light colored inner skirt)'"
      ]
     },
     "execution_count": 7,
     "metadata": {},
     "output_type": "execute_result"
    }
   ],
   "source": [
    "prompts[0]"
   ]
  },
  {
   "cell_type": "markdown",
   "metadata": {},
   "source": [
    "# modelscope\n",
    "\n",
    "## "
   ]
  },
  {
   "cell_type": "code",
   "execution_count": 1,
   "metadata": {},
   "outputs": [
    {
     "name": "stderr",
     "output_type": "stream",
     "text": [
      "2023-10-13 11:03:51,642 - modelscope - INFO - PyTorch version 2.0.1+cu117 Found.\n",
      "2023-10-13 11:03:51,653 - modelscope - INFO - TensorFlow version 2.14.0 Found.\n",
      "2023-10-13 11:03:51,654 - modelscope - INFO - Loading ast index from C:\\Users\\73915\\.cache\\modelscope\\ast_indexer\n",
      "2023-10-13 11:03:51,879 - modelscope - INFO - Loading done! Current index file version is 1.9.2, with md5 3315cddc66f26e5d24d726457a584f8b and a total number of 941 components indexed\n",
      "2023-10-13 11:03:53,795 - modelscope - INFO - Use user-specified model revision: v1.0.1\n",
      "Downloading: 100%|██████████| 582/582 [00:00<00:00, 97.0kB/s]\n",
      "Downloading: 100%|██████████| 4.48k/4.48k [00:00<00:00, 519kB/s]\n",
      "Downloading: 100%|██████████| 1.52k/1.52k [00:00<00:00, 222kB/s]\n",
      "Downloading: 100%|██████████| 612/612 [00:00<00:00, 94.0kB/s]\n",
      "Downloading: 100%|██████████| 140/140 [00:00<00:00, 21.5kB/s]\n",
      "Downloading: 100%|█████████▉| 3.20G/3.20G [09:23<00:00, 6.10MB/s]\n",
      "Downloading: 100%|██████████| 319M/319M [03:17<00:00, 1.69MB/s] \n",
      "Downloading: 100%|██████████| 512k/512k [00:00<00:00, 1.42MB/s]\n",
      "Downloading: 100%|██████████| 584/584 [00:00<00:00, 55.5kB/s]\n",
      "Downloading: 100%|██████████| 520/520 [00:00<00:00, 41.6kB/s]\n",
      "Downloading: 100%|██████████| 470M/470M [05:21<00:00, 1.53MB/s] \n",
      "Downloading: 100%|█████████▉| 1.13G/1.13G [03:37<00:00, 5.58MB/s]\n",
      "Downloading: 100%|██████████| 911/911 [00:00<00:00, 121kB/s]\n",
      "Downloading: 100%|██████████| 465/465 [00:00<00:00, 70.8kB/s]\n",
      "Downloading: 100%|██████████| 472/472 [00:00<00:00, 85.6kB/s]\n",
      "Downloading: 100%|██████████| 737/737 [00:00<00:00, 105kB/s]\n",
      "Downloading: 100%|██████████| 1.01M/1.01M [00:00<00:00, 1.63MB/s]\n"
     ]
    },
    {
     "data": {
      "application/vnd.jupyter.widget-view+json": {
       "model_id": "f965ba04f63244ed8fc9cf0d2d5c0055",
       "version_major": 2,
       "version_minor": 0
      },
      "text/plain": [
       "Loading pipeline components...:   0%|          | 0/7 [00:00<?, ?it/s]"
      ]
     },
     "metadata": {},
     "output_type": "display_data"
    },
    {
     "name": "stderr",
     "output_type": "stream",
     "text": [
      "C:\\Users\\73915\\AppData\\Roaming\\Python\\Python39\\site-packages\\transformers\\models\\clip\\feature_extraction_clip.py:28: FutureWarning: The class CLIPFeatureExtractor is deprecated and will be removed in version 5 of Transformers. Please use CLIPImageProcessor instead.\n",
      "  warnings.warn(\n"
     ]
    },
    {
     "data": {
      "application/vnd.jupyter.widget-view+json": {
       "model_id": "a9830420597748028ded544bfec52bda",
       "version_major": 2,
       "version_minor": 0
      },
      "text/plain": [
       "  0%|          | 0/20 [00:00<?, ?it/s]"
      ]
     },
     "metadata": {},
     "output_type": "display_data"
    },
    {
     "data": {
      "text/plain": [
       "True"
      ]
     },
     "execution_count": 1,
     "metadata": {},
     "output_type": "execute_result"
    }
   ],
   "source": [
    "# https://modelscope.cn/models/buptwq/Beautiful-Realistic-Asians-v5/s\n",
    "# Beautiful-Realistic-Asians-v5\n",
    "\n",
    "from modelscope.utils.constant import Tasks\n",
    "from modelscope.pipelines import pipeline\n",
    "import cv2\n",
    "\n",
    "pipe = pipeline(task=Tasks.text_to_image_synthesis,\n",
    "                model='buptwq/Beautiful-Realistic-Asians-v5',\n",
    "                model_revision='v1.0.1')\n",
    "\n",
    "prompt = 'boy, asian, chinese, muscled, t-shirt, face focus, face detais, realistic, photograph'\n",
    "negative_prompt = 'Watermark, Text, censored, deformed, bad anatomy, disfigured, poorly drawn face, mutated, extra limb, ugly, poorly drawn hands, missing limb, floating limbs, disconnected limbs, disconnected head, malformed hands, long neck, mutated hands and fingers, bad hands, missing fingers, cropped, worst quality, low quality, mutation, mutated hands, poorly drawn, huge calf, bad hands, fused hand, missing hand, disappearing arms, disappearing thigh, disappearing calf, disappearing legs, missing fingers, fused fingers, abnormal eye proportion, Abnormal hands, abnormal legs, abnormal feet, abnormal fingers, amputee, pussy, (((girl, women, female, long hair))).'\n",
    "\n",
    "output = pipe({'text': prompt, 'negative_prompt': negative_prompt, 'num_inference_steps': 20})\n",
    "cv2.imwrite('./result.png', output['output_imgs'][0])"
   ]
  },
  {
   "cell_type": "code",
   "execution_count": null,
   "metadata": {},
   "outputs": [],
   "source": []
  }
 ],
 "metadata": {
  "kernelspec": {
   "display_name": "open_editor",
   "language": "python",
   "name": "python3"
  },
  "language_info": {
   "codemirror_mode": {
    "name": "ipython",
    "version": 3
   },
   "file_extension": ".py",
   "mimetype": "text/x-python",
   "name": "python",
   "nbconvert_exporter": "python",
   "pygments_lexer": "ipython3",
   "version": "3.9.13"
  },
  "orig_nbformat": 4
 },
 "nbformat": 4,
 "nbformat_minor": 2
}
