{
 "cells": [
  {
   "cell_type": "markdown",
   "metadata": {},
   "source": [
    "# python tools\n",
    "\n",
    "## autopy\n",
    "\n",
    "* https://github.com/autopilot-rs/autopy\n",
    "* AutoPy is a simple, cross-platform GUI automation library for Python. It includes functions for controlling the keyboard and mouse, finding colors and bitmaps on-screen, and displaying alerts.\n",
    "* 功能：控制鼠标和键盘，显示消息框；截图，获取bitmap color\n",
    "\n",
    "## "
   ]
  }
 ],
 "metadata": {
  "language_info": {
   "name": "python"
  }
 },
 "nbformat": 4,
 "nbformat_minor": 2
}
