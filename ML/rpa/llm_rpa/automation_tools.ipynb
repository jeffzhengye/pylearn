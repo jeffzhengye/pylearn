{
 "cells": [
  {
   "cell_type": "markdown",
   "metadata": {},
   "source": [
    "# Browser automation and web scraping\n",
    "\n",
    "## eco \n",
    "\n",
    "* [eco](https://github.com/FellouAI/eko)\n",
    "\n",
    "## browser-use\n",
    "\n",
    "* https://github.com/browser-use/browser-use\n",
    "* Make websites accessible for AI agents. \n",
    "* https://docs.browser-use.com/"
   ]
  },
  {
   "cell_type": "markdown",
   "metadata": {},
   "source": []
  }
 ],
 "metadata": {
  "language_info": {
   "name": "python"
  }
 },
 "nbformat": 4,
 "nbformat_minor": 2
}
