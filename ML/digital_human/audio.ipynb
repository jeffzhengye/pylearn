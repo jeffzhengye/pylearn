{
 "cells": [
  {
   "cell_type": "markdown",
   "metadata": {},
   "source": [
    "# Pydub\n",
    "\n",
    "* Pydub背后使用了ffmpeg这个强大的多媒体处理工具，你也需要确保你的系统中安装了ffmpeg\n",
    "* 剪辑音频： 合并音频\n",
    "\n",
    "# Timeside\n",
    "\n",
    "* 支持多种音频格式:Timeside支持读取和写入多种常见的音频文件格式,如WAV、MP3、FLAC等。\n",
    "\n",
    "* 音频特征提取:Timeside内置了大量常见的音频特征提取算法,如频谱、节奏、音高等,开发者可以快速地获取这些特征数据。\n",
    "\n",
    "* 插件系统:Timeside提供了一个灵活的插件系统,开发者可以方便地扩展和自定义音频处理功能。\n",
    "\n",
    "* 可视化工具:Timeside附带了一个强大的可视化工具,可以直观地展示和分析音频数据。\n",
    "\n",
    "* 分布式处理:Timeside支持将音频处理任务分布式执行,提高处理效率。"
   ]
  }
 ],
 "metadata": {
  "language_info": {
   "name": "python"
  }
 },
 "nbformat": 4,
 "nbformat_minor": 2
}
