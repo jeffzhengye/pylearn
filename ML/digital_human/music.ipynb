{
 "cells": [
  {
   "cell_type": "markdown",
   "metadata": {},
   "source": [
    "# tools\n",
    "\n",
    "## Mido\n",
    "\n",
    "* 用于处理MIDI消息和文件的Python库"
   ]
  }
 ],
 "metadata": {
  "language_info": {
   "name": "python"
  }
 },
 "nbformat": 4,
 "nbformat_minor": 2
}
