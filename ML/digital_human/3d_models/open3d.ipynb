{
 "cells": [
  {
   "cell_type": "markdown",
   "id": "3dde59c6",
   "metadata": {},
   "source": [
    "# pyassimp\n",
    "\n",
    "* 这个主要是用来读取3D模型的\n",
    "* 可以读取的格式有：\n",
    "  * https://assimp-docs.readthedocs.io/en/latest/about/introduction.html\n",
    "\n",
    "## 安装\n",
    "\n",
    "* https://github.com/assimp/assimp/blob/master/Build.md # 先build一下，生成dll 到/d/soft/assimp/bin/Debug\n",
    "* 该路径加入环境变量Path中\n",
    "* 到/d/soft/assimp/port/PyAssimp 中执行：python install . "
   ]
  },
  {
   "cell_type": "code",
   "execution_count": null,
   "id": "4a64af99",
   "metadata": {},
   "outputs": [
    {
     "ename": "",
     "evalue": "",
     "output_type": "error",
     "traceback": [
      "\u001b[1;31mRunning cells with 'py12 (Python 3.12.9)' requires the ipykernel package.\n",
      "\u001b[1;31m<a href='command:jupyter.createPythonEnvAndSelectController'>Create a Python Environment</a> with the required packages.\n",
      "\u001b[1;31mOr install 'ipykernel' using the command: 'conda install -n py12 ipykernel --update-deps --force-reinstall'"
     ]
    }
   ],
   "source": [
    "import math\n",
    "import numpy as np\n",
    "import open3d as o3d\n",
    "import open3d.visualization as vis\n",
    "import os\n",
    "import random\n",
    "import warnings\n",
    "\n",
    "pyexample_path = os.path.dirname(os.path.dirname(os.path.abspath(__file__)))\n",
    "test_data_path = os.path.join(os.path.dirname(pyexample_path), 'test_data')\n",
    "\n",
    "print(\"Load a ply point cloud, print it, and render it\")\n",
    "ply_point_cloud = o3d.data.PLYPointCloud()\n",
    "pcd = o3d.io.read_point_cloud(ply_point_cloud.path)\n",
    "print(pcd)\n",
    "print(np.asarray(pcd.points))\n",
    "\n",
    "o3d.visualization.draw_geometries([pcd],\n",
    "                                  zoom=0.3412,\n",
    "                                  front=[0.4257, -0.2125, -0.8795],\n",
    "                                  lookat=[2.6172, 2.0475, 1.532],\n",
    "                                  up=[-0.0694, -0.9768, 0.2024])"
   ]
  },
  {
   "cell_type": "code",
   "execution_count": null,
   "id": "b8f02296",
   "metadata": {},
   "outputs": [],
   "source": []
  }
 ],
 "metadata": {
  "kernelspec": {
   "display_name": "py12",
   "language": "python",
   "name": "python3"
  },
  "language_info": {
   "name": "python",
   "version": "3.12.9"
  }
 },
 "nbformat": 4,
 "nbformat_minor": 5
}
