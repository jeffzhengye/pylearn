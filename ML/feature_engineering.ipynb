{
 "cells": [
  {
   "attachments": {},
   "cell_type": "markdown",
   "metadata": {},
   "source": [
    "# tools\n",
    "\n",
    "## feature-engine\n",
    "* https://mp.weixin.qq.com/s/YXR3_wgK4pr0hBy3dtRBxg\n",
    "\n",
    "## scikit-rebate\n",
    "\n",
    "* 是一个基于 Python 的机器学习特征选择工具包，专为集成到 scikit-learn 工作流而设计。该项目实现了多种基于 Relief 的特征选择算法，包括 ReliefF、SURF、SURF*、MultiSURF 和 MultiSURF*。这些算法在处理特征交互和单变量关联时表现出色，且计算效率高，适用于各种监督学习任务。"
   ]
  },
  {
   "cell_type": "markdown",
   "metadata": {},
   "source": []
  }
 ],
 "metadata": {
  "kernelspec": {
   "display_name": "py38",
   "language": "python",
   "name": "python3"
  },
  "language_info": {
   "name": "python",
   "version": "3.8.13"
  },
  "orig_nbformat": 4,
  "vscode": {
   "interpreter": {
    "hash": "fe22768e9524fdef0bd7ed00acfac1a320cf250cfc5d425f429f4b9beb1077b3"
   }
  }
 },
 "nbformat": 4,
 "nbformat_minor": 2
}
