{
 "cells": [
  {
   "cell_type": "markdown",
   "metadata": {},
   "source": [
    "# Time-Series-Library\n",
    "\n",
    "* [A Library for Advanced Deep Time Series Models.](https://github.com/thuml/Time-Series-Library/tree/main ) , 6.9k stars\n",
    "* with many sota deep learning models like itransformer.\n",
    "\n",
    "# OpenTS\n",
    "\n",
    "* [docs: OpenTS inlucdes Time series Forecasting Benchmark (TFB), Time series Anomaly detection Benchmark (TAB), and Time Series Foundation Model Benchmark (FoundTS)](https://decisionintelligence.github.io/OpenTS/)\n",
    "* [github](https://github.com/decisionintelligence/TFB), 353 stars\n",
    "* "
   ]
  }
 ],
 "metadata": {
  "language_info": {
   "name": "python"
  }
 },
 "nbformat": 4,
 "nbformat_minor": 2
}
