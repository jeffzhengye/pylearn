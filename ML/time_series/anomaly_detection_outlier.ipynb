{
 "cells": [
  {
   "cell_type": "markdown",
   "metadata": {},
   "source": [
    "# tools\n",
    "\n",
    "## pyod\n",
    "\n",
    "* https://github.com/yzhao062/pyod\n",
    "* 8.6k stars; A Python Library for Outlier and Anomaly Detection, Integrating Classical and Deep Learning Techniques\n",
    "\n",
    "## tods\n",
    "\n",
    "* https://github.com/datamllab/tods\n",
    "* TODS: An Automated Time-series Outlier Detection System\n",
    "* Scenarios: \n",
    "  * point-wise detection (time points as outliers), \n",
    "  * pattern-wise detection (subsequences as outliers), \n",
    "  * system-wise detection (sets of time series as outliers)"
   ]
  },
  {
   "cell_type": "markdown",
   "metadata": {},
   "source": []
  }
 ],
 "metadata": {
  "language_info": {
   "name": "python"
  }
 },
 "nbformat": 4,
 "nbformat_minor": 2
}
