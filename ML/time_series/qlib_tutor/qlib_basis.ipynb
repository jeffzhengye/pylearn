{
 "cells": [
  {
   "cell_type": "markdown",
   "metadata": {},
   "source": [
    "# tutorials\n",
    "\n",
    "* [latest docs](https://qlib.readthedocs.io/en/latest/start/getdata.html)\n",
    "\n",
    "## Building Formulaic Alphas\n",
    "* https://qlib.readthedocs.io/en/latest/advanced/alpha.html\n",
    "\n",
    "## Supported operators \n",
    "* https://github.com/microsoft/qlib/blob/main/qlib/data/ops.py\n",
    "\n",
    "## Data pipeline notes\n",
    "\n",
    "### Loader\n",
    "* Data Loader in Qlib is designed to load raw data from the original data source. It will be loaded and used in the Data Handler module.\n",
    "  * QlibDataLoader: The QlibDataLoader class in Qlib is such an interface that allows users to load raw data from the Qlib data source. \n",
    "  * StaticDataLoader: The StaticDataLoader class in Qlib is such an interface that allows users to load raw data from file or as provided.\n",
    "\n",
    "### Handler\n",
    "* designed to handler those common data processing methods which will be used by most of the models.\n",
    "* DataHandlerLP: have some ***learnable Processors*** which can learn the parameters of data processing(e.g., parameters for zscore normalization).\n",
    "  * DK_R / self._data: the raw data loaded from the loader\n",
    "  * DK_I / self._infer: the data processed for inference\n",
    "  * DK_L / self._learn: the data processed for learning model.\n",
    "\n",
    "#### Processor\n",
    "* DropnaProcessor, RobustZScoreNorm: https://qlib.readthedocs.io/en/latest/reference/api.html#module-qlib.data.dataset.processor\n",
    "\n",
    "### Dataset\n",
    "\n",
    "* The Dataset module in Qlib aims to prepare data for model training and inferencing.\n",
    "\n",
    "#### DatasetH\n",
    "\n",
    "* The DatasetH class is the dataset with Data Handler. Here is the most important interface of the class:\n",
    "\n",
    "##### TSDatasetH\n",
    "\n",
    "* \n",
    "\n",
    "## Model\n",
    "\n",
    "* [docs](https://qlib.readthedocs.io/en/latest/component/model.html)\n",
    "* qlib.model.base.Model from which all models should inherit.\n",
    "* ModelFT, which includes the method for finetuning the model.\n",
    "\n",
    "\n",
    "# trouble shooting\n",
    "\n",
    "## DLL load failed while importing _openssl: 找不到指定的模块。[install on windows]\n",
    "\n",
    "* pip install -I cryptography"
   ]
  },
  {
   "cell_type": "markdown",
   "metadata": {},
   "source": [
    "# Alpha158\n",
    "\n",
    "* Alpha158 is the ***data handler*** provided by Qlib, please refer to Data Handler."
   ]
  },
  {
   "cell_type": "code",
   "execution_count": null,
   "metadata": {},
   "outputs": [],
   "source": [
    "import qlib\n",
    "from qlib.contrib.data.handler import Alpha158\n",
    "\n",
    "data_handler_config = {\n",
    "    \"start_time\": \"2008-01-01\",\n",
    "    \"end_time\": \"2020-08-01\",\n",
    "    \"fit_start_time\": \"2008-01-01\",\n",
    "    \"fit_end_time\": \"2014-12-31\",\n",
    "    \"instruments\": \"csi300\",\n",
    "}\n",
    "\n",
    "if __name__ == \"__main__\":\n",
    "    qlib.init()\n",
    "    h = Alpha158(**data_handler_config)\n",
    "\n",
    "    # get all the columns of the data\n",
    "    print(h.get_cols())\n",
    "\n",
    "    # fetch all the labels\n",
    "    print(h.fetch(col_set=\"label\"))\n",
    "\n",
    "    # fetch all the features\n",
    "    print(h.fetch(col_set=\"feature\"))"
   ]
  },
  {
   "cell_type": "code",
   "execution_count": 1,
   "metadata": {},
   "outputs": [
    {
     "name": "stderr",
     "output_type": "stream",
     "text": [
      "[79568:MainThread](2023-07-25 20:39:24,580) INFO - qlib.Initialization - [config.py:416] - default_conf: client.\n",
      "[79568:MainThread](2023-07-25 20:39:24,595) INFO - qlib.Initialization - [__init__.py:74] - qlib successfully initialized based on client settings.\n",
      "[79568:MainThread](2023-07-25 20:39:24,595) INFO - qlib.Initialization - [__init__.py:76] - data_path={'__DEFAULT_FREQ': WindowsPath('D:/dataset/quant/.qlib/qlib_data/cn_data')}\n"
     ]
    }
   ],
   "source": [
    "import qlib\n",
    "import pandas as pd\n",
    "from qlib.constant import REG_CN\n",
    "from qlib.utils import exists_qlib_data, init_instance_by_config\n",
    "from qlib.workflow import R\n",
    "from qlib.workflow.record_temp import SignalRecord, PortAnaRecord\n",
    "from qlib.utils import flatten_dict\n",
    "\n",
    "# use default data\n",
    "# NOTE: need to download data from remote: python scripts/get_data.py qlib_data_cn --target_dir ~/.qlib/qlib_data/cn_data\n",
    "provider_uri = \"~/.qlib/qlib_data/cn_data\"  # target_dir\n",
    "# if not exists_qlib_data(provider_uri):\n",
    "#     print(f\"Qlib data is not found in {provider_uri}\")\n",
    "#     sys.path.append(str(scripts_dir))\n",
    "#     from get_data import GetData\n",
    "\n",
    "#     GetData().qlib_data(target_dir=provider_uri, region=REG_CN)\n",
    "qlib.init(provider_uri=provider_uri, region=REG_CN)"
   ]
  },
  {
   "cell_type": "code",
   "execution_count": 2,
   "metadata": {},
   "outputs": [
    {
     "data": {
      "text/plain": [
       "array([Timestamp('2010-01-04 00:00:00'), Timestamp('2010-01-05 00:00:00')],\n",
       "      dtype=object)"
      ]
     },
     "execution_count": 2,
     "metadata": {},
     "output_type": "execute_result"
    }
   ],
   "source": [
    "from qlib.data import D\n",
    "D.calendar(start_time='2010-01-01', end_time='2017-12-31', freq='day')[:2]"
   ]
  },
  {
   "cell_type": "code",
   "execution_count": 4,
   "metadata": {},
   "outputs": [
    {
     "data": {
      "text/plain": [
       "method"
      ]
     },
     "execution_count": 4,
     "metadata": {},
     "output_type": "execute_result"
    }
   ],
   "source": [
    "type(D.calendar)"
   ]
  },
  {
   "cell_type": "code",
   "execution_count": null,
   "metadata": {},
   "outputs": [],
   "source": []
  }
 ],
 "metadata": {
  "kernelspec": {
   "display_name": "py38",
   "language": "python",
   "name": "python3"
  },
  "language_info": {
   "codemirror_mode": {
    "name": "ipython",
    "version": 3
   },
   "file_extension": ".py",
   "mimetype": "text/x-python",
   "name": "python",
   "nbconvert_exporter": "python",
   "pygments_lexer": "ipython3",
   "version": "3.8.16"
  },
  "orig_nbformat": 4
 },
 "nbformat": 4,
 "nbformat_minor": 2
}
