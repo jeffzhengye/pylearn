{
 "cells": [
  {
   "cell_type": "markdown",
   "metadata": {},
   "source": [
    "# tools\n",
    "\n",
    "## StockFormer\n",
    "\n",
    "* https://github.com/gsyyysg/StockFormer\n",
    "* StockFormer: Learning Hybrid Trading Machines with Predictive Coding.\n",
    "* 前人方法没有充分考虑到不同投资资产之间的未来趋势和相关性\n",
    "* StockFormer将预测编码的前向建模能力与强化学习代理的策略灵活性相结合，以提高交易的效果。StockFormer的预测编码部分由三个修改过结构的Transformer分支组成。这些分支分别提取长期未来动态、短期未来动态和资产关系的有效潜在状态。通过使用这些潜在状态，StockFormer可以更好地预测未来市场的走势和不同投资资产之间的相关性。在策略优化方面，StockFormer采用了actor-critic逐步地将三种潜在状态通过一系列多头注意力结构自适应地组合起来，以生成最优的交易策略。"
   ]
  }
 ],
 "metadata": {
  "language_info": {
   "name": "python"
  }
 },
 "nbformat": 4,
 "nbformat_minor": 2
}
