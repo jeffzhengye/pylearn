{
 "cells": [
  {
   "cell_type": "markdown",
   "metadata": {},
   "source": [
    "#  [Miner U](https://github.com/opendatalab/MinerU) \n",
    "\n",
    "* A One-stop Open-source High-quality Data Extraction Tool\n",
    "* https://github.com/opendatalab/MinerU 26.4k stars"
   ]
  },
  {
   "cell_type": "markdown",
   "metadata": {},
   "source": []
  }
 ],
 "metadata": {
  "language_info": {
   "name": "python"
  }
 },
 "nbformat": 4,
 "nbformat_minor": 2
}
