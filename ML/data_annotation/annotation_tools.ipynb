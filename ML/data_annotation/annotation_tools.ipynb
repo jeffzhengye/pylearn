{
 "cells": [
  {
   "cell_type": "markdown",
   "metadata": {},
   "source": [
    "# LabelLLM\n",
    "\n",
    "* https://github.com/opendatalab/LabelLLM\n",
    "* 大模型数据标注平台\n",
    "    * https://mp.weixin.qq.com/s/qdedxokKkTkQeqHjF5DVzg\n",
    "\n",
    "# label-studio\n",
    "\n",
    "* https://github.com/HumanSignal/label-studio  17.7k stars\n",
    "* \n",
    "\n",
    "# labelU\n",
    "\n",
    "* 支持图像、视频、音频标注\n",
    "* https://github.com/opendatalab/labelU/tree/main"
   ]
  }
 ],
 "metadata": {
  "language_info": {
   "name": "python"
  }
 },
 "nbformat": 4,
 "nbformat_minor": 2
}
