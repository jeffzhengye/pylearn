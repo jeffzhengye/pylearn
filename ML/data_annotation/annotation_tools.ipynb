{
 "cells": [
  {
   "cell_type": "markdown",
   "metadata": {},
   "source": [
    "# LabelLLM\n",
    "\n",
    "* https://github.com/opendatalab/LabelLLM\n",
    "* 大模型数据标注平台\n",
    "    * https://mp.weixin.qq.com/s/qdedxokKkTkQeqHjF5DVzg\n",
    "\n",
    "# label-studio\n",
    "\n",
    "* https://github.com/HumanSignal/label-studio  17.7k stars\n",
    "* 支持文本、图像、音频标注；\n",
    "* 支持ai辅助标注： https://github.com/HumanSignal/label-studio-ml-backend\n",
    "\n",
    "# labelU\n",
    "\n",
    "* 支持图像、视频、音频标注，web版本；辅助标注，自动标注开发中；\n",
    "* https://github.com/opendatalab/labelU/tree/main\n",
    "\n",
    "# X-Anything\n",
    "\n",
    "* 无web版不能协助；\n",
    "* [支持的辅助模型](https://github.com/CVHub520/X-AnyLabeling/blob/main/docs/zh_cn/model_zoo.md)"
   ]
  },
  {
   "cell_type": "markdown",
   "metadata": {},
   "source": []
  }
 ],
 "metadata": {
  "language_info": {
   "name": "python"
  }
 },
 "nbformat": 4,
 "nbformat_minor": 2
}
