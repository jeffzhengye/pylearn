{
 "cells": [
  {
   "cell_type": "markdown",
   "metadata": {},
   "source": [
    "import datumaro as dm\n",
    "\n",
    "dataset = dm.Dataset.import_from('path/', 'voc')"
   ]
  },
  {
   "cell_type": "code",
   "execution_count": 5,
   "metadata": {},
   "outputs": [
    {
     "name": "stderr",
     "output_type": "stream",
     "text": [
      "WARNING:root:cls importer=<class 'datumaro.plugins.data_formats.image_zip.ImageZipImporter'>, type of cls=<class 'type'>\n",
      "WARNING:root:cls importer=<class 'datumaro.plugins.data_formats.mapillary_vistas.importer.MapillaryVistasInstancesImporter'>, type of cls=<class 'type'>\n",
      "WARNING:root:cls importer=<class 'datumaro.plugins.data_formats.market1501.Market1501Importer'>, type of cls=<class 'type'>\n",
      "WARNING:root:cls importer=<class 'datumaro.plugins.data_formats.mots.MotsImporter'>, type of cls=<class 'type'>\n",
      "WARNING:root:cls importer=<class 'datumaro.plugins.data_formats.mvtec.importer.MvtecClassificationImporter'>, type of cls=<class 'type'>\n",
      "WARNING:root:cls importer=<class 'datumaro.plugins.data_formats.mvtec.importer.MvtecDetectionImporter'>, type of cls=<class 'type'>\n",
      "WARNING:root:cls importer=<class 'datumaro.plugins.data_formats.mapillary_vistas.importer.MapillaryVistasImporter'>, type of cls=<class 'type'>\n",
      "WARNING:root:cls importer=<class 'datumaro.plugins.data_formats.celeba.align_celeba.AlignCelebaImporter'>, type of cls=<class 'type'>\n",
      "WARNING:root:cls importer=<class 'datumaro.plugins.data_formats.mvtec.importer.MvtecImporter'>, type of cls=<class 'type'>\n",
      "WARNING:root:cls importer=<class 'datumaro.plugins.data_formats.mvtec.importer.MvtecSegmentationImporter'>, type of cls=<class 'type'>\n",
      "WARNING:root:cls importer=<class 'datumaro.plugins.data_formats.mapillary_vistas.importer.MapillaryVistasPanopticImporter'>, type of cls=<class 'type'>\n",
      "WARNING:root:cls importer=<class 'datumaro.plugins.data_formats.celeba.celeba.CelebaImporter'>, type of cls=<class 'type'>\n",
      "WARNING:root:path=/home/jeffye/datasets/VOC1/, osp=/home/jeffye/datasets/VOC1\n",
      "WARNING:root:cls importer=<class 'datumaro.plugins.data_formats.image_zip.ImageZipImporter'>, type of cls=<class 'type'>\n"
     ]
    }
   ],
   "source": [
    "import datumaro as dm # type: ignore\n",
    "\n",
    "data_dir = '/home/jeffye/datasets/VOC1/'\n",
    "# data_dir = '/mnt/d/datasets/animal_pose/ultralytics_format/images'\n",
    "dataset = dm.Dataset.import_from(data_dir, '')"
   ]
  },
  {
   "cell_type": "code",
   "execution_count": null,
   "metadata": {},
   "outputs": [
    {
     "data": {
      "text/plain": [
       "Dataset\n",
       "\tsize=34178\n",
       "\tsource_path=/home/jeffye/datasets/VOC1/\n",
       "\tmedia_type=<class 'datumaro.components.media.Image'>\n",
       "\tann_types=set()\n",
       "\tannotated_items_count=0\n",
       "\tannotations_count=0\n",
       "subsets\n",
       "\tdefault: # of items=34178, # of annotated items=0, # of annotations=0\n",
       "infos\n",
       "\tcategories\n",
       "\t"
      ]
     },
     "execution_count": 6,
     "metadata": {},
     "output_type": "execute_result"
    },
    {
     "ename": "",
     "evalue": "",
     "output_type": "error",
     "traceback": [
      "\u001b[1;31mThe Kernel crashed while executing code in the current cell or a previous cell. \n",
      "\u001b[1;31mPlease review the code in the cell(s) to identify a possible cause of the failure. \n",
      "\u001b[1;31mClick <a href='https://aka.ms/vscodeJupyterKernelCrash'>here</a> for more info. \n",
      "\u001b[1;31mView Jupyter <a href='command:jupyter.viewOutput'>log</a> for further details."
     ]
    }
   ],
   "source": [
    "dataset"
   ]
  },
  {
   "cell_type": "markdown",
   "metadata": {},
   "source": [
    "# datumaro\n",
    "\n",
    "* from openvinotoolkit\n",
    "* https://github.com/openvinotoolkit/datumaro\n",
    "\n",
    "# notes\n",
    "\n",
    "## supported data format\n",
    "\n",
    "* https://openvinotoolkit.github.io/datumaro/latest/docs/data-formats/formats/"
   ]
  }
 ],
 "metadata": {
  "kernelspec": {
   "display_name": "base",
   "language": "python",
   "name": "python3"
  },
  "language_info": {
   "codemirror_mode": {
    "name": "ipython",
    "version": 3
   },
   "file_extension": ".py",
   "mimetype": "text/x-python",
   "name": "python",
   "nbconvert_exporter": "python",
   "pygments_lexer": "ipython3",
   "version": "3.12.7"
  }
 },
 "nbformat": 4,
 "nbformat_minor": 2
}
