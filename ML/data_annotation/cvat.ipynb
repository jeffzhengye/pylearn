{
 "cells": [
  {
   "cell_type": "markdown",
   "metadata": {},
   "source": [
    "# tutorial\n",
    "\n",
    "* https://docs.cvat.ai/docs/manual/basics\n",
    "* \n",
    "\n",
    "# settings for cvat\n",
    "\n",
    "* CVAT_VERSION=dev docker compose up -d\n",
    "* CVAT_HOST=127.0.0.1 docker compose up -d\n",
    "  * export CVAT_HOST=<YOUR_DOMAIN>\n",
    "\n",
    "## create the first users\n",
    "\n",
    "* docker exec -it cvat_server bash -ic 'python3 ~/manage.py createsuperuser'\n",
    "\n",
    "\n",
    "# health check\n",
    "\n",
    "* docker exec -t cvat_server python manage.py health_check"
   ]
  }
 ],
 "metadata": {
  "language_info": {
   "name": "python"
  }
 },
 "nbformat": 4,
 "nbformat_minor": 2
}
