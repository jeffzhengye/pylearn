{
 "cells": [
  {
   "cell_type": "markdown",
   "metadata": {},
   "source": [
    "# tutorial\n",
    "\n",
    "- https://docs.sqlalchemy.org/en/20/tutorial\n",
    "- https://hellowac.github.io/technology/python/sqlalchemy/\n",
    "\n",
    "## relationship and foreignkey\n",
    "\n",
    "* https://blog.51cto.com/u_15301988/3125714\n",
    "* https://docs.sqlalchemy.org/en/20/orm/basic_relationships.html\n",
    "\n",
    "# in-memory\n"
   ]
  },
  {
   "cell_type": "code",
   "execution_count": 1,
   "metadata": {},
   "outputs": [],
   "source": [
    "from sqlalchemy import create_engine\n",
    "\n",
    "engine = create_engine(\"sqlite+pysqlite:///:memory:\", echo=True)"
   ]
  },
  {
   "cell_type": "code",
   "execution_count": 13,
   "metadata": {},
   "outputs": [
    {
     "name": "stdout",
     "output_type": "stream",
     "text": [
      "2023-11-04 23:34:36,675 INFO sqlalchemy.engine.Engine BEGIN (implicit)\n",
      "2023-11-04 23:34:36,676 INFO sqlalchemy.engine.Engine PRAGMA main.table_info(\"customers\")\n",
      "2023-11-04 23:34:36,676 INFO sqlalchemy.engine.Engine [raw sql] ()\n",
      "2023-11-04 23:34:36,678 INFO sqlalchemy.engine.Engine PRAGMA main.table_info(\"user\")\n",
      "2023-11-04 23:34:36,678 INFO sqlalchemy.engine.Engine [raw sql] ()\n",
      "2023-11-04 23:34:36,679 INFO sqlalchemy.engine.Engine PRAGMA temp.table_info(\"user\")\n",
      "2023-11-04 23:34:36,680 INFO sqlalchemy.engine.Engine [raw sql] ()\n",
      "2023-11-04 23:34:36,681 INFO sqlalchemy.engine.Engine \n",
      "CREATE TABLE user (\n",
      "\tid INTEGER NOT NULL, \n",
      "\tcreated_at DATETIME NOT NULL, \n",
      "\tupdated_at DATETIME NOT NULL, \n",
      "\tdeleted_at DATETIME, \n",
      "\t\"Name\" VARCHAR(36) NOT NULL, \n",
      "\t\"Phone\" VARCHAR(36) NOT NULL, \n",
      "\tPRIMARY KEY (id), \n",
      "\tUNIQUE (\"Phone\")\n",
      ")\n",
      "\n",
      "\n",
      "2023-11-04 23:34:36,682 INFO sqlalchemy.engine.Engine [no key 0.00059s] ()\n",
      "2023-11-04 23:34:36,861 INFO sqlalchemy.engine.Engine CREATE INDEX ix_user_updated_at ON user (updated_at)\n",
      "2023-11-04 23:34:36,862 INFO sqlalchemy.engine.Engine [no key 0.00092s] ()\n",
      "2023-11-04 23:34:36,972 INFO sqlalchemy.engine.Engine COMMIT\n"
     ]
    }
   ],
   "source": [
    "import contextlib\n",
    "from sqlalchemy import Column, Integer, String\n",
    "from sqlalchemy.orm import relationship, Mapped\n",
    "from datetime import datetime\n",
    "from sqlalchemy import (\n",
    "    create_engine,\n",
    "    Column,\n",
    "    Integer,\n",
    "    DateTime,\n",
    "    String,\n",
    "    func,\n",
    "    UniqueConstraint\n",
    ")\n",
    "from sqlalchemy.ext.declarative import declarative_base\n",
    "from sqlalchemy.orm import sessionmaker\n",
    "from sqlalchemy.orm.session import Session\n",
    "\n",
    "\n",
    "session_make: sessionmaker = sessionmaker(bind=engine)\n",
    "# session: Session = session_make()\n",
    "\n",
    "engine = create_engine(\"sqlite:///sales.db\", echo=True)\n",
    "\n",
    "\n",
    "Base = declarative_base()\n",
    "\n",
    "\n",
    "class Customers(Base):\n",
    "    __tablename__ = \"customers\"\n",
    "    id = Column(Integer, primary_key=True)\n",
    "\n",
    "    name = Column(String)\n",
    "    address = Column(String)\n",
    "    email = Column(String)\n",
    "\n",
    "class BaseMixin:\n",
    "    \"\"\"model的基类,所有model都必须继承\"\"\"\n",
    "    id = Column(Integer, primary_key=True)\n",
    "    created_at = Column(DateTime, nullable=False, default=datetime.now)\n",
    "    updated_at = Column(DateTime, nullable=False, default=datetime.now, onupdate=datetime.now, index=True)\n",
    "    deleted_at = Column(DateTime)  # 可以为空, 如果非空, 则为软删\n",
    "\n",
    "\n",
    "@contextlib.contextmanager\n",
    "def get_session():\n",
    "    s: Session = session_make()\n",
    "    try:\n",
    "        yield s\n",
    "        s.commit()\n",
    "    except Exception as e:\n",
    "        s.rollback()\n",
    "        raise e\n",
    "    finally:\n",
    "        s.close()\n",
    "\n",
    "\n",
    "class User(Base, BaseMixin):\n",
    "    __tablename__ = \"user\"\n",
    "\n",
    "    Name = Column(String(36), nullable=False)\n",
    "    Phone = Column(String(36), nullable=False, unique=True)\n",
    "\n",
    "Base.metadata.create_all(engine)  # type: ignore"
   ]
  },
  {
   "cell_type": "code",
   "execution_count": 14,
   "metadata": {},
   "outputs": [
    {
     "name": "stdout",
     "output_type": "stream",
     "text": [
      "2023-11-04 23:35:23,194 INFO sqlalchemy.engine.Engine BEGIN (implicit)\n",
      "2023-11-04 23:35:23,196 INFO sqlalchemy.engine.Engine SELECT user.id AS user_id, user.created_at AS user_created_at, user.updated_at AS user_updated_at, user.deleted_at AS user_deleted_at, user.\"Name\" AS \"user_Name\", user.\"Phone\" AS \"user_Phone\" \n",
      "FROM user\n",
      " LIMIT ? OFFSET ?\n",
      "2023-11-04 23:35:23,196 INFO sqlalchemy.engine.Engine [generated in 0.00092s] (1, 0)\n",
      "None\n",
      "2023-11-04 23:35:23,198 INFO sqlalchemy.engine.Engine COMMIT\n"
     ]
    }
   ],
   "source": [
    "with get_session() as s:\n",
    "    print(s.query(User).first())"
   ]
  },
  {
   "cell_type": "code",
   "execution_count": 11,
   "metadata": {},
   "outputs": [
    {
     "data": {
      "text/plain": [
       "sqlalchemy.orm.session.sessionmaker"
      ]
     },
     "execution_count": 11,
     "metadata": {},
     "output_type": "execute_result"
    }
   ],
   "source": [
    "type(Session)"
   ]
  },
  {
   "cell_type": "code",
   "execution_count": 7,
   "metadata": {},
   "outputs": [
    {
     "name": "stdout",
     "output_type": "stream",
     "text": [
      "2023-11-04 22:12:23,610 INFO sqlalchemy.engine.Engine SELECT customers.id AS customers_id, customers.name AS customers_name, customers.address AS customers_address, customers.email AS customers_email \n",
      "FROM customers\n",
      "2023-11-04 22:12:23,611 INFO sqlalchemy.engine.Engine [cached since 62.57s ago] ()\n",
      "Name:  Ravi Kumar Address: Station Road Nanded Email: ravi@gmail.com\n"
     ]
    }
   ],
   "source": [
    "result: list[Customers] = session.query(Customers).all()\n",
    "\n",
    "for row in result:\n",
    "    print(\"Name: \", row.name, \"Address:\", row.address, \"Email:\", row.email)"
   ]
  },
  {
   "cell_type": "code",
   "execution_count": 8,
   "metadata": {},
   "outputs": [
    {
     "name": "stdout",
     "output_type": "stream",
     "text": [
      "2023-11-04 22:14:06,776 INFO sqlalchemy.engine.Engine SELECT count(*) AS count_1 \n",
      "FROM (SELECT customers.id AS customers_id, customers.name AS customers_name, customers.address AS customers_address, customers.email AS customers_email \n",
      "FROM customers) AS anon_1\n",
      "2023-11-04 22:14:06,777 INFO sqlalchemy.engine.Engine [generated in 0.00121s] ()\n"
     ]
    },
    {
     "data": {
      "text/plain": [
       "1"
      ]
     },
     "execution_count": 8,
     "metadata": {},
     "output_type": "execute_result"
    }
   ],
   "source": [
    "session.query(Customers).count()"
   ]
  },
  {
   "cell_type": "code",
   "execution_count": 9,
   "metadata": {},
   "outputs": [
    {
     "name": "stdout",
     "output_type": "stream",
     "text": [
      "2023-11-04 22:30:03,269 INFO sqlalchemy.engine.Engine SELECT customers.id AS customers_id, customers.name AS customers_name, customers.address AS customers_address, customers.email AS customers_email \n",
      "FROM customers \n",
      "WHERE customers.id > ? AND customers.name LIKE ?\n",
      "2023-11-04 22:30:03,271 INFO sqlalchemy.engine.Engine [generated in 0.00080s] (2, 'Ra%')\n"
     ]
    }
   ],
   "source": [
    "result = session.query(Customers).filter(Customers.id>2, Customers.name.like('Ra%'))\n",
    "for row in result:\n",
    "   print (\"ID:\", row.id, \"Name: \",row.name, \"Address:\",row.address, \"Email:\",row.email)"
   ]
  },
  {
   "cell_type": "code",
   "execution_count": null,
   "metadata": {},
   "outputs": [],
   "source": []
  }
 ],
 "metadata": {
  "kernelspec": {
   "display_name": "base",
   "language": "python",
   "name": "python3"
  },
  "language_info": {
   "codemirror_mode": {
    "name": "ipython",
    "version": 3
   },
   "file_extension": ".py",
   "mimetype": "text/x-python",
   "name": "python",
   "nbconvert_exporter": "python",
   "pygments_lexer": "ipython3",
   "version": "3.9.13"
  }
 },
 "nbformat": 4,
 "nbformat_minor": 2
}
