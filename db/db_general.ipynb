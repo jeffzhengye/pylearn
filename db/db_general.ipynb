{
 "cells": [
  {
   "cell_type": "markdown",
   "metadata": {},
   "source": [
    "# general\n",
    "\n",
    "## db design tool\n",
    "\n",
    "* https://github.com/findyourmagic/dber  -- opensource\n",
    "\n",
    "* power Design\n",
    "\n",
    "## python ORM\n",
    "\n",
    "### sqlalchemy\n",
    "\n",
    "* [supported databases](https://docs.sqlalchemy.org/en/20/dialects/) \n",
    "* example codes:\n",
    "  * video_generator\\dbmodels\\article_models.py\n",
    "\n",
    "### tortoise-orm\n",
    "\n",
    "* https://github.com/tortoise/tortoise-orm\n",
    "* 必须安装fork修改后的pypika\n",
    "  * pip install https://github.com/tortoise/pypika-tortoise/archive/refs/tags/v0.1.6.tar.gz --force-reinstall\n",
    "\n",
    "### MongoEngine\n",
    "\n",
    "* "
   ]
  },
  {
   "cell_type": "markdown",
   "metadata": {},
   "source": []
  }
 ],
 "metadata": {
  "language_info": {
   "name": "python"
  }
 },
 "nbformat": 4,
 "nbformat_minor": 2
}
