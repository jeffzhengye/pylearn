{
 "cells": [
  {
   "cell_type": "markdown",
   "metadata": {},
   "source": [
    "# Installation\n",
    "\n",
    "* sudo apt-get update -y\n",
    "* sudo apt-get install -y erlang-base\n",
    "* sudo apt-get install rabbitmq-server -y --fix-missing\n",
    "* https://www.rabbitmq.com/install-debian.html\n",
    "\n",
    "# tutorial\n",
    "\n",
    "* https://www.rabbitmq.com/rabbitmqctl.8.html\n",
    "* https://www.rabbitmq.com/access-control.html\n",
    "\n",
    "# set permissions for a user\n",
    "\n",
    "* sudo rabbitmqctl set_permissions -p / newadmin \".*\" \".*\" \".*\"\n",
    "* https://www.shellhacks.com/rabbitmq-list-create-users-rabbitmqctl/\n",
    "\n",
    "# set user management/admin\n",
    "\n",
    "* sudo rabbitmqctl set_user_tags newadmin management\n",
    "* https://www.rabbitmq.com/passwords.html\n",
    "\n",
    "# start/restart/stop/staus\n",
    "\n",
    "* sudo systemctl restart rabbitmq-server\n",
    "\n",
    "# enable management plugin\n",
    "\n",
    "* sudo rabbitmq-plugins enable rabbitmq_management\n",
    "* http://59.68.29.90:15672/#/ login: newadmin/newadmin\n",
    "* https://www.rabbitmq.com/management.html\n",
    "\n",
    "# bind ip change\n",
    "\n",
    "* sudo vi /etc/rabbitmq/rabbitmq-env.conf\n",
    "  * NODE_IP_ADDRESS=0.0.0.0\n",
    "\n"
   ]
  },
  {
   "cell_type": "markdown",
   "metadata": {},
   "source": [
    "# pika example\n",
    "\n",
    "## connect from other machine"
   ]
  },
  {
   "cell_type": "code",
   "execution_count": 3,
   "metadata": {},
   "outputs": [],
   "source": [
    "import pika\n",
    "\n",
    "credentials = pika.PlainCredentials('newadmin', 'newadmin')\n",
    "parameters = pika.ConnectionParameters('59.68.29.90', 5672, '/', credentials)\n",
    "\n",
    "connection = pika.BlockingConnection(parameters)\n",
    "channel = connection.channel()\n",
    "\n",
    "# create a quene named hello\n",
    "channel.queue_declare(queue='hello')\n",
    "\n",
    "channel.basic_publish(exchange='',\n",
    "                      routing_key='hello',\n",
    "                      body='Hello World!')\n",
    "print(\" [x] Sent 'Hello World!'\")\n",
    "\n",
    "connection.close()"
   ]
  },
  {
   "cell_type": "code",
   "execution_count": null,
   "metadata": {},
   "outputs": [],
   "source": [
    "# receiver \n",
    "\n",
    "import pika, sys, os\n",
    "\n",
    "def main():\n",
    "    credentials = pika.PlainCredentials('newadmin', 'newadmin')\n",
    "    parameters = pika.ConnectionParameters('59.68.29.90', 5672, '/', credentials)\n",
    "\n",
    "    connection = pika.BlockingConnection(parameters)\n",
    "    channel = connection.channel()\n",
    "\n",
    "    channel.queue_declare(queue='hello')\n",
    "\n",
    "    def callback(ch, method, properties, body):\n",
    "        print(f\" [x] Received {body}\")\n",
    "\n",
    "    channel.basic_consume(queue='hello', on_message_callback=callback, auto_ack=True)\n",
    "\n",
    "    print(' [*] Waiting for messages. To exit press CTRL+C')\n",
    "    channel.start_consuming()\n",
    "\n",
    "main()\n"
   ]
  },
  {
   "cell_type": "code",
   "execution_count": null,
   "metadata": {},
   "outputs": [],
   "source": []
  }
 ],
 "metadata": {
  "kernelspec": {
   "display_name": "base",
   "language": "python",
   "name": "python3"
  },
  "language_info": {
   "codemirror_mode": {
    "name": "ipython",
    "version": 3
   },
   "file_extension": ".py",
   "mimetype": "text/x-python",
   "name": "python",
   "nbconvert_exporter": "python",
   "pygments_lexer": "ipython3",
   "version": "3.9.13"
  }
 },
 "nbformat": 4,
 "nbformat_minor": 2
}
