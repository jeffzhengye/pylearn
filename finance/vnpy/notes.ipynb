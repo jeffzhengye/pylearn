{
 "cells": [
  {
   "attachments": {},
   "cell_type": "markdown",
   "metadata": {},
   "source": [
    "# MISC\n",
    "\n",
    "## 端口冲突\n",
    "* C:\\Users\\73915\\.conda\\envs\\py10\\lib\\site-packages\\vnpy_excelrtd\\engine.py  该文件修改\n",
    "\n",
    "## install talib\n",
    "* https://www.lfd.uci.edu/~gohlke/pythonlibs/#ta-lib\n"
   ]
  },
  {
   "cell_type": "code",
   "execution_count": 2,
   "metadata": {},
   "outputs": [
    {
     "name": "stdout",
     "output_type": "stream",
     "text": [
      "hello\n"
     ]
    }
   ],
   "source": [
    "print('hello')"
   ]
  },
  {
   "cell_type": "code",
   "execution_count": 3,
   "metadata": {},
   "outputs": [
    {
     "name": "stdout",
     "output_type": "stream",
     "text": [
      "         ts_code            name market publisher category base_date  \\\n",
      "0     000001.CZC            农期指数    OTH   郑州商品交易所     商品指数      None   \n",
      "1      000001.SH            上证指数    SSE      中证公司     综合指数  19901219   \n",
      "2     000002.CZC            农期谷物    OTH   郑州商品交易所     商品指数      None   \n",
      "3      000002.SH            上证A指    SSE      中证公司     综合指数  19901219   \n",
      "4     000003.CZC            农期软商    OTH   郑州商品交易所     商品指数      None   \n",
      "...          ...             ...    ...       ...      ...       ...   \n",
      "7995  h20811.CSI  中国1000材料(全)USD    CSI      中证公司     行业指数  20061229   \n",
      "7996  h20812.CSI  中国1000工业(全)USD    CSI      中证公司     行业指数  20061229   \n",
      "7997  h20813.CSI  中国1000可选(全)USD    CSI      中证公司     行业指数  20061229   \n",
      "7998  h20814.CSI  中国1000消费(全)USD    CSI      中证公司     行业指数  20061229   \n",
      "7999  h20815.CSI  中国1000医药(全)USD    CSI      中证公司     行业指数  20061229   \n",
      "\n",
      "      base_point list_date  \n",
      "0         1000.0      None  \n",
      "1          100.0  19910715  \n",
      "2         1000.0      None  \n",
      "3          100.0  19920221  \n",
      "4         1000.0      None  \n",
      "...          ...       ...  \n",
      "7995      1000.0  20160510  \n",
      "7996      1000.0  20160510  \n",
      "7997      1000.0  20160510  \n",
      "7998      1000.0  20160510  \n",
      "7999      1000.0  20160510  \n",
      "\n",
      "[8000 rows x 8 columns]\n"
     ]
    }
   ],
   "source": [
    "# 导入tushare\n",
    "import tushare as ts\n",
    "# 初始化pro接口\n",
    "pro = ts.pro_api('da1909ccd88edbe912d5b1ec827874fd82d998a5cbb919169dc088d5')\n",
    "\n",
    "# 拉取数据\n",
    "df = pro.index_basic(**{\n",
    "    \"ts_code\": \"\",\n",
    "    \"market\": \"\",\n",
    "    \"publisher\": \"\",\n",
    "    \"category\": \"\",\n",
    "    \"name\": \"\",\n",
    "    \"limit\": \"\",\n",
    "    \"offset\": \"\"\n",
    "}, fields=[\n",
    "    \"ts_code\",\n",
    "    \"name\",\n",
    "    \"market\",\n",
    "    \"publisher\",\n",
    "    \"category\",\n",
    "    \"base_date\",\n",
    "    \"base_point\",\n",
    "    \"list_date\"\n",
    "])\n",
    "print(df)\n",
    "\n",
    "        "
   ]
  },
  {
   "cell_type": "code",
   "execution_count": 1,
   "metadata": {},
   "outputs": [],
   "source": [
    "import rqdatac\n",
    "import pandas as pd\n",
    "import datetime\n",
    "\n",
    "rqdatac.init(username='17187186168', password='810716')"
   ]
  },
  {
   "cell_type": "code",
   "execution_count": 6,
   "metadata": {},
   "outputs": [],
   "source": [
    "rqdatac.user.get_quota()\n",
    "\n",
    "data = rqdatac.get_price('301398.XSHE', start_date=pd.Timestamp(\"20191207\"), end_date=datetime.datetime(2022,12,8))\n"
   ]
  },
  {
   "cell_type": "code",
   "execution_count": 25,
   "metadata": {},
   "outputs": [],
   "source": [
    "# rqdatac.get_price('110033.SSE', start_date=20150101, end_date=\"2015-02-01\")\n",
    "# XSHE, XSHG\n",
    "data = rqdatac.get_price('600820.XSHG', start_date=pd.Timestamp(\"20191207\"), end_date=datetime.datetime(2022,12,8))\n",
    "# rqdatac.get_financials()"
   ]
  },
  {
   "cell_type": "code",
   "execution_count": 26,
   "metadata": {},
   "outputs": [
    {
     "data": {
      "text/html": [
       "<div>\n",
       "<style scoped>\n",
       "    .dataframe tbody tr th:only-of-type {\n",
       "        vertical-align: middle;\n",
       "    }\n",
       "\n",
       "    .dataframe tbody tr th {\n",
       "        vertical-align: top;\n",
       "    }\n",
       "\n",
       "    .dataframe thead th {\n",
       "        text-align: right;\n",
       "    }\n",
       "</style>\n",
       "<table border=\"1\" class=\"dataframe\">\n",
       "  <thead>\n",
       "    <tr style=\"text-align: right;\">\n",
       "      <th></th>\n",
       "      <th></th>\n",
       "      <th>limit_up</th>\n",
       "      <th>open</th>\n",
       "      <th>volume</th>\n",
       "      <th>prev_close</th>\n",
       "      <th>close</th>\n",
       "      <th>high</th>\n",
       "      <th>low</th>\n",
       "      <th>num_trades</th>\n",
       "      <th>limit_down</th>\n",
       "      <th>total_turnover</th>\n",
       "    </tr>\n",
       "    <tr>\n",
       "      <th>order_book_id</th>\n",
       "      <th>date</th>\n",
       "      <th></th>\n",
       "      <th></th>\n",
       "      <th></th>\n",
       "      <th></th>\n",
       "      <th></th>\n",
       "      <th></th>\n",
       "      <th></th>\n",
       "      <th></th>\n",
       "      <th></th>\n",
       "      <th></th>\n",
       "    </tr>\n",
       "  </thead>\n",
       "  <tbody>\n",
       "    <tr>\n",
       "      <th rowspan=\"5\" valign=\"top\">600820.XSHG</th>\n",
       "      <th>2022-12-02</th>\n",
       "      <td>5.98</td>\n",
       "      <td>5.44</td>\n",
       "      <td>21813305.0</td>\n",
       "      <td>5.44</td>\n",
       "      <td>5.44</td>\n",
       "      <td>5.47</td>\n",
       "      <td>5.40</td>\n",
       "      <td>20594.0</td>\n",
       "      <td>4.90</td>\n",
       "      <td>118718164.0</td>\n",
       "    </tr>\n",
       "    <tr>\n",
       "      <th>2022-12-05</th>\n",
       "      <td>5.98</td>\n",
       "      <td>5.47</td>\n",
       "      <td>51900347.0</td>\n",
       "      <td>5.44</td>\n",
       "      <td>5.58</td>\n",
       "      <td>5.62</td>\n",
       "      <td>5.47</td>\n",
       "      <td>33573.0</td>\n",
       "      <td>4.90</td>\n",
       "      <td>288616471.0</td>\n",
       "    </tr>\n",
       "    <tr>\n",
       "      <th>2022-12-06</th>\n",
       "      <td>6.14</td>\n",
       "      <td>5.57</td>\n",
       "      <td>30647599.0</td>\n",
       "      <td>5.58</td>\n",
       "      <td>5.54</td>\n",
       "      <td>5.60</td>\n",
       "      <td>5.52</td>\n",
       "      <td>26347.0</td>\n",
       "      <td>5.02</td>\n",
       "      <td>170357239.0</td>\n",
       "    </tr>\n",
       "    <tr>\n",
       "      <th>2022-12-07</th>\n",
       "      <td>6.09</td>\n",
       "      <td>5.52</td>\n",
       "      <td>23085633.0</td>\n",
       "      <td>5.54</td>\n",
       "      <td>5.46</td>\n",
       "      <td>5.55</td>\n",
       "      <td>5.43</td>\n",
       "      <td>19963.0</td>\n",
       "      <td>4.99</td>\n",
       "      <td>126467066.0</td>\n",
       "    </tr>\n",
       "    <tr>\n",
       "      <th>2022-12-08</th>\n",
       "      <td>6.01</td>\n",
       "      <td>5.49</td>\n",
       "      <td>15966342.0</td>\n",
       "      <td>5.46</td>\n",
       "      <td>5.46</td>\n",
       "      <td>5.50</td>\n",
       "      <td>5.44</td>\n",
       "      <td>18431.0</td>\n",
       "      <td>4.91</td>\n",
       "      <td>87380679.0</td>\n",
       "    </tr>\n",
       "  </tbody>\n",
       "</table>\n",
       "</div>"
      ],
      "text/plain": [
       "                          limit_up  open      volume  prev_close  close  high  \\\n",
       "order_book_id date                                                              \n",
       "600820.XSHG   2022-12-02      5.98  5.44  21813305.0        5.44   5.44  5.47   \n",
       "              2022-12-05      5.98  5.47  51900347.0        5.44   5.58  5.62   \n",
       "              2022-12-06      6.14  5.57  30647599.0        5.58   5.54  5.60   \n",
       "              2022-12-07      6.09  5.52  23085633.0        5.54   5.46  5.55   \n",
       "              2022-12-08      6.01  5.49  15966342.0        5.46   5.46  5.50   \n",
       "\n",
       "                           low  num_trades  limit_down  total_turnover  \n",
       "order_book_id date                                                      \n",
       "600820.XSHG   2022-12-02  5.40     20594.0        4.90     118718164.0  \n",
       "              2022-12-05  5.47     33573.0        4.90     288616471.0  \n",
       "              2022-12-06  5.52     26347.0        5.02     170357239.0  \n",
       "              2022-12-07  5.43     19963.0        4.99     126467066.0  \n",
       "              2022-12-08  5.44     18431.0        4.91      87380679.0  "
      ]
     },
     "execution_count": 26,
     "metadata": {},
     "output_type": "execute_result"
    }
   ],
   "source": [
    "data.tail()"
   ]
  },
  {
   "cell_type": "code",
   "execution_count": 22,
   "metadata": {},
   "outputs": [],
   "source": [
    "instuments = rqdatac.all_instruments(type='CS', market='cn', date=None)\n",
    "instuments"
   ]
  },
  {
   "cell_type": "code",
   "execution_count": 24,
   "metadata": {},
   "outputs": [
    {
     "data": {
      "text/html": [
       "<div>\n",
       "<style scoped>\n",
       "    .dataframe tbody tr th:only-of-type {\n",
       "        vertical-align: middle;\n",
       "    }\n",
       "\n",
       "    .dataframe tbody tr th {\n",
       "        vertical-align: top;\n",
       "    }\n",
       "\n",
       "    .dataframe thead th {\n",
       "        text-align: right;\n",
       "    }\n",
       "</style>\n",
       "<table border=\"1\" class=\"dataframe\">\n",
       "  <thead>\n",
       "    <tr style=\"text-align: right;\">\n",
       "      <th></th>\n",
       "      <th>order_book_id</th>\n",
       "      <th>industry_code</th>\n",
       "      <th>market_tplus</th>\n",
       "      <th>symbol</th>\n",
       "      <th>special_type</th>\n",
       "      <th>exchange</th>\n",
       "      <th>status</th>\n",
       "      <th>type</th>\n",
       "      <th>de_listed_date</th>\n",
       "      <th>listed_date</th>\n",
       "      <th>sector_code_name</th>\n",
       "      <th>abbrev_symbol</th>\n",
       "      <th>sector_code</th>\n",
       "      <th>round_lot</th>\n",
       "      <th>trading_hours</th>\n",
       "      <th>board_type</th>\n",
       "      <th>industry_name</th>\n",
       "      <th>issue_price</th>\n",
       "      <th>trading_code</th>\n",
       "      <th>purchasedate</th>\n",
       "    </tr>\n",
       "  </thead>\n",
       "  <tbody>\n",
       "    <tr>\n",
       "      <th>3579</th>\n",
       "      <td>600820.XSHG</td>\n",
       "      <td>E48</td>\n",
       "      <td>1</td>\n",
       "      <td>隧道股份</td>\n",
       "      <td>Normal</td>\n",
       "      <td>XSHG</td>\n",
       "      <td>Active</td>\n",
       "      <td>CS</td>\n",
       "      <td>0000-00-00</td>\n",
       "      <td>1994-01-28</td>\n",
       "      <td>工业</td>\n",
       "      <td>SDGF</td>\n",
       "      <td>Industrials</td>\n",
       "      <td>100.0</td>\n",
       "      <td>09:31-11:30,13:01-15:00</td>\n",
       "      <td>MainBoard</td>\n",
       "      <td>土木工程建筑业</td>\n",
       "      <td>3.4</td>\n",
       "      <td>600820</td>\n",
       "      <td>NaN</td>\n",
       "    </tr>\n",
       "  </tbody>\n",
       "</table>\n",
       "</div>"
      ],
      "text/plain": [
       "     order_book_id industry_code  market_tplus symbol special_type exchange  \\\n",
       "3579   600820.XSHG           E48             1   隧道股份       Normal     XSHG   \n",
       "\n",
       "      status type de_listed_date listed_date sector_code_name abbrev_symbol  \\\n",
       "3579  Active   CS     0000-00-00  1994-01-28               工业          SDGF   \n",
       "\n",
       "      sector_code  round_lot            trading_hours board_type  \\\n",
       "3579  Industrials      100.0  09:31-11:30,13:01-15:00  MainBoard   \n",
       "\n",
       "     industry_name  issue_price trading_code purchasedate  \n",
       "3579       土木工程建筑业          3.4       600820          NaN  "
      ]
     },
     "execution_count": 24,
     "metadata": {},
     "output_type": "execute_result"
    }
   ],
   "source": [
    "df = instuments.loc[instuments[\"order_book_id\"].str.startswith('600820', na=False)]\n",
    "df"
   ]
  },
  {
   "cell_type": "code",
   "execution_count": null,
   "metadata": {},
   "outputs": [],
   "source": []
  }
 ],
 "metadata": {
  "kernelspec": {
   "display_name": "py10",
   "language": "python",
   "name": "python3"
  },
  "language_info": {
   "codemirror_mode": {
    "name": "ipython",
    "version": 3
   },
   "file_extension": ".py",
   "mimetype": "text/x-python",
   "name": "python",
   "nbconvert_exporter": "python",
   "pygments_lexer": "ipython3",
   "version": "3.10.8"
  },
  "orig_nbformat": 4,
  "vscode": {
   "interpreter": {
    "hash": "781db6a66b6c44ff23ffd41dfe3b5a60747ebcda3cb0e641efc8ffffadcaa83f"
   }
  }
 },
 "nbformat": 4,
 "nbformat_minor": 2
}
