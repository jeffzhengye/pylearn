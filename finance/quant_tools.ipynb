{
 "cells": [
  {
   "attachments": {},
   "cell_type": "markdown",
   "metadata": {},
   "source": [
    "# feature mining\n",
    "\n",
    "## OpenFE\n",
    "* https://github.com/IIIS-Li-Group/OpenFE\n",
    "* OpenFE: automated feature generation with expert-level performance\n",
    "* OpenFE is a new framework for automated feature generation for tabular data.\n",
    "\n",
    "## Stock-Prediction-Models\n",
    "* https://github.com/huseinzol05/Stock-Prediction-Models\n",
    "* Gathers machine learning and deep learning models for Stock forecasting including trading bots and simulations"
   ]
  },
  {
   "cell_type": "markdown",
   "metadata": {},
   "source": [
    "# data tools\n",
    "\n",
    "## pythonstock\n",
    "\n",
    "* https://gitee.com/pythonstock/stock\n",
    "\n",
    "## stock\n",
    "\n",
    "* https://github.com/myhhub/stock\n",
    "* 获取股票数据,计算股票指标,识别股票形态,综合选股,选股策略,股票验证回测,股票自动交易,支持PC及移动设备。\n",
    "\n",
    "## openBB\n",
    "\n",
    "* https://github.com/OpenBB-finance/OpenBB\n",
    "* 包含很多数据connector，以及基于llm的数据问答和charting\n",
    "* Offers access to equity, options, crypto, forex, macro economy, fixed income, and more while also offering a broad range of extensions to enhance the user experience according to their needs.\n",
    "\n",
    "## Python + FMP\n",
    "\n",
    "* FMP API 简介：金融数据的宝库;\n",
    "* https://mp.weixin.qq.com/s/b80nEPTMskmtB1tJm87qVw\n",
    "\n",
    "## qstock\n",
    "\n",
    "* https://github.com/tkfy920/qstock\n",
    "* 试图打造成个人量化投研分析开源库，目前包括数据获取（data）、可视化(plot)、选股(stock)和量化回测（backtest）四个模块。其中数据模块（data）数据来源于东方财富网、同花顺、新浪财经等网上公开数据。qstock致力于为用户提供更加简洁和规整化的金融市场数据接口，其中可视化模块为用户提供基于web的交互图形简单操作接口；选股模块提供了同花顺的技术选股和公众号策略选股，包括RPS、MM趋势、财务指标、资金流模型等，回测模块为大家提供向量化（基于pandas）和基于事件驱动的基本框架和模型。\n",
    "\n",
    "## yfinance\n",
    "\n",
    "* https://github.com/ranaroussi/yfinance\n",
    "* Download market data from Yahoo! Finance's API"
   ]
  },
  {
   "cell_type": "markdown",
   "metadata": {},
   "source": [
    "# trade tools\n",
    "\n",
    "## ptradeapi.com\n",
    "\n",
    "* http://ptradeapi.com/#%E6%96%B0%E5%BB%BA%E7%AD%96%E7%95%A5  Ptrade软件下载链接\n",
    "* 可以实盘交易。 [如何开通](https://mp.weixin.qq.com/s/lP7i2mEShlH0yySQqbgxzw)"
   ]
  },
  {
   "cell_type": "markdown",
   "metadata": {},
   "source": [
    "# ai tools\n",
    "\n",
    "## StockBot\n",
    "\n",
    "* https://github.com/bklieger-groq/stockbot-on-groq\n",
    "* AI Chatbot that Responds With Live Interactive Stock Charts, Financials, News, Screeners, and More"
   ]
  },
  {
   "cell_type": "markdown",
   "metadata": {},
   "source": [
    "# AI algorithm tools\n",
    "\n",
    "## qlib\n",
    "\n",
    "## QuantML\n",
    "\n",
    "* https://github.com/QuantML-Github/QuantML/tree/main/model_zoo\n",
    "  * benchmark of many models, which is different from qlib (especially for transformer.)\n",
    "* factor_zoo: evaluation for many factors.\n",
    "\n",
    "## QuantsPlaybook\n",
    "\n",
    "* [量化研究-券商金工研报复现](https://github.com/hugo2046/QuantsPlaybook)\n",
    "\n",
    "## TradeMaster\n",
    "\n",
    "* https://github.com/TradeMaster-NTU/TradeMaster\n",
    "* 1.6k，23年还在更新，但不频繁\n",
    "* 基于强化学习的开源量化交易平台\n",
    "* 支持国内外数据获取，还有实验数据集；\n"
   ]
  },
  {
   "cell_type": "markdown",
   "metadata": {},
   "source": [
    "# 回撤算法平台\n",
    "\n",
    "* tqsdk\n",
    "* "
   ]
  },
  {
   "cell_type": "markdown",
   "metadata": {},
   "source": [
    "# Awesome 系列\n",
    "\n",
    "* https://github.com/elitequant\n",
    "* https://gitee.com/EliteQuant/EliteQuant 太老了，不维护了"
   ]
  }
 ],
 "metadata": {
  "language_info": {
   "name": "python"
  },
  "orig_nbformat": 4
 },
 "nbformat": 4,
 "nbformat_minor": 2
}
