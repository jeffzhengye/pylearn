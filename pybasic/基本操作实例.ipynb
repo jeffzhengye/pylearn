{
 "cells": [
  {
   "attachments": {},
   "cell_type": "markdown",
   "metadata": {},
   "source": [
    "# pathlib\n",
    "* The pathlib module was introduced in Python 3.4\n",
    "* 比string 类型path 能提供更灵活功能\n",
    "  * cheat sheet: https://github.com/chris1610/pbpython/blob/master/extras/Pathlib-Cheatsheet.pdf\n",
    "<img decoding=\"async\" src=\"./pathlib_cheat.png\" width=\"100%\">\n"
   ]
  },
  {
   "cell_type": "markdown",
   "metadata": {},
   "source": [
    "## pathlib  创建文件夹，如果不存在\n"
   ]
  },
  {
   "cell_type": "code",
   "execution_count": 25,
   "metadata": {},
   "outputs": [
    {
     "name": "stdout",
     "output_type": "stream",
     "text": [
      "d:/code/learn/pylearn/pybasic/test_dir\n",
      "False True\n",
      "d:\\code\\learn\\pylearn\\pybasic\n",
      "d:\\code\\learn\\pylearn\n",
      "d:\\code\\learn\n",
      "d:\\code\n",
      "d:\\\n",
      "parts ('d:\\\\', 'code', 'learn', 'pylearn', 'pybasic', 'test_dir') <class 'str'>\n",
      "joined: test_dir\\pybasic\\test_dir\n"
     ]
    }
   ],
   "source": [
    "from pathlib import Path\n",
    "import pathlib\n",
    "\n",
    "from sympy import print_rcode\n",
    "\n",
    "save_dir = \"./test_dir\"\n",
    "p = Path(save_dir)\n",
    "p.mkdir(parents=True, exist_ok=True)\n",
    "print(str(p.absolute().as_posix()))\n",
    "\n",
    "# 判断是否是绝对路径\n",
    "print(p.is_absolute(), p.absolute().is_absolute())\n",
    "\n",
    "# parent\n",
    "\n",
    "for par in p.absolute().parents:\n",
    "    print(par)\n",
    "    \n",
    "print('parts', p.absolute().parts, type(p.absolute().parts[-1]))\n",
    "\n",
    "parts = p.absolute().parts\n",
    "\n",
    "print('joined:', p.joinpath(* parts[-2:]))"
   ]
  },
  {
   "cell_type": "code",
   "execution_count": 3,
   "metadata": {},
   "outputs": [
    {
     "name": "stdout",
     "output_type": "stream",
     "text": [
      "d:\\code\\learn\\pylearn\\pybasic\n",
      "C:\\Users\\73915\n",
      "C:\\Users\\73915\\python\\scripts\\test.py\n",
      "<bound method Path.absolute of WindowsPath('C:/Users/73915/python/scripts/test.py')>\n",
      ".py\n"
     ]
    }
   ],
   "source": [
    "### get current directory\n",
    "\n",
    "print(Path.cwd())\n",
    "print(Path.home())\n",
    "\n",
    "print(pathlib.Path.home().joinpath('python', 'scripts', 'test.py'))\n",
    "\n",
    "print(pathlib.Path.home().joinpath('python', 'scripts', 'test.py').absolute)\n",
    "\n",
    "print(pathlib.Path.home().joinpath('python', 'scripts', 'test.py').suffix)"
   ]
  },
  {
   "cell_type": "code",
   "execution_count": null,
   "metadata": {},
   "outputs": [],
   "source": [
    "    \n"
   ]
  },
  {
   "cell_type": "markdown",
   "metadata": {},
   "source": [
    "## useful functions\n",
    "* .read_text(): open the path in text mode and return the contents as a string.\n",
    "* .read_bytes(): open the path in binary/bytes mode and return the contents as a bytestring.\n",
    "* .write_text(): open the path and write string data to it.\n",
    "* .write_bytes(): open the path in binary/bytes mode and write data to it.\n",
    "* .resolve() method will find the full path. "
   ]
  },
  {
   "cell_type": "code",
   "execution_count": 15,
   "metadata": {},
   "outputs": [
    {
     "name": "stdout",
     "output_type": "stream",
     "text": [
      "## title\n",
      "full text this is a test file.\n",
      "## title\n",
      "True\n"
     ]
    }
   ],
   "source": [
    "# Reading and Writing Files\n",
    "\n",
    "path = pathlib.Path.cwd() / 'test.txt'\n",
    "with open(path, mode='r') as fid:\n",
    "    headers = [line.strip() for line in fid if line.startswith('#')]\n",
    "print('\\n'.join(headers))\n",
    "\n",
    "print('full text', path.read_text())\n",
    "\n",
    "print(path.resolve().parent == pathlib.Path.cwd())"
   ]
  },
  {
   "cell_type": "markdown",
   "metadata": {},
   "source": [
    "* .name: the file name without any directory\n",
    "* .parent: the directory containing the file, or the parent directory if path is a directory\n",
    "* .stem: the file name without the suffix\n",
    "* .suffix: the file extension\n",
    "* .anchor: the part of the path before the directories"
   ]
  },
  {
   "cell_type": "code",
   "execution_count": 18,
   "metadata": {},
   "outputs": [
    {
     "name": "stdout",
     "output_type": "stream",
     "text": [
      "path /mnt/c/code/learn/pylearn/pybasic/test.txt\n",
      "stem test\n",
      "suffix .txt\n",
      "parent /mnt/c/code/learn/pylearn/pybasic\n",
      "parent of parent /mnt/c/code/learn/pylearn\n",
      "anchor /\n"
     ]
    }
   ],
   "source": [
    "print('path', path)\n",
    "print('stem', path.stem)\n",
    "print('suffix', path.suffix)\n",
    "print('parent', path.parent)\n",
    "print('parent of parent', path.parent.parent)\n",
    "print('anchor', path.anchor)"
   ]
  },
  {
   "cell_type": "code",
   "execution_count": 26,
   "metadata": {},
   "outputs": [],
   "source": [
    "# move or replace file\n",
    "\n",
    "path.with_suffix('.py')\n",
    "path.replace(path.with_suffix('.md')) # 改后缀\n",
    "path.with_suffix('.md').replace(path.with_suffix('.txt'))"
   ]
  },
  {
   "cell_type": "code",
   "execution_count": 5,
   "metadata": {},
   "outputs": [
    {
     "name": "stdout",
     "output_type": "stream",
     "text": [
      "+ /mnt/d/code/learn/pylearn/pybasic\n",
      "    + .ipynb_checkpoints\n",
      "        + profile-checkpoint.ipynb\n",
      "        + yaml config-checkpoint.ipynb\n",
      "        + 基本操作实例-checkpoint.ipynb\n",
      "    + profile.ipynb\n",
      "    + profile_test.out\n",
      "    + profile_test.py\n",
      "    + test.txt\n",
      "    + test_dir\n",
      "    + yaml config.ipynb\n",
      "    + 基本操作实例.ipynb\n"
     ]
    }
   ],
   "source": [
    "# Display a Directory Tree\n",
    "\n",
    "def tree(directory):\n",
    "    print(f'+ {directory}')\n",
    "    for path in sorted(directory.rglob('*')):\n",
    "        depth = len(path.relative_to(directory).parts)\n",
    "        spacer = '    ' * depth\n",
    "        print(f'{spacer}+ {path.name}')\n",
    "\n",
    "tree(pathlib.Path.cwd())"
   ]
  },
  {
   "cell_type": "markdown",
   "metadata": {},
   "source": [
    "## Find the Last Modified File\n"
   ]
  },
  {
   "cell_type": "code",
   "execution_count": null,
   "metadata": {},
   "outputs": [],
   "source": [
    "from datetime import datetime\n",
    "\n",
    "directory = pathlib.Path.cwd()\n",
    "\n",
    "time, file_path = max((f.stat().st_mtime, f) for f in directory.iterdir())\n",
    "print(datetime.fromtimestamp(time), file_path)\n",
    "directory = pathlib.Path.home()\n",
    "\n",
    "file_list = list(directory.glob('*.*'))\n",
    "print(file_list)"
   ]
  },
  {
   "cell_type": "markdown",
   "metadata": {},
   "source": [
    "## dir modifier time and iter sub-dirs"
   ]
  },
  {
   "cell_type": "code",
   "execution_count": 18,
   "metadata": {},
   "outputs": [
    {
     "name": "stdout",
     "output_type": "stream",
     "text": [
      "修改时间：2023-11-13 08:55:17， 创建时间：2023-11-12 22:51:22.661104\n"
     ]
    }
   ],
   "source": [
    "from pathlib import Path\n",
    "from datetime import datetime\n",
    "\n",
    "dir_path = Path(r'D:/wps/剪印/auto_generate/girlsteam/3a069423751f43fb6b8fcaabe3e3d32f-[AIGC GIRLS]The 027 Girls')\n",
    "\n",
    "type(datetime.fromtimestamp(dir_path.stat().st_mtime)) # 修改时间\n",
    "\n",
    "c_time = datetime.fromtimestamp(dir_path.stat().st_ctime)  # 创建时间\n",
    "\n",
    "print(f\"修改时间：{datetime.fromtimestamp(dir_path.stat().st_mtime)}， 创建时间：{c_time}\")"
   ]
  },
  {
   "cell_type": "code",
   "execution_count": null,
   "metadata": {},
   "outputs": [],
   "source": [
    "from pathlib import Path\n",
    "from datetime import datetime, timedelta\n",
    "\n",
    "dir_path = Path(r\"D:\\wps\\剪印\\auto_generate\\girlsteam/\")\n",
    "\n",
    "sub_dirs = [(f, datetime.fromtimestamp(f.stat().st_mtime)) for f in dir_path.iterdir() if f.is_dir() and 'AIGC' in f.stem]\n",
    "\n",
    "start_date = datetime(2023, 11, 13, 0, 0, 0)\n",
    "end_date = datetime(2023, 11, 14, 23, 59, 59)\n",
    "# end_data = start_date + timedelta(hours=1)\n",
    "end_date = datetime(2023, 11, 14, 3, 0, 0)\n",
    "\n",
    "# sub_dirs_filtered = filter(lambda x: start_date <= x[1] <= end_date, sub_dirs)\n",
    "\n",
    "sub_dirs_filtered = filter(lambda x: x[1] - start_date <= timedelta(days=2), sub_dirs)\n",
    "print(sorted(sub_dirs_filtered, key=lambda x: x[1], reverse=False))\n",
    "\n",
    "# print(list(sub_dirs_filtered))\n"
   ]
  },
  {
   "cell_type": "markdown",
   "metadata": {},
   "source": [
    "## Create a Unique File Name"
   ]
  },
  {
   "cell_type": "code",
   "execution_count": 41,
   "metadata": {},
   "outputs": [
    {
     "name": "stdout",
     "output_type": "stream",
     "text": [
      "/mnt/c/code/learn/pylearn/pybasic/test001.txt\n"
     ]
    }
   ],
   "source": [
    "\n",
    "\n",
    "def unique_path(directory, name_pattern):\n",
    "    counter = 0\n",
    "    while True:\n",
    "        counter += 1\n",
    "        path = directory / name_pattern.format(counter)\n",
    "        if not path.exists():\n",
    "            return path\n",
    "\n",
    "path = unique_path(pathlib.Path.cwd(), 'test{:03d}.txt')\n",
    "print(path)"
   ]
  },
  {
   "cell_type": "markdown",
   "metadata": {},
   "source": [
    "## dir exist and then glob with multiple extensions"
   ]
  },
  {
   "cell_type": "code",
   "execution_count": 15,
   "metadata": {},
   "outputs": [
    {
     "name": "stdout",
     "output_type": "stream",
     "text": [
      "13 [PosixPath('/mnt/d/code/image/hedian-demo/data/test/220425/10_20220423184855509278_seq1387.png'), PosixPath('/mnt/d/code/image/hedian-demo/data/test/220425/12_20220423184937333633_seq1675.png'), PosixPath('/mnt/d/code/image/hedian-demo/data/test/220425/12_20220423184937729933_seq1689.png'), PosixPath('/mnt/d/code/image/hedian-demo/data/test/220425/15_20220423185025918203_seq2188.png'), PosixPath('/mnt/d/code/image/hedian-demo/data/test/220425/18_20220423185112230272_seq2561.png'), PosixPath('/mnt/d/code/image/hedian-demo/data/test/220425/1_20220423184640035090_seq0.png'), PosixPath('/mnt/d/code/image/hedian-demo/data/test/220425/1_20220423184640073726_seq1_rtmp.png'), PosixPath('/mnt/d/code/image/hedian-demo/data/test/220425/2_20220423184657550659_seq260_rtmp.png'), PosixPath('/mnt/d/code/image/hedian-demo/data/test/220425/2_20220423184701886412_seq412.png'), PosixPath('/mnt/d/code/image/hedian-demo/data/test/220425/6_20220423184800381243_seq831.png'), PosixPath('/mnt/d/code/image/hedian-demo/data/test/220425/7_20220423184820109570_seq1070.png'), PosixPath('/mnt/d/code/image/hedian-demo/data/test/220425/8_20220423184831678779_seq1101_rtmp.png'), PosixPath('/mnt/d/code/image/hedian-demo/data/test/220425/9_20220423184848900031_seq1212.png')]\n"
     ]
    }
   ],
   "source": [
    "input_path = Path(\"/mnt/d/code/image/hedian-demo/data/test/220425\")\n",
    "file_list = []\n",
    "if input_path.exists():\n",
    "    if input_path.is_dir():\n",
    "        # for a in input_path.glob(\"*\"):\n",
    "        #     print(a)\n",
    "        file_list = [p.resolve() for p in input_path.glob(\"*\") if\n",
    "                 p.suffix in {\".png\", \".jpg\", \".JPG\", \".PNG\"}]\n",
    "        print(len(file_list), file_list)\n",
    "    else:\n",
    "        print(input_path)\n",
    "# PosixPath as str: str(p.resolve())"
   ]
  },
  {
   "cell_type": "markdown",
   "metadata": {},
   "source": [
    "## List all subdirectories"
   ]
  },
  {
   "cell_type": "code",
   "execution_count": null,
   "metadata": {},
   "outputs": [],
   "source": [
    "from pathlib import Path\n",
    " \n",
    "rootdir = 'path/to/dir'\n",
    "for path in Path(rootdir).iterdir():\n",
    "    if path.is_dir():\n",
    "        print(path)"
   ]
  },
  {
   "cell_type": "markdown",
   "metadata": {},
   "source": [
    "# shutil\n",
    "* sh utils"
   ]
  },
  {
   "cell_type": "code",
   "execution_count": null,
   "metadata": {},
   "outputs": [],
   "source": [
    "# move all .txt file to achive fold\n",
    "\n",
    "import glob\n",
    "import os\n",
    "import shutil\n",
    "\n",
    "for file_name in glob.glob('*.txt'): # return a list of \n",
    "    new_path = os.path.join('archive', file_name)\n",
    "    shutil.move(file_name, new_path)"
   ]
  },
  {
   "cell_type": "markdown",
   "metadata": {},
   "source": [
    "# collections Counter"
   ]
  },
  {
   "cell_type": "code",
   "execution_count": 29,
   "metadata": {},
   "outputs": [
    {
     "name": "stdout",
     "output_type": "stream",
     "text": [
      "Counter({'': 2, '.txt': 1, '.ipynb': 1})\n",
      "漂亮 Counter({'.txt': 1})\n"
     ]
    }
   ],
   "source": [
    "# counting files\n",
    "\n",
    "import collections\n",
    "\n",
    "print(collections.Counter(p.suffix for p in pathlib.Path.cwd().iterdir()))\n",
    "\n",
    "print('漂亮', collections.Counter(p.suffix for p in pathlib.Path.cwd().glob('*.t*')))"
   ]
  },
  {
   "cell_type": "markdown",
   "metadata": {},
   "source": [
    "# inspect\n"
   ]
  },
  {
   "cell_type": "code",
   "execution_count": 1,
   "metadata": {},
   "outputs": [
    {
     "data": {
      "text/plain": [
       "True"
      ]
     },
     "execution_count": 1,
     "metadata": {},
     "output_type": "execute_result"
    }
   ],
   "source": [
    "def iam_a_function():\n",
    "    pass\n",
    "\n",
    "import inspect \n",
    "inspect.isfunction(iam_a_function)\n",
    "\n",
    "\"\"\" useful code snippet\n",
    "\n",
    "if inspect.isfunction(path_or_read_func):\n",
    "    assert lazy is not None, \"lazy can not be None in custom mode.\"\n",
    "    kwargs['name'] = name\n",
    "    kwargs['data_files'] = data_files\n",
    "    kwargs['splits'] = splits\n",
    "    custom_kwargs = {}\n",
    "    for name in inspect.signature(path_or_read_func).parameters.keys():\n",
    "        if name in kwargs.keys():\n",
    "            custom_kwargs[name] = kwargs[name]\n",
    "\n",
    "    reader_instance = SimpleBuilder(lazy=lazy, read_func=path_or_read_func)\n",
    "    return reader_instance.read(**custom_kwargs)\n",
    "\"\"\"\n"
   ]
  },
  {
   "attachments": {},
   "cell_type": "markdown",
   "metadata": {},
   "source": [
    "# glob"
   ]
  },
  {
   "cell_type": "code",
   "execution_count": 7,
   "metadata": {},
   "outputs": [
    {
     "name": "stdout",
     "output_type": "stream",
     "text": [
      "[1, 2, 3, 4, 5]\n",
      "[6, 7, 8, 9]\n",
      "[10, 11, 12, 13]\n",
      "[14, 15, 16, 17]\n",
      "[18, 19, 20, 21]\n",
      "[22, 23, 24, 25]\n"
     ]
    }
   ],
   "source": [
    "import more_itertools as mit\n",
    "\n",
    "\n",
    "iterable = list(range(1, 26))\n",
    "for c in mit.divide(6, iterable):\n",
    "    print(c)"
   ]
  }
 ],
 "metadata": {
  "kernelspec": {
   "display_name": "Python 3.8.5 ('base')",
   "language": "python",
   "name": "python3"
  },
  "language_info": {
   "codemirror_mode": {
    "name": "ipython",
    "version": 3
   },
   "file_extension": ".py",
   "mimetype": "text/x-python",
   "name": "python",
   "nbconvert_exporter": "python",
   "pygments_lexer": "ipython3",
   "version": "3.9.13"
  },
  "vscode": {
   "interpreter": {
    "hash": "5d76abebb651b803d7523773c2538185af67bbe68e12b1f9d8b8e0e281792ff9"
   }
  },
  "widgets": {
   "application/vnd.jupyter.widget-state+json": {
    "state": {},
    "version_major": 2,
    "version_minor": 0
   }
  }
 },
 "nbformat": 4,
 "nbformat_minor": 4
}
