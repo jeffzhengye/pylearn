{
 "cells": [
  {
   "cell_type": "markdown",
   "metadata": {},
   "source": [
    "# Rocketry\n",
    "\n",
    "* Rocketry是一个现代化的、基于语句的Python任务调度框架。它简洁、清晰且功能强大，适用于小型和大型项目。不同于其他依赖于配置文件或复杂API的任务调度器，Rocketry采用声明式编程方式，使任务调度逻辑更易于理解和维护。其核心思想是将任务及其调度条件以简洁的Python代码表达出来，让开发者专注于业务逻辑而非调度细节。\n",
    "* https://mp.weixin.qq.com/s/W46RNq_xgTbWxnTL8dgeqQ 功能比较强大"
   ]
  },
  {
   "cell_type": "code",
   "execution_count": null,
   "metadata": {},
   "outputs": [],
   "source": [
    "from rocketry import Rocketry\n",
    "from rocketry.conds import daily\n",
    "\n",
    "app = Rocketry()\n",
    "\n",
    "@app.task(daily)\n",
    "def do_daily():\n",
    "    print(\"This task runs daily.\")\n",
    "\n",
    "if __name__ == '__main__':\n",
    "    app.run()"
   ]
  },
  {
   "cell_type": "code",
   "execution_count": null,
   "metadata": {},
   "outputs": [],
   "source": [
    "# 自定义条件:\n",
    "from rocketry.conds import daily, time_of_week\n",
    "from pathlib import Path\n",
    "\n",
    "@app.cond()\n",
    "def file_exists(file):\n",
    "    return Path(file).exists()\n",
    "\n",
    "@app.task(daily.after(\"08:00\") & file_exists(\"myfile.csv\"))\n",
    "def do_work():\n",
    "    ..."
   ]
  },
  {
   "cell_type": "code",
   "execution_count": null,
   "metadata": {},
   "outputs": [],
   "source": [
    "# 任务流水线:\n",
    "\n",
    "from rocketry.conds import daily, after_success\n",
    "from rocketry.args import Return\n",
    "\n",
    "@app.task(daily.after(\"07:00\"))\n",
    "def do_first():\n",
    "    return 'Hello World'\n",
    "\n",
    "@app.task(after_success(do_first))\n",
    "def do_second(arg=Return('do_first')):\n",
    "    print(f\"Received: {arg}\")"
   ]
  }
 ],
 "metadata": {
  "kernelspec": {
   "display_name": "py10",
   "language": "python",
   "name": "python3"
  },
  "language_info": {
   "name": "python",
   "version": "3.10.14"
  }
 },
 "nbformat": 4,
 "nbformat_minor": 2
}
