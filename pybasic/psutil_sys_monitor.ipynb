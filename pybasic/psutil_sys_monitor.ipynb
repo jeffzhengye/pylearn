{
 "cells": [
  {
   "attachments": {},
   "cell_type": "markdown",
   "metadata": {},
   "source": [
    "# psutil\n",
    "\n",
    "* 监控cpu，内存，网络，磁盘\n",
    "\n",
    "# nmap \n",
    "\n",
    "* 端口扫描"
   ]
  },
  {
   "cell_type": "markdown",
   "metadata": {},
   "source": []
  }
 ],
 "metadata": {
  "language_info": {
   "name": "python"
  },
  "orig_nbformat": 4
 },
 "nbformat": 4,
 "nbformat_minor": 2
}
