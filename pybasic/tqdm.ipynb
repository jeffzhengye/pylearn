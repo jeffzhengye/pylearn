{
 "cells": [
  {
   "cell_type": "code",
   "execution_count": 1,
   "metadata": {},
   "outputs": [
    {
     "name": "stdout",
     "output_type": "stream",
     "text": [
      "100%|██████████| 3/3 [00:03<00:00,  1.01s/it]\n"
     ]
    }
   ],
   "source": [
    "import sys\n",
    "from time import sleep\n",
    "from tqdm import tqdm\n",
    "\n",
    "values = range(3)\n",
    "with tqdm(total=len(values)) as pbar:\n",
    "    for i in values:\n",
    "        # pbar.write('processed: %d' % (1 + i))\n",
    "        pbar.update(1)\n",
    "        sleep(1)"
   ]
  },
  {
   "cell_type": "markdown",
   "metadata": {},
   "source": [
    "# set description"
   ]
  },
  {
   "cell_type": "code",
   "execution_count": 2,
   "metadata": {},
   "outputs": [
    {
     "name": "stdout",
     "output_type": "stream",
     "text": [
      "processed: 30: 100%|██████████| 30/30 [00:30<00:00,  1.01s/it]\n"
     ]
    }
   ],
   "source": [
    "import sys\n",
    "from time import sleep\n",
    "from tqdm import tqdm\n",
    "\n",
    "values = range(30)\n",
    "with tqdm(total=len(values), file=sys.stdout) as pbar:\n",
    "    for i in values:\n",
    "        pbar.set_description('processed: %d' % (1 + i))\n",
    "        pbar.update(1)\n",
    "        sleep(1)"
   ]
  },
  {
   "cell_type": "code",
   "execution_count": 15,
   "metadata": {},
   "outputs": [
    {
     "name": "stderr",
     "output_type": "stream",
     "text": [
      "100%|███████████████████████████████████████████████████████████████████████████████████████████████████████████████████████████████████████████████████████| 100000/100000 [00:00<00:00, 518039.79it/s]\n"
     ]
    }
   ],
   "source": [
    "# from tqdm.autonotebook import tqdm\n",
    "# tqdm.pandas()\n",
    "\n",
    "# df.progress_apply(row_function, axis=1)\n",
    "\n",
    "import pandas as pd\n",
    "import numpy as np\n",
    "from tqdm import tqdm\n",
    "from tqdm.gui import tqdm as tqdm_gui\n",
    "\n",
    "df = pd.DataFrame(np.random.randint(0, 100, (100000, 6)))\n",
    "tqdm.pandas(ncols=200)  # can use tqdm_gui, optional kwargs, etc\n",
    "# Now you can use `progress_apply` instead of `apply`\n",
    "a = df[0].progress_apply(lambda x: x**2)\n",
    "# gb = df.groupby(0)?\n",
    "# gb.first"
   ]
  },
  {
   "cell_type": "code",
   "execution_count": null,
   "metadata": {},
   "outputs": [],
   "source": []
  }
 ],
 "metadata": {
  "kernelspec": {
   "display_name": "py38",
   "language": "python",
   "name": "python3"
  },
  "language_info": {
   "codemirror_mode": {
    "name": "ipython",
    "version": 3
   },
   "file_extension": ".py",
   "mimetype": "text/x-python",
   "name": "python",
   "nbconvert_exporter": "python",
   "pygments_lexer": "ipython3",
   "version": "3.8.16"
  },
  "orig_nbformat": 4,
  "vscode": {
   "interpreter": {
    "hash": "fe22768e9524fdef0bd7ed00acfac1a320cf250cfc5d425f429f4b9beb1077b3"
   }
  }
 },
 "nbformat": 4,
 "nbformat_minor": 2
}
