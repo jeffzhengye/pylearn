{
 "cells": [
  {
   "cell_type": "code",
   "execution_count": 1,
   "metadata": {},
   "outputs": [
    {
     "name": "stderr",
     "output_type": "stream",
     "text": [
      "ic| result: 6\n"
     ]
    },
    {
     "data": {
      "text/plain": [
       "6"
      ]
     },
     "execution_count": 1,
     "metadata": {},
     "output_type": "execute_result"
    }
   ],
   "source": [
    "from icecream import ic\n",
    "\n",
    "def multiply(a, b):\n",
    "    result = a * b\n",
    "    ic(result)\n",
    "    return result\n",
    "multiply(2, 3)"
   ]
  },
  {
   "cell_type": "code",
   "execution_count": 2,
   "metadata": {},
   "outputs": [
    {
     "name": "stderr",
     "output_type": "stream",
     "text": [
      "ic| result: 6, a/b: 0.6666666666666666\n"
     ]
    },
    {
     "data": {
      "text/plain": [
       "(6, 0.6666666666666666)"
      ]
     },
     "execution_count": 2,
     "metadata": {},
     "output_type": "execute_result"
    }
   ],
   "source": [
    "from icecream import ic\n",
    "def multiply_and_divide(a, b):\n",
    "    result = a * b\n",
    "    ic(result, a/b)\n",
    "    return result, a/b\n",
    "multiply_and_divide(2, 3)"
   ]
  },
  {
   "cell_type": "code",
   "execution_count": 1,
   "metadata": {},
   "outputs": [
    {
     "data": {
      "text/html": [
       "<pre style=\"white-space:pre;overflow-x:auto;line-height:normal;font-family:Menlo,'DejaVu Sans Mono',consolas,'Courier New',monospace\"><span style=\"color: #800000; text-decoration-color: #800000; font-weight: bold\">Hello, World!</span>\n",
       "</pre>\n"
      ],
      "text/plain": [
       "\u001b[1;31mHello, World!\u001b[0m\n"
      ]
     },
     "metadata": {},
     "output_type": "display_data"
    }
   ],
   "source": [
    "from rich.console import Console \n",
    "console = Console() \n",
    "console.print(\"Hello, World!\", style=\"bold red\")"
   ]
  },
  {
   "cell_type": "code",
   "execution_count": 2,
   "metadata": {},
   "outputs": [
    {
     "data": {
      "text/html": [
       "<pre style=\"white-space:pre;overflow-x:auto;line-height:normal;font-family:Menlo,'DejaVu Sans Mono',consolas,'Courier New',monospace\"><span style=\"font-style: italic\">        Rich Table        </span>\n",
       "┏━━━━━━━┳━━━━━┳━━━━━━━━━━┓\n",
       "┃<span style=\"font-weight: bold\">  Name </span>┃<span style=\"font-weight: bold\"> Age </span>┃<span style=\"font-weight: bold\"> City     </span>┃\n",
       "┡━━━━━━━╇━━━━━╇━━━━━━━━━━┩\n",
       "│<span style=\"color: #008080; text-decoration-color: #008080\"> Alice </span>│<span style=\"color: #008000; text-decoration-color: #008000\"> 29  </span>│<span style=\"color: #800080; text-decoration-color: #800080\"> New York </span>│\n",
       "│<span style=\"color: #008080; text-decoration-color: #008080\">   Bob </span>│<span style=\"color: #008000; text-decoration-color: #008000\"> 32  </span>│<span style=\"color: #800080; text-decoration-color: #800080\"> London   </span>│\n",
       "└───────┴─────┴──────────┘\n",
       "</pre>\n"
      ],
      "text/plain": [
       "\u001b[3m        Rich Table        \u001b[0m\n",
       "┏━━━━━━━┳━━━━━┳━━━━━━━━━━┓\n",
       "┃\u001b[1m \u001b[0m\u001b[1m Name\u001b[0m\u001b[1m \u001b[0m┃\u001b[1m \u001b[0m\u001b[1mAge\u001b[0m\u001b[1m \u001b[0m┃\u001b[1m \u001b[0m\u001b[1mCity    \u001b[0m\u001b[1m \u001b[0m┃\n",
       "┡━━━━━━━╇━━━━━╇━━━━━━━━━━┩\n",
       "│\u001b[36m \u001b[0m\u001b[36mAlice\u001b[0m\u001b[36m \u001b[0m│\u001b[32m \u001b[0m\u001b[32m29 \u001b[0m\u001b[32m \u001b[0m│\u001b[35m \u001b[0m\u001b[35mNew York\u001b[0m\u001b[35m \u001b[0m│\n",
       "│\u001b[36m \u001b[0m\u001b[36m  Bob\u001b[0m\u001b[36m \u001b[0m│\u001b[32m \u001b[0m\u001b[32m32 \u001b[0m\u001b[32m \u001b[0m│\u001b[35m \u001b[0m\u001b[35mLondon  \u001b[0m\u001b[35m \u001b[0m│\n",
       "└───────┴─────┴──────────┘\n"
      ]
     },
     "metadata": {},
     "output_type": "display_data"
    }
   ],
   "source": [
    "from rich.table import Table\n",
    "\n",
    "table = Table(title=\"Rich Table\")\n",
    "\n",
    "table.add_column(\"Name\", style=\"cyan\", justify=\"right\")\n",
    "table.add_column(\"Age\", style=\"green\")\n",
    "table.add_column(\"City\", style=\"magenta\")\n",
    "\n",
    "table.add_row(\"Alice\", \"29\", \"New York\")\n",
    "table.add_row(\"Bob\", \"32\", \"London\")\n",
    "\n",
    "console.print(table)"
   ]
  },
  {
   "cell_type": "code",
   "execution_count": null,
   "metadata": {},
   "outputs": [],
   "source": []
  }
 ],
 "metadata": {
  "kernelspec": {
   "display_name": "base",
   "language": "python",
   "name": "python3"
  },
  "language_info": {
   "codemirror_mode": {
    "name": "ipython",
    "version": 3
   },
   "file_extension": ".py",
   "mimetype": "text/x-python",
   "name": "python",
   "nbconvert_exporter": "python",
   "pygments_lexer": "ipython3",
   "version": "3.9.13"
  }
 },
 "nbformat": 4,
 "nbformat_minor": 2
}
