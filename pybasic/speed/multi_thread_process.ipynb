{
 "cells": [
  {
   "cell_type": "markdown",
   "metadata": {},
   "source": [
    "# tomorrow\n",
    "\n",
    "* pip install tomorrow3\n",
    "* Tomorrow 是一个简单而强大的工具，帮助开发者以最少的代码实现多线程并发，显著提升程序的执行效率。"
   ]
  }
 ],
 "metadata": {
  "language_info": {
   "name": "python"
  }
 },
 "nbformat": 4,
 "nbformat_minor": 2
}
