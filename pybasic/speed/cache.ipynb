{
 "cells": [
  {
   "cell_type": "markdown",
   "metadata": {},
   "source": [
    "# tools\n",
    "\n",
    "## functools\n",
    "\n",
    "* functools import lru_cache\n",
    "\n",
    "## cachier \n",
    "\n",
    "* pip install cachier\n",
    "* https://github.com/python-cachier/cachier\n",
    "* Cross-machine caching using MongoDB."
   ]
  },
  {
   "cell_type": "code",
   "execution_count": 2,
   "metadata": {},
   "outputs": [],
   "source": [
    "import datetime\n",
    "from cachier import cachier\n",
    "\n",
    "@cachier(stale_after=datetime.timedelta(weeks=2))\n",
    "def bar(arg1, arg2):\n",
    "    return {'arg1': arg1, 'arg2': arg2}\n",
    "\n",
    "@cachier(stale_after=datetime.timedelta(weeks=2))\n",
    "def cache_nopara():\n",
    "    print(\"execute\")\n",
    "    return \"no para\""
   ]
  },
  {
   "cell_type": "code",
   "execution_count": 4,
   "metadata": {},
   "outputs": [
    {
     "data": {
      "text/plain": [
       "'no para'"
      ]
     },
     "execution_count": 4,
     "metadata": {},
     "output_type": "execute_result"
    }
   ],
   "source": [
    "cache_nopara()"
   ]
  },
  {
   "cell_type": "markdown",
   "metadata": {},
   "source": [
    "# joblib\n",
    "\n",
    "## Memory 类\n",
    "\n",
    "## Parallel 类\n",
    "\n",
    "* 快速将任务分解为多个子任务，并分配到不同的CPU核心或机器上执行\n",
    "\n",
    "## 序列号\n",
    "\n",
    "* 支持内存映射，可以高效处理大文件;支持压缩，可以减少存储空间;提供了一些额外的功能，如缓存、延迟加载等;内置并行处理功能，可以加速任务;针对NumPy数组等大数据类型有优化，通常更快\n"
   ]
  },
  {
   "cell_type": "code",
   "execution_count": 1,
   "metadata": {},
   "outputs": [
    {
     "name": "stdout",
     "output_type": "stream",
     "text": [
      "Running f(1)\n",
      "1\n"
     ]
    }
   ],
   "source": [
    "from joblib import Memory\n",
    "import os, shutil\n",
    "\n",
    "# 创建一个Memory对象，指定缓存目录为当前目录下的run文件夹\n",
    "# verbose=0表示关闭详细输出\n",
    "cachedir = '~/tmp'\n",
    "if os.path.exists(cachedir):\n",
    "    shutil.rmtree(cachedir)\n",
    "memory = Memory(cachedir, verbose=0)\n",
    "\n",
    "# 使用@memory.cache装饰器，将函数f的结果缓存起来\n",
    "@memory.cache\n",
    "def f(x):\n",
    "    # 只有当函数的输入参数x没有被缓存时，才会执行函数体内的代码\n",
    "    print('Running f(%s)' % x)\n",
    "    return x\n",
    "\n",
    "# 第一次调用f(1)，会执行函数体内的代码，并将结果缓存起来\n",
    "print(f(1))"
   ]
  },
  {
   "cell_type": "code",
   "execution_count": 2,
   "metadata": {},
   "outputs": [
    {
     "name": "stdout",
     "output_type": "stream",
     "text": [
      "1\n"
     ]
    }
   ],
   "source": [
    "print(f(1))"
   ]
  },
  {
   "cell_type": "code",
   "execution_count": null,
   "metadata": {},
   "outputs": [],
   "source": []
  }
 ],
 "metadata": {
  "kernelspec": {
   "display_name": "py10",
   "language": "python",
   "name": "python3"
  },
  "language_info": {
   "codemirror_mode": {
    "name": "ipython",
    "version": 3
   },
   "file_extension": ".py",
   "mimetype": "text/x-python",
   "name": "python",
   "nbconvert_exporter": "python",
   "pygments_lexer": "ipython3",
   "version": "3.10.14"
  }
 },
 "nbformat": 4,
 "nbformat_minor": 2
}
