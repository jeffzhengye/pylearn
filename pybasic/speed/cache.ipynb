{
 "cells": [
  {
   "cell_type": "markdown",
   "metadata": {},
   "source": [
    "# tools\n",
    "\n",
    "## functools\n",
    "\n",
    "* functools import lru_cache\n",
    "\n",
    "## cachier \n",
    "\n",
    "* pip install cachier\n",
    "* https://github.com/python-cachier/cachier\n",
    "* Cross-machine caching using MongoDB."
   ]
  },
  {
   "cell_type": "code",
   "execution_count": 2,
   "metadata": {},
   "outputs": [],
   "source": [
    "import datetime\n",
    "from cachier import cachier\n",
    "\n",
    "@cachier(stale_after=datetime.timedelta(weeks=2))\n",
    "def bar(arg1, arg2):\n",
    "    return {'arg1': arg1, 'arg2': arg2}\n",
    "\n",
    "@cachier(stale_after=datetime.timedelta(weeks=2))\n",
    "def cache_nopara():\n",
    "    print(\"execute\")\n",
    "    return \"no para\""
   ]
  },
  {
   "cell_type": "code",
   "execution_count": 4,
   "metadata": {},
   "outputs": [
    {
     "data": {
      "text/plain": [
       "'no para'"
      ]
     },
     "execution_count": 4,
     "metadata": {},
     "output_type": "execute_result"
    }
   ],
   "source": [
    "cache_nopara()"
   ]
  },
  {
   "cell_type": "code",
   "execution_count": null,
   "metadata": {},
   "outputs": [],
   "source": []
  }
 ],
 "metadata": {
  "kernelspec": {
   "display_name": "py10",
   "language": "python",
   "name": "python3"
  },
  "language_info": {
   "codemirror_mode": {
    "name": "ipython",
    "version": 3
   },
   "file_extension": ".py",
   "mimetype": "text/x-python",
   "name": "python",
   "nbconvert_exporter": "python",
   "pygments_lexer": "ipython3",
   "version": "3.10.14"
  }
 },
 "nbformat": 4,
 "nbformat_minor": 2
}
