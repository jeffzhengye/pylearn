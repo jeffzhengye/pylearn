{
 "cells": [
  {
   "cell_type": "markdown",
   "metadata": {},
   "source": [
    "# Hachoir\n",
    "\n",
    "* pip install hachoir\n",
    "* 强大的通用解析能力，支持超过50种文件格式;完善的元数据提取功能; https://mp.weixin.qq.com/s/P2iFaALc3xXYDz4AdqNmYw"
   ]
  }
 ],
 "metadata": {
  "language_info": {
   "name": "python"
  }
 },
 "nbformat": 4,
 "nbformat_minor": 2
}
