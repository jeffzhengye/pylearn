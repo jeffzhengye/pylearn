{
 "cells": [
  {
   "cell_type": "markdown",
   "id": "05af6966",
   "metadata": {},
   "source": [
    "# easyrtc\n",
    "\n",
    "* 一套基于WebRTC技术的实时音视频通信框架，旨在为开发者提供高效、稳定、跨平台的通信解决方案。\n",
    "* 其核心优势在于支持任意平台设备，包括Web端、移动端、桌面端和嵌入式设备，真正实现“一次开发，多端运行”。"
   ]
  }
 ],
 "metadata": {
  "language_info": {
   "name": "python"
  }
 },
 "nbformat": 4,
 "nbformat_minor": 5
}
