{
 "cells": [
  {
   "cell_type": "markdown",
   "metadata": {},
   "source": [
    "# a good example"
   ]
  },
  {
   "cell_type": "code",
   "execution_count": null,
   "metadata": {},
   "outputs": [],
   "source": [
    "class PlaywrightContextManager:\n",
    "    def __init__(self) -> None:\n",
    "        self._playwright: SyncPlaywright\n",
    "        self._loop: asyncio.AbstractEventLoop\n",
    "        self._own_loop = False\n",
    "        self._watcher: Optional[AbstractChildWatcher] = None\n",
    "        self._exit_was_called = False\n",
    "\n",
    "    def __enter__(self) -> SyncPlaywright:\n",
    "        try:\n",
    "            self._loop = asyncio.get_running_loop()\n",
    "        except RuntimeError:\n",
    "            self._loop = asyncio.new_event_loop()\n",
    "            self._own_loop = True\n",
    "        if self._loop.is_running():\n",
    "            raise Error(\n",
    "                \"\"\"It looks like you are using Playwright Sync API inside the asyncio loop.\n",
    "Please use the Async API instead.\"\"\"\n",
    "            )\n",
    "\n",
    "        # Create a new fiber for the protocol dispatcher. It will be pumping events\n",
    "        # until the end of times. We will pass control to that fiber every time we\n",
    "        # block while waiting for a response.\n",
    "        def greenlet_main() -> None:\n",
    "            self._loop.run_until_complete(self._connection.run_as_sync())\n",
    "\n",
    "        dispatcher_fiber = greenlet(greenlet_main)\n",
    "\n",
    "        self._connection = Connection(\n",
    "            dispatcher_fiber,\n",
    "            create_remote_object,\n",
    "            PipeTransport(self._loop, compute_driver_executable()),\n",
    "            self._loop,\n",
    "        )\n",
    "\n",
    "        g_self = greenlet.getcurrent()\n",
    "\n",
    "        def callback_wrapper(channel_owner: ChannelOwner) -> None:\n",
    "            playwright_impl = cast(Playwright, channel_owner)\n",
    "            self._playwright = SyncPlaywright(playwright_impl)\n",
    "            g_self.switch()\n",
    "\n",
    "        # Switch control to the dispatcher, it'll fire an event and pass control to\n",
    "        # the calling greenlet.\n",
    "        self._connection.call_on_object_with_known_name(\"Playwright\", callback_wrapper)\n",
    "        dispatcher_fiber.switch()\n",
    "\n",
    "        playwright = self._playwright\n",
    "        playwright.stop = self.__exit__  # type: ignore\n",
    "        return playwright\n",
    "\n",
    "    def start(self) -> SyncPlaywright:\n",
    "        return self.__enter__()\n",
    "\n",
    "    def __exit__(self, *args: Any) -> None:\n",
    "        if self._exit_was_called:\n",
    "            return\n",
    "        self._exit_was_called = True\n",
    "        self._connection.stop_sync()\n",
    "        if self._watcher:\n",
    "            self._watcher.close()\n",
    "        if self._own_loop:\n",
    "            tasks = asyncio.all_tasks(self._loop)\n",
    "            for t in [t for t in tasks if not (t.done() or t.cancelled())]:\n",
    "                t.cancel()\n",
    "            self._loop.run_until_complete(self._loop.shutdown_asyncgens())\n",
    "            self._loop.close()"
   ]
  }
 ],
 "metadata": {
  "kernelspec": {
   "display_name": "base",
   "language": "python",
   "name": "python3"
  },
  "language_info": {
   "name": "python",
   "version": "3.9.13"
  }
 },
 "nbformat": 4,
 "nbformat_minor": 2
}
