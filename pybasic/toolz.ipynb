{
 "cells": [
  {
   "cell_type": "markdown",
   "metadata": {},
   "source": [
    "# tutorial\n",
    "\n",
    "* https://www.toutiao.com/article/7285941123820896828/?log_from=0e6f2fe2a73cd_1696407449753\n",
    "\n",
    "## cytoolz\n",
    "\n",
    "* [high performance toolz](https://github.com/pytoolz/cytoolz/)\n",
    "\n",
    "## 替代库-部分\n",
    "\n",
    "* https://github.com/Suor/funcy\n",
    "* https://www.toutiao.com/article/7325315594553918002/ 惰性求值"
   ]
  },
  {
   "cell_type": "code",
   "execution_count": 2,
   "metadata": {},
   "outputs": [],
   "source": [
    "accounts = [(1, 'Alice', 100, 'F'),  # id, name, balance, gender\n",
    "            (2, 'Bob', 200, 'M'),\n",
    "            (3, 'Charlie', 150, 'M'),\n",
    "            (4, 'Dennis', 50, 'M'),\n",
    "            (5, 'Edith', 300, 'F')]"
   ]
  },
  {
   "cell_type": "markdown",
   "metadata": {},
   "source": [
    "# pipe"
   ]
  },
  {
   "cell_type": "code",
   "execution_count": 5,
   "metadata": {},
   "outputs": [
    {
     "data": {
      "text/plain": [
       "[('Bob', 200), ('Edith', 300)]"
      ]
     },
     "execution_count": 5,
     "metadata": {},
     "output_type": "execute_result"
    }
   ],
   "source": [
    "from toolz.curried import pipe, map, filter, get\n",
    "pipe(accounts, filter(lambda acc: acc[2] > 150),\n",
    "               map(get([1, 2])), list)"
   ]
  },
  {
   "cell_type": "markdown",
   "metadata": {},
   "source": [
    "# compose"
   ]
  },
  {
   "cell_type": "code",
   "execution_count": 8,
   "metadata": {},
   "outputs": [
    {
     "data": {
      "text/plain": [
       "{'F': [(1, 'Alice', 100, 'F'), (5, 'Edith', 300, 'F')],\n",
       " 'M': [(2, 'Bob', 200, 'M'), (3, 'Charlie', 150, 'M'), (4, 'Dennis', 50, 'M')]}"
      ]
     },
     "execution_count": 8,
     "metadata": {},
     "output_type": "execute_result"
    }
   ],
   "source": [
    "from toolz import compose\n",
    "from toolz.curried import get, pluck, groupby, valmap\n",
    "\n",
    "groupby(get(3), accounts)"
   ]
  },
  {
   "cell_type": "markdown",
   "metadata": {},
   "source": []
  },
  {
   "cell_type": "code",
   "execution_count": 6,
   "metadata": {},
   "outputs": [
    {
     "data": {
      "text/plain": [
       "{'F': 400, 'M': 400}"
      ]
     },
     "execution_count": 6,
     "metadata": {},
     "output_type": "execute_result"
    }
   ],
   "source": [
    "#compose from right to left\n",
    "# valmap: change the value of a dict. Here groupby returns a dict.\n",
    "\n",
    "valmap(compose(sum, pluck(2)), groupby(get(3), accounts))"
   ]
  },
  {
   "cell_type": "code",
   "execution_count": 9,
   "metadata": {},
   "outputs": [
    {
     "data": {
      "text/plain": [
       "{'F': 400, 'M': 400}"
      ]
     },
     "execution_count": 9,
     "metadata": {},
     "output_type": "execute_result"
    }
   ],
   "source": [
    "# pipe from left to right\n",
    "pipe(accounts, groupby(get(3)), valmap(compose(sum, pluck(2))))"
   ]
  },
  {
   "cell_type": "markdown",
   "metadata": {},
   "source": [
    "# reduceby"
   ]
  },
  {
   "cell_type": "code",
   "execution_count": 10,
   "metadata": {},
   "outputs": [
    {
     "data": {
      "text/plain": [
       "{True: 6, False: 4}"
      ]
     },
     "execution_count": 10,
     "metadata": {},
     "output_type": "execute_result"
    }
   ],
   "source": [
    "# Perform a simultaneous groupby and reduction\n",
    "\n",
    "from toolz import reduceby\n",
    "\n",
    "def iseven(n):\n",
    "    return n % 2 == 0\n",
    "\n",
    "def add(x, y):\n",
    "    return x + y\n",
    "\n",
    "reduceby(iseven, add, [1, 2, 3, 4])\n",
    "{True: 6, False: 4}"
   ]
  },
  {
   "cell_type": "markdown",
   "metadata": {},
   "source": [
    "# join"
   ]
  },
  {
   "cell_type": "code",
   "execution_count": 11,
   "metadata": {},
   "outputs": [
    {
     "name": "stdout",
     "output_type": "stream",
     "text": [
      "('Alice', '123 Main Street')\n",
      "('Bob', '5 Adams Way')\n",
      "('Edith', '34 Rue St Michel')\n"
     ]
    }
   ],
   "source": [
    "addresses = [(1, '123 Main Street'),  # id, address\n",
    "             (2, '5 Adams Way'),\n",
    "             (5, '34 Rue St Michel')]\n",
    "\n",
    "from toolz import join, first\n",
    "\n",
    "result = join(first, accounts,\n",
    "              first, addresses)\n",
    "\n",
    "for ((id, name, bal, gender), (id, address)) in result:\n",
    "    print((name, address))"
   ]
  },
  {
   "cell_type": "markdown",
   "metadata": {},
   "source": [
    "\n",
    "\n",
    "# dict\n",
    "\n",
    "## valmap\n",
    "\n",
    "## merge_with \n",
    "\n",
    "## merge"
   ]
  },
  {
   "cell_type": "code",
   "execution_count": 16,
   "metadata": {},
   "outputs": [
    {
     "data": {
      "text/plain": [
       "{}"
      ]
     },
     "execution_count": 16,
     "metadata": {},
     "output_type": "execute_result"
    }
   ],
   "source": [
    "# merge_with: Merge dictionaries and apply function to combined values\n",
    "\n",
    "from toolz import merge_with\n",
    "from toolz import second\n",
    "\n",
    "merge_with(sum, {1: 1, 2: 2, 3: 0}, {1: 10, 2: 20})\n",
    "\n",
    "merge_with(second, {1: 1, 2: 2}, {2: 20, 3: 30})\n",
    "\n",
    "# valmap: change the value of a dict. Here groupby returns a dict.\n",
    "\n",
    "valmap(compose(sum, pluck(2)), groupby(get(3), accounts))"
   ]
  },
  {
   "cell_type": "code",
   "execution_count": 3,
   "metadata": {},
   "outputs": [
    {
     "name": "stdout",
     "output_type": "stream",
     "text": [
      "{1: 2, 3: 3, 4: 4}\n",
      "{1: 2, 3: 4}\n"
     ]
    }
   ],
   "source": [
    "from toolz import merge\n",
    "a = {1: 2, 3: 4}\n",
    "b = {3: 3, 4: 4}\n",
    "c = merge(a, b)\n",
    "\n",
    "print(c)\n",
    "print(a) # a don't change"
   ]
  },
  {
   "cell_type": "code",
   "execution_count": 17,
   "metadata": {},
   "outputs": [
    {
     "name": "stdout",
     "output_type": "stream",
     "text": [
      "Calculating for 5\n",
      "10\n",
      "10\n"
     ]
    }
   ],
   "source": [
    "from toolz import memoize\n",
    "\n",
    "# 使用 memoize 缓存函数结果\n",
    "@memoize\n",
    "def expensive_calculation(x):\n",
    "    print(f\"Calculating for {x}\")\n",
    "    return x * 2\n",
    "\n",
    "result1 = expensive_calculation(5)\n",
    "result2 = expensive_calculation(5)  # 结果从缓存中获取，不再计算\n",
    "print(result1)  # 输出: Calculating for 5 \\n 10\n",
    "print(result2)  # 输出: 10\n"
   ]
  },
  {
   "cell_type": "markdown",
   "metadata": {},
   "source": [
    "# unique"
   ]
  },
  {
   "cell_type": "code",
   "execution_count": 1,
   "metadata": {},
   "outputs": [
    {
     "name": "stdout",
     "output_type": "stream",
     "text": [
      "[1, 3, 2, 4, 5]\n"
     ]
    },
    {
     "data": {
      "text/plain": [
       "<generator object unique at 0x000001AB14A38E40>"
      ]
     },
     "execution_count": 1,
     "metadata": {},
     "output_type": "execute_result"
    }
   ],
   "source": [
    "from toolz import unique\n",
    "\n",
    "# 创建一个包含重复元素的列表\n",
    "my_list = [1, 3, 2, 2, 3, 4, 4, 5]\n",
    "\n",
    "# 使用unique函数筛选唯一的元素\n",
    "unique_elements = list(unique(my_list))\n",
    "\n",
    "# 打印结果\n",
    "print(unique_elements)\n",
    "unique(my_list)\n"
   ]
  },
  {
   "cell_type": "markdown",
   "metadata": {},
   "source": [
    "# frequencies"
   ]
  },
  {
   "cell_type": "markdown",
   "metadata": {},
   "source": [
    ">>> def stem(word):\n",
    "...     \"\"\" Stem word to primitive form \"\"\"\n",
    "...     return word.lower().rstrip(\",.!:;'-\\\"\").lstrip(\"'\\\"\")\n",
    "\n",
    ">>> from toolz import compose, frequencies\n",
    ">>> from toolz.curried import map\n",
    ">>> wordcount = compose(frequencies, map(stem), str.split)\n",
    "\n",
    ">>> sentence = \"This cat jumped over this other cat!\"\n",
    ">>> wordcount(sentence)\n",
    "{'this': 2, 'cat': 2, 'jumped': 1, 'over': 1, 'other': 1}"
   ]
  },
  {
   "cell_type": "markdown",
   "metadata": {},
   "source": [
    "# concat\n",
    "\n",
    "## mapcat"
   ]
  },
  {
   "cell_type": "code",
   "execution_count": 12,
   "metadata": {},
   "outputs": [
    {
     "name": "stdout",
     "output_type": "stream",
     "text": [
      "[1, 2, 3]\n",
      "<itertools.chain object at 0x00000201F413BA30>\n"
     ]
    },
    {
     "data": {
      "text/plain": [
       "['A', 'B', 'C', 'D', 'E']"
      ]
     },
     "execution_count": 12,
     "metadata": {},
     "output_type": "execute_result"
    }
   ],
   "source": [
    "from toolz import concat, mapcat\n",
    "\n",
    "print(list(concat([[1], [2, 3]])))\n",
    "\n",
    "a = [[1], [2, 3]]\n",
    "print(concat((a)))\n",
    "\n",
    "list(mapcat(lambda s: [c.upper() for c in s], [[\"a\", \"b\"], [\"c\", \"d\", \"e\"]]))"
   ]
  },
  {
   "cell_type": "markdown",
   "metadata": {},
   "source": [
    "# curry - Partial Evaluation\n",
    "\n",
    "* "
   ]
  },
  {
   "cell_type": "code",
   "execution_count": null,
   "metadata": {},
   "outputs": [],
   "source": [
    "from toolz.curried import curry\n",
    "\n",
    "@curry\n",
    "def autocomplete():\n",
    "    pass"
   ]
  },
  {
   "cell_type": "markdown",
   "metadata": {},
   "source": [
    "# lazy evaluation\n",
    "\n",
    "* # toolz' map is lazy by default"
   ]
  }
 ],
 "metadata": {
  "kernelspec": {
   "display_name": "base",
   "language": "python",
   "name": "python3"
  },
  "language_info": {
   "codemirror_mode": {
    "name": "ipython",
    "version": 3
   },
   "file_extension": ".py",
   "mimetype": "text/x-python",
   "name": "python",
   "nbconvert_exporter": "python",
   "pygments_lexer": "ipython3",
   "version": "3.9.13"
  },
  "orig_nbformat": 4
 },
 "nbformat": 4,
 "nbformat_minor": 2
}
