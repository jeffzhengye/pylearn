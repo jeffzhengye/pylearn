{
 "cells": [
  {
   "attachments": {},
   "cell_type": "markdown",
   "metadata": {},
   "source": [
    "# windows中install\n",
    "\n",
    "* https://zhuanlan.zhihu.com/p/540015525\n",
    "* 其中： conda install -c conda-forge pynini ， 见：https://www.opengrm.org/twiki/bin/view/GRM/Pynini ， 其它方法安装不了。\n",
    "  * -c conda-forge 这个是用官方的源，很多国内源都没有这个\n",
    "* 中文参考： https://github.com/G-Meteor/Forced-Alignment-MFA\n",
    "  * mfa model download acoustic mandarin_mfa\n",
    "\n",
    "# 模型下载\n",
    "\n",
    "* mfa model download acoustic english_us_arpa\n",
    "* mfa model download dictionary english_us_arpa\n",
    "  * Saved model to C:\\Users\\73915\\Documents\\MFA\\pretrained_models\\acoustic\\english_us_arpa.zip\n",
    "* 中文\n",
    "  * mfa model download acoustic mandarin_mfa\n",
    "  * mfa model download dictionary mandarin_mfa\n",
    "  * https://mfa-models.readthedocs.io/en/latest/acoustic/Mandarin/Mandarin%20MFA%20acoustic%20model%20v2_0_0.html#Mandarin%20MFA%20acoustic%20model%20v2_0_0"
   ]
  },
  {
   "cell_type": "code",
   "execution_count": 7,
   "metadata": {},
   "outputs": [],
   "source": [
    "# script annotation split\n",
    "from pathlib import Path    \n",
    "from yelib.utils.file_utils import file2str_list\n",
    "\n",
    "root_path = Path(\"D:/dataset/audio/dataset/audio/huzhibo\")\n",
    "\n",
    "annotation_path = root_path.joinpath(\"hzb-annotation.txt\")\n",
    "\n",
    "lines = file2str_list(str(annotation_path))\n",
    "for line in lines:\n",
    "    parts = line.split(\"\\t\")\n",
    "    out_file = parts[0].split('/')[-1].replace(\".wav\", \".txt\")\n",
    "    out_file_path = root_path.joinpath(out_file)\n",
    "    out_file_path.write_text(parts[1])\n",
    "    \n",
    "\n"
   ]
  },
  {
   "cell_type": "code",
   "execution_count": null,
   "metadata": {},
   "outputs": [],
   "source": []
  }
 ],
 "metadata": {
  "kernelspec": {
   "display_name": "py38",
   "language": "python",
   "name": "python3"
  },
  "language_info": {
   "codemirror_mode": {
    "name": "ipython",
    "version": 3
   },
   "file_extension": ".py",
   "mimetype": "text/x-python",
   "name": "python",
   "nbconvert_exporter": "python",
   "pygments_lexer": "ipython3",
   "version": "3.8.16"
  },
  "orig_nbformat": 4
 },
 "nbformat": 4,
 "nbformat_minor": 2
}
