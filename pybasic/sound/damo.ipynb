{
 "cells": [
  {
   "cell_type": "markdown",
   "metadata": {},
   "source": [
    "# speech\n",
    "\n",
    "* pip install \"modelscope[audio]\" -f https://modelscope.oss-cn-beijing.aliyuncs.com/releases/repo.html\n",
    "* pip install kantts -f https://modelscope.oss-cn-beijing.aliyuncs.com/releases/repo.html\n",
    "\n",
    "* 只能在linux下安装\n",
    "  * pip install ttsfrd -f https://modelscope.oss-cn-beijing.aliyuncs.com/releases/repo.html"
   ]
  },
  {
   "cell_type": "code",
   "execution_count": 1,
   "metadata": {},
   "outputs": [
    {
     "name": "stderr",
     "output_type": "stream",
     "text": [
      "c:\\Users\\73915\\.conda\\envs\\open_editor\\lib\\site-packages\\requests\\__init__.py:102: RequestsDependencyWarning: urllib3 (1.26.13) or chardet (5.1.0)/charset_normalizer (2.0.12) doesn't match a supported version!\n",
      "  warnings.warn(\"urllib3 ({}) or chardet ({})/charset_normalizer ({}) doesn't match a supported \"\n",
      "2023-09-22 23:35:37,516 - modelscope - INFO - PyTorch version 2.0.1+cu117 Found.\n",
      "2023-09-22 23:35:37,524 - modelscope - INFO - TensorFlow version 2.13.0 Found.\n",
      "2023-09-22 23:35:37,526 - modelscope - INFO - Loading ast index from C:\\Users\\73915\\.cache\\modelscope\\ast_indexer\n",
      "2023-09-22 23:35:37,694 - modelscope - INFO - Loading done! Current index file version is 1.9.1, with md5 699d6d3996275e1edd60fb18a5f2f1ca and a total number of 924 components indexed\n",
      "2023-09-22 23:35:39,232 - modelscope - INFO - Model revision not specified, use the latest revision: v1.0.2\n"
     ]
    },
    {
     "ename": "RuntimeError",
     "evalue": "Failed to import modelscope.models.audio.tts.sambert_hifi because of the following error (look up to see its traceback):\nNo module named 'ttsfrd'",
     "output_type": "error",
     "traceback": [
      "\u001b[1;31m---------------------------------------------------------------------------\u001b[0m",
      "\u001b[1;31mModuleNotFoundError\u001b[0m                       Traceback (most recent call last)",
      "File \u001b[1;32mc:\\Users\\73915\\.conda\\envs\\open_editor\\lib\\site-packages\\modelscope\\utils\\import_utils.py:438\u001b[0m, in \u001b[0;36mLazyImportModule._get_module\u001b[1;34m(self, module_name)\u001b[0m\n\u001b[0;32m    437\u001b[0m         requires(module_name_full, requirements)\n\u001b[1;32m--> 438\u001b[0m     \u001b[39mreturn\u001b[39;00m importlib\u001b[39m.\u001b[39;49mimport_module(\u001b[39m'\u001b[39;49m\u001b[39m.\u001b[39;49m\u001b[39m'\u001b[39;49m \u001b[39m+\u001b[39;49m module_name, \u001b[39mself\u001b[39;49m\u001b[39m.\u001b[39;49m\u001b[39m__name__\u001b[39;49m)\n\u001b[0;32m    439\u001b[0m \u001b[39mexcept\u001b[39;00m \u001b[39mException\u001b[39;00m \u001b[39mas\u001b[39;00m e:\n",
      "File \u001b[1;32mc:\\Users\\73915\\.conda\\envs\\open_editor\\lib\\importlib\\__init__.py:127\u001b[0m, in \u001b[0;36mimport_module\u001b[1;34m(name, package)\u001b[0m\n\u001b[0;32m    126\u001b[0m         level \u001b[39m+\u001b[39m\u001b[39m=\u001b[39m \u001b[39m1\u001b[39m\n\u001b[1;32m--> 127\u001b[0m \u001b[39mreturn\u001b[39;00m _bootstrap\u001b[39m.\u001b[39;49m_gcd_import(name[level:], package, level)\n",
      "File \u001b[1;32m<frozen importlib._bootstrap>:1014\u001b[0m, in \u001b[0;36m_gcd_import\u001b[1;34m(name, package, level)\u001b[0m\n",
      "File \u001b[1;32m<frozen importlib._bootstrap>:991\u001b[0m, in \u001b[0;36m_find_and_load\u001b[1;34m(name, import_)\u001b[0m\n",
      "File \u001b[1;32m<frozen importlib._bootstrap>:975\u001b[0m, in \u001b[0;36m_find_and_load_unlocked\u001b[1;34m(name, import_)\u001b[0m\n",
      "File \u001b[1;32m<frozen importlib._bootstrap>:671\u001b[0m, in \u001b[0;36m_load_unlocked\u001b[1;34m(spec)\u001b[0m\n",
      "File \u001b[1;32m<frozen importlib._bootstrap_external>:843\u001b[0m, in \u001b[0;36mexec_module\u001b[1;34m(self, module)\u001b[0m\n",
      "File \u001b[1;32m<frozen importlib._bootstrap>:219\u001b[0m, in \u001b[0;36m_call_with_frames_removed\u001b[1;34m(f, *args, **kwds)\u001b[0m\n",
      "File \u001b[1;32mc:\\Users\\73915\\.conda\\envs\\open_editor\\lib\\site-packages\\modelscope\\models\\audio\\tts\\sambert_hifi.py:27\u001b[0m, in \u001b[0;36m<module>\u001b[1;34m\u001b[0m\n\u001b[0;32m     26\u001b[0m \u001b[39mfrom\u001b[39;00m \u001b[39mmodelscope\u001b[39;00m\u001b[39m.\u001b[39;00m\u001b[39mutils\u001b[39;00m\u001b[39m.\u001b[39;00m\u001b[39mlogger\u001b[39;00m \u001b[39mimport\u001b[39;00m get_logger\n\u001b[1;32m---> 27\u001b[0m \u001b[39mfrom\u001b[39;00m \u001b[39m.\u001b[39;00m\u001b[39mvoice\u001b[39;00m \u001b[39mimport\u001b[39;00m Voice\n\u001b[0;32m     29\u001b[0m __all__ \u001b[39m=\u001b[39m [\u001b[39m'\u001b[39m\u001b[39mSambertHifigan\u001b[39m\u001b[39m'\u001b[39m]\n",
      "File \u001b[1;32mc:\\Users\\73915\\.conda\\envs\\open_editor\\lib\\site-packages\\modelscope\\models\\audio\\tts\\voice.py:13\u001b[0m, in \u001b[0;36m<module>\u001b[1;34m\u001b[0m\n\u001b[0;32m     12\u001b[0m \u001b[39mimport\u001b[39;00m \u001b[39myaml\u001b[39;00m\n\u001b[1;32m---> 13\u001b[0m \u001b[39mfrom\u001b[39;00m \u001b[39mkantts\u001b[39;00m\u001b[39m.\u001b[39;00m\u001b[39mdatasets\u001b[39;00m\u001b[39m.\u001b[39;00m\u001b[39mdataset\u001b[39;00m \u001b[39mimport\u001b[39;00m get_am_datasets, get_voc_datasets\n\u001b[0;32m     14\u001b[0m \u001b[39mfrom\u001b[39;00m \u001b[39mkantts\u001b[39;00m\u001b[39m.\u001b[39;00m\u001b[39mmodels\u001b[39;00m \u001b[39mimport\u001b[39;00m model_builder\n",
      "File \u001b[1;32mc:\\Users\\73915\\.conda\\envs\\open_editor\\lib\\site-packages\\kantts\\datasets\\dataset.py:13\u001b[0m, in \u001b[0;36m<module>\u001b[1;34m\u001b[0m\n\u001b[0;32m     12\u001b[0m \u001b[39mimport\u001b[39;00m \u001b[39mmath\u001b[39;00m\n\u001b[1;32m---> 13\u001b[0m \u001b[39mfrom\u001b[39;00m \u001b[39mkantts\u001b[39;00m\u001b[39m.\u001b[39;00m\u001b[39mutils\u001b[39;00m\u001b[39m.\u001b[39;00m\u001b[39mling_unit\u001b[39;00m\u001b[39m.\u001b[39;00m\u001b[39mling_unit\u001b[39;00m \u001b[39mimport\u001b[39;00m KanTtsLinguisticUnit, emotion_types\n\u001b[0;32m     14\u001b[0m \u001b[39mfrom\u001b[39;00m \u001b[39mscipy\u001b[39;00m\u001b[39m.\u001b[39;00m\u001b[39mstats\u001b[39;00m \u001b[39mimport\u001b[39;00m betabinom\n",
      "File \u001b[1;32mc:\\Users\\73915\\.conda\\envs\\open_editor\\lib\\site-packages\\kantts\\utils\\ling_unit\\__init__.py:1\u001b[0m, in \u001b[0;36m<module>\u001b[1;34m\u001b[0m\n\u001b[1;32m----> 1\u001b[0m \u001b[39mimport\u001b[39;00m \u001b[39mttsfrd\u001b[39;00m\n\u001b[0;32m      3\u001b[0m ENG_LANG_MAPPING \u001b[39m=\u001b[39m {\n\u001b[0;32m      4\u001b[0m     \u001b[39m\"\u001b[39m\u001b[39mPinYin\u001b[39m\u001b[39m\"\u001b[39m: \u001b[39m\"\u001b[39m\u001b[39mzh-cn\u001b[39m\u001b[39m\"\u001b[39m,\n\u001b[0;32m      5\u001b[0m     \u001b[39m\"\u001b[39m\u001b[39mEnglish\u001b[39m\u001b[39m\"\u001b[39m: \u001b[39m\"\u001b[39m\u001b[39men-us\u001b[39m\u001b[39m\"\u001b[39m,\n\u001b[1;32m   (...)\u001b[0m\n\u001b[0;32m     16\u001b[0m     \u001b[39m\"\u001b[39m\u001b[39mRussian\u001b[39m\u001b[39m\"\u001b[39m: \u001b[39m\"\u001b[39m\u001b[39mrussian\u001b[39m\u001b[39m\"\u001b[39m,\n\u001b[0;32m     17\u001b[0m }\n",
      "\u001b[1;31mModuleNotFoundError\u001b[0m: No module named 'ttsfrd'",
      "\nThe above exception was the direct cause of the following exception:\n",
      "\u001b[1;31mRuntimeError\u001b[0m                              Traceback (most recent call last)",
      "\u001b[1;32md:\\code\\learn\\pylearn\\pybasic\\sound\\damo.ipynb Cell 2\u001b[0m line \u001b[0;36m<cell line: 7>\u001b[1;34m()\u001b[0m\n\u001b[0;32m      <a href='vscode-notebook-cell:/d%3A/code/learn/pylearn/pybasic/sound/damo.ipynb#W0sZmlsZQ%3D%3D?line=4'>5</a>\u001b[0m text \u001b[39m=\u001b[39m \u001b[39m'\u001b[39m\u001b[39m待合成文本\u001b[39m\u001b[39m'\u001b[39m\n\u001b[0;32m      <a href='vscode-notebook-cell:/d%3A/code/learn/pylearn/pybasic/sound/damo.ipynb#W0sZmlsZQ%3D%3D?line=5'>6</a>\u001b[0m model_id \u001b[39m=\u001b[39m \u001b[39m'\u001b[39m\u001b[39mdamo/speech_sambert-hifigan_tts_zh-cn_16k\u001b[39m\u001b[39m'\u001b[39m\n\u001b[1;32m----> <a href='vscode-notebook-cell:/d%3A/code/learn/pylearn/pybasic/sound/damo.ipynb#W0sZmlsZQ%3D%3D?line=6'>7</a>\u001b[0m sambert_hifigan_tts \u001b[39m=\u001b[39m pipeline(task\u001b[39m=\u001b[39;49mTasks\u001b[39m.\u001b[39;49mtext_to_speech, model\u001b[39m=\u001b[39;49mmodel_id)\n\u001b[0;32m      <a href='vscode-notebook-cell:/d%3A/code/learn/pylearn/pybasic/sound/damo.ipynb#W0sZmlsZQ%3D%3D?line=7'>8</a>\u001b[0m output \u001b[39m=\u001b[39m sambert_hifigan_tts(\u001b[39minput\u001b[39m\u001b[39m=\u001b[39mtext, voice\u001b[39m=\u001b[39m\u001b[39m'\u001b[39m\u001b[39mzhitian_emo\u001b[39m\u001b[39m'\u001b[39m)\n\u001b[0;32m      <a href='vscode-notebook-cell:/d%3A/code/learn/pylearn/pybasic/sound/damo.ipynb#W0sZmlsZQ%3D%3D?line=8'>9</a>\u001b[0m wav \u001b[39m=\u001b[39m output[OutputKeys\u001b[39m.\u001b[39mOUTPUT_WAV]\n",
      "File \u001b[1;32mc:\\Users\\73915\\.conda\\envs\\open_editor\\lib\\site-packages\\modelscope\\pipelines\\builder.py:159\u001b[0m, in \u001b[0;36mpipeline\u001b[1;34m(task, model, preprocessor, config_file, pipeline_name, framework, device, model_revision, ignore_file_pattern, **kwargs)\u001b[0m\n\u001b[0;32m    156\u001b[0m \u001b[39mif\u001b[39;00m preprocessor \u001b[39mis\u001b[39;00m \u001b[39mnot\u001b[39;00m \u001b[39mNone\u001b[39;00m:\n\u001b[0;32m    157\u001b[0m     cfg\u001b[39m.\u001b[39mpreprocessor \u001b[39m=\u001b[39m preprocessor\n\u001b[1;32m--> 159\u001b[0m \u001b[39mreturn\u001b[39;00m build_pipeline(cfg, task_name\u001b[39m=\u001b[39;49mtask)\n",
      "File \u001b[1;32mc:\\Users\\73915\\.conda\\envs\\open_editor\\lib\\site-packages\\modelscope\\pipelines\\builder.py:65\u001b[0m, in \u001b[0;36mbuild_pipeline\u001b[1;34m(cfg, task_name, default_args)\u001b[0m\n\u001b[0;32m     54\u001b[0m \u001b[39mdef\u001b[39;00m \u001b[39mbuild_pipeline\u001b[39m(cfg: ConfigDict,\n\u001b[0;32m     55\u001b[0m                    task_name: \u001b[39mstr\u001b[39m \u001b[39m=\u001b[39m \u001b[39mNone\u001b[39;00m,\n\u001b[0;32m     56\u001b[0m                    default_args: \u001b[39mdict\u001b[39m \u001b[39m=\u001b[39m \u001b[39mNone\u001b[39;00m):\n\u001b[0;32m     57\u001b[0m \u001b[39m    \u001b[39m\u001b[39m\"\"\" build pipeline given model config dict.\u001b[39;00m\n\u001b[0;32m     58\u001b[0m \n\u001b[0;32m     59\u001b[0m \u001b[39m    Args:\u001b[39;00m\n\u001b[1;32m   (...)\u001b[0m\n\u001b[0;32m     63\u001b[0m \u001b[39m        default_args (dict, optional): Default initialization arguments.\u001b[39;00m\n\u001b[0;32m     64\u001b[0m \u001b[39m    \"\"\"\u001b[39;00m\n\u001b[1;32m---> 65\u001b[0m     \u001b[39mreturn\u001b[39;00m build_from_cfg(\n\u001b[0;32m     66\u001b[0m         cfg, PIPELINES, group_key\u001b[39m=\u001b[39;49mtask_name, default_args\u001b[39m=\u001b[39;49mdefault_args)\n",
      "File \u001b[1;32mc:\\Users\\73915\\.conda\\envs\\open_editor\\lib\\site-packages\\modelscope\\utils\\registry.py:184\u001b[0m, in \u001b[0;36mbuild_from_cfg\u001b[1;34m(cfg, registry, group_key, default_args)\u001b[0m\n\u001b[0;32m    182\u001b[0m \u001b[39mfrom\u001b[39;00m \u001b[39mmodelscope\u001b[39;00m\u001b[39m.\u001b[39;00m\u001b[39mutils\u001b[39;00m\u001b[39m.\u001b[39;00m\u001b[39mimport_utils\u001b[39;00m \u001b[39mimport\u001b[39;00m LazyImportModule\n\u001b[0;32m    183\u001b[0m sig \u001b[39m=\u001b[39m (registry\u001b[39m.\u001b[39mname\u001b[39m.\u001b[39mupper(), group_key, cfg[\u001b[39m'\u001b[39m\u001b[39mtype\u001b[39m\u001b[39m'\u001b[39m])\n\u001b[1;32m--> 184\u001b[0m LazyImportModule\u001b[39m.\u001b[39;49mimport_module(sig)\n\u001b[0;32m    186\u001b[0m args \u001b[39m=\u001b[39m cfg\u001b[39m.\u001b[39mcopy()\n\u001b[0;32m    187\u001b[0m \u001b[39mif\u001b[39;00m default_args \u001b[39mis\u001b[39;00m \u001b[39mnot\u001b[39;00m \u001b[39mNone\u001b[39;00m:\n",
      "File \u001b[1;32mc:\\Users\\73915\\.conda\\envs\\open_editor\\lib\\site-packages\\modelscope\\utils\\import_utils.py:462\u001b[0m, in \u001b[0;36mLazyImportModule.import_module\u001b[1;34m(signature)\u001b[0m\n\u001b[0;32m    459\u001b[0m         requirements \u001b[39m=\u001b[39m LazyImportModule\u001b[39m.\u001b[39mAST_INDEX[REQUIREMENT_KEY][\n\u001b[0;32m    460\u001b[0m             module_name]\n\u001b[0;32m    461\u001b[0m         requires(module_name, requirements)\n\u001b[1;32m--> 462\u001b[0m     importlib\u001b[39m.\u001b[39;49mimport_module(module_name)\n\u001b[0;32m    463\u001b[0m \u001b[39melse\u001b[39;00m:\n\u001b[0;32m    464\u001b[0m     logger\u001b[39m.\u001b[39mwarning(\u001b[39mf\u001b[39m\u001b[39m'\u001b[39m\u001b[39m{\u001b[39;00msignature\u001b[39m}\u001b[39;00m\u001b[39m not found in ast index file\u001b[39m\u001b[39m'\u001b[39m)\n",
      "File \u001b[1;32mc:\\Users\\73915\\.conda\\envs\\open_editor\\lib\\importlib\\__init__.py:127\u001b[0m, in \u001b[0;36mimport_module\u001b[1;34m(name, package)\u001b[0m\n\u001b[0;32m    125\u001b[0m             \u001b[39mbreak\u001b[39;00m\n\u001b[0;32m    126\u001b[0m         level \u001b[39m+\u001b[39m\u001b[39m=\u001b[39m \u001b[39m1\u001b[39m\n\u001b[1;32m--> 127\u001b[0m \u001b[39mreturn\u001b[39;00m _bootstrap\u001b[39m.\u001b[39;49m_gcd_import(name[level:], package, level)\n",
      "File \u001b[1;32m<frozen importlib._bootstrap>:1014\u001b[0m, in \u001b[0;36m_gcd_import\u001b[1;34m(name, package, level)\u001b[0m\n",
      "File \u001b[1;32m<frozen importlib._bootstrap>:991\u001b[0m, in \u001b[0;36m_find_and_load\u001b[1;34m(name, import_)\u001b[0m\n",
      "File \u001b[1;32m<frozen importlib._bootstrap>:975\u001b[0m, in \u001b[0;36m_find_and_load_unlocked\u001b[1;34m(name, import_)\u001b[0m\n",
      "File \u001b[1;32m<frozen importlib._bootstrap>:671\u001b[0m, in \u001b[0;36m_load_unlocked\u001b[1;34m(spec)\u001b[0m\n",
      "File \u001b[1;32m<frozen importlib._bootstrap_external>:843\u001b[0m, in \u001b[0;36mexec_module\u001b[1;34m(self, module)\u001b[0m\n",
      "File \u001b[1;32m<frozen importlib._bootstrap>:219\u001b[0m, in \u001b[0;36m_call_with_frames_removed\u001b[1;34m(f, *args, **kwds)\u001b[0m\n",
      "File \u001b[1;32mc:\\Users\\73915\\.conda\\envs\\open_editor\\lib\\site-packages\\modelscope\\pipelines\\audio\\text_to_speech_pipeline.py:9\u001b[0m, in \u001b[0;36m<module>\u001b[1;34m\u001b[0m\n\u001b[0;32m      7\u001b[0m \u001b[39mfrom\u001b[39;00m \u001b[39mmodelscope\u001b[39;00m\u001b[39m.\u001b[39;00m\u001b[39mmetainfo\u001b[39;00m \u001b[39mimport\u001b[39;00m Pipelines\n\u001b[0;32m      8\u001b[0m \u001b[39mfrom\u001b[39;00m \u001b[39mmodelscope\u001b[39;00m\u001b[39m.\u001b[39;00m\u001b[39mmodels\u001b[39;00m \u001b[39mimport\u001b[39;00m Model\n\u001b[1;32m----> 9\u001b[0m \u001b[39mfrom\u001b[39;00m \u001b[39mmodelscope\u001b[39;00m\u001b[39m.\u001b[39;00m\u001b[39mmodels\u001b[39;00m\u001b[39m.\u001b[39;00m\u001b[39maudio\u001b[39;00m\u001b[39m.\u001b[39;00m\u001b[39mtts\u001b[39;00m \u001b[39mimport\u001b[39;00m SambertHifigan\n\u001b[0;32m     10\u001b[0m \u001b[39mfrom\u001b[39;00m \u001b[39mmodelscope\u001b[39;00m\u001b[39m.\u001b[39;00m\u001b[39moutputs\u001b[39;00m \u001b[39mimport\u001b[39;00m OutputKeys\n\u001b[0;32m     11\u001b[0m \u001b[39mfrom\u001b[39;00m \u001b[39mmodelscope\u001b[39;00m\u001b[39m.\u001b[39;00m\u001b[39mpipelines\u001b[39;00m\u001b[39m.\u001b[39;00m\u001b[39mbase\u001b[39;00m \u001b[39mimport\u001b[39;00m Input, InputModel, Pipeline\n",
      "File \u001b[1;32m<frozen importlib._bootstrap>:1039\u001b[0m, in \u001b[0;36m_handle_fromlist\u001b[1;34m(module, fromlist, import_, recursive)\u001b[0m\n",
      "File \u001b[1;32mc:\\Users\\73915\\.conda\\envs\\open_editor\\lib\\site-packages\\modelscope\\utils\\import_utils.py:421\u001b[0m, in \u001b[0;36mLazyImportModule.__getattr__\u001b[1;34m(self, name)\u001b[0m\n\u001b[0;32m    419\u001b[0m     value \u001b[39m=\u001b[39m \u001b[39mself\u001b[39m\u001b[39m.\u001b[39m_get_module(name)\n\u001b[0;32m    420\u001b[0m \u001b[39melif\u001b[39;00m name \u001b[39min\u001b[39;00m \u001b[39mself\u001b[39m\u001b[39m.\u001b[39m_class_to_module\u001b[39m.\u001b[39mkeys():\n\u001b[1;32m--> 421\u001b[0m     module \u001b[39m=\u001b[39m \u001b[39mself\u001b[39;49m\u001b[39m.\u001b[39;49m_get_module(\u001b[39mself\u001b[39;49m\u001b[39m.\u001b[39;49m_class_to_module[name])\n\u001b[0;32m    422\u001b[0m     value \u001b[39m=\u001b[39m \u001b[39mgetattr\u001b[39m(module, name)\n\u001b[0;32m    423\u001b[0m \u001b[39melse\u001b[39;00m:\n",
      "File \u001b[1;32mc:\\Users\\73915\\.conda\\envs\\open_editor\\lib\\site-packages\\modelscope\\utils\\import_utils.py:440\u001b[0m, in \u001b[0;36mLazyImportModule._get_module\u001b[1;34m(self, module_name)\u001b[0m\n\u001b[0;32m    438\u001b[0m     \u001b[39mreturn\u001b[39;00m importlib\u001b[39m.\u001b[39mimport_module(\u001b[39m'\u001b[39m\u001b[39m.\u001b[39m\u001b[39m'\u001b[39m \u001b[39m+\u001b[39m module_name, \u001b[39mself\u001b[39m\u001b[39m.\u001b[39m\u001b[39m__name__\u001b[39m)\n\u001b[0;32m    439\u001b[0m \u001b[39mexcept\u001b[39;00m \u001b[39mException\u001b[39;00m \u001b[39mas\u001b[39;00m e:\n\u001b[1;32m--> 440\u001b[0m     \u001b[39mraise\u001b[39;00m \u001b[39mRuntimeError\u001b[39;00m(\n\u001b[0;32m    441\u001b[0m         \u001b[39mf\u001b[39m\u001b[39m'\u001b[39m\u001b[39mFailed to import \u001b[39m\u001b[39m{\u001b[39;00m\u001b[39mself\u001b[39m\u001b[39m.\u001b[39m\u001b[39m__name__\u001b[39m\u001b[39m}\u001b[39;00m\u001b[39m.\u001b[39m\u001b[39m{\u001b[39;00mmodule_name\u001b[39m}\u001b[39;00m\u001b[39m because of the following error \u001b[39m\u001b[39m'\u001b[39m\n\u001b[0;32m    442\u001b[0m         \u001b[39mf\u001b[39m\u001b[39m'\u001b[39m\u001b[39m(look up to see its traceback):\u001b[39m\u001b[39m\\n\u001b[39;00m\u001b[39m{\u001b[39;00me\u001b[39m}\u001b[39;00m\u001b[39m'\u001b[39m) \u001b[39mfrom\u001b[39;00m \u001b[39me\u001b[39;00m\n",
      "\u001b[1;31mRuntimeError\u001b[0m: Failed to import modelscope.models.audio.tts.sambert_hifi because of the following error (look up to see its traceback):\nNo module named 'ttsfrd'"
     ]
    }
   ],
   "source": [
    "from modelscope.outputs import OutputKeys\n",
    "from modelscope.pipelines import pipeline\n",
    "from modelscope.utils.constant import Tasks\n",
    "\n",
    "text = '待合成文本'\n",
    "model_id = 'damo/speech_sambert-hifigan_tts_zh-cn_16k'\n",
    "sambert_hifigan_tts = pipeline(task=Tasks.text_to_speech, model=model_id)\n",
    "output = sambert_hifigan_tts(input=text, voice='zhitian_emo')\n",
    "wav = output[OutputKeys.OUTPUT_WAV]\n",
    "with open('output.wav', 'wb') as f:\n",
    "    f.write(wav)"
   ]
  },
  {
   "cell_type": "code",
   "execution_count": null,
   "metadata": {},
   "outputs": [],
   "source": []
  }
 ],
 "metadata": {
  "kernelspec": {
   "display_name": "py38",
   "language": "python",
   "name": "python3"
  },
  "language_info": {
   "codemirror_mode": {
    "name": "ipython",
    "version": 3
   },
   "file_extension": ".py",
   "mimetype": "text/x-python",
   "name": "python",
   "nbconvert_exporter": "python",
   "pygments_lexer": "ipython3",
   "version": "3.8.16"
  },
  "orig_nbformat": 4
 },
 "nbformat": 4,
 "nbformat_minor": 2
}
