{
 "cells": [
  {
   "cell_type": "code",
   "execution_count": 1,
   "metadata": {},
   "outputs": [
    {
     "ename": "Exception",
     "evalue": "系统找不到指定的路径。 (os error 3)",
     "output_type": "error",
     "traceback": [
      "\u001b[1;31m---------------------------------------------------------------------------\u001b[0m",
      "\u001b[1;31mException\u001b[0m                                 Traceback (most recent call last)",
      "\u001b[1;32md:\\code\\learn\\pylearn\\pybasic\\sound\\tts_vall_e.ipynb Cell 1\u001b[0m line \u001b[0;36m8\n\u001b[0;32m      <a href='vscode-notebook-cell:/d%3A/code/learn/pylearn/pybasic/sound/tts_vall_e.ipynb#W0sZmlsZQ%3D%3D?line=4'>5</a>\u001b[0m current \u001b[39m=\u001b[39m Path(\u001b[39m\"\u001b[39m\u001b[39mD:/code/audio/VALL-E-X\u001b[39m\u001b[39m\"\u001b[39m)\n\u001b[0;32m      <a href='vscode-notebook-cell:/d%3A/code/learn/pylearn/pybasic/sound/tts_vall_e.ipynb#W0sZmlsZQ%3D%3D?line=5'>6</a>\u001b[0m sys\u001b[39m.\u001b[39mpath\u001b[39m.\u001b[39mappend(\u001b[39mstr\u001b[39m(current))\n\u001b[1;32m----> <a href='vscode-notebook-cell:/d%3A/code/learn/pylearn/pybasic/sound/tts_vall_e.ipynb#W0sZmlsZQ%3D%3D?line=7'>8</a>\u001b[0m \u001b[39mfrom\u001b[39;00m \u001b[39mutils\u001b[39;00m\u001b[39m.\u001b[39;00m\u001b[39mgeneration\u001b[39;00m \u001b[39mimport\u001b[39;00m SAMPLE_RATE, generate_audio, preload_models\n\u001b[0;32m      <a href='vscode-notebook-cell:/d%3A/code/learn/pylearn/pybasic/sound/tts_vall_e.ipynb#W0sZmlsZQ%3D%3D?line=8'>9</a>\u001b[0m \u001b[39mfrom\u001b[39;00m \u001b[39mscipy\u001b[39;00m\u001b[39m.\u001b[39;00m\u001b[39mio\u001b[39;00m\u001b[39m.\u001b[39;00m\u001b[39mwavfile\u001b[39;00m \u001b[39mimport\u001b[39;00m write \u001b[39mas\u001b[39;00m write_wav\n\u001b[0;32m     <a href='vscode-notebook-cell:/d%3A/code/learn/pylearn/pybasic/sound/tts_vall_e.ipynb#W0sZmlsZQ%3D%3D?line=9'>10</a>\u001b[0m \u001b[39mfrom\u001b[39;00m \u001b[39mIPython\u001b[39;00m\u001b[39m.\u001b[39;00m\u001b[39mdisplay\u001b[39;00m \u001b[39mimport\u001b[39;00m Audio\n",
      "File \u001b[1;32mD:\\code\\audio\\VALL-E-X\\utils\\generation.py:47\u001b[0m\n\u001b[0;32m     43\u001b[0m codec \u001b[39m=\u001b[39m \u001b[39mNone\u001b[39;00m\n\u001b[0;32m     45\u001b[0m vocos \u001b[39m=\u001b[39m \u001b[39mNone\u001b[39;00m\n\u001b[1;32m---> 47\u001b[0m text_tokenizer \u001b[39m=\u001b[39m PhonemeBpeTokenizer(tokenizer_path\u001b[39m=\u001b[39;49m\u001b[39m\"\u001b[39;49m\u001b[39m./utils/g2p/bpe_69.json\u001b[39;49m\u001b[39m\"\u001b[39;49m)\n\u001b[0;32m     48\u001b[0m text_collater \u001b[39m=\u001b[39m get_text_token_collater()\n\u001b[0;32m     50\u001b[0m \u001b[39mdef\u001b[39;00m \u001b[39mpreload_models\u001b[39m():\n",
      "File \u001b[1;32mD:\\code\\audio\\VALL-E-X\\utils\\g2p\\__init__.py:13\u001b[0m, in \u001b[0;36mPhonemeBpeTokenizer.__init__\u001b[1;34m(self, tokenizer_path)\u001b[0m\n\u001b[0;32m     12\u001b[0m \u001b[39mdef\u001b[39;00m \u001b[39m__init__\u001b[39m(\u001b[39mself\u001b[39m, tokenizer_path \u001b[39m=\u001b[39m \u001b[39m\"\u001b[39m\u001b[39m./utils/g2p/bpe_1024.json\u001b[39m\u001b[39m\"\u001b[39m):\n\u001b[1;32m---> 13\u001b[0m   \u001b[39mself\u001b[39m\u001b[39m.\u001b[39mtokenizer \u001b[39m=\u001b[39m Tokenizer\u001b[39m.\u001b[39;49mfrom_file(tokenizer_path)\n",
      "\u001b[1;31mException\u001b[0m: 系统找不到指定的路径。 (os error 3)"
     ]
    }
   ],
   "source": [
    "import sys\n",
    "from pathlib import Path\n",
    "from PIL import Image\n",
    "\n",
    "current = Path(\"D:/code/audio/VALL-E-X\")\n",
    "sys.path.append(str(current))\n",
    "\n",
    "from utils.generation import SAMPLE_RATE, generate_audio, preload_models\n",
    "from scipy.io.wavfile import write as write_wav\n",
    "from IPython.display import Audio\n",
    "\n",
    "# download and load all models\n",
    "preload_models()\n",
    "\n",
    "# generate audio from text\n",
    "text_prompt = \"\"\"\n",
    "Hello, my name is Nose. And uh, and I like hamburger. Hahaha... But I also have other interests such as playing tactic toast.\n",
    "\"\"\"\n",
    "audio_array = generate_audio(text_prompt)\n",
    "\n",
    "# save audio to disk\n",
    "write_wav(\"vallex_generation.wav\", SAMPLE_RATE, audio_array)\n",
    "\n",
    "# play text in notebook\n",
    "Audio(audio_array, rate=SAMPLE_RATE)"
   ]
  },
  {
   "cell_type": "code",
   "execution_count": null,
   "metadata": {},
   "outputs": [],
   "source": []
  }
 ],
 "metadata": {
  "kernelspec": {
   "display_name": "py10",
   "language": "python",
   "name": "python3"
  },
  "language_info": {
   "codemirror_mode": {
    "name": "ipython",
    "version": 3
   },
   "file_extension": ".py",
   "mimetype": "text/x-python",
   "name": "python",
   "nbconvert_exporter": "python",
   "pygments_lexer": "ipython3",
   "version": "3.10.8"
  }
 },
 "nbformat": 4,
 "nbformat_minor": 2
}
