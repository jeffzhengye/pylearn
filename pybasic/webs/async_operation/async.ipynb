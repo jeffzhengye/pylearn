{
 "cells": [
  {
   "cell_type": "markdown",
   "metadata": {},
   "source": [
    "# 简化工具包\n",
    "\n",
    "## flower\n",
    "\n",
    "## anyio\n",
    "\n",
    "* High level asynchronous concurrency and networking framework that works on top of either trio or asyncio\n",
    "* works on top of either asyncio or trio\n",
    "* https://github.com/agronholm/anyio"
   ]
  }
 ],
 "metadata": {
  "language_info": {
   "name": "python"
  }
 },
 "nbformat": 4,
 "nbformat_minor": 2
}
