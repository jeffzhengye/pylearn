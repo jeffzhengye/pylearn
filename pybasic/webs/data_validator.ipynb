{
 "cells": [
  {
   "cell_type": "code",
   "execution_count": null,
   "metadata": {},
   "outputs": [],
   "source": [
    "# cerberus\n",
    "\n",
    "* https://github.com/pyeve/cerberus\n"
   ]
  }
 ],
 "metadata": {
  "language_info": {
   "name": "python"
  }
 },
 "nbformat": 4,
 "nbformat_minor": 2
}
