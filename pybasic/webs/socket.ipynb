{
 "cells": [
  {
   "cell_type": "markdown",
   "metadata": {},
   "source": [
    "# websocket\n",
    "\n",
    "* https://github.com/python-websockets/websockets\n",
    "* websockets 是一个基于 asyncio 的 Python 库，旨在提供简单易用的 WebSockets 服务器和客户端功能。\n",
    "* https://mp.weixin.qq.com/s/Czv8XTNgPmezRK_34OY61A"
   ]
  },
  {
   "cell_type": "markdown",
   "metadata": {
    "vscode": {
     "languageId": "plaintext"
    }
   },
   "source": [
    "# socket in flask and fastapi"
   ]
  }
 ],
 "metadata": {
  "language_info": {
   "name": "python"
  }
 },
 "nbformat": 4,
 "nbformat_minor": 2
}
