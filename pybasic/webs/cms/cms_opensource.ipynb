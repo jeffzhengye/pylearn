{
 "cells": [
  {
   "cell_type": "markdown",
   "metadata": {},
   "source": [
    "# Halo\n",
    "\n",
    "* [store](https://www.halo.run/store/apps)\n",
    "* [awesome-halo](https://github.com/halo-sigs/awesome-halo)\n",
    "* https://github.com/halo-dev"
   ]
  }
 ],
 "metadata": {
  "language_info": {
   "name": "python"
  }
 },
 "nbformat": 4,
 "nbformat_minor": 2
}
