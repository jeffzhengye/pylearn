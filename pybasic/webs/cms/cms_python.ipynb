{
 "cells": [
  {
   "cell_type": "markdown",
   "metadata": {},
   "source": [
    "# open sourced projects\n",
    "\n",
    "## django-cms\n",
    "\n",
    "* https://github.com/django-cms/django-cms\n",
    "* 10k stars, updated recently\n",
    "\n",
    "## wagtail\n",
    "\n",
    "* 17.5k stars, updates frequently\n",
    "* https://github.com/wagtail/wagtail\n",
    "\n",
    "# awesome cms\n",
    "\n",
    "* https://github.com/postlight/awesome-cms?tab=readme-ov-file#python"
   ]
  }
 ],
 "metadata": {
  "language_info": {
   "name": "python"
  }
 },
 "nbformat": 4,
 "nbformat_minor": 2
}
