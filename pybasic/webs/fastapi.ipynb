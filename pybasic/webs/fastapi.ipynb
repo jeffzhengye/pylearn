{
 "cells": [
  {
   "cell_type": "markdown",
   "metadata": {},
   "source": [
    "# tutorials\n",
    "\n",
    "* https://fastapi.tiangolo.com/tutorial/\n",
    "* https://fastapi.tiangolo.com/zh/tutorial/query-params/\n",
    "* https://www.w3schools.cn/fastapi/index.html   \n",
    "\n",
    "# tools\n",
    "\n",
    "## PyNest\n",
    "\n",
    "* 比较新，\n",
    "* PyNest is a Python framework built on top of FastAPI that follows the modular architecture of NestJS\n",
    "* https://pythonnest.github.io/PyNest/\n",
    "* https://github.com/PythonNest/PyNest"
   ]
  },
  {
   "cell_type": "markdown",
   "metadata": {},
   "source": [
    "# Adds simple SQLAlchemy support to FastAPI\n",
    "* pip install fastapi-sqlalchemy\n",
    "* https://zzun.app/repo/mfreeborn-fastapi-sqlalchemy-python-fastapi-utilities"
   ]
  },
  {
   "cell_type": "code",
   "execution_count": null,
   "metadata": {},
   "outputs": [],
   "source": [
    "from fastapi import FastAPI\n",
    "from fastapi_sqlalchemy import DBSessionMiddleware  # middleware helper\n",
    "# an object to provide global access to a database session\n",
    "from fastapi_sqlalchemy import db\n",
    "\n",
    "from app.models import User\n",
    "\n",
    "app = FastAPI()\n",
    "\n",
    "app.add_middleware(DBSessionMiddleware, db_url=\"sqlite://\")\n",
    "\n",
    "# once the middleware is applied, any route can then access the database session\n",
    "# from the global ``db``\n",
    "\n",
    "\n",
    "@app.get(\"/users\")\n",
    "def get_users():\n",
    "    users = db.session.query(User).all()\n",
    "\n",
    "    return users\n"
   ]
  },
  {
   "cell_type": "markdown",
   "metadata": {},
   "source": [
    "## Usage outside of a route\n",
    "* schedulers example"
   ]
  },
  {
   "cell_type": "code",
   "execution_count": null,
   "metadata": {},
   "outputs": [],
   "source": [
    "import pytz\n",
    "# other schedulers are available\n",
    "from apscheduler.schedulers.asyncio import AsyncIOScheduler\n",
    "from fastapi import FastAPI\n",
    "from fastapi_sqlalchemy import db\n",
    "\n",
    "from app.models import User, UserCount\n",
    "\n",
    "app = FastAPI()\n",
    "\n",
    "app.add_middleware(DBSessionMiddleware, db_url=\"sqlite://\")\n",
    "\n",
    "\n",
    "@app.on_event('startup')\n",
    "async def startup_event():\n",
    "    scheduler = AsyncIOScheduler(timezone=pytz.utc)\n",
    "    scheduler.start()\n",
    "    # runs every night at midnight\n",
    "    scheduler.add_job(count_users_task, \"cron\", hour=0)\n",
    "\n",
    "\n",
    "def count_users_task():\n",
    "    \"\"\"Count the number of users in the database and save it into the user_counts table.\"\"\"\n",
    "\n",
    "    # we are outside of a request context, therefore we cannot rely on ``DBSessionMiddleware``\n",
    "    # to create a database session for us. Instead, we can use the same ``db`` object and\n",
    "    # use it as a context manager, like so:\n",
    "\n",
    "    with db():\n",
    "        user_count = db.session.query(User).count()\n",
    "\n",
    "        db.session.add(UserCount(user_count))\n",
    "        db.session.commit()\n",
    "\n",
    "    # no longer able to access a database session once the db() context manager has ended\n",
    "\n",
    "    return users\n"
   ]
  },
  {
   "cell_type": "markdown",
   "metadata": {},
   "source": [
    "# run app using uvicorn\n",
    "\n",
    "* \n",
    "```python\n",
    "import uvicorn\n",
    "uvicorn.run('main:app',host='127.0.0.1', port=9080, reload=True, access_log=False,workers=1, use_colors=True)\n",
    "```\n",
    "* api:app：这部分指定了要运行的 Python 模块和应用对象。在这个例子中，api 是 Python 文件（例如 api.py）的文件名，而 app 是该文件中包含 ASGI 应用的对象的名称。\n",
    "* 或者：uvicorn api:app --host 0.0.0.0 --port 8000 --reload"
   ]
  },
  {
   "cell_type": "markdown",
   "metadata": {},
   "source": [
    "# sync to async\n",
    "\n",
    "* https://github.com/django/asgiref/tree/main"
   ]
  },
  {
   "cell_type": "code",
   "execution_count": 1,
   "metadata": {},
   "outputs": [],
   "source": [
    "import asyncio\n",
    "from fastapi import FastAPI\n",
    "from asgiref.sync import async_to_sync\n",
    "\n",
    "# app = FastAPI()\n",
    "\n",
    "# # 异步的路径操作函数\n",
    "# async def async_operation():\n",
    "#     await asyncio.sleep(1)\n",
    "#     return {\"message\": \"Async operation completed\"}\n",
    "\n",
    "# # 使用 to_sync 转换异步函数为同步函数\n",
    "# sync_operation = to_sync(async_operation)\n",
    "\n",
    "# # 在路径上使用同步函数\n",
    "# @app.get(\"/items/\")\n",
    "# def read_item():\n",
    "#     result = sync_operation()\n",
    "#     return result\n"
   ]
  },
  {
   "cell_type": "code",
   "execution_count": 2,
   "metadata": {},
   "outputs": [
    {
     "ename": "ImportError",
     "evalue": "cannot import name 'to_sync' from 'asgiref.sync' (c:\\ProgramData\\Anaconda3\\lib\\site-packages\\asgiref-3.7.2-py3.9.egg\\asgiref\\sync.py)",
     "output_type": "error",
     "traceback": [
      "\u001b[1;31m---------------------------------------------------------------------------\u001b[0m",
      "\u001b[1;31mImportError\u001b[0m                               Traceback (most recent call last)",
      "Cell \u001b[1;32mIn[2], line 3\u001b[0m\n\u001b[0;32m      1\u001b[0m \u001b[38;5;28;01mimport\u001b[39;00m \u001b[38;5;21;01masyncio\u001b[39;00m\n\u001b[0;32m      2\u001b[0m \u001b[38;5;28;01mfrom\u001b[39;00m \u001b[38;5;21;01mfastapi\u001b[39;00m \u001b[38;5;28;01mimport\u001b[39;00m FastAPI\n\u001b[1;32m----> 3\u001b[0m \u001b[38;5;28;01mfrom\u001b[39;00m \u001b[38;5;21;01masgiref\u001b[39;00m\u001b[38;5;21;01m.\u001b[39;00m\u001b[38;5;21;01msync\u001b[39;00m \u001b[38;5;28;01mimport\u001b[39;00m to_sync\n\u001b[0;32m      5\u001b[0m app \u001b[38;5;241m=\u001b[39m FastAPI()\n\u001b[0;32m      7\u001b[0m \u001b[38;5;66;03m# 异步的路径操作函数\u001b[39;00m\n",
      "\u001b[1;31mImportError\u001b[0m: cannot import name 'to_sync' from 'asgiref.sync' (c:\\ProgramData\\Anaconda3\\lib\\site-packages\\asgiref-3.7.2-py3.9.egg\\asgiref\\sync.py)"
     ]
    }
   ],
   "source": [
    "import asyncio\n",
    "from fastapi import FastAPI\n",
    "from asgiref.sync import to_sync\n",
    "\n",
    "app = FastAPI()\n",
    "\n",
    "# 异步的路径操作函数\n",
    "async def async_operation():\n",
    "    await asyncio.sleep(1)\n",
    "    return {\"message\": \"Async operation completed\"}\n",
    "\n",
    "# 使用 to_sync 转换异步函数为同步函数\n",
    "sync_operation = to_sync(async_operation)\n",
    "\n",
    "# 在路径上使用同步函数\n",
    "@app.get(\"/items/\")\n",
    "def read_item():\n",
    "    result = sync_operation()\n",
    "    return result\n"
   ]
  },
  {
   "cell_type": "code",
   "execution_count": null,
   "metadata": {},
   "outputs": [],
   "source": []
  }
 ],
 "metadata": {
  "kernelspec": {
   "display_name": "open_editor",
   "language": "python",
   "name": "python3"
  },
  "language_info": {
   "codemirror_mode": {
    "name": "ipython",
    "version": 3
   },
   "file_extension": ".py",
   "mimetype": "text/x-python",
   "name": "python",
   "nbconvert_exporter": "python",
   "pygments_lexer": "ipython3",
   "version": "3.9.13"
  },
  "orig_nbformat": 4
 },
 "nbformat": 4,
 "nbformat_minor": 2
}
