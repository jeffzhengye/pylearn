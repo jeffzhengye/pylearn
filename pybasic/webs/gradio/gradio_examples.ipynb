{
 "cells": [
  {
   "attachments": {},
   "cell_type": "markdown",
   "metadata": {},
   "source": [
    "# doc\n",
    "\n",
    "- https://gradio.app/docs\n",
    "- [huggingface nlp tutorial](https://huggingface.co/learn/nlp-course/chapter9/1?fw=pt)\n",
    "- https://cloud.tencent.com/developer/article/2272491 中文教程\n",
    "- https://www.cnblogs.com/tian777/p/17371619.html\n",
    "\n",
    "# get started\n",
    "\n",
    "- https://gradio.app/quickstart/\n"
   ]
  },
  {
   "cell_type": "code",
   "execution_count": null,
   "metadata": {},
   "outputs": [],
   "source": [
    "import gradio as gr\n",
    "\n",
    "\n",
    "def image_classifier(inp):\n",
    "    return {\"cat\": 0.3, \"dog\": 0.7}\n",
    "\n",
    "\n",
    "demo = gr.Interface(fn=image_classifier, inputs=\"image\", outputs=\"label\")\n",
    "demo.launch()"
   ]
  },
  {
   "attachments": {},
   "cell_type": "markdown",
   "metadata": {},
   "source": [
    "# change\n",
    "\n",
    "- call a function after a component value changes\n"
   ]
  },
  {
   "cell_type": "code",
   "execution_count": null,
   "metadata": {},
   "outputs": [],
   "source": [
    "import gradio as gr\n",
    "import random\n",
    "import string\n",
    "\n",
    "# print(''.join(random.choices(string.ascii_lowercase, k=5)))\n",
    "\n",
    "\n",
    "def bound_fun1():\n",
    "    return \"\".join(random.choices(string.ascii_lowercase, k=5))\n",
    "\n",
    "\n",
    "def bound_fun(input_value):\n",
    "    return \"whatever\"\n",
    "\n",
    "\n",
    "# change can only be used in a black context.\n",
    "with gr.Blocks() as demo:\n",
    "    gr.Markdown(\n",
    "        \"\"\"\n",
    "    # Hello World!\n",
    "    Start typing below to see the output.\n",
    "    \"\"\"\n",
    "    )\n",
    "    input_url = gr.inputs.Textbox(\n",
    "        placeholder=\"Enter url/title here...\", label=\"enter url or title\"\n",
    "    )\n",
    "\n",
    "    output_title = gr.Textbox(placeholder=\"title to crawl ....\", label=\"title\")\n",
    "\n",
    "    # input_url.change(bound_fun1, outputs=output_title)\n",
    "    input_url.input(bound_fun1, outputs=output_title)\n",
    "\n",
    "demo.launch()"
   ]
  },
  {
   "cell_type": "code",
   "execution_count": 2,
   "metadata": {},
   "outputs": [
    {
     "name": "stdout",
     "output_type": "stream",
     "text": [
      "Loaded as API: https://abidlabs-whisper-large-v2.hf.space ✔\n"
     ]
    },
    {
     "data": {
      "text/plain": [
       "'\\n作为一种新兴语言模型,为用户提供了各种应用效果,但由此也引发了商家的不当经营行为。推销课程但较成大多讲解基础操作,内容简单并不值得花费如此昂贵的费用。在此,有关专家提醒市场卖家要保持诚信和负责任的态度,同时普通消费者也应选择适当的渠道和方式获取信息和知识,避免受到不必要的损失。'"
      ]
     },
     "execution_count": 2,
     "metadata": {},
     "output_type": "execute_result"
    }
   ],
   "source": [
    "# client\n",
    "\n",
    "from gradio_client import Client\n",
    "\n",
    "client = Client(\"abidlabs/whisper-large-v2\")  # connecting to a Hugging Face Space\n",
    "client.predict(\"D:/wps/剪印/ChatGPT风口下的灰色“生意经”.mp4\", api_name=\"/predict\")"
   ]
  },
  {
   "attachments": {},
   "cell_type": "markdown",
   "metadata": {},
   "source": [
    "# popup Error and example setup\n"
   ]
  },
  {
   "cell_type": "code",
   "execution_count": 1,
   "metadata": {},
   "outputs": [
    {
     "name": "stdout",
     "output_type": "stream",
     "text": [
      "Running on local URL:  http://127.0.0.1:7860\n",
      "\n",
      "To create a public link, set `share=True` in `launch()`.\n"
     ]
    },
    {
     "data": {
      "text/html": [
       "<div><iframe src=\"http://127.0.0.1:7860/\" width=\"100%\" height=\"500\" allow=\"autoplay; camera; microphone; clipboard-read; clipboard-write;\" frameborder=\"0\" allowfullscreen></iframe></div>"
      ],
      "text/plain": [
       "<IPython.core.display.HTML object>"
      ]
     },
     "metadata": {},
     "output_type": "display_data"
    },
    {
     "data": {
      "text/plain": []
     },
     "execution_count": 1,
     "metadata": {},
     "output_type": "execute_result"
    },
    {
     "name": "stderr",
     "output_type": "stream",
     "text": [
      "Traceback (most recent call last):\n",
      "  File \"c:\\Users\\73915\\.conda\\envs\\py38\\lib\\site-packages\\gradio\\routes.py\", line 422, in run_predict\n",
      "    output = await app.get_blocks().process_api(\n",
      "  File \"c:\\Users\\73915\\.conda\\envs\\py38\\lib\\site-packages\\gradio\\blocks.py\", line 1323, in process_api\n",
      "    result = await self.call_function(\n",
      "  File \"c:\\Users\\73915\\.conda\\envs\\py38\\lib\\site-packages\\gradio\\blocks.py\", line 1051, in call_function\n",
      "    prediction = await anyio.to_thread.run_sync(\n",
      "  File \"c:\\Users\\73915\\.conda\\envs\\py38\\lib\\site-packages\\anyio\\to_thread.py\", line 31, in run_sync\n",
      "    return await get_asynclib().run_sync_in_worker_thread(\n",
      "  File \"c:\\Users\\73915\\.conda\\envs\\py38\\lib\\site-packages\\anyio\\_backends\\_asyncio.py\", line 937, in run_sync_in_worker_thread\n",
      "    return await future\n",
      "  File \"c:\\Users\\73915\\.conda\\envs\\py38\\lib\\site-packages\\anyio\\_backends\\_asyncio.py\", line 867, in run\n",
      "    result = context.run(func, *args)\n",
      "  File \"C:\\Users\\73915\\AppData\\Local\\Temp\\ipykernel_8796\\2107936087.py\", line 15, in calculator\n",
      "    raise gr.Error(\"Cannot divide by zero!\")\n",
      "gradio.exceptions.Error: 'Cannot divide by zero!'\n",
      "Traceback (most recent call last):\n",
      "  File \"c:\\Users\\73915\\.conda\\envs\\py38\\lib\\site-packages\\gradio\\routes.py\", line 422, in run_predict\n",
      "    output = await app.get_blocks().process_api(\n",
      "  File \"c:\\Users\\73915\\.conda\\envs\\py38\\lib\\site-packages\\gradio\\blocks.py\", line 1323, in process_api\n",
      "    result = await self.call_function(\n",
      "  File \"c:\\Users\\73915\\.conda\\envs\\py38\\lib\\site-packages\\gradio\\blocks.py\", line 1051, in call_function\n",
      "    prediction = await anyio.to_thread.run_sync(\n",
      "  File \"c:\\Users\\73915\\.conda\\envs\\py38\\lib\\site-packages\\anyio\\to_thread.py\", line 31, in run_sync\n",
      "    return await get_asynclib().run_sync_in_worker_thread(\n",
      "  File \"c:\\Users\\73915\\.conda\\envs\\py38\\lib\\site-packages\\anyio\\_backends\\_asyncio.py\", line 937, in run_sync_in_worker_thread\n",
      "    return await future\n",
      "  File \"c:\\Users\\73915\\.conda\\envs\\py38\\lib\\site-packages\\anyio\\_backends\\_asyncio.py\", line 867, in run\n",
      "    result = context.run(func, *args)\n",
      "  File \"C:\\Users\\73915\\AppData\\Local\\Temp\\ipykernel_8796\\2107936087.py\", line 15, in calculator\n",
      "    raise gr.Error(\"Cannot divide by zero!\")\n",
      "gradio.exceptions.Error: 'Cannot divide by zero!'\n",
      "Traceback (most recent call last):\n",
      "  File \"c:\\Users\\73915\\.conda\\envs\\py38\\lib\\site-packages\\gradio\\routes.py\", line 422, in run_predict\n",
      "    output = await app.get_blocks().process_api(\n",
      "  File \"c:\\Users\\73915\\.conda\\envs\\py38\\lib\\site-packages\\gradio\\blocks.py\", line 1323, in process_api\n",
      "    result = await self.call_function(\n",
      "  File \"c:\\Users\\73915\\.conda\\envs\\py38\\lib\\site-packages\\gradio\\blocks.py\", line 1051, in call_function\n",
      "    prediction = await anyio.to_thread.run_sync(\n",
      "  File \"c:\\Users\\73915\\.conda\\envs\\py38\\lib\\site-packages\\anyio\\to_thread.py\", line 31, in run_sync\n",
      "    return await get_asynclib().run_sync_in_worker_thread(\n",
      "  File \"c:\\Users\\73915\\.conda\\envs\\py38\\lib\\site-packages\\anyio\\_backends\\_asyncio.py\", line 937, in run_sync_in_worker_thread\n",
      "    return await future\n",
      "  File \"c:\\Users\\73915\\.conda\\envs\\py38\\lib\\site-packages\\anyio\\_backends\\_asyncio.py\", line 867, in run\n",
      "    result = context.run(func, *args)\n",
      "  File \"C:\\Users\\73915\\AppData\\Local\\Temp\\ipykernel_8796\\2107936087.py\", line 15, in calculator\n",
      "    raise gr.Error(\"Cannot divide by zero!\")\n",
      "gradio.exceptions.Error: 'Cannot divide by zero!'\n"
     ]
    }
   ],
   "source": [
    "import gradio as gr\n",
    "\n",
    "\n",
    "# 一个简单计算器，含实例说明\n",
    "def calculator(num1, operation, num2):\n",
    "    if operation == \"add\":\n",
    "        return num1 + num2\n",
    "    elif operation == \"subtract\":\n",
    "        return num1 - num2\n",
    "    elif operation == \"multiply\":\n",
    "        return num1 * num2\n",
    "    elif operation == \"divide\":\n",
    "        if num2 == 0:\n",
    "            # 设置报错弹窗\n",
    "            raise gr.Error(\"Cannot divide by zero!\")\n",
    "        return num1 / num2\n",
    "\n",
    "\n",
    "demo = gr.Interface(\n",
    "    calculator,\n",
    "    # 设置输入\n",
    "    [\"number\", gr.Radio([\"add\", \"subtract\", \"multiply\", \"divide\"]), \"number\"],\n",
    "    # 设置输出\n",
    "    \"number\",\n",
    "    # 设置输入参数示例\n",
    "    examples=[\n",
    "        [5, \"add\", 3],\n",
    "        [4, \"divide\", 2],\n",
    "        [-4, \"multiply\", 2.5],\n",
    "        [0, \"subtract\", 1.2],\n",
    "    ],\n",
    "    # 设置网页标题\n",
    "    title=\"Toy Calculator\",\n",
    "    # 左上角的描述文字\n",
    "    description=\"Here's a sample toy calculator. Enjoy!\",\n",
    "    # 左下角的文字\n",
    "    article=\"Check out the examples\",\n",
    ")\n",
    "demo.launch()"
   ]
  },
  {
   "cell_type": "code",
   "execution_count": null,
   "metadata": {},
   "outputs": [],
   "source": []
  }
 ],
 "metadata": {
  "kernelspec": {
   "display_name": "py38",
   "language": "python",
   "name": "python3"
  },
  "language_info": {
   "codemirror_mode": {
    "name": "ipython",
    "version": 3
   },
   "file_extension": ".py",
   "mimetype": "text/x-python",
   "name": "python",
   "nbconvert_exporter": "python",
   "pygments_lexer": "ipython3",
   "version": "3.8.16"
  },
  "orig_nbformat": 4
 },
 "nbformat": 4,
 "nbformat_minor": 2
}
