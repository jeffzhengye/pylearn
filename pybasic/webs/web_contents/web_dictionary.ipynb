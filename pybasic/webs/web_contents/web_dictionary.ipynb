{
 "cells": [
  {
   "cell_type": "markdown",
   "metadata": {},
   "source": [
    "# Awesome projects\n",
    "\n",
    "## ECDICT\n",
    "\n",
    "* https://github.com/skywind3000/ECDICT\n",
    "\n",
    "\n",
    "## cihai\n",
    "\n",
    "* https://github.com/cihai/cihai\n",
    "* Python library for CJK (Chinese, Japanese, and Korean) language dictionary\n",
    "\n",
    "## Longman Dictionary of Contemporary English 5th Edition (LDOCE 5)\n",
    "\n",
    "* https://github.com/ciscorn/ldoce5viewer?tab=readme-ov-file\n",
    "\n",
    "\n",
    "## wikdict-gen\n",
    "\n",
    "* https://github.com/karlb/wikdict-gen\n",
    "* Generation of bilingual dictionaries from Wiktionary/dbnary data for the WikDict project\n",
    "\n",
    "## "
   ]
  },
  {
   "cell_type": "markdown",
   "metadata": {},
   "source": [
    "# Awesome online dictionaries\n",
    "\n",
    "## Only oxford collocation dictionary\n",
    "\n",
    "- [Oxford Collocation Dictionary](https://www.freecollocation.com/)\n",
    "\n",
    "\n",
    "## Google Dictionary\n",
    "\n",
    "* [Online Google Dictionary](https://googledictionary.freecollocation.com/)"
   ]
  }
 ],
 "metadata": {
  "language_info": {
   "name": "python"
  }
 },
 "nbformat": 4,
 "nbformat_minor": 2
}
