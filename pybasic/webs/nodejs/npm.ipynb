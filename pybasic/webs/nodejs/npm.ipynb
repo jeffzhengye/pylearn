{
 "cells": [
  {
   "cell_type": "markdown",
   "metadata": {},
   "source": [
    "# commands\n",
    "\n",
    "## 修改国内源\n",
    "\n",
    "* npm config set registry https://registry.npm.taobao.org\n",
    "* npm config set registry http://mirrors.cloud.tencent.com/npm/\n",
    "\n",
    "## npm config get registry\n",
    "\n",
    "* show the current registry\n",
    "\n",
    "\n",
    "## npm config list\n",
    "\n",
    "* show config here locations\n",
    "\n",
    "## npm config set proxy <proxy>\n",
    "\n",
    "* set the proxy\n",
    "\n",
    "## npm config set https-proxy <proxy>\n",
    "\n",
    "* set the https-proxy\n",
    "\n",
    "## npm config set strict-ssl false\n",
    "\n",
    "* set strict-ssl to false\n",
    "\n",
    "## npm install\n",
    "\n",
    "# 安装 \n",
    "\n",
    "* sudo apt update\n",
    "* sudo apt install npm\n",
    "\n",
    "## pnpm\n",
    "\n",
    "* npm i -g pnpm\n",
    "  * pnpm -v\n",
    "  * 如果更新了nodejs，得重新装。\n",
    "\n",
    "\n"
   ]
  },
  {
   "cell_type": "markdown",
   "metadata": {},
   "source": [
    "# nvm\n",
    "\n",
    "* https://github.com/nvm-sh/nvm\n",
    "* Node Version Manager - POSIX-compliant bash script to manage multiple active node.js versions\n",
    "* 安装nvm：wget -qO- https://raw.githubusercontent.com/nvm-sh/nvm/v0.39.7/install.sh | bash\n",
    "* 安装nodejs使用：nvm install 14; nvm use 14;\n",
    "\n",
    "# 问题\n",
    "\n",
    "## nodejs 和 npm 关系？跟vue什么关系？pnpm 是npm\n",
    "\n",
    "\n"
   ]
  },
  {
   "cell_type": "markdown",
   "metadata": {},
   "source": [
    "# trouble shooting\n",
    "\n",
    "## Version 'node' not found - try `nvm ls-remote` to browse available versions.\n",
    "* nvm 没有安装好。可能是因为 curl，wget 有alias导致。\n",
    "\n",
    "## ERR! code CERT_HAS_EXPIRED\n",
    "\n",
    "* 换个源即可：npm config set registry http://mirrors.cloud.tencent.com/npm/"
   ]
  },
  {
   "cell_type": "markdown",
   "metadata": {},
   "source": [
    "# toy-fastapi-smartadmin\n",
    "\n",
    "## 前端启动\n",
    "\n",
    "* npm run dev\n",
    "* 参考java版：https://smartadmin.vip/views/v2/guide/ProjectInit.html#_8%E3%80%81%E5%90%AF%E5%8A%A8%E5%89%8D%E7%AB%AF\n",
    "\n",
    "## 前端打包\n",
    "\n",
    "* npm run build\n",
    "\n",
    "## 后端启动\n",
    "\n",
    "* python main.py\n"
   ]
  }
 ],
 "metadata": {
  "language_info": {
   "name": "python"
  }
 },
 "nbformat": 4,
 "nbformat_minor": 2
}
