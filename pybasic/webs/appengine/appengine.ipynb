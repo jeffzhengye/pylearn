{
 "cells": [
  {
   "cell_type": "markdown",
   "metadata": {},
   "source": [
    "# tutorial\n",
    "\n",
    "## get started\n",
    "\n",
    "* https://codelabs.developers.google.com/codelabs/cloud-app-engine-python3#7\n",
    "* https://cloud.google.com/appengine/docs/standard/python3/building-app/writing-web-service?hl=zh-cn\n",
    "* [App Engine app.yaml 参考文档](https://cloud.google.com/appengine/docs/standard/reference/app-yaml?hl=zh-cn&tab=python)\n",
    "* 迁移\n",
    "    * https://cloud.google.com/appengine/migration-center/standard/migrate-to-second-gen/python-differences?hl=zh-cn\n",
    "    * https://github.com/GoogleCloudPlatform/appengine-python2-3-migration\n",
    "\n"
   ]
  },
  {
   "cell_type": "markdown",
   "metadata": {},
   "source": [
    "# pricing\n",
    "\n",
    "## calculator\n",
    "\n",
    "* [Pricing Calculator](https://cloud.google.com/products/calculator)"
   ]
  },
  {
   "cell_type": "markdown",
   "metadata": {},
   "source": []
  }
 ],
 "metadata": {
  "language_info": {
   "name": "python"
  }
 },
 "nbformat": 4,
 "nbformat_minor": 2
}
