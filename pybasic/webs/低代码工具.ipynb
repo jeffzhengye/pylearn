{
 "cells": [
  {
   "attachments": {},
   "cell_type": "markdown",
   "metadata": {},
   "source": [
    "# 低代码前端\n",
    "\n",
    "## ruoyi\n",
    "\n",
    "* https://doc.iocoder.cn/\n",
    "* https://gitee.com/yudaocode\n",
    "\n",
    "## amis\n",
    "\n",
    "* https://github.com/baidu/amis\n",
    "\n",
    "## ali\n",
    "\n",
    "* https://github.com/alibaba/lowcode-engine\n",
    "* https://lowcode-engine.cn/site/docs/guide/quickStart/intro\n",
    "\n",
    "### Javascript tutorial\n",
    "* https://developer.mozilla.org/zh-CN/docs/Web/JavaScript/Language_overview\n",
    "\n",
    "### react tutorial\n",
    "\n",
    "* https://zh-hans.legacy.reactjs.org/docs/getting-started.html\n",
    "\n",
    "### ice\n",
    "\n",
    "* https://v3.ice.work/\n",
    "\n",
    "\n",
    "# [DataEase](https://github.com/dataease/dataease)\n",
    "* 人人可用的开源数据可视化分析工具. 帮助用户快速分析数据并洞察业务趋势，从而实现业务的改进与优化。DataEase 支持丰富的数据源连接，能够通过拖拉拽方式快速制作图表，并可以方便的与他人分享。\n",
    "  \n",
    "\n",
    "# pynecone/reflex\n",
    "\n",
    "* https://github.com/pynecone-io/pynecone\n",
    "* https://reflex.dev/\n",
    "\n",
    "# NiceGUI\n",
    "\n",
    "* https://nicegui.io/\n",
    "* base on quasar: https://quasar.dev/vue-components/button-toggle\n",
    "* https://tailwindcss.com/\n",
    "* https://www.w3schools.com/css/css_font_size.asp\n"
   ]
  },
  {
   "cell_type": "markdown",
   "metadata": {},
   "source": [
    "# vue + python\n",
    "\n",
    "## vue-fastapi-admin\n",
    "\n",
    "* https://github.com/mizhexiaoxiao/vue-fastapi-admin\n",
    "* 近期更新； 简单明了；缺乏插件；159 stars;\n",
    "\n",
    "## kinit\n",
    "\n",
    "* https://github.com/vvandk/kinit\n",
    "* https://gitee.com/ktianc/kinit 国内更新更快。\n",
    "* FastAPI + Vue 3 frontend and backend separated admin system. Vue 3 + TypeScript, WeChat (uni-app). API (FastAPI + SQLAlchemy 2.0), asynchronous storage (Mysql 8.0, Redis, MongoDB).\n",
    "* 活跃，近期更新; 169 stars; best match so far;\n",
    "\n",
    "### kinit 前端框架\n",
    "\n",
    "* https://kailong110120130.gitee.io/vue-element-plus-admin-doc/guide/introduction.html\n",
    "\n",
    "## django-vue-lyadmin\n",
    "\n",
    "* https://gitee.com/lybbn/django-vue-lyadmin\n",
    "* 近期更新\n",
    "\n",
    "## django-vue3-admin\n",
    "* https://gitee.com/huge-dream/django-vue3-admin#%E5%86%85%E7%BD%AE%E5%8A%9F%E8%83%BD\n",
    "\n",
    "## fastapi-admin\n",
    "\n",
    "* https://github.com/fastapi-admin/fastapi-admin\n",
    "\n",
    "## fastapi-amis-admin\n",
    "\n",
    "* https://github.com/amisadmin/fastapi-amis-admin?tab=readme-ov-file\n",
    "\n",
    "## vue-element-admin-fastapi\n",
    "\n",
    "* https://github.com/heyfavour/vue-element-admin-fastapi\n",
    "* 两年未更新\n"
   ]
  },
  {
   "cell_type": "markdown",
   "metadata": {},
   "source": [
    "# fastapi backend template\n",
    "\n",
    "## full-stack-fastapi-postgresql\n",
    "\n",
    "* https://github.com/tiangolo/full-stack-fastapi-postgresql\n",
    "* fastapi official one; not updating for a long time.\n",
    "\n",
    "## fastapi-boilerplate\n",
    "\n",
    "* https://github.com/teamhide/fastapi-boilerplate\n",
    "* seems to be a very simple one, 774 stars\n",
    "\n",
    "## FastAPI-template\n",
    "\n",
    "* https://github.com/s3rius/FastAPI-template\n",
    "* still updating from time to time. 1.4k stars; \n",
    "\n",
    "## fastapi-mvc\n",
    "\n",
    "* https://github.com/fastapi-mvc/fastapi-mvc"
   ]
  },
  {
   "cell_type": "markdown",
   "metadata": {},
   "source": [
    "# admin\n",
    "\n",
    "## soybean-admin\n",
    "\n",
    "* https://mp.weixin.qq.com/s/pg3DQ29_3WvZI8hbHz0u3A"
   ]
  },
  {
   "cell_type": "markdown",
   "metadata": {},
   "source": [
    "# screenshot-to-code\n",
    "\n",
    "* https://github.com/abi/screenshot-to-code"
   ]
  },
  {
   "cell_type": "markdown",
   "metadata": {},
   "source": [
    "# CMS\n",
    "\n",
    "## django-cms\n",
    "\n",
    "* best for enterprise official website"
   ]
  },
  {
   "cell_type": "markdown",
   "metadata": {},
   "source": [
    "# 数据科学相关\n",
    "\n",
    "## dash plotly\n",
    "* https://dash.gallery/Portal/\n",
    "* \n",
    "## Gradio\n",
    "* https://github.com/gradio-app/gradio\n",
    "* 可以跟jupyter 结合试用\n",
    "* guides: https://www.gradio.app/guides/\n",
    "* https://github.com/gradio-app/awesome-demos\n",
    "\n",
    "## streamlit\n",
    "\n",
    "* docs: https://docs.streamlit.io/\n",
    "* component gallery: https://streamlit.io/components\n",
    "* https://image-select.streamlit.app/\n",
    "* https://arnaudmiribel.github.io/streamlit-extras/extras/image_in_tables/\n",
    "\n",
    "## nextpy\n",
    "\n",
    "* https://github.com/dot-agent/nextpy\n",
    "* Pure Python App Framework: For Humans & LLMs🤖 World's first AMS🥇\n",
    "* 4-10x faster than Streamlit; "
   ]
  },
  {
   "cell_type": "markdown",
   "metadata": {},
   "source": [
    "# APP\n",
    "\n",
    "* Kivy：Kivy是一个跨平台的Python移动应用程序开发框架，可用于创建iOS、Android和Windows等多个平台上的应用程序。它使用OpenGL ES 2进行图形渲染，并支持多点触控和基于Gestures的用户接口。\n",
    "* BeeWare：BeeWare是一个Python移动应用开发框架，支持iOS、Android和Windows等多个平台。它提供了各种工具和库，如GUI工具箱、打包工具、调试器等，使开发更加容易。\n",
    "* PyMob：PyMob是一个基于Python的移动应用程序开发框架，支持iOS和Android平台。它提供了GUI框架、数据库访问、网络通讯等常用组件，使得移动应用程序的开发更简单。\n",
    "* PySide：PySide是一个Python GUI工具箱，基于Qt技术，可以用于创建跨平台的移动应用程序，如iOS和Android等。与其他Python移动应用程序开发框架不同，PySide专注于GUI开发。"
   ]
  }
 ],
 "metadata": {
  "kernelspec": {
   "display_name": "py38",
   "language": "python",
   "name": "python3"
  },
  "language_info": {
   "codemirror_mode": {
    "name": "ipython",
    "version": 3
   },
   "file_extension": ".py",
   "mimetype": "text/x-python",
   "name": "python",
   "nbconvert_exporter": "python",
   "pygments_lexer": "ipython3",
   "version": "3.8.13"
  },
  "orig_nbformat": 4,
  "vscode": {
   "interpreter": {
    "hash": "fe22768e9524fdef0bd7ed00acfac1a320cf250cfc5d425f429f4b9beb1077b3"
   }
  }
 },
 "nbformat": 4,
 "nbformat_minor": 2
}
