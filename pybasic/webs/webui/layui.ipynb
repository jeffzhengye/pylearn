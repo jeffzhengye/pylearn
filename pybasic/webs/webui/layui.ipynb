{
 "cells": [
  {
   "cell_type": "markdown",
   "metadata": {},
   "source": [
    "# Layui\n",
    "\n",
    "* [极简模块化 Web UI 组件库](https://layui.dev/)\n",
    "* https://layui.dev/docs/2/#quickstart\n",
    "* 可视化： https://stackblitz.com/run?file=index.html"
   ]
  },
  {
   "cell_type": "markdown",
   "metadata": {},
   "source": []
  }
 ],
 "metadata": {
  "language_info": {
   "name": "python"
  }
 },
 "nbformat": 4,
 "nbformat_minor": 2
}
