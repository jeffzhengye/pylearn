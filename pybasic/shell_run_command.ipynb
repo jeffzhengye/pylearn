{
 "cells": [
  {
   "cell_type": "markdown",
   "metadata": {},
   "source": [
    "# python tools\n",
    "\n",
    "## Envoy\n",
    "* https://mp.weixin.qq.com/s/1_-fUde0cZdSBCcSKrrUPg"
   ]
  },
  {
   "cell_type": "markdown",
   "metadata": {},
   "source": []
  }
 ],
 "metadata": {
  "language_info": {
   "name": "python"
  }
 },
 "nbformat": 4,
 "nbformat_minor": 2
}
