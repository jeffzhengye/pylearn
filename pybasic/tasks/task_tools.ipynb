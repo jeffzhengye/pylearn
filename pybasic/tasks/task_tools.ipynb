{
 "cells": [
  {
   "cell_type": "markdown",
   "metadata": {},
   "source": [
    "# Huey\n",
    "\n",
    "* 轻量级的 Python 任务队列库，它支持简单、灵活的任务调度和执行，适合于各种规模的应用程序。\n",
    "* pip install huey\n",
    "* https://github.com/coleifer/huey\n",
    "* https://mp.weixin.qq.com/s/OcnVGjw9fy8QSWbhQYF9uQ\n"
   ]
  },
  {
   "cell_type": "markdown",
   "metadata": {},
   "source": [
    "# Celery"
   ]
  },
  {
   "cell_type": "markdown",
   "metadata": {},
   "source": []
  }
 ],
 "metadata": {
  "language_info": {
   "name": "python"
  }
 },
 "nbformat": 4,
 "nbformat_minor": 2
}
