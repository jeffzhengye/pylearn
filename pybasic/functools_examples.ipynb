{
 "cells": [
  {
   "cell_type": "code",
   "execution_count": null,
   "metadata": {},
   "outputs": [],
   "source": [
    "from functools import cached_property\n",
    "import time\n",
    "\n",
    "class LazyDataStore:\n",
    "    def __init__(self): pass\n",
    "\n",
    "    @cached_property\n",
    "    def x(self):\n",
    "        self.load_xy()\n",
    "        return self.x\n",
    "\n",
    "    @cached_property\n",
    "    def y(self):\n",
    "        self.load_xy()\n",
    "        return self.y\n",
    "\n",
    "    @cached_property\n",
    "    def z(self):\n",
    "        self.load_z()\n",
    "        return self.z\n",
    "\n",
    "    def load_xy(self):\n",
    "        time.sleep(1)  # simulate slow loading data\n",
    "        self.x = 1     # simulate data\n",
    "        self.y = 2\n",
    "\n",
    "    def load_z(self):\n",
    "        time.sleep(2)  # simulate slow loading data\n",
    "        self.z = 3     # simulate data"
   ]
  }
 ],
 "metadata": {
  "language_info": {
   "name": "python"
  },
  "orig_nbformat": 4
 },
 "nbformat": 4,
 "nbformat_minor": 2
}
