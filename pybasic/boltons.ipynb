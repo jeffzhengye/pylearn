{
 "cells": [
  {
   "cell_type": "markdown",
   "metadata": {},
   "source": [
    "# tutorials\n",
    "\n",
    "* https://boltons.readthedocs.io/en/latest\n",
    "* Boltons is a set of pure-Python utilities in the same spirit as — and yet conspicuously missing from — the standard library, including:\n",
    "\n",
    "1. iterutils: 提供了许多有用的迭代器工具\n",
    "2. funcutils: 函数相关的工具\n",
    "3. strutils: 字符串处理工具\n",
    "4. dictutils: 字典操作工具\n",
    "5. fileutils: 文件和路径操作工具"
   ]
  },
  {
   "cell_type": "markdown",
   "metadata": {},
   "source": [
    "## ordered multi dicts"
   ]
  },
  {
   "cell_type": "code",
   "execution_count": 2,
   "metadata": {},
   "outputs": [
    {
     "name": "stdout",
     "output_type": "stream",
     "text": [
      "['value1', 'value2']\n",
      "[('key', 'value2'), ('another_key', 'another_value')]\n"
     ]
    }
   ],
   "source": [
    "from boltons.dictutils import OrderedMultiDict\n",
    "\n",
    "omd = OrderedMultiDict()\n",
    "omd.add('key', 'value1')\n",
    "omd.add('key', 'value2')\n",
    "omd.add('another_key', 'another_value')\n",
    "\n",
    "print(omd.getlist('key'))  # 输出: ['value1', 'value2']\n",
    "print(list(omd.items()))   # 输出: [('key', 'value1'), ('key', 'value2'), ('another_key', 'another_value')]"
   ]
  },
  {
   "cell_type": "markdown",
   "metadata": {},
   "source": [
    "## fs"
   ]
  },
  {
   "cell_type": "code",
   "execution_count": null,
   "metadata": {},
   "outputs": [],
   "source": [
    "from boltons.fileutils import iter_find_files\n",
    "\n",
    "# 递归查找当前目录下所有的 Python 文件\n",
    "python_files = list(iter_find_files('.', '*.py'))\n",
    "for file in python_files:\n",
    "    print(f'Found Python file: {file}')"
   ]
  },
  {
   "cell_type": "code",
   "execution_count": 14,
   "metadata": {},
   "outputs": [
    {
     "name": "stdout",
     "output_type": "stream",
     "text": [
      "B\n",
      "None\n"
     ]
    }
   ],
   "source": [
    "from boltons.cacheutils import LRU\n",
    "\n",
    "# 创建一个最大容量为 2 的 LRU 缓存\n",
    "my_cache = LRU(max_size=2)\n",
    "\n",
    "# 向缓存中添加元素\n",
    "my_cache['a'] = 'A'\n",
    "my_cache['b'] = 'B'\n",
    "\n",
    "# 访问缓存中的元素\n",
    "print(my_cache['b'])\n",
    "\n",
    "# 当缓存达到最大容量时，添加新元素会淘汰最久未使用的元素\n",
    "my_cache['c'] = 'C'\n",
    "print(my_cache.get('a'))  # 输出 None，因为 'a' 已被淘汰"
   ]
  },
  {
   "cell_type": "code",
   "execution_count": 18,
   "metadata": {},
   "outputs": [],
   "source": [
    "from boltons.urlutils import register_scheme\n",
    "\n",
    "# 注册一个新的 URL 方案\n",
    "register_scheme('myprotocol', uses_netloc=True, default_port=8080)"
   ]
  },
  {
   "cell_type": "code",
   "execution_count": null,
   "metadata": {},
   "outputs": [],
   "source": []
  }
 ],
 "metadata": {
  "kernelspec": {
   "display_name": "base",
   "language": "python",
   "name": "python3"
  },
  "language_info": {
   "codemirror_mode": {
    "name": "ipython",
    "version": 3
   },
   "file_extension": ".py",
   "mimetype": "text/x-python",
   "name": "python",
   "nbconvert_exporter": "python",
   "pygments_lexer": "ipython3",
   "version": "3.12.7"
  }
 },
 "nbformat": 4,
 "nbformat_minor": 2
}
