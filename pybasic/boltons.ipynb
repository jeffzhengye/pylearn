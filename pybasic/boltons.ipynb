{
 "cells": [
  {
   "cell_type": "markdown",
   "metadata": {},
   "source": [
    "# tutorials\n",
    "\n",
    "* https://boltons.readthedocs.io/en/latest\n",
    "* Boltons is a set of pure-Python utilities in the same spirit as — and yet conspicuously missing from — the standard library, including:\n",
    "\n",
    "Atomic file saving, bolted on with fileutils\n",
    "A highly-optimized OrderedMultiDict, in dictutils\n",
    "Two types of PriorityQueue, in queueutils\n",
    "Chunked and windowed iteration, in iterutils\n",
    "A full-featured TracebackInfo type, for representing stack traces, in tbutils\n",
    "A lightweight UTC timezone available in timeutils.\n",
    "Recursive mapping for nested data transforms, with remap"
   ]
  }
 ],
 "metadata": {
  "language_info": {
   "name": "python"
  }
 },
 "nbformat": 4,
 "nbformat_minor": 2
}
