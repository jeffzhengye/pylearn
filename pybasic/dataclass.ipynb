{
 "cells": [
  {
   "cell_type": "code",
   "execution_count": null,
   "metadata": {},
   "outputs": [],
   "source": []
  },
  {
   "attachments": {},
   "cell_type": "markdown",
   "metadata": {},
   "source": [
    "# post_init方法\n",
    "\n",
    "* 在__init__方法返回前自动调用\n",
    "\n",
    "# asdict\n",
    "\n",
    "* from dataclasses import asdict\n",
    "  * 将数据类转换为字典\n",
    "\n",
    "# is_dataclass\n",
    "\n",
    "* from dataclasses import is_dataclass\n",
    "* is_dataclass(Lang) or is_dataclass(Lang())"
   ]
  },
  {
   "cell_type": "code",
   "execution_count": 2,
   "metadata": {},
   "outputs": [],
   "source": [
    "# field 使用方法，mutable default is not allowed: use default_factory\n",
    "\n",
    "from dataclasses import field, dataclass\n",
    "from typing import List, Optional, Union\n",
    "\n",
    "@dataclass\n",
    "class Player:\n",
    "    name: str\n",
    "    number: int\n",
    "    position: str\n",
    "    age: int\n",
    "    grade: str = None # set default\n",
    "    \n",
    "james = Player('Jeffery Yee', 23, 'SF', 25, 'S')\n",
    "\n",
    "@dataclass\n",
    "class Team:\n",
    "    name: str\n",
    "    players: List[Player] = field(default_factory=lambda: [james])"
   ]
  },
  {
   "cell_type": "code",
   "execution_count": 9,
   "metadata": {},
   "outputs": [
    {
     "name": "stdout",
     "output_type": "stream",
     "text": [
      "cache property name\n",
      "schbell\n",
      "cache property name\n",
      "schbell\n",
      "cache property name\n",
      "flirp\n"
     ]
    }
   ],
   "source": [
    "from dataclasses import dataclass\n",
    "from functools import cached_property\n",
    "\n",
    "@dataclass\n",
    "class Test:\n",
    "    _name: str=\"schbell\"\n",
    "\n",
    "    # @cached_property\n",
    "    @property\n",
    "    def name(self) -> str:\n",
    "        print(f\"cache property name\")\n",
    "        return self._name\n",
    "\n",
    "    @name.setter\n",
    "    def name(self, v: str) -> None:\n",
    "        self._name = v\n",
    "\n",
    "t = Test()\n",
    "print(t.name) # schbell\n",
    "print(t.name) # schbell\n",
    "t.name = \"flirp\"\n",
    "print(t.name) # flirp\n",
    "# print(t) # Test(_name='flirp')"
   ]
  },
  {
   "cell_type": "code",
   "execution_count": 7,
   "metadata": {},
   "outputs": [
    {
     "name": "stdout",
     "output_type": "stream",
     "text": [
      "{'translation': <property object at 0x00000229640EFD60>}\n"
     ]
    }
   ],
   "source": [
    "# \n",
    "\n",
    "from typing import Any, ClassVar, Generic, Optional, overload, TypeVar, Union\n",
    "from dataclasses import asdict, dataclass\n",
    "\n",
    "@dataclass\n",
    "class SomeData:\n",
    "    uid: str = None\n",
    "    # _uid: ClassVar[str] = field(init=False, repr=False)\n",
    "    _uid: ClassVar[str] = None\n",
    "    \n",
    "    translation: str = ''\n",
    "    _translation: ClassVar[str] = ''\n",
    "    \n",
    "    @property\n",
    "    def translation(self) -> str:\n",
    "        return self._translation\n",
    "\n",
    "    @translation.setter\n",
    "    def translation(self, translation: str) -> None:\n",
    "        self._translation = translation\n",
    "\n",
    "    @property\n",
    "    def uid(self) -> str:\n",
    "        print(self._uid, self._uid is None, type(self._uid))\n",
    "        if isinstance(self._uid, property):\n",
    "            print('not a string1')\n",
    "        if isinstance(self._uid, str):\n",
    "            print('not a string2')\n",
    "        self._uid = 'test3'\n",
    "        print(self._uid, self._uid is None, type(self._uid))\n",
    "        return self._uid\n",
    "\n",
    "    @uid.setter\n",
    "    def uid(self, uid: str) -> None:\n",
    "        self._uid = uid\n",
    "        \n",
    "a = SomeData()\n",
    "\n",
    "# print(a.uid)\n",
    "\n",
    "print(asdict(a))"
   ]
  },
  {
   "cell_type": "code",
   "execution_count": 7,
   "metadata": {},
   "outputs": [],
   "source": [
    "from functools import cached_property\n",
    "\n",
    "class Article:\n",
    "    # __slots__ = ('url', '_resource', 'title')\n",
    "    \n",
    "    def __init__(self, url: str):\n",
    "        \"\"\"\n",
    "        :param loader: 负责实际加载资源的函数\n",
    "        \"\"\"\n",
    "        self.url = url\n",
    "        self._resource = {'url': url}\n",
    "\n",
    "    @property\n",
    "    # @cached_property\n",
    "    def title(self):\n",
    "        if 'tilte' in self.__dict__:\n",
    "            return self.__dict__[\"title\"]\n",
    "        else:\n",
    "            return 'hello title'\n",
    "    \n",
    "    @title.setter\n",
    "    def title(self, titlestring) -> None:\n",
    "        self.__dict__['title'] = titlestring\n",
    "    \n",
    "    def __setitem__(self, key, value):\n",
    "        setattr(self, key, value)\n",
    "    \n",
    "    def __getitem__(self, key):\n",
    "        ret =  getattr(self, key, None)\n",
    "        if not ret:\n",
    "            print(f'{key} is illegal key')\n",
    "        return ret\n",
    "    \n",
    "    # def __getitem__(self, key):\n",
    "    #     ret = getattr(self, \"key\", None)\n",
    "    #     return ret\n",
    "        # if ret:\n",
    "        #     return ret\n",
    "        # else:\n",
    "        #     raise RuntimeError(f\"donot have {key} attribute in thi class\")\n",
    "\n",
    "    # def __getattr__(self, name):\n",
    "    #     print('getattr executed')\n",
    "    #     if not self._loaded:\n",
    "    #         self._resource = self._loader()\n",
    "    #         self._loaded = True\n",
    "    #     return getattr(self._resource, name)\n",
    "    \n",
    "    # def __getattribute__(self, name):\n",
    "    #     print('__getattribute__ executed')\n",
    "    #     if not self._loaded:\n",
    "    #         self._resource = self._loader()\n",
    "    #         self._loaded = True\n",
    "    #     return getattr(self._resource, name)\n"
   ]
  },
  {
   "cell_type": "code",
   "execution_count": 8,
   "metadata": {},
   "outputs": [
    {
     "data": {
      "text/plain": [
       "'hello title'"
      ]
     },
     "execution_count": 8,
     "metadata": {},
     "output_type": "execute_result"
    }
   ],
   "source": [
    "n = Article('http://163.com/')\n",
    "# hello = getattr(n, \"title\", None)\n",
    "# print(hello)\n",
    "n['hello'] = 'hello'\n",
    "# n.__dict__\n",
    "\n",
    "n['title']"
   ]
  },
  {
   "cell_type": "code",
   "execution_count": 10,
   "metadata": {},
   "outputs": [
    {
     "name": "stdout",
     "output_type": "stream",
     "text": [
      "hello title\n"
     ]
    },
    {
     "data": {
      "text/plain": [
       "{'url': 'http://163.com/',\n",
       " '_resource': {'url': 'http://163.com/'},\n",
       " 'hello': 'hello',\n",
       " 'title': 'title reset'}"
      ]
     },
     "execution_count": 10,
     "metadata": {},
     "output_type": "execute_result"
    }
   ],
   "source": [
    "n['title'] = \"title reset\"\n",
    "print(n['title'])\n",
    "n.__dict__"
   ]
  },
  {
   "cell_type": "code",
   "execution_count": null,
   "metadata": {},
   "outputs": [],
   "source": [
    "\n",
    "import inspect\n",
    " \n",
    "         \n",
    "         \n",
    "# Driver's code\n",
    "n = Article('http://163.com/')\n",
    "\n",
    "getattr(n, \"title\", \"\")\n",
    "# getmembers() returns all the\n",
    "# members of an object\n",
    "for i in inspect.getmembers(n):\n",
    "    print(i)\n",
    "    # to remove private and protected\n",
    "    # functions\n",
    "    # if not i[0].startswith('_'):\n",
    "         \n",
    "    #     # To remove other methods that\n",
    "    #     # doesnot start with a underscore\n",
    "    #     if not inspect.ismethod(i[1]):\n",
    "    #         print(i)"
   ]
  },
  {
   "cell_type": "markdown",
   "metadata": {},
   "source": [
    "# dataclasses-json\n",
    "\n",
    "* This library provides a simple API for encoding and decoding dataclasses to and from JSON.\n",
    "* pip install dataclasses-json"
   ]
  },
  {
   "cell_type": "code",
   "execution_count": null,
   "metadata": {},
   "outputs": [],
   "source": [
    "# Encode into a JSON array containing instances of my Data Class\n",
    "\n",
    "from dataclasses import dataclass\n",
    "from dataclasses_json import dataclass_json\n",
    "\n",
    "@dataclass_json\n",
    "@dataclass\n",
    "class Person:\n",
    "    name: str\n",
    "    \n",
    "people_json = [Person('lidatong')]\n",
    "Person.schema().dumps(people_json, many=True)  # '[{\"name\": \"lidatong\"}]'\n",
    "\n",
    "# Decode a JSON array containing instances of my Data Class\n",
    "\n",
    "people_json = '[{\"name\": \"lidatong\"}]'\n",
    "Person.schema().loads(people_json, many=True)  # [Person(name='lidatong')]"
   ]
  }
 ],
 "metadata": {
  "kernelspec": {
   "display_name": "open_editor",
   "language": "python",
   "name": "python3"
  },
  "language_info": {
   "codemirror_mode": {
    "name": "ipython",
    "version": 3
   },
   "file_extension": ".py",
   "mimetype": "text/x-python",
   "name": "python",
   "nbconvert_exporter": "python",
   "pygments_lexer": "ipython3",
   "version": "3.8.16"
  },
  "orig_nbformat": 4
 },
 "nbformat": 4,
 "nbformat_minor": 2
}
