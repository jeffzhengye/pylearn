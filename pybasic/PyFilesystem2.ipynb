{
 "cells": [
  {
   "cell_type": "markdown",
   "metadata": {},
   "source": [
    "# PyFilesystem2\n",
    "\n",
    "* 统一的API接口：无论是操作本地文件、ZIP压缩包、FTP远程文件还是云存储，都使用完全相同的API，大大降低了学习成本。\n",
    "路径处理更安全：自动处理路径分隔符的跨平台兼容性，避免了Windows和Unix系统的路径问题。\n",
    "内置异常处理：提供了更明确的异常类型，让错误处理更加优雅。\n",
    "支持文件系统叠加：可以将多个文件系统组合使用，实现更复杂的功能。\n",
    "资源管理更简单：提供了上下文管理器接口，自动处理资源释放。\n",
    "* https://github.com/PyFilesystem/pyfilesystem2"
   ]
  }
 ],
 "metadata": {
  "language_info": {
   "name": "python"
  }
 },
 "nbformat": 4,
 "nbformat_minor": 2
}
