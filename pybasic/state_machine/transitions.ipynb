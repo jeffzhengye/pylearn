{
 "cells": [
  {
   "cell_type": "markdown",
   "id": "e328a485",
   "metadata": {},
   "source": [
    "# install  \n",
    "\n",
    "* pip install transitions"
   ]
  },
  {
   "cell_type": "code",
   "execution_count": 9,
   "id": "440a28f2",
   "metadata": {},
   "outputs": [],
   "source": [
    "class Matter(object):\n",
    "    pass\n",
    "\n",
    "lump = Matter()\n",
    "\n",
    "from transitions import Machine\n",
    "\n",
    "# The states\n",
    "states=['solid', 'liquid', 'gas', 'plasma']\n",
    "\n",
    "# And some transitions between states. We're lazy, so we'll leave out\n",
    "# the inverse phase transitions (freezing, condensation, etc.).\n",
    "transitions = [\n",
    "    { 'trigger': 'melt', 'source': 'solid', 'dest': 'liquid' },\n",
    "    { 'trigger': 'evaporate', 'source': 'liquid', 'dest': 'gas' },\n",
    "    { 'trigger': 'sublimate', 'source': 'solid', 'dest': 'gas' },\n",
    "    { 'trigger': 'ionize', 'source': 'gas', 'dest': 'plasma' }\n",
    "]\n",
    "\n",
    "# Initialize\n",
    "machine = Machine(lump, states=states, transitions=transitions, initial='liquid')\n",
    "\n"
   ]
  },
  {
   "cell_type": "code",
   "execution_count": 10,
   "id": "ca77313f",
   "metadata": {},
   "outputs": [
    {
     "data": {
      "text/plain": [
       "True"
      ]
     },
     "execution_count": 10,
     "metadata": {},
     "output_type": "execute_result"
    }
   ],
   "source": [
    "lump.evaporate()"
   ]
  },
  {
   "cell_type": "code",
   "execution_count": 13,
   "id": "662097b5",
   "metadata": {},
   "outputs": [
    {
     "name": "stdout",
     "output_type": "stream",
     "text": [
      "goodbye, old state!\n",
      "hello, new state!\n"
     ]
    },
    {
     "data": {
      "text/plain": [
       "True"
      ]
     },
     "execution_count": 13,
     "metadata": {},
     "output_type": "execute_result"
    }
   ],
   "source": [
    "# Our old Matter class, now with  a couple of new methods we\n",
    "# can trigger when entering or exit states.\n",
    "from transitions import Machine, State\n",
    "\n",
    "class Matter(object):\n",
    "    def say_hello(self): print(\"hello, new state!\")\n",
    "    def say_goodbye(self): print(\"goodbye, old state!\")\n",
    "\n",
    "lump = Matter()\n",
    "\n",
    "# Same states as above, but now we give StateA an exit callback\n",
    "states = [\n",
    "    State(name='solid', on_exit=['say_goodbye']),\n",
    "    'liquid',\n",
    "    { 'name': 'gas', 'on_exit': ['say_goodbye']}\n",
    "    ]\n",
    "\n",
    "machine = Machine(lump, states=states)\n",
    "machine.add_transition('sublimate', 'solid', 'gas')\n",
    "\n",
    "# Callbacks can also be added after initialization using\n",
    "# the dynamically added on_enter_ and on_exit_ methods.\n",
    "# Note that the initial call to add the callback is made\n",
    "# on the Machine and not on the model.\n",
    "machine.on_enter_gas('say_hello')\n",
    "\n",
    "# Test out the callbacks...\n",
    "machine.set_state('solid')\n",
    "lump.sublimate()"
   ]
  },
  {
   "cell_type": "code",
   "execution_count": 14,
   "id": "5ea5be24",
   "metadata": {},
   "outputs": [],
   "source": [
    "machine.set_state('gas')"
   ]
  },
  {
   "cell_type": "markdown",
   "id": "187ff99c",
   "metadata": {},
   "source": [
    "# 一个完整的执行顺序例子\n",
    "\n",
    "## Callbacks\n",
    "\n",
    "* before : 当状态转换发生时，会先调用 before 函数。发生在transition触发\n",
    "\n",
    "* after ： 当状态转换完成后，会调用 after 函数。\n",
    "\n",
    "* prepare: executed as soon as a transition starts, before any 'conditions' are checked or other callbacks are executed.\n",
    "\n",
    "  * prepare will not be called unless the current state is a valid source for the named transition.\n",
    "\n",
    "* before_state_change and \n",
    "* after_state_change : 全局的。\n",
    "\n",
    "* prepare_event ： 全局 # 在 transitions 库中，当 send_event=True 开启时，所有回调方法都会额外接收一个 event 对象作为参数，这就导致了参数数量不匹配的问题。\n",
    "* finalize_event: 执行完所有回调函数后调用，无论是否发生了状态转换。\n",
    "\n",
    "* on_final: 当状态机进入到终止状态时，会调用 on_final 函数。callbacks which will be triggered when a state with final=True is entered.\n",
    "    * self.machine = Machine(self, states=states, transitions=transitions, initial=\"idling\", on_final=\"claim_success\")\n",
    "\n"
   ]
  },
  {
   "cell_type": "code",
   "execution_count": 50,
   "id": "c5e8dc10",
   "metadata": {},
   "outputs": [
    {
     "name": "stdout",
     "output_type": "stream",
     "text": [
      "prepare_event: I am ready!\n",
      "prepare: heat up True\n",
      "prepare: count\n",
      "conditions check: True\n",
      "before_state_change: hisssss\n",
      "before: current state: solid\n",
      "after: It took you 1 attempts to melt the lump!\n",
      "after: current state: liquid\n",
      "after_state_change: where'd all the liquid go?\n",
      "finalize_event: Result: \n",
      "执行结果: True\n"
     ]
    }
   ],
   "source": [
    "import random\n",
    "from transitions import Machine, State\n",
    "\n",
    "\n",
    "class Matter(object):\n",
    "    heat = False\n",
    "    attempts = 0\n",
    "\n",
    "    def count_attempts(self):\n",
    "        self.attempts += 1\n",
    "        print(\"prepare: count\")\n",
    "\n",
    "    def heat_up(self):\n",
    "        self.heat = random.random() < 0.5\n",
    "        print(f\"prepare: heat up {self.heat}\")\n",
    "\n",
    "    def before_test(self):\n",
    "        print(f\"before: current state: {self.state}\")\n",
    "\n",
    "    def stats(self):\n",
    "        print(\"after: It took you %i attempts to melt the lump!\" % self.attempts)\n",
    "        print(f\"after: current state: {self.state}\")\n",
    "\n",
    "    def make_hissing_noises(self):\n",
    "        print(\"before_state_change: hisssss\")\n",
    "\n",
    "    def disappear(self):\n",
    "        print(\"after_state_change: where'd all the liquid go?\")\n",
    "\n",
    "    @property\n",
    "    def is_really_hot(self):\n",
    "        print(f\"conditions check: {self.heat}\")\n",
    "        return self.heat\n",
    "\n",
    "    def raise_error(self): \n",
    "        raise ValueError(\"Oh no\")\n",
    "    def prepare_event(self): \n",
    "        print(\"prepare_event: I am ready!\")\n",
    "    def finalize(self): \n",
    "        print(f\"finalize_event: Result: \")\n",
    "\n",
    "states = [\"solid\", \"liquid\", \"gas\", \"plasma\"]\n",
    "\n",
    "transitions = [\n",
    "    {\n",
    "        \"trigger\": \"melt\",\n",
    "        \"source\": \"solid\",\n",
    "        \"dest\": \"liquid\",\n",
    "        \"prepare\": [\"heat_up\", \"count_attempts\"],\n",
    "        \"conditions\": \"is_really_hot\",\n",
    "        \"before\": \"before_test\",\n",
    "        \"after\": \"stats\",\n",
    "    },\n",
    "]\n",
    "\n",
    "lump = Matter()\n",
    "machine = Machine(\n",
    "    lump,\n",
    "    states,\n",
    "    transitions=transitions,\n",
    "    initial=\"solid\",\n",
    "    before_state_change=\"make_hissing_noises\",\n",
    "    after_state_change=\"disappear\",\n",
    "    prepare_event='prepare_event',\n",
    "    finalize_event='finalize',\n",
    "    # send_event=True # 当 send_event=True 开启时，所有回调方法都会额外接收一个 event 对象作为参数，这就导致了参数数量不匹配的问题。\n",
    ")\n",
    "exe_ret = lump.melt()\n",
    "print(f\"执行结果: {exe_ret}\")\n",
    "# lump.melt()\n",
    "# lump.melt()\n",
    "# lump.melt()"
   ]
  },
  {
   "cell_type": "code",
   "execution_count": 59,
   "id": "f26e2a47",
   "metadata": {},
   "outputs": [
    {
     "name": "stdout",
     "output_type": "stream",
     "text": [
      "prepare_event: I am ready!\n",
      "before_state_change: hisssss\n",
      "after_state_change: where'd all the liquid go?\n",
      "finalize_event: Result: \n",
      "\n",
      "prepare_event: I am ready!\n",
      "before_state_change: hisssss\n",
      "after_state_change: where'd all the liquid go?\n",
      "finalize_event: Result: \n"
     ]
    },
    {
     "data": {
      "text/plain": [
       "True"
      ]
     },
     "execution_count": 59,
     "metadata": {},
     "output_type": "execute_result"
    }
   ],
   "source": [
    "lump.to_gas()\n",
    "print()\n",
    "lump.to_solid()"
   ]
  },
  {
   "cell_type": "code",
   "execution_count": 60,
   "id": "24db4011",
   "metadata": {},
   "outputs": [
    {
     "name": "stdout",
     "output_type": "stream",
     "text": [
      "prepare_event: I am ready!\n",
      "prepare: heat up False\n",
      "prepare: count\n",
      "conditions check: False\n",
      "finalize_event: Result: \n"
     ]
    },
    {
     "data": {
      "text/plain": [
       "'solid'"
      ]
     },
     "execution_count": 60,
     "metadata": {},
     "output_type": "execute_result"
    }
   ],
   "source": [
    "lump.melt()\n",
    "lump.state"
   ]
  },
  {
   "cell_type": "markdown",
   "id": "5f3b5b25",
   "metadata": {},
   "source": [
    "# Enumerations\n",
    "\n",
    "* "
   ]
  },
  {
   "cell_type": "code",
   "execution_count": 1,
   "id": "ca7759ec",
   "metadata": {},
   "outputs": [
    {
     "name": "stdout",
     "output_type": "stream",
     "text": [
      "RED\n"
     ]
    }
   ],
   "source": [
    "import enum  # Python 2.7 users need to have 'enum34' installed\n",
    "from transitions import Machine\n",
    "\n",
    "class States(enum.Enum):\n",
    "    ERROR = 0\n",
    "    RED = 1\n",
    "    YELLOW = 2\n",
    "    GREEN = 3\n",
    "\n",
    "transitions = [['proceed', States.RED, States.YELLOW],\n",
    "               ['proceed', States.YELLOW, States.GREEN],\n",
    "               ['error', '*', States.ERROR]]\n",
    "\n",
    "m = Machine(states=States, transitions=transitions, initial=States.RED)\n",
    "assert m.is_RED()\n",
    "assert m.state is States.RED\n",
    "state = m.get_state(States.RED)  # get transitions.State object\n",
    "print(state.name)  # >>> RED\n",
    "m.proceed()\n",
    "m.proceed()\n",
    "assert m.is_GREEN()\n",
    "m.error()\n",
    "assert m.state is States.ERROR"
   ]
  },
  {
   "cell_type": "markdown",
   "id": "74febd93",
   "metadata": {},
   "source": [
    "# transitions\n",
    "\n",
    "## ordered transitions\n",
    "\n",
    "## queued transitions\n",
    "\n",
    "* 看下面例子\n",
    "* prepare -> before -> on_enter_B -> on_enter_C -> after. # 无queued=True， >>> 'I am in state C now!'\n",
    ">>> 'I am in state B now!' # what?\n",
    "* prepare -> before -> on_enter_B -> queue(to_C) -> after  -> on_enter_C. # >>> 'I am in state B now!'\n",
    ">>> 'I am in state C now!' # That's better!\n",
    "\n",
    "* when processing events in a queue, the trigger call will always return True, since there is no way to determine at queuing time whether a transition involving queued calls will ultimately complete successfully."
   ]
  },
  {
   "cell_type": "code",
   "execution_count": null,
   "id": "3508f366",
   "metadata": {},
   "outputs": [],
   "source": [
    "def go_to_C():\n",
    "    global machine\n",
    "    machine.to_C()\n",
    "\n",
    "def after_advance():\n",
    "    print(\"I am in state B now!\")\n",
    "\n",
    "def entering_C():\n",
    "    print(\"I am in state C now!\")\n",
    "\n",
    "states = ['A', 'B', 'C']\n",
    "machine = Machine(states=states, initial='A')\n",
    "\n",
    "# we want a message when state transition to B has been completed\n",
    "machine.add_transition('advance', 'A', 'B', after=after_advance)\n",
    "\n",
    "# call transition from state B to state C\n",
    "machine.on_enter_B(go_to_C)\n",
    "\n",
    "# we also want a message when entering state C\n",
    "machine.on_enter_C(entering_C)\n",
    "machine.advance()\n",
    ">>> 'I am in state C now!'\n",
    ">>> 'I am in state B now!' # what?"
   ]
  }
 ],
 "metadata": {
  "kernelspec": {
   "display_name": "base",
   "language": "python",
   "name": "python3"
  },
  "language_info": {
   "codemirror_mode": {
    "name": "ipython",
    "version": 3
   },
   "file_extension": ".py",
   "mimetype": "text/x-python",
   "name": "python",
   "nbconvert_exporter": "python",
   "pygments_lexer": "ipython3",
   "version": "3.12.7"
  }
 },
 "nbformat": 4,
 "nbformat_minor": 5
}
