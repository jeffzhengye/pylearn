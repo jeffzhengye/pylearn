{
 "cells": [
  {
   "cell_type": "code",
   "execution_count": 6,
   "metadata": {},
   "outputs": [
    {
     "name": "stdout",
     "output_type": "stream",
     "text": [
      "True <class 'datetime.date'>\n"
     ]
    }
   ],
   "source": [
    "import datetime\n",
    "first_date = datetime.date(2022, 2, 22)\n",
    "second_date = datetime.date(2022, 3, 1)\n",
    "\n",
    "print(first_date < second_date, type(first_date))"
   ]
  },
  {
   "cell_type": "code",
   "execution_count": 5,
   "metadata": {},
   "outputs": [
    {
     "name": "stdout",
     "output_type": "stream",
     "text": [
      "True <class 'datetime.datetime'>\n"
     ]
    }
   ],
   "source": [
    "import datetime\n",
    "first_date = datetime.datetime(2022, 2, 22, 12, 5, 0)\n",
    "second_date = datetime.datetime(2022, 3, 1, 12, 5, 0)\n",
    "print(first_date < second_date, type(first_date))"
   ]
  },
  {
   "cell_type": "code",
   "execution_count": 3,
   "metadata": {},
   "outputs": [
    {
     "name": "stdout",
     "output_type": "stream",
     "text": [
      "日期2022-02-22大于2022-03-01： False\n"
     ]
    }
   ],
   "source": [
    "import datetime\n",
    "strftime1 = datetime.datetime.strptime(\"2022-02-22\", \"%Y-%m-%d\")\n",
    "strftime2 = datetime.datetime.strptime(\"2022-03-01\", \"%Y-%m-%d\")\n",
    "print(\"日期2022-02-22大于2022-03-01：\", strftime1 > strftime2)"
   ]
  },
  {
   "cell_type": "code",
   "execution_count": 4,
   "metadata": {},
   "outputs": [
    {
     "name": "stdout",
     "output_type": "stream",
     "text": [
      "time.struct_time(tm_year=2022, tm_mon=2, tm_mday=22, tm_hour=0, tm_min=0, tm_sec=0, tm_wday=1, tm_yday=53, tm_isdst=-1)\n",
      "time.struct_time(tm_year=2022, tm_mon=3, tm_mday=1, tm_hour=0, tm_min=0, tm_sec=0, tm_wday=1, tm_yday=60, tm_isdst=-1)\n",
      "日期2022-02-22大于2022-03-01： False\n",
      "<class 'time.struct_time'>\n"
     ]
    }
   ],
   "source": [
    "# time.struct_time\n",
    "\n",
    "import time\n",
    "strftime1 = time.strptime(\"2022-02-22\", \"%Y-%m-%d\")\n",
    "strftime2 = time.strptime(\"2022-03-01\", \"%Y-%m-%d\")\n",
    "print(strftime1)\n",
    "print(strftime2)\n",
    "print(\"日期2022-02-22大于2022-03-01：\", strftime1 > strftime2)\n",
    "\n",
    "print(type(strftime1))"
   ]
  },
  {
   "cell_type": "code",
   "execution_count": null,
   "metadata": {},
   "outputs": [],
   "source": []
  }
 ],
 "metadata": {
  "kernelspec": {
   "display_name": "base",
   "language": "python",
   "name": "python3"
  },
  "language_info": {
   "codemirror_mode": {
    "name": "ipython",
    "version": 3
   },
   "file_extension": ".py",
   "mimetype": "text/x-python",
   "name": "python",
   "nbconvert_exporter": "python",
   "pygments_lexer": "ipython3",
   "version": "3.9.13"
  }
 },
 "nbformat": 4,
 "nbformat_minor": 2
}
