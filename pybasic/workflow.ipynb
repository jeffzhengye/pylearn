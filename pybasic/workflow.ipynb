{
 "cells": [
  {
   "cell_type": "markdown",
   "metadata": {},
   "source": [
    "# xyflow"
   ]
  },
  {
   "cell_type": "markdown",
   "metadata": {},
   "source": [
    "# nodezator\n",
    "\n",
    "* 函数即节点；目前关注的人还不多，stars=670; 可以做类似dify这样的工作流。\n",
    "* https://github.com/IndiePython/nodezator"
   ]
  }
 ],
 "metadata": {
  "language_info": {
   "name": "python"
  }
 },
 "nbformat": 4,
 "nbformat_minor": 2
}
