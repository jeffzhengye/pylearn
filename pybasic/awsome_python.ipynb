{
 "cells": [
  {
   "attachments": {},
   "cell_type": "markdown",
   "metadata": {},
   "source": [
    "# 打包\n",
    "\n",
    "## shiv\n",
    "* pip install shiv\n",
    "* Shiv 是一个 Python 打包和分发工具，它可以将一个 Python 应用程序打包为单个可执行文件，便于部署和分发。与传统的打包方式不同，Shiv 打包的可执行文件包含了所有需要的依赖库和资源文件，可以直接运行，无需在目标系统上安装 Python 或额外的依赖库。Shiv 还支持虚拟环境，可以保证应用程序在不同的 Python 环境中运行一致。使用 Shiv 可以极大地简化应用程序的部署过程，特别是对于没有 Python 环境或没有足够权限安装依赖库的系统。\n",
    "\n",
    "## pyarmor\n",
    "* PyArmor是一个用于保护Python脚本的工具，它提供了多种保护功能，例如加密源代码、控制代码的运行时间、保护模块导入等。PyArmor支持Python2和Python3，并且可以在Windows、Linux和macOS上使用。"
   ]
  },
  {
   "attachments": {},
   "cell_type": "markdown",
   "metadata": {},
   "source": []
  }
 ],
 "metadata": {
  "language_info": {
   "name": "python"
  },
  "orig_nbformat": 4
 },
 "nbformat": 4,
 "nbformat_minor": 2
}
