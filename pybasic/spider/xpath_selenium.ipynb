{
 "cells": [
  {
   "cell_type": "markdown",
   "metadata": {},
   "source": [
    "# tutorials \n",
    "\n",
    "* [Selenium WebDriver 中的 XPath：完整教程](https://www.kancloud.cn/apachecn/guru99-zh/1953746)\n",
    "* [selenium-tutorial/xpath-in-selenium](https://www.simplilearn.com/tutorials/selenium-tutorial/xpath-in-selenium)\n",
    "* https://www.w3school.com.cn/xpath/index.asp\n",
    "* https://www.runoob.com/xpath/xpath-tutorial.html\n",
    "* [python+selenium基础之XPATH定位(第一篇) ](https://www.cnblogs.com/hanmk/p/8997786.html)\n",
    "  * 图标概况清楚，一目了然，重点突出。快速查找"
   ]
  },
  {
   "cell_type": "code",
   "execution_count": null,
   "metadata": {},
   "outputs": [],
   "source": []
  }
 ],
 "metadata": {
  "kernelspec": {
   "display_name": "base",
   "language": "python",
   "name": "python3"
  },
  "language_info": {
   "codemirror_mode": {
    "name": "ipython",
    "version": 3
   },
   "file_extension": ".py",
   "mimetype": "text/x-python",
   "name": "python",
   "nbconvert_exporter": "python",
   "pygments_lexer": "ipython3",
   "version": "3.9.13"
  }
 },
 "nbformat": 4,
 "nbformat_minor": 2
}
