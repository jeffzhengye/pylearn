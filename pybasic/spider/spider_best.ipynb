{
 "cells": [
  {
   "attachments": {},
   "cell_type": "markdown",
   "metadata": {},
   "source": [
    "# Selenium 或 \n",
    "\n",
    "# Pyppeteer: unmaintained\n",
    "\n",
    "# Splash\n",
    "\n",
    "# cloudscraper"
   ]
  },
  {
   "cell_type": "markdown",
   "metadata": {},
   "source": [
    "# Crawl4AI\n",
    "\n",
    "* #1 trending GitHub repository for crawling, https://github.com/unclecode/crawl4ai\n",
    "* blazing-fast, AI-ready web crawling tailored for LLMs, AI agents, and data pipelines."
   ]
  },
  {
   "cell_type": "code",
   "execution_count": null,
   "metadata": {},
   "outputs": [],
   "source": [
    "import cloudscraper\n",
    "\n",
    "scraper = cloudscraper.create_scraper()\n",
    "response = scraper.get(\"https://www.toutiao.com/article/7239268512915735078/?log_from=08ce2c1744a9d_1685766129923\")\n",
    "print(response.content)"
   ]
  },
  {
   "cell_type": "markdown",
   "metadata": {},
   "source": []
  },
  {
   "attachments": {},
   "cell_type": "markdown",
   "metadata": {},
   "source": [
    "# playwright\n",
    "\n",
    "* https://playwright.dev/python/docs/"
   ]
  },
  {
   "cell_type": "code",
   "execution_count": 1,
   "metadata": {},
   "outputs": [
    {
     "ename": "Error",
     "evalue": "It looks like you are using Playwright Sync API inside the asyncio loop.\nPlease use the Async API instead.",
     "output_type": "error",
     "traceback": [
      "\u001b[1;31m---------------------------------------------------------------------------\u001b[0m",
      "\u001b[1;31mError\u001b[0m                                     Traceback (most recent call last)",
      "Cell \u001b[1;32mIn[1], line 9\u001b[0m\n\u001b[0;32m      4\u001b[0m \u001b[39mfrom\u001b[39;00m \u001b[39mplaywright\u001b[39;00m\u001b[39m.\u001b[39;00m\u001b[39masync_api\u001b[39;00m \u001b[39mimport\u001b[39;00m async_playwright\n\u001b[0;32m      7\u001b[0m url_to_crawl \u001b[39m=\u001b[39m \u001b[39m\"\u001b[39m\u001b[39mhttps://www.toutiao.com/article/7239268512915735078/?log_from=08ce2c1744a9d_1685766129923\u001b[39m\u001b[39m\"\u001b[39m\n\u001b[1;32m----> 9\u001b[0m \u001b[39mwith\u001b[39;00m sync_playwright() \u001b[39mas\u001b[39;00m p:\n\u001b[0;32m     10\u001b[0m     \u001b[39mfor\u001b[39;00m browser_type \u001b[39min\u001b[39;00m [p\u001b[39m.\u001b[39mchromium, p\u001b[39m.\u001b[39mfirefox, p\u001b[39m.\u001b[39mwebkit]:\n\u001b[0;32m     11\u001b[0m         browser \u001b[39m=\u001b[39m browser_type\u001b[39m.\u001b[39mlaunch()\n",
      "File \u001b[1;32mc:\\Users\\73915\\.conda\\envs\\py38\\lib\\site-packages\\playwright\\sync_api\\_context_manager.py:48\u001b[0m, in \u001b[0;36mPlaywrightContextManager.__enter__\u001b[1;34m(self)\u001b[0m\n\u001b[0;32m     46\u001b[0m             \u001b[39mself\u001b[39m\u001b[39m.\u001b[39m_own_loop \u001b[39m=\u001b[39m \u001b[39mTrue\u001b[39;00m\n\u001b[0;32m     47\u001b[0m         \u001b[39mif\u001b[39;00m \u001b[39mself\u001b[39m\u001b[39m.\u001b[39m_loop\u001b[39m.\u001b[39mis_running():\n\u001b[1;32m---> 48\u001b[0m             \u001b[39mraise\u001b[39;00m Error(\n\u001b[0;32m     49\u001b[0m                 \u001b[39m\"\"\"It looks like you are using Playwright Sync API inside the asyncio loop.\u001b[39;00m\n\u001b[0;32m     50\u001b[0m \u001b[39mPlease use the Async API instead.\"\"\"\u001b[39;00m\n\u001b[0;32m     51\u001b[0m             )\n\u001b[0;32m     53\u001b[0m         \u001b[39m# In Python 3.7, asyncio.Process.wait() hangs because it does not use ThreadedChildWatcher\u001b[39;00m\n\u001b[0;32m     54\u001b[0m         \u001b[39m# which is used in Python 3.8+. This is unix specific and also takes care about\u001b[39;00m\n\u001b[0;32m     55\u001b[0m         \u001b[39m# cleaning up zombie processes. See https://bugs.python.org/issue35621\u001b[39;00m\n\u001b[0;32m     56\u001b[0m         \u001b[39mif\u001b[39;00m (\n\u001b[0;32m     57\u001b[0m             sys\u001b[39m.\u001b[39mversion_info[\u001b[39m0\u001b[39m] \u001b[39m==\u001b[39m \u001b[39m3\u001b[39m\n\u001b[0;32m     58\u001b[0m             \u001b[39mand\u001b[39;00m sys\u001b[39m.\u001b[39mversion_info[\u001b[39m1\u001b[39m] \u001b[39m==\u001b[39m \u001b[39m7\u001b[39m\n\u001b[0;32m     59\u001b[0m             \u001b[39mand\u001b[39;00m sys\u001b[39m.\u001b[39mplatform \u001b[39m!=\u001b[39m \u001b[39m\"\u001b[39m\u001b[39mwin32\u001b[39m\u001b[39m\"\u001b[39m\n\u001b[0;32m     60\u001b[0m             \u001b[39mand\u001b[39;00m \u001b[39misinstance\u001b[39m(asyncio\u001b[39m.\u001b[39mget_child_watcher(), asyncio\u001b[39m.\u001b[39mSafeChildWatcher)\n\u001b[0;32m     61\u001b[0m         ):\n",
      "\u001b[1;31mError\u001b[0m: It looks like you are using Playwright Sync API inside the asyncio loop.\nPlease use the Async API instead."
     ]
    }
   ],
   "source": [
    "# import nest_asyncio\n",
    "# nest_asyncio.apply()\n",
    "from playwright.sync_api import sync_playwright\n",
    "from playwright.async_api import async_playwright\n",
    "\n",
    "\n",
    "url_to_crawl = \"https://www.toutiao.com/article/7239268512915735078/?log_from=08ce2c1744a9d_1685766129923\"\n",
    "\n",
    "with sync_playwright() as p:\n",
    "    for browser_type in [p.chromium, p.firefox, p.webkit]:\n",
    "        browser = browser_type.launch()\n",
    "        page = browser.new_page()\n",
    "        page.goto(url_to_crawl)\n",
    "        page.screenshot(path=f'example-{browser_type.name}.png')\n",
    "        browser.close()\n",
    "\n",
    "# async with async_playwright() as p:\n",
    "#     # browser = await p.chromium.launch()\n",
    "#     # page = await browser.new_page()\n",
    "#     # await page.goto(your url])\n",
    "#     for browser_type in [p.chromium, p.firefox, p.webkit]:\n",
    "#         browser = await browser_type.launch()\n",
    "#         page = await browser.new_page()\n",
    "#         await page.goto(url_to_crawl)\n",
    "#         await page.screenshot(path=f'example-{browser_type.name}.png')\n",
    "#         await browser.close()"
   ]
  },
  {
   "cell_type": "markdown",
   "metadata": {},
   "source": [
    "# 小红书\n",
    "\n",
    "* https://github.com/JoeanAmier/XHS-Downloader"
   ]
  },
  {
   "cell_type": "code",
   "execution_count": null,
   "metadata": {},
   "outputs": [],
   "source": []
  },
  {
   "cell_type": "markdown",
   "metadata": {},
   "source": [
    "# web scraping\n",
    "\n",
    "## lassie\n",
    "\n",
    "* 简化从各种类型的网页中提取关键信息\n",
    "* https://www.toutiao.com/article/7366263186569314835/"
   ]
  }
 ],
 "metadata": {
  "kernelspec": {
   "display_name": "py38",
   "language": "python",
   "name": "python3"
  },
  "language_info": {
   "codemirror_mode": {
    "name": "ipython",
    "version": 3
   },
   "file_extension": ".py",
   "mimetype": "text/x-python",
   "name": "python",
   "nbconvert_exporter": "python",
   "pygments_lexer": "ipython3",
   "version": "3.8.16"
  },
  "orig_nbformat": 4
 },
 "nbformat": 4,
 "nbformat_minor": 2
}
