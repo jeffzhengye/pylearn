{
 "cells": [
  {
   "attachments": {},
   "cell_type": "markdown",
   "metadata": {},
   "source": [
    "# tutorial\n",
    "\n",
    "* [【PlayWright教程（二）】核心概念](https://blog.csdn.net/Code_LT/article/details/120291277?ops_request_misc=&request_id=&biz_id=102&utm_term=%E3%80%90PlayWright%E6%95%99%E7%A8%8B%EF%BC%88%E4%BA%8C%EF%BC%89&utm_medium=distribute.pc_search_result.none-task-blog-2~all~sobaiduweb~default-1-120291277.142^v96^pc_search_result_base6&spm=1018.2226.3001.4187)\n",
    "* [PlayWright教程（三）基础操作汇总](https://blog.csdn.net/Code_LT/article/details/120304894)\n",
    "* selector简明教程： https://crifan.github.io/web_automation_tool_playwright/website/basic/find_element.html\n",
    "  * [Playwright选择器](https://blog.csdn.net/karl41/article/details/119334673)\n",
    "* 绕开登录： https://www.cnblogs.com/yoyoketang/p/17260263.html\n",
    "  * chrome.exe --remote-debugging-port=12345 --user-data-dir=\"D:\\playwright_chrome\"\n",
    "* https://sql.wang/playwright/not-load-image/\n",
    "* "
   ]
  },
  {
   "cell_type": "markdown",
   "metadata": {},
   "source": []
  },
  {
   "cell_type": "code",
   "execution_count": null,
   "metadata": {},
   "outputs": [],
   "source": [
    "import gradio as gr\n",
    "with gr.Blocks() as demo:\n",
    "    radio = gr.Radio([1, 2, 4], label=\"Set the value of the number\")\n",
    "    number = gr.Number(value=2, interactive=True)\n",
    "    radio.change(fn=lambda value: gr.update(value=value), inputs=radio, outputs=number)\n",
    "demo.launch()"
   ]
  },
  {
   "cell_type": "markdown",
   "metadata": {},
   "source": [
    "# CSS 选择器定位\n",
    "\n",
    "* \n",
    "<span class=\"bg s_btn_wr\">\n",
    "<input type=\"submit\" id=\"su\" value=\"百度一下\" class=\"bg s_btn\">\n",
    "</span>\n",
    "\n",
    "## 方法一：根据classname定位\n",
    "page.locator(\".bg.s_btn\").click()\n",
    "## 方法二：根据id定位\n",
    "page.locator(\"#su\").click()\n",
    "\n",
    "\n"
   ]
  },
  {
   "cell_type": "code",
   "execution_count": null,
   "metadata": {},
   "outputs": [],
   "source": []
  }
 ],
 "metadata": {
  "kernelspec": {
   "display_name": "base",
   "language": "python",
   "name": "python3"
  },
  "language_info": {
   "codemirror_mode": {
    "name": "ipython",
    "version": 3
   },
   "file_extension": ".py",
   "mimetype": "text/x-python",
   "name": "python",
   "nbconvert_exporter": "python",
   "pygments_lexer": "ipython3",
   "version": "3.9.13"
  },
  "orig_nbformat": 4
 },
 "nbformat": 4,
 "nbformat_minor": 2
}
