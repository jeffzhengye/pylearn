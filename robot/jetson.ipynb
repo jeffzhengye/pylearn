{
 "cells": [
  {
   "cell_type": "markdown",
   "metadata": {},
   "source": [
    "# 烧录\n",
    "\n",
    "* https://docs.nvidia.com/sdk-manager/index.html nvidia 官网\n",
    "  * https://github.com/balena-io/etcher # 创乐博视频中工具，烧录到SD卡"
   ]
  }
 ],
 "metadata": {
  "language_info": {
   "name": "python"
  }
 },
 "nbformat": 4,
 "nbformat_minor": 2
}
