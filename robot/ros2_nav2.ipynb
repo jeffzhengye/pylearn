{
 "cells": [
  {
   "cell_type": "markdown",
   "metadata": {},
   "source": [
    "# install \n",
    "\n",
    "* https://docs.nav2.org/getting_started/index.html\n",
    "\n",
    "## problem: odom \n",
    "\n",
    "* export GAZEBO_MODEL_PATH=$GAZEBO_MODEL_PATH:/opt/ros/jazzy/share/nav2_minimal_tb3_sim/models/:/opt/ros/jazzy/share/nav2_minimal_tb3_sim/models/turtlebot3_model/meshes/:/opt/ros/jazzy/share/nav2_minimal_tb3_sim/urdf/\n",
    "* export TURTLEBOT3_MODEL=waffle\n",
    "* export ROS_PACKAGE_PATH=$ROS_PACKAGE_PATH:/opt/ros/jazzy/share # nav2必须设置；\n",
    "\n",
    "### 路径问题\n",
    "\n",
    "*  Could not load resource [package://nav2_minimal_tb3_sim/models/waffle_base.dae]: Unable to open file \"package://nav2_minimal_tb3_sim/models/waffle_base.dae\".\n",
    "* sudo cp -r /opt/ros/jazzy/share/nav2_minimal_tb3_sim/models/turtlebot3_model/meshes/* /opt/ros/jazzy/share/nav2_minimal_tb3_sim/models/\n",
    "\n"
   ]
  },
  {
   "cell_type": "markdown",
   "metadata": {},
   "source": [
    "# requirements\n",
    "\n",
    "*  Nav2 requires the nav_msgs/Odometry message and odom => base_link transforms to be published and this should be your goal when setting up your odometry system.\n",
    "   *  https://docs.nav2.org/setup_guides/odom/setup_odom_gz.html"
   ]
  },
  {
   "cell_type": "markdown",
   "metadata": {},
   "source": [
    "# robot_localization\n",
    "\n",
    "* The robot_localization package is used to provide a fused and locally accurate smooth odometry information from the data provided by N odometry sensor inputs."
   ]
  },
  {
   "cell_type": "markdown",
   "metadata": {},
   "source": [
    "# sensor_msgs documentation\n",
    "\n",
    "* http://wiki.ros.org/sensor_msgs"
   ]
  },
  {
   "cell_type": "markdown",
   "metadata": {},
   "source": [
    "# nav2_simple_commander\n",
    "\n",
    "* 把很多命令都封装成python code的模块\n",
    "* https://www.bilibili.com/video/BV11bDDYXEsC?vd_source=4f540ce91ea1993e85a6220114f4548e&spm_id_from=333.788.player.switch"
   ]
  }
 ],
 "metadata": {
  "language_info": {
   "name": "python"
  }
 },
 "nbformat": 4,
 "nbformat_minor": 2
}
