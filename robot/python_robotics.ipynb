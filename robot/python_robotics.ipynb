{
 "cells": [
  {
   "cell_type": "markdown",
   "metadata": {},
   "source": [
    "# PythonRobotics\n",
    "\n",
    "* Python sample codes for robotics algorithms.\n",
    "* https://github.com/AtsushiSakai/PythonRobotics 23.8k stars\n",
    "* https://atsushisakai.github.io/PythonRobotics/\n",
    "* 很好的教学，例子丰富，最小依赖。"
   ]
  }
 ],
 "metadata": {
  "language_info": {
   "name": "python"
  }
 },
 "nbformat": 4,
 "nbformat_minor": 2
}
