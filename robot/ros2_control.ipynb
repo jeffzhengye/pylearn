{
 "cells": [
  {
   "cell_type": "markdown",
   "metadata": {},
   "source": [
    "# doc\n",
    "\n",
    "* https://control.ros.org/rolling/index.html\n",
    "* is a framework for (real-time) control of robots using (ROS 2)."
   ]
  },
  {
   "cell_type": "markdown",
   "metadata": {},
   "source": [
    "# install\n",
    "\n",
    "* sudo apt install ros-$ROS_DISTRO-ros2-control\n",
    "  * ros2 control --help\n",
    "* sudo apt install ros-$ROS_DISTRO-ros2-controllers\n",
    "* sudo apt install ros-$ROS_DISTRO-gazebo-ros2-control # 安装gazebo插件, 只能在humble 下安装；"
   ]
  },
  {
   "cell_type": "markdown",
   "metadata": {},
   "source": [
    "# cmd\n",
    "\n",
    "* ros2 control list_hardware_interfaces\n",
    "* ros2 control list_hardware_components # 列出所有硬件组件"
   ]
  }
 ],
 "metadata": {
  "language_info": {
   "name": "python"
  }
 },
 "nbformat": 4,
 "nbformat_minor": 2
}
