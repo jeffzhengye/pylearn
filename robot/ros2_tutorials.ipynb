{
 "cells": [
  {
   "cell_type": "markdown",
   "metadata": {},
   "source": [
    "# python\n",
    "\n",
    "## ROS2 Humble tutorials by Murilo M. Marinho\n",
    "\n",
    "* https://ros2-tutorial.readthedocs.io/en/latest/\n",
    "\n",
    "\n",
    "# other docs\n",
    "\n",
    "* ROS2中文文档：http://fishros.org/doc/ros2/humble/\n",
    "* Nav2中文文档：http://fishros.org/doc/nav2\n",
    "* [《ROS 2机器人开发从入门到实践》视频教程](https://www.bilibili.com/video/BV1GW42197Ck/?vd_source=4f540ce91ea1993e85a6220114f4548e)\n",
    "* [2024最新版【机器人操作系统ROS】教程](https://www.bilibili.com/video/BV1QF4m1L7kB?spm_id_from=333.788.player.switch&vd_source=4f540ce91ea1993e85a6220114f4548e&p=8)\n",
    "* [ROS2入门教程](https://www.bilibili.com/video/BV1P4421w7Hm/?spm_id_from=333.337.search-card.all.click&vd_source=4f540ce91ea1993e85a6220114f4548e)\n",
    "* [轮趣科技-ROS2入门系列视频教程](https://www.bilibili.com/video/BV1wS411P7Hy?vd_source=4f540ce91ea1993e85a6220114f4548e&spm_id_from=333.788.videopod.sections)"
   ]
  },
  {
   "cell_type": "code",
   "execution_count": null,
   "metadata": {},
   "outputs": [],
   "source": []
  }
 ],
 "metadata": {
  "language_info": {
   "name": "python"
  }
 },
 "nbformat": 4,
 "nbformat_minor": 2
}
