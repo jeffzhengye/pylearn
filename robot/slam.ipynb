{
 "cells": [
  {
   "cell_type": "markdown",
   "metadata": {},
   "source": [
    "# LIO-SLAM\n",
    "\n",
    "* https://github.com/zeal-up/Simple-LIO-SAM\n",
    "* 简化后的项目\n",
    "* https://zeal-up.github.io/2023/03/13/lio_sam/intro/\n",
    "\n",
    "\n",
    "# Navigation ROS2\n",
    "\n",
    "* https://github.com/ros-planning/navigation"
   ]
  }
 ],
 "metadata": {
  "language_info": {
   "name": "python"
  }
 },
 "nbformat": 4,
 "nbformat_minor": 2
}
