{
 "cells": [
  {
   "cell_type": "markdown",
   "metadata": {},
   "source": [
    "# tutorials\n",
    "\n",
    "## PathPlanning\n",
    "\n",
    "* https://github.com/zhm-real/PathPlanning\n",
    "* Common used path planning algorithms with animations.\n",
    "* python.\n",
    "\n",
    "\n",
    "## ROS2-Path-Planning-and-Maze-Solving\n",
    "\n",
    "* a full example with python\n",
    "* https://github.com/HaiderAbasi/ROS2-Path-Planning-and-Maze-Solving?tab=readme-ov-file"
   ]
  }
 ],
 "metadata": {
  "language_info": {
   "name": "python"
  }
 },
 "nbformat": 4,
 "nbformat_minor": 2
}
