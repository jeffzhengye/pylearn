{
 "cells": [
  {
   "cell_type": "markdown",
   "metadata": {},
   "source": [
    "# ros2\n",
    "\n",
    "# blue-robot-os\n",
    "\n",
    "* http://www.gitpp.com/openbox/blue-robot-os\n",
    "* 一款开源、模块化、高效且稳健的机器人及车辆管理平台，专注于为水下机器人（ROV）、无人船（USV）、无人机等提供统一的操作系统支持。其设计目标是通过模块化架构和丰富的工具链，简化复杂机器人系统的开发与管理流程，同时保持低资源消耗和高性能。"
   ]
  }
 ],
 "metadata": {
  "language_info": {
   "name": "python"
  }
 },
 "nbformat": 4,
 "nbformat_minor": 2
}
