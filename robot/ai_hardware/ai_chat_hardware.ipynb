{
 "cells": [
  {
   "cell_type": "markdown",
   "metadata": {},
   "source": [
    "# xiaozhi-esp32\n",
    "\n",
    "* https://github.com/78/xiaozhi-esp32 9.2k\n",
    "* Build your own AI friend\n",
    "* 小智AI聊天机器人是一款基于乐鑫ESP32-S3核心板，搭载多种开源AI大模型( DeepSeek、OpenAI 、通义Qwen)，通过对话角色自定义、海量知识库、长期记忆、语音声纹识别等功能。它不仅是智能工具，更是一个真正“懂你”的AI助理，致力于为每一天增添温暖和便利。"
   ]
  },
  {
   "cell_type": "markdown",
   "metadata": {},
   "source": []
  }
 ],
 "metadata": {
  "language_info": {
   "name": "python"
  }
 },
 "nbformat": 4,
 "nbformat_minor": 2
}
