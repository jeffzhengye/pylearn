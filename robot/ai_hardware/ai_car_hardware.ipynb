{
 "cells": [
  {
   "cell_type": "markdown",
   "metadata": {},
   "source": [
    "# yahboom\n",
    "\n",
    "* 丰富的课程\n",
    "* https://www.yahboom.com/study\n",
    "* https://www.yahboom.com/study/raspblock"
   ]
  },
  {
   "cell_type": "markdown",
   "metadata": {},
   "source": [
    "# 创乐博\n",
    "\n",
    "# WHEELTEC 轮趣\n",
    "\n",
    "* https://item.jd.com/10075755588095.html\n",
    "  * 镭神雷达 （n10p 679元， m10p 1649元）\n",
    "\n",
    "# createblock\n",
    "\n",
    "* https://mall.jd.com/index-973961.html?from=pc\n",
    "\n",
    "# 七星虫旗舰店\n",
    "\n",
    "* https://qixingchong.tmall.com/shop/view_shop.htm?spm=pc_detail.29232929/evo365560b447259.shop_block.dshopinfo.79847dd64BEH7W"
   ]
  }
 ],
 "metadata": {
  "language_info": {
   "name": "python"
  }
 },
 "nbformat": 4,
 "nbformat_minor": 2
}
